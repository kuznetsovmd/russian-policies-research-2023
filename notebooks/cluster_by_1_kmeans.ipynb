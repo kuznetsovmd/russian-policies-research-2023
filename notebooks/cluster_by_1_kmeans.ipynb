{
 "cells": [
  {
   "cell_type": "code",
   "execution_count": 1,
   "id": "6c3fa498",
   "metadata": {
    "tags": [
     "parameters"
    ]
   },
   "outputs": [],
   "source": [
    "# add default values for parameters here"
   ]
  },
  {
   "cell_type": "code",
   "execution_count": 2,
   "id": "95afa1a3",
   "metadata": {
    "execution": {
     "iopub.execute_input": "2024-06-13T18:37:09.109986Z",
     "iopub.status.busy": "2024-06-13T18:37:09.109705Z",
     "iopub.status.idle": "2024-06-13T18:37:09.112177Z",
     "shell.execute_reply": "2024-06-13T18:37:09.111786Z"
    },
    "papermill": {
     "duration": 0.007203,
     "end_time": "2024-06-13T18:37:09.113178",
     "exception": false,
     "start_time": "2024-06-13T18:37:09.105975",
     "status": "completed"
    },
    "tags": [
     "injected-parameters"
    ]
   },
   "outputs": [],
   "source": [
    "# Parameters\n",
    "product = \"notebooks/cluster_by_1_kmeans.ipynb\"\n"
   ]
  },
  {
   "cell_type": "code",
   "execution_count": 3,
   "id": "c35343f9",
   "metadata": {
    "execution": {
     "iopub.execute_input": "2024-06-13T18:37:11.070846Z",
     "iopub.status.busy": "2024-06-13T18:37:11.070616Z",
     "iopub.status.idle": "2024-06-13T18:37:11.073505Z",
     "shell.execute_reply": "2024-06-13T18:37:11.073104Z"
    },
    "papermill": {
     "duration": 0.066049,
     "end_time": "2024-06-13T18:37:11.074414",
     "exception": false,
     "start_time": "2024-06-13T18:37:11.008365",
     "status": "completed"
    },
    "tags": []
   },
   "outputs": [],
   "source": [
    "import __path__"
   ]
  },
  {
   "cell_type": "code",
   "execution_count": 4,
   "id": "6ddd237f",
   "metadata": {
    "execution": {
     "iopub.execute_input": "2024-06-13T18:37:11.686222Z",
     "iopub.status.busy": "2024-06-13T18:37:11.685778Z",
     "iopub.status.idle": "2024-06-13T18:37:21.226413Z",
     "shell.execute_reply": "2024-06-13T18:37:21.224692Z"
    },
    "papermill": {
     "duration": 10.151429,
     "end_time": "2024-06-13T18:37:21.227445",
     "exception": false,
     "start_time": "2024-06-13T18:37:11.076016",
     "status": "completed"
    },
    "tags": []
   },
   "outputs": [],
   "source": [
    "from config import MAIN_EXPERIMENT\n",
    "\n",
    "MAX_SCORE, WIDTH = MAIN_EXPERIMENT.nb_args[product]\n",
    "KMEANS_HYPERPARAMS = MAIN_EXPERIMENT.kmeans_hyperparams\n",
    "AFFILIATION_TH = MAIN_EXPERIMENT.affiliation_theshold\n",
    "PREPROCESSED_FILE = MAIN_EXPERIMENT.preprocessed_file\n",
    "MAIN_MODEL = MAIN_EXPERIMENT.main_model\n",
    "PICTURES = MAIN_EXPERIMENT.pictures\n",
    "GROUPS = MAIN_EXPERIMENT.groups"
   ]
  },
  {
   "cell_type": "code",
   "execution_count": 5,
   "id": "85c6c0ef",
   "metadata": {
    "execution": {
     "iopub.execute_input": "2024-06-13T18:37:21.396029Z",
     "iopub.status.busy": "2024-06-13T18:37:21.394741Z",
     "iopub.status.idle": "2024-06-13T18:37:39.686360Z",
     "shell.execute_reply": "2024-06-13T18:37:39.686040Z"
    },
    "papermill": {
     "duration": 18.392759,
     "end_time": "2024-06-13T18:37:39.687598",
     "exception": false,
     "start_time": "2024-06-13T18:37:21.294839",
     "status": "completed"
    },
    "tags": []
   },
   "outputs": [],
   "source": [
    "import json\n",
    "\n",
    "\n",
    "with open(PREPROCESSED_FILE, 'r') as f:\n",
    "    preprocessed = json.load(f)\n",
    "\n",
    "FILES_CNT = len(preprocessed)"
   ]
  },
  {
   "cell_type": "code",
   "execution_count": 6,
   "id": "8716915b",
   "metadata": {
    "execution": {
     "iopub.execute_input": "2024-06-13T18:37:39.694015Z",
     "iopub.status.busy": "2024-06-13T18:37:39.693763Z",
     "iopub.status.idle": "2024-06-13T18:37:44.545063Z",
     "shell.execute_reply": "2024-06-13T18:37:44.544673Z"
    },
    "papermill": {
     "duration": 4.85544,
     "end_time": "2024-06-13T18:37:44.546012",
     "exception": false,
     "start_time": "2024-06-13T18:37:39.690572",
     "status": "completed"
    },
    "tags": []
   },
   "outputs": [],
   "source": [
    "from gensim.models import TfidfModel\n",
    "\n",
    "from src.utils import load\n",
    "\n",
    "\n",
    "lda, dictionary, corpus = load(MAIN_MODEL)\n",
    "tfidf = TfidfModel(corpus, id2word=dictionary)"
   ]
  },
  {
   "cell_type": "code",
   "execution_count": 7,
   "id": "d78716ff",
   "metadata": {
    "execution": {
     "iopub.execute_input": "2024-06-13T18:37:44.556969Z",
     "iopub.status.busy": "2024-06-13T18:37:44.556595Z",
     "iopub.status.idle": "2024-06-13T18:39:36.871700Z",
     "shell.execute_reply": "2024-06-13T18:39:36.871398Z"
    },
    "papermill": {
     "duration": 112.318568,
     "end_time": "2024-06-13T18:39:36.872607",
     "exception": false,
     "start_time": "2024-06-13T18:37:44.554039",
     "status": "completed"
    },
    "tags": []
   },
   "outputs": [],
   "source": [
    "import numpy as np\n",
    "\n",
    "\n",
    "scores = np.zeros((FILES_CNT, len(GROUPS)), dtype='int')\n",
    "\n",
    "for i, policy in enumerate(preprocessed):\n",
    "    for paragraph in policy:\n",
    "        topics = [t for t, s in lda[tfidf[dictionary.doc2bow(paragraph)]] if s > AFFILIATION_TH]\n",
    "\n",
    "        for g in GROUPS:\n",
    "            for t in topics:\n",
    "                if t in g['topics']:\n",
    "                    scores[i, g['id']] += 1"
   ]
  },
  {
   "cell_type": "code",
   "execution_count": 8,
   "id": "c5631c95-0f5c-473b-8fd4-6aba145b2cad",
   "metadata": {
    "execution": {
     "iopub.execute_input": "2024-06-13T18:39:36.876633Z",
     "iopub.status.busy": "2024-06-13T18:39:36.876417Z",
     "iopub.status.idle": "2024-06-13T18:39:36.899289Z",
     "shell.execute_reply": "2024-06-13T18:39:36.899021Z"
    },
    "papermill": {
     "duration": 0.025452,
     "end_time": "2024-06-13T18:39:36.899955",
     "exception": false,
     "start_time": "2024-06-13T18:39:36.874503",
     "status": "completed"
    },
    "tags": []
   },
   "outputs": [
    {
     "data": {
      "text/plain": [
       "array([[ 4,  6,  6,  1, 23,  4,  2,  1,  0,  2],\n",
       "       [ 6, 10,  7,  6, 35,  2, 10,  2,  6,  1],\n",
       "       [ 7,  1,  1,  1, 15,  5,  4,  1,  3,  3],\n",
       "       [ 4,  5,  6,  5, 12,  2,  8,  1,  2,  3],\n",
       "       [ 1,  3,  6,  1, 23,  3,  6,  0,  3,  3]])"
      ]
     },
     "execution_count": 8,
     "metadata": {},
     "output_type": "execute_result"
    }
   ],
   "source": [
    "scores = np.array([s for s in scores if sum(s) < MAX_SCORE])\n",
    "\n",
    "scores[:5]"
   ]
  },
  {
   "cell_type": "code",
   "execution_count": 9,
   "id": "ad8c8527-5dc7-431d-bc3a-880deb8198d2",
   "metadata": {
    "execution": {
     "iopub.execute_input": "2024-06-13T18:39:36.903908Z",
     "iopub.status.busy": "2024-06-13T18:39:36.903790Z",
     "iopub.status.idle": "2024-06-13T18:39:37.265164Z",
     "shell.execute_reply": "2024-06-13T18:39:37.264785Z"
    },
    "papermill": {
     "duration": 0.364452,
     "end_time": "2024-06-13T18:39:37.266149",
     "exception": false,
     "start_time": "2024-06-13T18:39:36.901697",
     "status": "completed"
    },
    "tags": []
   },
   "outputs": [],
   "source": [
    "from sklearn.cluster import KMeans\n",
    "\n",
    "\n",
    "kmeans = KMeans(**KMEANS_HYPERPARAMS)"
   ]
  },
  {
   "cell_type": "code",
   "execution_count": 10,
   "id": "03b37724-0b4b-4fe9-8094-12b58103d829",
   "metadata": {
    "execution": {
     "iopub.execute_input": "2024-06-13T18:39:37.270596Z",
     "iopub.status.busy": "2024-06-13T18:39:37.270332Z",
     "iopub.status.idle": "2024-06-13T18:39:37.499435Z",
     "shell.execute_reply": "2024-06-13T18:39:37.499141Z"
    },
    "papermill": {
     "duration": 0.231997,
     "end_time": "2024-06-13T18:39:37.500213",
     "exception": false,
     "start_time": "2024-06-13T18:39:37.268216",
     "status": "completed"
    },
    "tags": []
   },
   "outputs": [
    {
     "data": {
      "text/html": [
       "<style>#sk-container-id-1 {\n",
       "  /* Definition of color scheme common for light and dark mode */\n",
       "  --sklearn-color-text: black;\n",
       "  --sklearn-color-line: gray;\n",
       "  /* Definition of color scheme for unfitted estimators */\n",
       "  --sklearn-color-unfitted-level-0: #fff5e6;\n",
       "  --sklearn-color-unfitted-level-1: #f6e4d2;\n",
       "  --sklearn-color-unfitted-level-2: #ffe0b3;\n",
       "  --sklearn-color-unfitted-level-3: chocolate;\n",
       "  /* Definition of color scheme for fitted estimators */\n",
       "  --sklearn-color-fitted-level-0: #f0f8ff;\n",
       "  --sklearn-color-fitted-level-1: #d4ebff;\n",
       "  --sklearn-color-fitted-level-2: #b3dbfd;\n",
       "  --sklearn-color-fitted-level-3: cornflowerblue;\n",
       "\n",
       "  /* Specific color for light theme */\n",
       "  --sklearn-color-text-on-default-background: var(--sg-text-color, var(--theme-code-foreground, var(--jp-content-font-color1, black)));\n",
       "  --sklearn-color-background: var(--sg-background-color, var(--theme-background, var(--jp-layout-color0, white)));\n",
       "  --sklearn-color-border-box: var(--sg-text-color, var(--theme-code-foreground, var(--jp-content-font-color1, black)));\n",
       "  --sklearn-color-icon: #696969;\n",
       "\n",
       "  @media (prefers-color-scheme: dark) {\n",
       "    /* Redefinition of color scheme for dark theme */\n",
       "    --sklearn-color-text-on-default-background: var(--sg-text-color, var(--theme-code-foreground, var(--jp-content-font-color1, white)));\n",
       "    --sklearn-color-background: var(--sg-background-color, var(--theme-background, var(--jp-layout-color0, #111)));\n",
       "    --sklearn-color-border-box: var(--sg-text-color, var(--theme-code-foreground, var(--jp-content-font-color1, white)));\n",
       "    --sklearn-color-icon: #878787;\n",
       "  }\n",
       "}\n",
       "\n",
       "#sk-container-id-1 {\n",
       "  color: var(--sklearn-color-text);\n",
       "}\n",
       "\n",
       "#sk-container-id-1 pre {\n",
       "  padding: 0;\n",
       "}\n",
       "\n",
       "#sk-container-id-1 input.sk-hidden--visually {\n",
       "  border: 0;\n",
       "  clip: rect(1px 1px 1px 1px);\n",
       "  clip: rect(1px, 1px, 1px, 1px);\n",
       "  height: 1px;\n",
       "  margin: -1px;\n",
       "  overflow: hidden;\n",
       "  padding: 0;\n",
       "  position: absolute;\n",
       "  width: 1px;\n",
       "}\n",
       "\n",
       "#sk-container-id-1 div.sk-dashed-wrapped {\n",
       "  border: 1px dashed var(--sklearn-color-line);\n",
       "  margin: 0 0.4em 0.5em 0.4em;\n",
       "  box-sizing: border-box;\n",
       "  padding-bottom: 0.4em;\n",
       "  background-color: var(--sklearn-color-background);\n",
       "}\n",
       "\n",
       "#sk-container-id-1 div.sk-container {\n",
       "  /* jupyter's `normalize.less` sets `[hidden] { display: none; }`\n",
       "     but bootstrap.min.css set `[hidden] { display: none !important; }`\n",
       "     so we also need the `!important` here to be able to override the\n",
       "     default hidden behavior on the sphinx rendered scikit-learn.org.\n",
       "     See: https://github.com/scikit-learn/scikit-learn/issues/21755 */\n",
       "  display: inline-block !important;\n",
       "  position: relative;\n",
       "}\n",
       "\n",
       "#sk-container-id-1 div.sk-text-repr-fallback {\n",
       "  display: none;\n",
       "}\n",
       "\n",
       "div.sk-parallel-item,\n",
       "div.sk-serial,\n",
       "div.sk-item {\n",
       "  /* draw centered vertical line to link estimators */\n",
       "  background-image: linear-gradient(var(--sklearn-color-text-on-default-background), var(--sklearn-color-text-on-default-background));\n",
       "  background-size: 2px 100%;\n",
       "  background-repeat: no-repeat;\n",
       "  background-position: center center;\n",
       "}\n",
       "\n",
       "/* Parallel-specific style estimator block */\n",
       "\n",
       "#sk-container-id-1 div.sk-parallel-item::after {\n",
       "  content: \"\";\n",
       "  width: 100%;\n",
       "  border-bottom: 2px solid var(--sklearn-color-text-on-default-background);\n",
       "  flex-grow: 1;\n",
       "}\n",
       "\n",
       "#sk-container-id-1 div.sk-parallel {\n",
       "  display: flex;\n",
       "  align-items: stretch;\n",
       "  justify-content: center;\n",
       "  background-color: var(--sklearn-color-background);\n",
       "  position: relative;\n",
       "}\n",
       "\n",
       "#sk-container-id-1 div.sk-parallel-item {\n",
       "  display: flex;\n",
       "  flex-direction: column;\n",
       "}\n",
       "\n",
       "#sk-container-id-1 div.sk-parallel-item:first-child::after {\n",
       "  align-self: flex-end;\n",
       "  width: 50%;\n",
       "}\n",
       "\n",
       "#sk-container-id-1 div.sk-parallel-item:last-child::after {\n",
       "  align-self: flex-start;\n",
       "  width: 50%;\n",
       "}\n",
       "\n",
       "#sk-container-id-1 div.sk-parallel-item:only-child::after {\n",
       "  width: 0;\n",
       "}\n",
       "\n",
       "/* Serial-specific style estimator block */\n",
       "\n",
       "#sk-container-id-1 div.sk-serial {\n",
       "  display: flex;\n",
       "  flex-direction: column;\n",
       "  align-items: center;\n",
       "  background-color: var(--sklearn-color-background);\n",
       "  padding-right: 1em;\n",
       "  padding-left: 1em;\n",
       "}\n",
       "\n",
       "\n",
       "/* Toggleable style: style used for estimator/Pipeline/ColumnTransformer box that is\n",
       "clickable and can be expanded/collapsed.\n",
       "- Pipeline and ColumnTransformer use this feature and define the default style\n",
       "- Estimators will overwrite some part of the style using the `sk-estimator` class\n",
       "*/\n",
       "\n",
       "/* Pipeline and ColumnTransformer style (default) */\n",
       "\n",
       "#sk-container-id-1 div.sk-toggleable {\n",
       "  /* Default theme specific background. It is overwritten whether we have a\n",
       "  specific estimator or a Pipeline/ColumnTransformer */\n",
       "  background-color: var(--sklearn-color-background);\n",
       "}\n",
       "\n",
       "/* Toggleable label */\n",
       "#sk-container-id-1 label.sk-toggleable__label {\n",
       "  cursor: pointer;\n",
       "  display: block;\n",
       "  width: 100%;\n",
       "  margin-bottom: 0;\n",
       "  padding: 0.5em;\n",
       "  box-sizing: border-box;\n",
       "  text-align: center;\n",
       "}\n",
       "\n",
       "#sk-container-id-1 label.sk-toggleable__label-arrow:before {\n",
       "  /* Arrow on the left of the label */\n",
       "  content: \"▸\";\n",
       "  float: left;\n",
       "  margin-right: 0.25em;\n",
       "  color: var(--sklearn-color-icon);\n",
       "}\n",
       "\n",
       "#sk-container-id-1 label.sk-toggleable__label-arrow:hover:before {\n",
       "  color: var(--sklearn-color-text);\n",
       "}\n",
       "\n",
       "/* Toggleable content - dropdown */\n",
       "\n",
       "#sk-container-id-1 div.sk-toggleable__content {\n",
       "  max-height: 0;\n",
       "  max-width: 0;\n",
       "  overflow: hidden;\n",
       "  text-align: left;\n",
       "  /* unfitted */\n",
       "  background-color: var(--sklearn-color-unfitted-level-0);\n",
       "}\n",
       "\n",
       "#sk-container-id-1 div.sk-toggleable__content.fitted {\n",
       "  /* fitted */\n",
       "  background-color: var(--sklearn-color-fitted-level-0);\n",
       "}\n",
       "\n",
       "#sk-container-id-1 div.sk-toggleable__content pre {\n",
       "  margin: 0.2em;\n",
       "  border-radius: 0.25em;\n",
       "  color: var(--sklearn-color-text);\n",
       "  /* unfitted */\n",
       "  background-color: var(--sklearn-color-unfitted-level-0);\n",
       "}\n",
       "\n",
       "#sk-container-id-1 div.sk-toggleable__content.fitted pre {\n",
       "  /* unfitted */\n",
       "  background-color: var(--sklearn-color-fitted-level-0);\n",
       "}\n",
       "\n",
       "#sk-container-id-1 input.sk-toggleable__control:checked~div.sk-toggleable__content {\n",
       "  /* Expand drop-down */\n",
       "  max-height: 200px;\n",
       "  max-width: 100%;\n",
       "  overflow: auto;\n",
       "}\n",
       "\n",
       "#sk-container-id-1 input.sk-toggleable__control:checked~label.sk-toggleable__label-arrow:before {\n",
       "  content: \"▾\";\n",
       "}\n",
       "\n",
       "/* Pipeline/ColumnTransformer-specific style */\n",
       "\n",
       "#sk-container-id-1 div.sk-label input.sk-toggleable__control:checked~label.sk-toggleable__label {\n",
       "  color: var(--sklearn-color-text);\n",
       "  background-color: var(--sklearn-color-unfitted-level-2);\n",
       "}\n",
       "\n",
       "#sk-container-id-1 div.sk-label.fitted input.sk-toggleable__control:checked~label.sk-toggleable__label {\n",
       "  background-color: var(--sklearn-color-fitted-level-2);\n",
       "}\n",
       "\n",
       "/* Estimator-specific style */\n",
       "\n",
       "/* Colorize estimator box */\n",
       "#sk-container-id-1 div.sk-estimator input.sk-toggleable__control:checked~label.sk-toggleable__label {\n",
       "  /* unfitted */\n",
       "  background-color: var(--sklearn-color-unfitted-level-2);\n",
       "}\n",
       "\n",
       "#sk-container-id-1 div.sk-estimator.fitted input.sk-toggleable__control:checked~label.sk-toggleable__label {\n",
       "  /* fitted */\n",
       "  background-color: var(--sklearn-color-fitted-level-2);\n",
       "}\n",
       "\n",
       "#sk-container-id-1 div.sk-label label.sk-toggleable__label,\n",
       "#sk-container-id-1 div.sk-label label {\n",
       "  /* The background is the default theme color */\n",
       "  color: var(--sklearn-color-text-on-default-background);\n",
       "}\n",
       "\n",
       "/* On hover, darken the color of the background */\n",
       "#sk-container-id-1 div.sk-label:hover label.sk-toggleable__label {\n",
       "  color: var(--sklearn-color-text);\n",
       "  background-color: var(--sklearn-color-unfitted-level-2);\n",
       "}\n",
       "\n",
       "/* Label box, darken color on hover, fitted */\n",
       "#sk-container-id-1 div.sk-label.fitted:hover label.sk-toggleable__label.fitted {\n",
       "  color: var(--sklearn-color-text);\n",
       "  background-color: var(--sklearn-color-fitted-level-2);\n",
       "}\n",
       "\n",
       "/* Estimator label */\n",
       "\n",
       "#sk-container-id-1 div.sk-label label {\n",
       "  font-family: monospace;\n",
       "  font-weight: bold;\n",
       "  display: inline-block;\n",
       "  line-height: 1.2em;\n",
       "}\n",
       "\n",
       "#sk-container-id-1 div.sk-label-container {\n",
       "  text-align: center;\n",
       "}\n",
       "\n",
       "/* Estimator-specific */\n",
       "#sk-container-id-1 div.sk-estimator {\n",
       "  font-family: monospace;\n",
       "  border: 1px dotted var(--sklearn-color-border-box);\n",
       "  border-radius: 0.25em;\n",
       "  box-sizing: border-box;\n",
       "  margin-bottom: 0.5em;\n",
       "  /* unfitted */\n",
       "  background-color: var(--sklearn-color-unfitted-level-0);\n",
       "}\n",
       "\n",
       "#sk-container-id-1 div.sk-estimator.fitted {\n",
       "  /* fitted */\n",
       "  background-color: var(--sklearn-color-fitted-level-0);\n",
       "}\n",
       "\n",
       "/* on hover */\n",
       "#sk-container-id-1 div.sk-estimator:hover {\n",
       "  /* unfitted */\n",
       "  background-color: var(--sklearn-color-unfitted-level-2);\n",
       "}\n",
       "\n",
       "#sk-container-id-1 div.sk-estimator.fitted:hover {\n",
       "  /* fitted */\n",
       "  background-color: var(--sklearn-color-fitted-level-2);\n",
       "}\n",
       "\n",
       "/* Specification for estimator info (e.g. \"i\" and \"?\") */\n",
       "\n",
       "/* Common style for \"i\" and \"?\" */\n",
       "\n",
       ".sk-estimator-doc-link,\n",
       "a:link.sk-estimator-doc-link,\n",
       "a:visited.sk-estimator-doc-link {\n",
       "  float: right;\n",
       "  font-size: smaller;\n",
       "  line-height: 1em;\n",
       "  font-family: monospace;\n",
       "  background-color: var(--sklearn-color-background);\n",
       "  border-radius: 1em;\n",
       "  height: 1em;\n",
       "  width: 1em;\n",
       "  text-decoration: none !important;\n",
       "  margin-left: 1ex;\n",
       "  /* unfitted */\n",
       "  border: var(--sklearn-color-unfitted-level-1) 1pt solid;\n",
       "  color: var(--sklearn-color-unfitted-level-1);\n",
       "}\n",
       "\n",
       ".sk-estimator-doc-link.fitted,\n",
       "a:link.sk-estimator-doc-link.fitted,\n",
       "a:visited.sk-estimator-doc-link.fitted {\n",
       "  /* fitted */\n",
       "  border: var(--sklearn-color-fitted-level-1) 1pt solid;\n",
       "  color: var(--sklearn-color-fitted-level-1);\n",
       "}\n",
       "\n",
       "/* On hover */\n",
       "div.sk-estimator:hover .sk-estimator-doc-link:hover,\n",
       ".sk-estimator-doc-link:hover,\n",
       "div.sk-label-container:hover .sk-estimator-doc-link:hover,\n",
       ".sk-estimator-doc-link:hover {\n",
       "  /* unfitted */\n",
       "  background-color: var(--sklearn-color-unfitted-level-3);\n",
       "  color: var(--sklearn-color-background);\n",
       "  text-decoration: none;\n",
       "}\n",
       "\n",
       "div.sk-estimator.fitted:hover .sk-estimator-doc-link.fitted:hover,\n",
       ".sk-estimator-doc-link.fitted:hover,\n",
       "div.sk-label-container:hover .sk-estimator-doc-link.fitted:hover,\n",
       ".sk-estimator-doc-link.fitted:hover {\n",
       "  /* fitted */\n",
       "  background-color: var(--sklearn-color-fitted-level-3);\n",
       "  color: var(--sklearn-color-background);\n",
       "  text-decoration: none;\n",
       "}\n",
       "\n",
       "/* Span, style for the box shown on hovering the info icon */\n",
       ".sk-estimator-doc-link span {\n",
       "  display: none;\n",
       "  z-index: 9999;\n",
       "  position: relative;\n",
       "  font-weight: normal;\n",
       "  right: .2ex;\n",
       "  padding: .5ex;\n",
       "  margin: .5ex;\n",
       "  width: min-content;\n",
       "  min-width: 20ex;\n",
       "  max-width: 50ex;\n",
       "  color: var(--sklearn-color-text);\n",
       "  box-shadow: 2pt 2pt 4pt #999;\n",
       "  /* unfitted */\n",
       "  background: var(--sklearn-color-unfitted-level-0);\n",
       "  border: .5pt solid var(--sklearn-color-unfitted-level-3);\n",
       "}\n",
       "\n",
       ".sk-estimator-doc-link.fitted span {\n",
       "  /* fitted */\n",
       "  background: var(--sklearn-color-fitted-level-0);\n",
       "  border: var(--sklearn-color-fitted-level-3);\n",
       "}\n",
       "\n",
       ".sk-estimator-doc-link:hover span {\n",
       "  display: block;\n",
       "}\n",
       "\n",
       "/* \"?\"-specific style due to the `<a>` HTML tag */\n",
       "\n",
       "#sk-container-id-1 a.estimator_doc_link {\n",
       "  float: right;\n",
       "  font-size: 1rem;\n",
       "  line-height: 1em;\n",
       "  font-family: monospace;\n",
       "  background-color: var(--sklearn-color-background);\n",
       "  border-radius: 1rem;\n",
       "  height: 1rem;\n",
       "  width: 1rem;\n",
       "  text-decoration: none;\n",
       "  /* unfitted */\n",
       "  color: var(--sklearn-color-unfitted-level-1);\n",
       "  border: var(--sklearn-color-unfitted-level-1) 1pt solid;\n",
       "}\n",
       "\n",
       "#sk-container-id-1 a.estimator_doc_link.fitted {\n",
       "  /* fitted */\n",
       "  border: var(--sklearn-color-fitted-level-1) 1pt solid;\n",
       "  color: var(--sklearn-color-fitted-level-1);\n",
       "}\n",
       "\n",
       "/* On hover */\n",
       "#sk-container-id-1 a.estimator_doc_link:hover {\n",
       "  /* unfitted */\n",
       "  background-color: var(--sklearn-color-unfitted-level-3);\n",
       "  color: var(--sklearn-color-background);\n",
       "  text-decoration: none;\n",
       "}\n",
       "\n",
       "#sk-container-id-1 a.estimator_doc_link.fitted:hover {\n",
       "  /* fitted */\n",
       "  background-color: var(--sklearn-color-fitted-level-3);\n",
       "}\n",
       "</style><div id=\"sk-container-id-1\" class=\"sk-top-container\"><div class=\"sk-text-repr-fallback\"><pre>KMeans(init=&#x27;random&#x27;, max_iter=500, n_clusters=50, random_state=42)</pre><b>In a Jupyter environment, please rerun this cell to show the HTML representation or trust the notebook. <br />On GitHub, the HTML representation is unable to render, please try loading this page with nbviewer.org.</b></div><div class=\"sk-container\" hidden><div class=\"sk-item\"><div class=\"sk-estimator fitted sk-toggleable\"><input class=\"sk-toggleable__control sk-hidden--visually\" id=\"sk-estimator-id-1\" type=\"checkbox\" checked><label for=\"sk-estimator-id-1\" class=\"sk-toggleable__label fitted sk-toggleable__label-arrow fitted\">&nbsp;&nbsp;KMeans<a class=\"sk-estimator-doc-link fitted\" rel=\"noreferrer\" target=\"_blank\" href=\"https://scikit-learn.org/1.5/modules/generated/sklearn.cluster.KMeans.html\">?<span>Documentation for KMeans</span></a><span class=\"sk-estimator-doc-link fitted\">i<span>Fitted</span></span></label><div class=\"sk-toggleable__content fitted\"><pre>KMeans(init=&#x27;random&#x27;, max_iter=500, n_clusters=50, random_state=42)</pre></div> </div></div></div></div>"
      ],
      "text/plain": [
       "KMeans(init='random', max_iter=500, n_clusters=50, random_state=42)"
      ]
     },
     "execution_count": 10,
     "metadata": {},
     "output_type": "execute_result"
    }
   ],
   "source": [
    "kmeans.fit(scores)"
   ]
  },
  {
   "cell_type": "code",
   "execution_count": 11,
   "id": "05de42c9-f432-465d-8d2b-ec27e53a0abf",
   "metadata": {
    "execution": {
     "iopub.execute_input": "2024-06-13T18:39:37.505172Z",
     "iopub.status.busy": "2024-06-13T18:39:37.504861Z",
     "iopub.status.idle": "2024-06-13T18:39:37.507521Z",
     "shell.execute_reply": "2024-06-13T18:39:37.507257Z"
    },
    "papermill": {
     "duration": 0.00563,
     "end_time": "2024-06-13T18:39:37.508197",
     "exception": false,
     "start_time": "2024-06-13T18:39:37.502567",
     "status": "completed"
    },
    "tags": []
   },
   "outputs": [
    {
     "data": {
      "text/plain": [
       "array([[ 4.        ,  1.        ,  0.        ,  0.        , 13.        ,\n",
       "         3.        , 69.        ,  1.        ,  4.        ,  2.        ],\n",
       "       [ 2.35135135,  1.02702703,  1.18918919,  0.45945946,  3.67567568,\n",
       "         2.24324324,  1.94594595,  0.48648649,  0.37837838,  0.91891892]])"
      ]
     },
     "execution_count": 11,
     "metadata": {},
     "output_type": "execute_result"
    }
   ],
   "source": [
    "kmeans.cluster_centers_[:2]"
   ]
  },
  {
   "cell_type": "code",
   "execution_count": 12,
   "id": "de5d034b-69f0-4460-90df-5b231c47b50a",
   "metadata": {
    "execution": {
     "iopub.execute_input": "2024-06-13T18:39:37.513033Z",
     "iopub.status.busy": "2024-06-13T18:39:37.512778Z",
     "iopub.status.idle": "2024-06-13T18:39:37.517135Z",
     "shell.execute_reply": "2024-06-13T18:39:37.516871Z"
    },
    "papermill": {
     "duration": 0.007626,
     "end_time": "2024-06-13T18:39:37.517791",
     "exception": false,
     "start_time": "2024-06-13T18:39:37.510165",
     "status": "completed"
    },
    "tags": []
   },
   "outputs": [],
   "source": [
    "from collections import Counter\n",
    "\n",
    "\n",
    "sums = {i: sum(c) for i, c in enumerate(kmeans.cluster_centers_)}\n",
    "\n",
    "count = Counter(kmeans.labels_)\n",
    "widths = np.array([count[p] for p in range(kmeans.n_clusters)])\n",
    "sorted_keys = list({k: v for k, v in sorted(sums.items(), key=lambda item: item[1])}.keys())\n",
    "sorted_widths = [widths[k] for k in reversed(sorted_keys)]\n",
    "sorted_clusters = np.array([kmeans.cluster_centers_[k] for k in reversed(sorted_keys)])"
   ]
  },
  {
   "cell_type": "code",
   "execution_count": 13,
   "id": "c86abd47",
   "metadata": {
    "execution": {
     "iopub.execute_input": "2024-06-13T18:39:37.522478Z",
     "iopub.status.busy": "2024-06-13T18:39:37.522242Z",
     "iopub.status.idle": "2024-06-13T18:39:37.524671Z",
     "shell.execute_reply": "2024-06-13T18:39:37.524419Z"
    },
    "papermill": {
     "duration": 0.005614,
     "end_time": "2024-06-13T18:39:37.525363",
     "exception": false,
     "start_time": "2024-06-13T18:39:37.519749",
     "status": "completed"
    },
    "tags": []
   },
   "outputs": [
    {
     "data": {
      "text/plain": [
       "[4, 8, 5, 8, 1, 8, 11, 6, 3, 3]"
      ]
     },
     "execution_count": 13,
     "metadata": {},
     "output_type": "execute_result"
    }
   ],
   "source": [
    "sorted_widths[:10]"
   ]
  },
  {
   "cell_type": "code",
   "execution_count": 14,
   "id": "d95900a9-80ab-487a-9fb4-ca1499455cfa",
   "metadata": {
    "execution": {
     "iopub.execute_input": "2024-06-13T18:39:37.529910Z",
     "iopub.status.busy": "2024-06-13T18:39:37.529703Z",
     "iopub.status.idle": "2024-06-13T18:39:37.709341Z",
     "shell.execute_reply": "2024-06-13T18:39:37.708988Z"
    },
    "papermill": {
     "duration": 0.214138,
     "end_time": "2024-06-13T18:39:37.741486",
     "exception": false,
     "start_time": "2024-06-13T18:39:37.527348",
     "status": "completed"
    },
    "tags": []
   },
   "outputs": [
    {
     "data": {
      "application/vnd.plotly.v1+json": {
       "config": {
        "plotlyServerURL": "https://plot.ly"
       },
       "data": [
        {
         "name": "Изменение политики безопасности",
         "offset": 0,
         "type": "bar",
         "width": [
          4,
          8,
          5,
          8,
          1,
          8,
          11,
          6,
          3,
          3,
          11,
          14,
          6,
          9,
          16,
          6,
          1,
          9,
          10,
          20,
          8,
          12,
          22,
          21,
          2,
          4,
          5,
          17,
          7,
          5,
          10,
          6,
          30,
          13,
          4,
          11,
          31,
          12,
          17,
          11,
          26,
          19,
          4,
          3,
          14,
          18,
          21,
          14,
          16,
          37
         ],
         "x": [
          0,
          4,
          12,
          17,
          25,
          26,
          34,
          45,
          51,
          54,
          57,
          68,
          82,
          88,
          97,
          113,
          119,
          120,
          129,
          139,
          159,
          167,
          179,
          201,
          222,
          224,
          228,
          233,
          250,
          257,
          262,
          272,
          278,
          308,
          321,
          325,
          336,
          367,
          379,
          396,
          407,
          433,
          452,
          456,
          459,
          473,
          491,
          512,
          526,
          542
         ],
         "y": [
          11.75,
          12.875,
          19.400000000000002,
          10.75,
          12,
          12,
          9.818181818181818,
          9.333333333333332,
          19,
          15.666666666666668,
          10.636363636363637,
          8.928571428571427,
          17.5,
          4.777777777777778,
          7.25,
          5.833333333333333,
          2,
          8.88888888888889,
          4.9,
          4.85,
          4.125,
          8.75,
          4.363636363636364,
          6.238095238095238,
          3.5,
          5.25,
          3.8,
          4.411764705882353,
          9.571428571428573,
          11,
          4.3,
          3.5000000000000004,
          2.7,
          3.3846153846153846,
          2.75,
          2.818181818181818,
          3,
          4.666666666666667,
          3.3529411764705888,
          7.090909090909091,
          2.6923076923076925,
          2.4736842105263164,
          2,
          2.333333333333333,
          1.2857142857142865,
          1.0000000000000009,
          2.2380952380952386,
          0.8571428571428568,
          2.125,
          0.9189189189189175
         ]
        },
        {
         "name": "Персонализация и маркетинг",
         "offset": 0,
         "type": "bar",
         "width": [
          4,
          8,
          5,
          8,
          1,
          8,
          11,
          6,
          3,
          3,
          11,
          14,
          6,
          9,
          16,
          6,
          1,
          9,
          10,
          20,
          8,
          12,
          22,
          21,
          2,
          4,
          5,
          17,
          7,
          5,
          10,
          6,
          30,
          13,
          4,
          11,
          31,
          12,
          17,
          11,
          26,
          19,
          4,
          3,
          14,
          18,
          21,
          14,
          16,
          37
         ],
         "x": [
          0,
          4,
          12,
          17,
          25,
          26,
          34,
          45,
          51,
          54,
          57,
          68,
          82,
          88,
          97,
          113,
          119,
          120,
          129,
          139,
          159,
          167,
          179,
          201,
          222,
          224,
          228,
          233,
          250,
          257,
          262,
          272,
          278,
          308,
          321,
          325,
          336,
          367,
          379,
          396,
          407,
          433,
          452,
          456,
          459,
          473,
          491,
          512,
          526,
          542
         ],
         "y": [
          12.25,
          10.75,
          8.200000000000001,
          11.375,
          5,
          9.75,
          6.545454545454546,
          12.333333333333332,
          7,
          7,
          4.636363636363637,
          4.785714285714286,
          5.5,
          4.555555555555555,
          3.625,
          6.666666666666666,
          4,
          1.888888888888889,
          4.4,
          5.25,
          3,
          2.6666666666666665,
          2.909090909090909,
          2.857142857142857,
          2,
          4.5,
          3.2,
          2.1176470588235294,
          3.7142857142857144,
          3,
          3,
          10.166666666666668,
          1.6666666666666672,
          3,
          5.75,
          1.181818181818182,
          1.3548387096774201,
          0.8333333333333339,
          2.764705882352941,
          1.090909090909091,
          1.461538461538462,
          0.5789473684210531,
          0.5,
          2.3333333333333335,
          2.428571428571429,
          1.166666666666667,
          0.6666666666666674,
          1.071428571428572,
          0.5,
          0.3783783783783785
         ]
        },
        {
         "name": "Хранение персональных данных",
         "offset": 0,
         "type": "bar",
         "width": [
          4,
          8,
          5,
          8,
          1,
          8,
          11,
          6,
          3,
          3,
          11,
          14,
          6,
          9,
          16,
          6,
          1,
          9,
          10,
          20,
          8,
          12,
          22,
          21,
          2,
          4,
          5,
          17,
          7,
          5,
          10,
          6,
          30,
          13,
          4,
          11,
          31,
          12,
          17,
          11,
          26,
          19,
          4,
          3,
          14,
          18,
          21,
          14,
          16,
          37
         ],
         "x": [
          0,
          4,
          12,
          17,
          25,
          26,
          34,
          45,
          51,
          54,
          57,
          68,
          82,
          88,
          97,
          113,
          119,
          120,
          129,
          139,
          159,
          167,
          179,
          201,
          222,
          224,
          228,
          233,
          250,
          257,
          262,
          272,
          278,
          308,
          321,
          325,
          336,
          367,
          379,
          396,
          407,
          433,
          452,
          456,
          459,
          473,
          491,
          512,
          526,
          542
         ],
         "y": [
          10,
          7.249999999999999,
          8.2,
          10.5,
          9,
          5.5,
          8,
          3.6666666666666665,
          2,
          7.333333333333333,
          4.454545454545454,
          5.357142857142857,
          2.5,
          3.8888888888888884,
          2.9375,
          4.333333333333333,
          1,
          3.333333333333333,
          2.4,
          3.45,
          2,
          2.1666666666666665,
          2.772727272727273,
          2.952380952380952,
          3,
          1.5,
          1.8,
          0.9999999999999998,
          0.5714285714285712,
          1.4,
          2.9,
          2.1666666666666665,
          1.0999999999999999,
          1.7692307692307692,
          7.249999999999999,
          0.5454545454545454,
          1.0967741935483868,
          1.25,
          1.0588235294117647,
          0.909090909090909,
          0.6153846153846148,
          1.0000000000000002,
          0.5,
          1,
          0.7142857142857142,
          0.7222222222222221,
          1.0476190476190474,
          0.4285714285714286,
          0.3124999999999998,
          0.4864864864864862
         ]
        },
        {
         "name": "Передача персональных данных<br>третьим лицам",
         "offset": 0,
         "type": "bar",
         "width": [
          4,
          8,
          5,
          8,
          1,
          8,
          11,
          6,
          3,
          3,
          11,
          14,
          6,
          9,
          16,
          6,
          1,
          9,
          10,
          20,
          8,
          12,
          22,
          21,
          2,
          4,
          5,
          17,
          7,
          5,
          10,
          6,
          30,
          13,
          4,
          11,
          31,
          12,
          17,
          11,
          26,
          19,
          4,
          3,
          14,
          18,
          21,
          14,
          16,
          37
         ],
         "x": [
          0,
          4,
          12,
          17,
          25,
          26,
          34,
          45,
          51,
          54,
          57,
          68,
          82,
          88,
          97,
          113,
          119,
          120,
          129,
          139,
          159,
          167,
          179,
          201,
          222,
          224,
          228,
          233,
          250,
          257,
          262,
          272,
          278,
          308,
          321,
          325,
          336,
          367,
          379,
          396,
          407,
          433,
          452,
          456,
          459,
          473,
          491,
          512,
          526,
          542
         ],
         "y": [
          25.25,
          34.875,
          28.2,
          16.875,
          33,
          25.875,
          15.909090909090907,
          18,
          21,
          14.333333333333332,
          20.272727272727273,
          11.714285714285715,
          17,
          17.77777777777778,
          9.125,
          12.5,
          69,
          14.88888888888889,
          8.9,
          8.05,
          6.5,
          11.166666666666666,
          12.181818181818182,
          5.380952380952381,
          8,
          3.25,
          5.8,
          7.352941176470588,
          7.428571428571429,
          1.9999999999999991,
          10.2,
          3.333333333333333,
          5.433333333333334,
          5.9230769230769225,
          3,
          5,
          4.322580645161291,
          4.333333333333333,
          4.117647058823529,
          3.3636363636363633,
          3.8076923076923075,
          1.2631578947368434,
          1,
          10,
          2.000000000000001,
          5.055555555555555,
          1.666666666666667,
          2.642857142857144,
          0.875,
          1.9459459459459447
         ]
        },
        {
         "name": "Сбор данных, позволяющих<br>отслеживать поведения пользователя<br>на веб-сайте",
         "offset": 0,
         "type": "bar",
         "width": [
          4,
          8,
          5,
          8,
          1,
          8,
          11,
          6,
          3,
          3,
          11,
          14,
          6,
          9,
          16,
          6,
          1,
          9,
          10,
          20,
          8,
          12,
          22,
          21,
          2,
          4,
          5,
          17,
          7,
          5,
          10,
          6,
          30,
          13,
          4,
          11,
          31,
          12,
          17,
          11,
          26,
          19,
          4,
          3,
          14,
          18,
          21,
          14,
          16,
          37
         ],
         "x": [
          0,
          4,
          12,
          17,
          25,
          26,
          34,
          45,
          51,
          54,
          57,
          68,
          82,
          88,
          97,
          113,
          119,
          120,
          129,
          139,
          159,
          167,
          179,
          201,
          222,
          224,
          228,
          233,
          250,
          257,
          262,
          272,
          278,
          308,
          321,
          325,
          336,
          367,
          379,
          396,
          407,
          433,
          452,
          456,
          459,
          473,
          491,
          512,
          526,
          542
         ],
         "y": [
          11.75,
          26.5,
          11,
          13.125,
          15,
          13.125,
          13.363636363636365,
          23.66666666666667,
          7.666666666666666,
          6.333333333333333,
          12.636363636363637,
          12.214285714285715,
          5.5,
          6.888888888888889,
          11.125,
          10.833333333333332,
          3,
          7.666666666666666,
          10.100000000000001,
          7.85,
          4,
          6.25,
          4.2727272727272725,
          6.333333333333333,
          3.5,
          9.75,
          5.2,
          7.352941176470589,
          2.1428571428571437,
          5.4,
          2.5,
          2.1666666666666674,
          3.4333333333333336,
          7.076923076923077,
          2.25,
          9.818181818181818,
          3.000000000000001,
          3.083333333333334,
          5.411764705882353,
          1.8181818181818183,
          3.1538461538461537,
          3.526315789473684,
          1.5,
          0.666666666666667,
          3.357142857142858,
          3.6666666666666665,
          2.047619047619049,
          1.3571428571428585,
          1.3125,
          2.2432432432432443
         ]
        },
        {
         "name": "Сбор персональных данных",
         "offset": 0,
         "type": "bar",
         "width": [
          4,
          8,
          5,
          8,
          1,
          8,
          11,
          6,
          3,
          3,
          11,
          14,
          6,
          9,
          16,
          6,
          1,
          9,
          10,
          20,
          8,
          12,
          22,
          21,
          2,
          4,
          5,
          17,
          7,
          5,
          10,
          6,
          30,
          13,
          4,
          11,
          31,
          12,
          17,
          11,
          26,
          19,
          4,
          3,
          14,
          18,
          21,
          14,
          16,
          37
         ],
         "x": [
          0,
          4,
          12,
          17,
          25,
          26,
          34,
          45,
          51,
          54,
          57,
          68,
          82,
          88,
          97,
          113,
          119,
          120,
          129,
          139,
          159,
          167,
          179,
          201,
          222,
          224,
          228,
          233,
          250,
          257,
          262,
          272,
          278,
          308,
          321,
          325,
          336,
          367,
          379,
          396,
          407,
          433,
          452,
          456,
          459,
          473,
          491,
          512,
          526,
          542
         ],
         "y": [
          135.25,
          104.125,
          84.4,
          92.5,
          60,
          67.625,
          71.54545454545455,
          58.16666666666667,
          55,
          57,
          41.63636363636364,
          55.857142857142854,
          34,
          48.111111111111114,
          45.25,
          29.833333333333332,
          13,
          37.55555555555556,
          34.2,
          37.85,
          50,
          22,
          29.681818181818183,
          31.857142857142858,
          16.5,
          23.75,
          22,
          24.941176470588236,
          15.142857142857142,
          15.2,
          19.8,
          20.333333333333336,
          26.133333333333333,
          16.692307692307693,
          15,
          11.181818181818183,
          18.38709677419355,
          13.000000000000004,
          13.35294117647059,
          13.181818181818183,
          13.576923076923078,
          15.578947368421053,
          7.25,
          5,
          8.214285714285719,
          7.5000000000000036,
          9.095238095238102,
          9.857142857142861,
          4.5625,
          3.675675675675677
         ]
        },
        {
         "name": "Защита персональных данных",
         "offset": 0,
         "type": "bar",
         "width": [
          4,
          8,
          5,
          8,
          1,
          8,
          11,
          6,
          3,
          3,
          11,
          14,
          6,
          9,
          16,
          6,
          1,
          9,
          10,
          20,
          8,
          12,
          22,
          21,
          2,
          4,
          5,
          17,
          7,
          5,
          10,
          6,
          30,
          13,
          4,
          11,
          31,
          12,
          17,
          11,
          26,
          19,
          4,
          3,
          14,
          18,
          21,
          14,
          16,
          37
         ],
         "x": [
          0,
          4,
          12,
          17,
          25,
          26,
          34,
          45,
          51,
          54,
          57,
          68,
          82,
          88,
          97,
          113,
          119,
          120,
          129,
          139,
          159,
          167,
          179,
          201,
          222,
          224,
          228,
          233,
          250,
          257,
          262,
          272,
          278,
          308,
          321,
          325,
          336,
          367,
          379,
          396,
          407,
          433,
          452,
          456,
          459,
          473,
          491,
          512,
          526,
          542
         ],
         "y": [
          6,
          9.75,
          6.800000000000001,
          5.625,
          16,
          4.5,
          5.181818181818182,
          4.666666666666666,
          6.666666666666666,
          9.333333333333332,
          4.090909090909091,
          3.3571428571428568,
          5.833333333333334,
          3.7777777777777777,
          2.4375,
          2.833333333333333,
          0,
          2.444444444444444,
          2.1,
          2.55,
          3,
          3.166666666666666,
          2.0454545454545454,
          2.714285714285714,
          2.5,
          1.25,
          1.6,
          1.8235294117647058,
          3.4285714285714284,
          6.2,
          1.4,
          3.4999999999999996,
          1.333333333333333,
          1.3076923076923075,
          1.25,
          1.8181818181818183,
          1.5483870967741933,
          1.6666666666666667,
          1.4705882352941173,
          1.1818181818181819,
          0.5000000000000002,
          0.7894736842105263,
          1.25,
          7,
          0.7142857142857142,
          0.3333333333333335,
          0.5714285714285718,
          0.9285714285714284,
          0.875,
          0.45945945945945965
         ]
        },
        {
         "name": "Особая аудитория",
         "offset": 0,
         "type": "bar",
         "width": [
          4,
          8,
          5,
          8,
          1,
          8,
          11,
          6,
          3,
          3,
          11,
          14,
          6,
          9,
          16,
          6,
          1,
          9,
          10,
          20,
          8,
          12,
          22,
          21,
          2,
          4,
          5,
          17,
          7,
          5,
          10,
          6,
          30,
          13,
          4,
          11,
          31,
          12,
          17,
          11,
          26,
          19,
          4,
          3,
          14,
          18,
          21,
          14,
          16,
          37
         ],
         "x": [
          0,
          4,
          12,
          17,
          25,
          26,
          34,
          45,
          51,
          54,
          57,
          68,
          82,
          88,
          97,
          113,
          119,
          120,
          129,
          139,
          159,
          167,
          179,
          201,
          222,
          224,
          228,
          233,
          250,
          257,
          262,
          272,
          278,
          308,
          321,
          325,
          336,
          367,
          379,
          396,
          407,
          433,
          452,
          456,
          459,
          473,
          491,
          512,
          526,
          542
         ],
         "y": [
          30,
          15.874999999999998,
          19.200000000000003,
          13.75,
          33,
          20.125,
          9.09090909090909,
          9.833333333333332,
          18.333333333333336,
          17.33333333333333,
          17.545454545454547,
          9.928571428571427,
          10.833333333333332,
          7.111111111111111,
          9.0625,
          9.833333333333332,
          0,
          6.444444444444445,
          8.2,
          5.5,
          2.75,
          9.166666666666666,
          7.045454545454545,
          3.809523809523809,
          4.5,
          10.5,
          3.4,
          4.588235294117647,
          4.571428571428571,
          4.6,
          5.3,
          4.666666666666667,
          3.633333333333333,
          2.9230769230769225,
          3.75,
          3.6363636363636367,
          3.5161290322580645,
          8.333333333333332,
          1.8235294117647047,
          2.090909090909091,
          1.8461538461538454,
          1.8421052631578942,
          9.5,
          1.333333333333334,
          1.428571428571428,
          1.888888888888888,
          0.8095238095238093,
          2.142857142857143,
          1.5625,
          1.1891891891891877
         ]
        },
        {
         "name": "Сторонние веб-сайты",
         "offset": 0,
         "type": "bar",
         "width": [
          4,
          8,
          5,
          8,
          1,
          8,
          11,
          6,
          3,
          3,
          11,
          14,
          6,
          9,
          16,
          6,
          1,
          9,
          10,
          20,
          8,
          12,
          22,
          21,
          2,
          4,
          5,
          17,
          7,
          5,
          10,
          6,
          30,
          13,
          4,
          11,
          31,
          12,
          17,
          11,
          26,
          19,
          4,
          3,
          14,
          18,
          21,
          14,
          16,
          37
         ],
         "x": [
          0,
          4,
          12,
          17,
          25,
          26,
          34,
          45,
          51,
          54,
          57,
          68,
          82,
          88,
          97,
          113,
          119,
          120,
          129,
          139,
          159,
          167,
          179,
          201,
          222,
          224,
          228,
          233,
          250,
          257,
          262,
          272,
          278,
          308,
          321,
          325,
          336,
          367,
          379,
          396,
          407,
          433,
          452,
          456,
          459,
          473,
          491,
          512,
          526,
          542
         ],
         "y": [
          14.000000000000002,
          12.25,
          10.8,
          12.5,
          4,
          18.25,
          12,
          11.666666666666668,
          19,
          4.666666666666667,
          14.181818181818183,
          9,
          11.666666666666668,
          7.444444444444445,
          7.9375,
          6.166666666666667,
          1,
          4.888888888888889,
          13.4,
          5.75,
          2.2500000000000004,
          8.166666666666666,
          5.090909090909091,
          3.6190476190476195,
          25.5,
          5.75,
          3.2,
          6.764705882352942,
          5.285714285714286,
          5.4,
          2.6999999999999993,
          1.833333333333334,
          3.2333333333333343,
          3,
          2.5,
          6.909090909090909,
          3.258064516129033,
          2.166666666666667,
          1.764705882352942,
          2.7272727272727275,
          2.1153846153846154,
          3.947368421052632,
          6.25,
          0.3333333333333339,
          0.8571428571428585,
          2.055555555555556,
          2.6666666666666674,
          1.5000000000000009,
          2.9375,
          1.0270270270270272
         ]
        },
        {
         "name": "Вопросы пользователя по политике<br>безопасности",
         "offset": 0,
         "type": "bar",
         "width": [
          4,
          8,
          5,
          8,
          1,
          8,
          11,
          6,
          3,
          3,
          11,
          14,
          6,
          9,
          16,
          6,
          1,
          9,
          10,
          20,
          8,
          12,
          22,
          21,
          2,
          4,
          5,
          17,
          7,
          5,
          10,
          6,
          30,
          13,
          4,
          11,
          31,
          12,
          17,
          11,
          26,
          19,
          4,
          3,
          14,
          18,
          21,
          14,
          16,
          37
         ],
         "x": [
          0,
          4,
          12,
          17,
          25,
          26,
          34,
          45,
          51,
          54,
          57,
          68,
          82,
          88,
          97,
          113,
          119,
          120,
          129,
          139,
          159,
          167,
          179,
          201,
          222,
          224,
          228,
          233,
          250,
          257,
          262,
          272,
          278,
          308,
          321,
          325,
          336,
          367,
          379,
          396,
          407,
          433,
          452,
          456,
          459,
          473,
          491,
          512,
          526,
          542
         ],
         "y": [
          19.75,
          14.125,
          18.4,
          15.374999999999998,
          11,
          16.875,
          12.727272727272727,
          12.666666666666666,
          5,
          4.333333333333333,
          12.090909090909092,
          7.7142857142857135,
          7.5,
          5.777777777777778,
          6.75,
          13.833333333333332,
          4,
          7.111111111111111,
          4.9,
          5.75,
          5,
          5,
          5.045454545454546,
          6.666666666666666,
          2,
          3.5,
          16.8,
          3.764705882352941,
          6.571428571428571,
          1.7999999999999998,
          3,
          1.666666666666667,
          2.766666666666667,
          4.153846153846153,
          3.5,
          3.909090909090909,
          3.741935483870968,
          2.5833333333333335,
          5.705882352941177,
          2.909090909090909,
          3.346153846153846,
          1.7368421052631584,
          1.25,
          0.666666666666667,
          5,
          1.3888888888888888,
          3.8095238095238093,
          1.0714285714285712,
          1.3125,
          2.3513513513513504
         ]
        }
       ],
       "layout": {
        "barmode": "stack",
        "colorway": [
         "rgba(244, 67, 54, 1.0)",
         "rgba(232, 30, 99, 1.0)",
         "rgba(156, 39, 176, 1.0)",
         "rgba(103, 58, 183, 1.0)",
         "rgba(63, 81, 181, 1.0)",
         "rgba(33, 150, 243, 1.0)",
         "rgba(3, 169, 244, 1.0)",
         "rgba(0, 188, 212, 1.0)",
         "rgba(0, 150, 136, 1.0)",
         "rgba(76, 175, 80, 1.0)",
         "rgba(139, 195, 74, 1.0)",
         "rgba(205, 220, 57, 1.0)",
         "rgba(255, 235, 59, 1.0)",
         "rgba(255, 193, 7, 1.0)",
         "rgba(255, 152, 0, 1.0)",
         "rgba(255, 87, 34, 1.0)"
        ],
        "font": {
         "color": "black",
         "family": "Times New Roman",
         "size": 30
        },
        "height": 950,
        "legend": {
         "traceorder": "normal"
        },
        "margin": {
         "pad": 10
        },
        "plot_bgcolor": "rgba(0, 0, 0, 0)",
        "template": {
         "data": {
          "bar": [
           {
            "error_x": {
             "color": "#2a3f5f"
            },
            "error_y": {
             "color": "#2a3f5f"
            },
            "marker": {
             "line": {
              "color": "#E5ECF6",
              "width": 0.5
             },
             "pattern": {
              "fillmode": "overlay",
              "size": 10,
              "solidity": 0.2
             }
            },
            "type": "bar"
           }
          ],
          "barpolar": [
           {
            "marker": {
             "line": {
              "color": "#E5ECF6",
              "width": 0.5
             },
             "pattern": {
              "fillmode": "overlay",
              "size": 10,
              "solidity": 0.2
             }
            },
            "type": "barpolar"
           }
          ],
          "carpet": [
           {
            "aaxis": {
             "endlinecolor": "#2a3f5f",
             "gridcolor": "white",
             "linecolor": "white",
             "minorgridcolor": "white",
             "startlinecolor": "#2a3f5f"
            },
            "baxis": {
             "endlinecolor": "#2a3f5f",
             "gridcolor": "white",
             "linecolor": "white",
             "minorgridcolor": "white",
             "startlinecolor": "#2a3f5f"
            },
            "type": "carpet"
           }
          ],
          "choropleth": [
           {
            "colorbar": {
             "outlinewidth": 0,
             "ticks": ""
            },
            "type": "choropleth"
           }
          ],
          "contour": [
           {
            "colorbar": {
             "outlinewidth": 0,
             "ticks": ""
            },
            "colorscale": [
             [
              0,
              "#0d0887"
             ],
             [
              0.1111111111111111,
              "#46039f"
             ],
             [
              0.2222222222222222,
              "#7201a8"
             ],
             [
              0.3333333333333333,
              "#9c179e"
             ],
             [
              0.4444444444444444,
              "#bd3786"
             ],
             [
              0.5555555555555556,
              "#d8576b"
             ],
             [
              0.6666666666666666,
              "#ed7953"
             ],
             [
              0.7777777777777778,
              "#fb9f3a"
             ],
             [
              0.8888888888888888,
              "#fdca26"
             ],
             [
              1,
              "#f0f921"
             ]
            ],
            "type": "contour"
           }
          ],
          "contourcarpet": [
           {
            "colorbar": {
             "outlinewidth": 0,
             "ticks": ""
            },
            "type": "contourcarpet"
           }
          ],
          "heatmap": [
           {
            "colorbar": {
             "outlinewidth": 0,
             "ticks": ""
            },
            "colorscale": [
             [
              0,
              "#0d0887"
             ],
             [
              0.1111111111111111,
              "#46039f"
             ],
             [
              0.2222222222222222,
              "#7201a8"
             ],
             [
              0.3333333333333333,
              "#9c179e"
             ],
             [
              0.4444444444444444,
              "#bd3786"
             ],
             [
              0.5555555555555556,
              "#d8576b"
             ],
             [
              0.6666666666666666,
              "#ed7953"
             ],
             [
              0.7777777777777778,
              "#fb9f3a"
             ],
             [
              0.8888888888888888,
              "#fdca26"
             ],
             [
              1,
              "#f0f921"
             ]
            ],
            "type": "heatmap"
           }
          ],
          "heatmapgl": [
           {
            "colorbar": {
             "outlinewidth": 0,
             "ticks": ""
            },
            "colorscale": [
             [
              0,
              "#0d0887"
             ],
             [
              0.1111111111111111,
              "#46039f"
             ],
             [
              0.2222222222222222,
              "#7201a8"
             ],
             [
              0.3333333333333333,
              "#9c179e"
             ],
             [
              0.4444444444444444,
              "#bd3786"
             ],
             [
              0.5555555555555556,
              "#d8576b"
             ],
             [
              0.6666666666666666,
              "#ed7953"
             ],
             [
              0.7777777777777778,
              "#fb9f3a"
             ],
             [
              0.8888888888888888,
              "#fdca26"
             ],
             [
              1,
              "#f0f921"
             ]
            ],
            "type": "heatmapgl"
           }
          ],
          "histogram": [
           {
            "marker": {
             "pattern": {
              "fillmode": "overlay",
              "size": 10,
              "solidity": 0.2
             }
            },
            "type": "histogram"
           }
          ],
          "histogram2d": [
           {
            "colorbar": {
             "outlinewidth": 0,
             "ticks": ""
            },
            "colorscale": [
             [
              0,
              "#0d0887"
             ],
             [
              0.1111111111111111,
              "#46039f"
             ],
             [
              0.2222222222222222,
              "#7201a8"
             ],
             [
              0.3333333333333333,
              "#9c179e"
             ],
             [
              0.4444444444444444,
              "#bd3786"
             ],
             [
              0.5555555555555556,
              "#d8576b"
             ],
             [
              0.6666666666666666,
              "#ed7953"
             ],
             [
              0.7777777777777778,
              "#fb9f3a"
             ],
             [
              0.8888888888888888,
              "#fdca26"
             ],
             [
              1,
              "#f0f921"
             ]
            ],
            "type": "histogram2d"
           }
          ],
          "histogram2dcontour": [
           {
            "colorbar": {
             "outlinewidth": 0,
             "ticks": ""
            },
            "colorscale": [
             [
              0,
              "#0d0887"
             ],
             [
              0.1111111111111111,
              "#46039f"
             ],
             [
              0.2222222222222222,
              "#7201a8"
             ],
             [
              0.3333333333333333,
              "#9c179e"
             ],
             [
              0.4444444444444444,
              "#bd3786"
             ],
             [
              0.5555555555555556,
              "#d8576b"
             ],
             [
              0.6666666666666666,
              "#ed7953"
             ],
             [
              0.7777777777777778,
              "#fb9f3a"
             ],
             [
              0.8888888888888888,
              "#fdca26"
             ],
             [
              1,
              "#f0f921"
             ]
            ],
            "type": "histogram2dcontour"
           }
          ],
          "mesh3d": [
           {
            "colorbar": {
             "outlinewidth": 0,
             "ticks": ""
            },
            "type": "mesh3d"
           }
          ],
          "parcoords": [
           {
            "line": {
             "colorbar": {
              "outlinewidth": 0,
              "ticks": ""
             }
            },
            "type": "parcoords"
           }
          ],
          "pie": [
           {
            "automargin": true,
            "type": "pie"
           }
          ],
          "scatter": [
           {
            "fillpattern": {
             "fillmode": "overlay",
             "size": 10,
             "solidity": 0.2
            },
            "type": "scatter"
           }
          ],
          "scatter3d": [
           {
            "line": {
             "colorbar": {
              "outlinewidth": 0,
              "ticks": ""
             }
            },
            "marker": {
             "colorbar": {
              "outlinewidth": 0,
              "ticks": ""
             }
            },
            "type": "scatter3d"
           }
          ],
          "scattercarpet": [
           {
            "marker": {
             "colorbar": {
              "outlinewidth": 0,
              "ticks": ""
             }
            },
            "type": "scattercarpet"
           }
          ],
          "scattergeo": [
           {
            "marker": {
             "colorbar": {
              "outlinewidth": 0,
              "ticks": ""
             }
            },
            "type": "scattergeo"
           }
          ],
          "scattergl": [
           {
            "marker": {
             "colorbar": {
              "outlinewidth": 0,
              "ticks": ""
             }
            },
            "type": "scattergl"
           }
          ],
          "scattermapbox": [
           {
            "marker": {
             "colorbar": {
              "outlinewidth": 0,
              "ticks": ""
             }
            },
            "type": "scattermapbox"
           }
          ],
          "scatterpolar": [
           {
            "marker": {
             "colorbar": {
              "outlinewidth": 0,
              "ticks": ""
             }
            },
            "type": "scatterpolar"
           }
          ],
          "scatterpolargl": [
           {
            "marker": {
             "colorbar": {
              "outlinewidth": 0,
              "ticks": ""
             }
            },
            "type": "scatterpolargl"
           }
          ],
          "scatterternary": [
           {
            "marker": {
             "colorbar": {
              "outlinewidth": 0,
              "ticks": ""
             }
            },
            "type": "scatterternary"
           }
          ],
          "surface": [
           {
            "colorbar": {
             "outlinewidth": 0,
             "ticks": ""
            },
            "colorscale": [
             [
              0,
              "#0d0887"
             ],
             [
              0.1111111111111111,
              "#46039f"
             ],
             [
              0.2222222222222222,
              "#7201a8"
             ],
             [
              0.3333333333333333,
              "#9c179e"
             ],
             [
              0.4444444444444444,
              "#bd3786"
             ],
             [
              0.5555555555555556,
              "#d8576b"
             ],
             [
              0.6666666666666666,
              "#ed7953"
             ],
             [
              0.7777777777777778,
              "#fb9f3a"
             ],
             [
              0.8888888888888888,
              "#fdca26"
             ],
             [
              1,
              "#f0f921"
             ]
            ],
            "type": "surface"
           }
          ],
          "table": [
           {
            "cells": {
             "fill": {
              "color": "#EBF0F8"
             },
             "line": {
              "color": "white"
             }
            },
            "header": {
             "fill": {
              "color": "#C8D4E3"
             },
             "line": {
              "color": "white"
             }
            },
            "type": "table"
           }
          ]
         },
         "layout": {
          "annotationdefaults": {
           "arrowcolor": "#2a3f5f",
           "arrowhead": 0,
           "arrowwidth": 1
          },
          "autotypenumbers": "strict",
          "coloraxis": {
           "colorbar": {
            "outlinewidth": 0,
            "ticks": ""
           }
          },
          "colorscale": {
           "diverging": [
            [
             0,
             "#8e0152"
            ],
            [
             0.1,
             "#c51b7d"
            ],
            [
             0.2,
             "#de77ae"
            ],
            [
             0.3,
             "#f1b6da"
            ],
            [
             0.4,
             "#fde0ef"
            ],
            [
             0.5,
             "#f7f7f7"
            ],
            [
             0.6,
             "#e6f5d0"
            ],
            [
             0.7,
             "#b8e186"
            ],
            [
             0.8,
             "#7fbc41"
            ],
            [
             0.9,
             "#4d9221"
            ],
            [
             1,
             "#276419"
            ]
           ],
           "sequential": [
            [
             0,
             "#0d0887"
            ],
            [
             0.1111111111111111,
             "#46039f"
            ],
            [
             0.2222222222222222,
             "#7201a8"
            ],
            [
             0.3333333333333333,
             "#9c179e"
            ],
            [
             0.4444444444444444,
             "#bd3786"
            ],
            [
             0.5555555555555556,
             "#d8576b"
            ],
            [
             0.6666666666666666,
             "#ed7953"
            ],
            [
             0.7777777777777778,
             "#fb9f3a"
            ],
            [
             0.8888888888888888,
             "#fdca26"
            ],
            [
             1,
             "#f0f921"
            ]
           ],
           "sequentialminus": [
            [
             0,
             "#0d0887"
            ],
            [
             0.1111111111111111,
             "#46039f"
            ],
            [
             0.2222222222222222,
             "#7201a8"
            ],
            [
             0.3333333333333333,
             "#9c179e"
            ],
            [
             0.4444444444444444,
             "#bd3786"
            ],
            [
             0.5555555555555556,
             "#d8576b"
            ],
            [
             0.6666666666666666,
             "#ed7953"
            ],
            [
             0.7777777777777778,
             "#fb9f3a"
            ],
            [
             0.8888888888888888,
             "#fdca26"
            ],
            [
             1,
             "#f0f921"
            ]
           ]
          },
          "colorway": [
           "#636efa",
           "#EF553B",
           "#00cc96",
           "#ab63fa",
           "#FFA15A",
           "#19d3f3",
           "#FF6692",
           "#B6E880",
           "#FF97FF",
           "#FECB52"
          ],
          "font": {
           "color": "#2a3f5f"
          },
          "geo": {
           "bgcolor": "white",
           "lakecolor": "white",
           "landcolor": "#E5ECF6",
           "showlakes": true,
           "showland": true,
           "subunitcolor": "white"
          },
          "hoverlabel": {
           "align": "left"
          },
          "hovermode": "closest",
          "mapbox": {
           "style": "light"
          },
          "paper_bgcolor": "white",
          "plot_bgcolor": "#E5ECF6",
          "polar": {
           "angularaxis": {
            "gridcolor": "white",
            "linecolor": "white",
            "ticks": ""
           },
           "bgcolor": "#E5ECF6",
           "radialaxis": {
            "gridcolor": "white",
            "linecolor": "white",
            "ticks": ""
           }
          },
          "scene": {
           "xaxis": {
            "backgroundcolor": "#E5ECF6",
            "gridcolor": "white",
            "gridwidth": 2,
            "linecolor": "white",
            "showbackground": true,
            "ticks": "",
            "zerolinecolor": "white"
           },
           "yaxis": {
            "backgroundcolor": "#E5ECF6",
            "gridcolor": "white",
            "gridwidth": 2,
            "linecolor": "white",
            "showbackground": true,
            "ticks": "",
            "zerolinecolor": "white"
           },
           "zaxis": {
            "backgroundcolor": "#E5ECF6",
            "gridcolor": "white",
            "gridwidth": 2,
            "linecolor": "white",
            "showbackground": true,
            "ticks": "",
            "zerolinecolor": "white"
           }
          },
          "shapedefaults": {
           "line": {
            "color": "#2a3f5f"
           }
          },
          "ternary": {
           "aaxis": {
            "gridcolor": "white",
            "linecolor": "white",
            "ticks": ""
           },
           "baxis": {
            "gridcolor": "white",
            "linecolor": "white",
            "ticks": ""
           },
           "bgcolor": "#E5ECF6",
           "caxis": {
            "gridcolor": "white",
            "linecolor": "white",
            "ticks": ""
           }
          },
          "title": {
           "x": 0.05
          },
          "xaxis": {
           "automargin": true,
           "gridcolor": "white",
           "linecolor": "white",
           "ticks": "",
           "title": {
            "standoff": 15
           },
           "zerolinecolor": "white",
           "zerolinewidth": 2
          },
          "yaxis": {
           "automargin": true,
           "gridcolor": "white",
           "linecolor": "white",
           "ticks": "",
           "title": {
            "standoff": 15
           },
           "zerolinecolor": "white",
           "zerolinewidth": 2
          }
         }
        },
        "width": 1600,
        "xaxis": {
         "gridcolor": "lightgrey",
         "showgrid": true,
         "tickangle": 0,
         "tickformat": "000",
         "ticklen": 10,
         "title": {
          "font": {
           "color": "black",
           "family": "Times New Roman",
           "size": 30
          },
          "text": "Кластеры политик безопасности"
         },
         "zerolinecolor": "lightgrey"
        },
        "yaxis": {
         "gridcolor": "lightgrey",
         "range": [
          0,
          299
         ],
         "showgrid": true,
         "tickangle": 0,
         "tickformat": "000",
         "ticklen": 10,
         "title": {
          "font": {
           "color": "black",
           "family": "Times New Roman",
           "size": 30
          },
          "text": "Распределение аспектов политик"
         },
         "zerolinecolor": "lightgrey"
        }
       }
      }
     },
     "metadata": {},
     "output_type": "display_data"
    }
   ],
   "source": [
    "import plotly.graph_objects as go\n",
    "from textwrap import wrap\n",
    "\n",
    "from src.utils import resolve_group_name\n",
    "from config import COLORS_B, COLORS_D\n",
    "\n",
    "\n",
    "fig = go.Figure()\n",
    "\n",
    "for i, r in reversed(list(enumerate(sorted_clusters.transpose()))):\n",
    "    fig.add_trace(\n",
    "        go.Bar(\n",
    "            x=np.cumsum(sorted_widths)-sorted_widths, y=r,\n",
    "            name='<br>'.join(wrap(resolve_group_name(i, reversed(GROUPS)), width=WIDTH)),\n",
    "            width=sorted_widths,\n",
    "            offset=0))\n",
    "\n",
    "fig.update_layout(\n",
    "    legend={'traceorder':'normal'},\n",
    "    font=dict(family='Times New Roman', size=30, color='black'),\n",
    "    plot_bgcolor='rgba(0, 0, 0, 0)',\n",
    "    margin=dict(pad=10),\n",
    "    colorway=COLORS_D,\n",
    "    barmode='stack',\n",
    "    width=1600,\n",
    "    height=950)\n",
    "\n",
    "fig.update_xaxes(\n",
    "    title=dict(\n",
    "        font=dict(family='Times New Roman', size=30, color='black'),\n",
    "        text='Кластеры политик безопасности'), \n",
    "    zerolinecolor='lightgrey',\n",
    "    gridcolor='lightgrey',\n",
    "    tickformat='000', \n",
    "    showgrid=True, \n",
    "    tickangle=0,\n",
    "    ticklen=10)\n",
    "\n",
    "fig.update_yaxes(\n",
    "    title=dict(\n",
    "        font=dict(family='Times New Roman', size=30, color='black'),\n",
    "        text='Распределение аспектов политик'), \n",
    "    range=[0, max([sum(s) for s in scores])], \n",
    "    zerolinecolor='lightgrey',\n",
    "    gridcolor='lightgrey',\n",
    "    tickformat='000',\n",
    "    showgrid=True, \n",
    "    tickangle=0, \n",
    "    ticklen=10)\n",
    "\n",
    "fig"
   ]
  },
  {
   "cell_type": "code",
   "execution_count": 15,
   "id": "d8b42b50",
   "metadata": {
    "execution": {
     "iopub.execute_input": "2024-06-13T18:39:37.810341Z",
     "iopub.status.busy": "2024-06-13T18:39:37.810178Z",
     "iopub.status.idle": "2024-06-13T18:39:38.419841Z",
     "shell.execute_reply": "2024-06-13T18:39:38.419512Z"
    },
    "papermill": {
     "duration": 0.643123,
     "end_time": "2024-06-13T18:39:38.421027",
     "exception": false,
     "start_time": "2024-06-13T18:39:37.777904",
     "status": "completed"
    },
    "tags": []
   },
   "outputs": [],
   "source": [
    "fig.write_image(f'{PICTURES}/cluster_by_1.png')"
   ]
  }
 ],
 "metadata": {
  "kernelspec": {
   "display_name": "Python 3 (ipykernel)",
   "language": "python",
   "name": "python3"
  },
  "language_info": {
   "codemirror_mode": {
    "name": "ipython",
    "version": 3
   },
   "file_extension": ".py",
   "mimetype": "text/x-python",
   "name": "python",
   "nbconvert_exporter": "python",
   "pygments_lexer": "ipython3",
   "version": "3.11.9"
  },
  "papermill": {
   "duration": 153.93593,
   "end_time": "2024-06-13T18:39:41.075250",
   "exception": null,
   "input_path": "/tmp/tmpsmrxiceu.ipynb",
   "output_path": "notebooks/cluster_by_1_kmeans.ipynb",
   "parameters": {
    "product": "notebooks/cluster_by_1_kmeans.ipynb"
   },
   "start_time": "2024-06-13T18:37:07.139320"
  }
 },
 "nbformat": 4,
 "nbformat_minor": 5
}
