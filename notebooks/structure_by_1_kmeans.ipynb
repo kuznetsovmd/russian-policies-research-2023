{
 "cells": [
  {
   "cell_type": "code",
   "execution_count": 14,
   "id": "1806e4df",
   "metadata": {
    "tags": [
     "parameters"
    ]
   },
   "outputs": [],
   "source": [
    "# add default values for parameters here"
   ]
  },
  {
   "cell_type": "code",
   "execution_count": 15,
   "id": "f977af22",
   "metadata": {
    "execution": {
     "iopub.execute_input": "2024-06-13T18:37:05.009583Z",
     "iopub.status.busy": "2024-06-13T18:37:05.009357Z",
     "iopub.status.idle": "2024-06-13T18:37:05.014831Z",
     "shell.execute_reply": "2024-06-13T18:37:05.013702Z"
    },
    "papermill": {
     "duration": 0.011707,
     "end_time": "2024-06-13T18:37:05.016808",
     "exception": false,
     "start_time": "2024-06-13T18:37:05.005101",
     "status": "completed"
    },
    "tags": [
     "injected-parameters"
    ]
   },
   "outputs": [],
   "source": [
    "# Parameters\n",
    "product = \"notebooks/structure_by_1_kmeans.ipynb\"\n"
   ]
  },
  {
   "cell_type": "code",
   "execution_count": 16,
   "id": "4e681f6d",
   "metadata": {
    "execution": {
     "iopub.execute_input": "2024-06-13T18:37:05.022869Z",
     "iopub.status.busy": "2024-06-13T18:37:05.022656Z",
     "iopub.status.idle": "2024-06-13T18:37:05.027448Z",
     "shell.execute_reply": "2024-06-13T18:37:05.026868Z"
    },
    "papermill": {
     "duration": 0.009399,
     "end_time": "2024-06-13T18:37:05.029041",
     "exception": false,
     "start_time": "2024-06-13T18:37:05.019642",
     "status": "completed"
    },
    "tags": []
   },
   "outputs": [],
   "source": [
    "import __path__"
   ]
  },
  {
   "cell_type": "code",
   "execution_count": 17,
   "id": "ea6ebc72",
   "metadata": {
    "execution": {
     "iopub.execute_input": "2024-06-13T18:37:05.036460Z",
     "iopub.status.busy": "2024-06-13T18:37:05.035235Z",
     "iopub.status.idle": "2024-06-13T18:37:21.204696Z",
     "shell.execute_reply": "2024-06-13T18:37:21.204240Z"
    },
    "papermill": {
     "duration": 16.173954,
     "end_time": "2024-06-13T18:37:21.205761",
     "exception": false,
     "start_time": "2024-06-13T18:37:05.031807",
     "status": "completed"
    },
    "tags": []
   },
   "outputs": [],
   "source": [
    "from config import MAIN_EXPERIMENT\n",
    "\n",
    "\n",
    "MAX_SCORE = MAIN_EXPERIMENT.nb_args[product]\n",
    "KMEANS_HYPERPARAMS = MAIN_EXPERIMENT.kmeans_hyperparams\n",
    "DESCRIPTOR = MAIN_EXPERIMENT.dataset.descriptor\n",
    "PICTURES = MAIN_EXPERIMENT.pictures"
   ]
  },
  {
   "cell_type": "code",
   "execution_count": 18,
   "id": "85c6c0ef",
   "metadata": {
    "execution": {
     "iopub.execute_input": "2024-06-13T18:37:21.296016Z",
     "iopub.status.busy": "2024-06-13T18:37:21.295673Z",
     "iopub.status.idle": "2024-06-13T18:37:21.723980Z",
     "shell.execute_reply": "2024-06-13T18:37:21.723619Z"
    },
    "papermill": {
     "duration": 0.478704,
     "end_time": "2024-06-13T18:37:21.724785",
     "exception": false,
     "start_time": "2024-06-13T18:37:21.246081",
     "status": "completed"
    },
    "tags": []
   },
   "outputs": [
    {
     "data": {
      "text/plain": [
       "[{'length': 8472,\n",
       "  'tables': 0,\n",
       "  'ordered lists': 0,\n",
       "  'unordered lists': 6,\n",
       "  'headings': 0,\n",
       "  'paragraphs': 10},\n",
       " {'length': 8493,\n",
       "  'tables': 0,\n",
       "  'ordered lists': 0,\n",
       "  'unordered lists': 0,\n",
       "  'headings': 9,\n",
       "  'paragraphs': 34}]"
      ]
     },
     "execution_count": 18,
     "metadata": {},
     "output_type": "execute_result"
    }
   ],
   "source": [
    "import json\n",
    "\n",
    "from src.utils import resolve_stats\n",
    "\n",
    "\n",
    "KEYS = ['Таблица', 'Ненум. список', 'Нум. список', 'Заголовок', 'Параграф']\n",
    "ALLOWED = ['tables', 'unordered lists', 'ordered lists', 'headings', 'paragraphs']\n",
    "\n",
    "\n",
    "with open(DESCRIPTOR, 'r', encoding='utf-8') as f:\n",
    "    stats = json.load(f)\n",
    "\n",
    "hashes = []\n",
    "unique_stats = []\n",
    "for s in stats:\n",
    "    if s['policy_hash'] not in hashes and s['statistics'] is not None:\n",
    "        hashes.append(s['policy_hash'])\n",
    "        unique_stats.append(resolve_stats(s['statistics']))\n",
    "        \n",
    "unique_stats[:2]"
   ]
  },
  {
   "cell_type": "code",
   "execution_count": 19,
   "id": "a907f391-75bd-40cc-9d3b-2437214fe806",
   "metadata": {
    "execution": {
     "iopub.execute_input": "2024-06-13T18:37:21.956619Z",
     "iopub.status.busy": "2024-06-13T18:37:21.956352Z",
     "iopub.status.idle": "2024-06-13T18:37:21.979980Z",
     "shell.execute_reply": "2024-06-13T18:37:21.979637Z"
    },
    "papermill": {
     "duration": 0.057333,
     "end_time": "2024-06-13T18:37:21.980728",
     "exception": false,
     "start_time": "2024-06-13T18:37:21.923395",
     "status": "completed"
    },
    "tags": []
   },
   "outputs": [],
   "source": [
    "import numpy as np\n",
    "\n",
    "\n",
    "scores = np.zeros((len(unique_stats), 5), dtype='int')\n",
    "\n",
    "for id, us in enumerate(unique_stats):\n",
    "    for i, k in enumerate(ALLOWED):\n",
    "        scores[id, i] = us[k]\n",
    "\n",
    "scores = np.array([s for s in scores if sum(s) < MAX_SCORE])"
   ]
  },
  {
   "cell_type": "code",
   "execution_count": 20,
   "id": "ad8c8527-5dc7-431d-bc3a-880deb8198d2",
   "metadata": {
    "execution": {
     "iopub.execute_input": "2024-06-13T18:37:22.101604Z",
     "iopub.status.busy": "2024-06-13T18:37:22.101339Z",
     "iopub.status.idle": "2024-06-13T18:37:23.537825Z",
     "shell.execute_reply": "2024-06-13T18:37:23.537517Z"
    },
    "papermill": {
     "duration": 1.540671,
     "end_time": "2024-06-13T18:37:23.538767",
     "exception": false,
     "start_time": "2024-06-13T18:37:21.998096",
     "status": "completed"
    },
    "tags": []
   },
   "outputs": [],
   "source": [
    "from sklearn.cluster import KMeans\n",
    "\n",
    "\n",
    "kmeans = KMeans(**KMEANS_HYPERPARAMS)"
   ]
  },
  {
   "cell_type": "code",
   "execution_count": 21,
   "id": "03b37724-0b4b-4fe9-8094-12b58103d829",
   "metadata": {
    "execution": {
     "iopub.execute_input": "2024-06-13T18:37:23.634854Z",
     "iopub.status.busy": "2024-06-13T18:37:23.634594Z",
     "iopub.status.idle": "2024-06-13T18:37:23.734053Z",
     "shell.execute_reply": "2024-06-13T18:37:23.733639Z"
    },
    "papermill": {
     "duration": 0.194413,
     "end_time": "2024-06-13T18:37:23.734943",
     "exception": false,
     "start_time": "2024-06-13T18:37:23.540530",
     "status": "completed"
    },
    "tags": []
   },
   "outputs": [
    {
     "data": {
      "text/html": [
       "<style>#sk-container-id-2 {\n",
       "  /* Definition of color scheme common for light and dark mode */\n",
       "  --sklearn-color-text: black;\n",
       "  --sklearn-color-line: gray;\n",
       "  /* Definition of color scheme for unfitted estimators */\n",
       "  --sklearn-color-unfitted-level-0: #fff5e6;\n",
       "  --sklearn-color-unfitted-level-1: #f6e4d2;\n",
       "  --sklearn-color-unfitted-level-2: #ffe0b3;\n",
       "  --sklearn-color-unfitted-level-3: chocolate;\n",
       "  /* Definition of color scheme for fitted estimators */\n",
       "  --sklearn-color-fitted-level-0: #f0f8ff;\n",
       "  --sklearn-color-fitted-level-1: #d4ebff;\n",
       "  --sklearn-color-fitted-level-2: #b3dbfd;\n",
       "  --sklearn-color-fitted-level-3: cornflowerblue;\n",
       "\n",
       "  /* Specific color for light theme */\n",
       "  --sklearn-color-text-on-default-background: var(--sg-text-color, var(--theme-code-foreground, var(--jp-content-font-color1, black)));\n",
       "  --sklearn-color-background: var(--sg-background-color, var(--theme-background, var(--jp-layout-color0, white)));\n",
       "  --sklearn-color-border-box: var(--sg-text-color, var(--theme-code-foreground, var(--jp-content-font-color1, black)));\n",
       "  --sklearn-color-icon: #696969;\n",
       "\n",
       "  @media (prefers-color-scheme: dark) {\n",
       "    /* Redefinition of color scheme for dark theme */\n",
       "    --sklearn-color-text-on-default-background: var(--sg-text-color, var(--theme-code-foreground, var(--jp-content-font-color1, white)));\n",
       "    --sklearn-color-background: var(--sg-background-color, var(--theme-background, var(--jp-layout-color0, #111)));\n",
       "    --sklearn-color-border-box: var(--sg-text-color, var(--theme-code-foreground, var(--jp-content-font-color1, white)));\n",
       "    --sklearn-color-icon: #878787;\n",
       "  }\n",
       "}\n",
       "\n",
       "#sk-container-id-2 {\n",
       "  color: var(--sklearn-color-text);\n",
       "}\n",
       "\n",
       "#sk-container-id-2 pre {\n",
       "  padding: 0;\n",
       "}\n",
       "\n",
       "#sk-container-id-2 input.sk-hidden--visually {\n",
       "  border: 0;\n",
       "  clip: rect(1px 1px 1px 1px);\n",
       "  clip: rect(1px, 1px, 1px, 1px);\n",
       "  height: 1px;\n",
       "  margin: -1px;\n",
       "  overflow: hidden;\n",
       "  padding: 0;\n",
       "  position: absolute;\n",
       "  width: 1px;\n",
       "}\n",
       "\n",
       "#sk-container-id-2 div.sk-dashed-wrapped {\n",
       "  border: 1px dashed var(--sklearn-color-line);\n",
       "  margin: 0 0.4em 0.5em 0.4em;\n",
       "  box-sizing: border-box;\n",
       "  padding-bottom: 0.4em;\n",
       "  background-color: var(--sklearn-color-background);\n",
       "}\n",
       "\n",
       "#sk-container-id-2 div.sk-container {\n",
       "  /* jupyter's `normalize.less` sets `[hidden] { display: none; }`\n",
       "     but bootstrap.min.css set `[hidden] { display: none !important; }`\n",
       "     so we also need the `!important` here to be able to override the\n",
       "     default hidden behavior on the sphinx rendered scikit-learn.org.\n",
       "     See: https://github.com/scikit-learn/scikit-learn/issues/21755 */\n",
       "  display: inline-block !important;\n",
       "  position: relative;\n",
       "}\n",
       "\n",
       "#sk-container-id-2 div.sk-text-repr-fallback {\n",
       "  display: none;\n",
       "}\n",
       "\n",
       "div.sk-parallel-item,\n",
       "div.sk-serial,\n",
       "div.sk-item {\n",
       "  /* draw centered vertical line to link estimators */\n",
       "  background-image: linear-gradient(var(--sklearn-color-text-on-default-background), var(--sklearn-color-text-on-default-background));\n",
       "  background-size: 2px 100%;\n",
       "  background-repeat: no-repeat;\n",
       "  background-position: center center;\n",
       "}\n",
       "\n",
       "/* Parallel-specific style estimator block */\n",
       "\n",
       "#sk-container-id-2 div.sk-parallel-item::after {\n",
       "  content: \"\";\n",
       "  width: 100%;\n",
       "  border-bottom: 2px solid var(--sklearn-color-text-on-default-background);\n",
       "  flex-grow: 1;\n",
       "}\n",
       "\n",
       "#sk-container-id-2 div.sk-parallel {\n",
       "  display: flex;\n",
       "  align-items: stretch;\n",
       "  justify-content: center;\n",
       "  background-color: var(--sklearn-color-background);\n",
       "  position: relative;\n",
       "}\n",
       "\n",
       "#sk-container-id-2 div.sk-parallel-item {\n",
       "  display: flex;\n",
       "  flex-direction: column;\n",
       "}\n",
       "\n",
       "#sk-container-id-2 div.sk-parallel-item:first-child::after {\n",
       "  align-self: flex-end;\n",
       "  width: 50%;\n",
       "}\n",
       "\n",
       "#sk-container-id-2 div.sk-parallel-item:last-child::after {\n",
       "  align-self: flex-start;\n",
       "  width: 50%;\n",
       "}\n",
       "\n",
       "#sk-container-id-2 div.sk-parallel-item:only-child::after {\n",
       "  width: 0;\n",
       "}\n",
       "\n",
       "/* Serial-specific style estimator block */\n",
       "\n",
       "#sk-container-id-2 div.sk-serial {\n",
       "  display: flex;\n",
       "  flex-direction: column;\n",
       "  align-items: center;\n",
       "  background-color: var(--sklearn-color-background);\n",
       "  padding-right: 1em;\n",
       "  padding-left: 1em;\n",
       "}\n",
       "\n",
       "\n",
       "/* Toggleable style: style used for estimator/Pipeline/ColumnTransformer box that is\n",
       "clickable and can be expanded/collapsed.\n",
       "- Pipeline and ColumnTransformer use this feature and define the default style\n",
       "- Estimators will overwrite some part of the style using the `sk-estimator` class\n",
       "*/\n",
       "\n",
       "/* Pipeline and ColumnTransformer style (default) */\n",
       "\n",
       "#sk-container-id-2 div.sk-toggleable {\n",
       "  /* Default theme specific background. It is overwritten whether we have a\n",
       "  specific estimator or a Pipeline/ColumnTransformer */\n",
       "  background-color: var(--sklearn-color-background);\n",
       "}\n",
       "\n",
       "/* Toggleable label */\n",
       "#sk-container-id-2 label.sk-toggleable__label {\n",
       "  cursor: pointer;\n",
       "  display: block;\n",
       "  width: 100%;\n",
       "  margin-bottom: 0;\n",
       "  padding: 0.5em;\n",
       "  box-sizing: border-box;\n",
       "  text-align: center;\n",
       "}\n",
       "\n",
       "#sk-container-id-2 label.sk-toggleable__label-arrow:before {\n",
       "  /* Arrow on the left of the label */\n",
       "  content: \"▸\";\n",
       "  float: left;\n",
       "  margin-right: 0.25em;\n",
       "  color: var(--sklearn-color-icon);\n",
       "}\n",
       "\n",
       "#sk-container-id-2 label.sk-toggleable__label-arrow:hover:before {\n",
       "  color: var(--sklearn-color-text);\n",
       "}\n",
       "\n",
       "/* Toggleable content - dropdown */\n",
       "\n",
       "#sk-container-id-2 div.sk-toggleable__content {\n",
       "  max-height: 0;\n",
       "  max-width: 0;\n",
       "  overflow: hidden;\n",
       "  text-align: left;\n",
       "  /* unfitted */\n",
       "  background-color: var(--sklearn-color-unfitted-level-0);\n",
       "}\n",
       "\n",
       "#sk-container-id-2 div.sk-toggleable__content.fitted {\n",
       "  /* fitted */\n",
       "  background-color: var(--sklearn-color-fitted-level-0);\n",
       "}\n",
       "\n",
       "#sk-container-id-2 div.sk-toggleable__content pre {\n",
       "  margin: 0.2em;\n",
       "  border-radius: 0.25em;\n",
       "  color: var(--sklearn-color-text);\n",
       "  /* unfitted */\n",
       "  background-color: var(--sklearn-color-unfitted-level-0);\n",
       "}\n",
       "\n",
       "#sk-container-id-2 div.sk-toggleable__content.fitted pre {\n",
       "  /* unfitted */\n",
       "  background-color: var(--sklearn-color-fitted-level-0);\n",
       "}\n",
       "\n",
       "#sk-container-id-2 input.sk-toggleable__control:checked~div.sk-toggleable__content {\n",
       "  /* Expand drop-down */\n",
       "  max-height: 200px;\n",
       "  max-width: 100%;\n",
       "  overflow: auto;\n",
       "}\n",
       "\n",
       "#sk-container-id-2 input.sk-toggleable__control:checked~label.sk-toggleable__label-arrow:before {\n",
       "  content: \"▾\";\n",
       "}\n",
       "\n",
       "/* Pipeline/ColumnTransformer-specific style */\n",
       "\n",
       "#sk-container-id-2 div.sk-label input.sk-toggleable__control:checked~label.sk-toggleable__label {\n",
       "  color: var(--sklearn-color-text);\n",
       "  background-color: var(--sklearn-color-unfitted-level-2);\n",
       "}\n",
       "\n",
       "#sk-container-id-2 div.sk-label.fitted input.sk-toggleable__control:checked~label.sk-toggleable__label {\n",
       "  background-color: var(--sklearn-color-fitted-level-2);\n",
       "}\n",
       "\n",
       "/* Estimator-specific style */\n",
       "\n",
       "/* Colorize estimator box */\n",
       "#sk-container-id-2 div.sk-estimator input.sk-toggleable__control:checked~label.sk-toggleable__label {\n",
       "  /* unfitted */\n",
       "  background-color: var(--sklearn-color-unfitted-level-2);\n",
       "}\n",
       "\n",
       "#sk-container-id-2 div.sk-estimator.fitted input.sk-toggleable__control:checked~label.sk-toggleable__label {\n",
       "  /* fitted */\n",
       "  background-color: var(--sklearn-color-fitted-level-2);\n",
       "}\n",
       "\n",
       "#sk-container-id-2 div.sk-label label.sk-toggleable__label,\n",
       "#sk-container-id-2 div.sk-label label {\n",
       "  /* The background is the default theme color */\n",
       "  color: var(--sklearn-color-text-on-default-background);\n",
       "}\n",
       "\n",
       "/* On hover, darken the color of the background */\n",
       "#sk-container-id-2 div.sk-label:hover label.sk-toggleable__label {\n",
       "  color: var(--sklearn-color-text);\n",
       "  background-color: var(--sklearn-color-unfitted-level-2);\n",
       "}\n",
       "\n",
       "/* Label box, darken color on hover, fitted */\n",
       "#sk-container-id-2 div.sk-label.fitted:hover label.sk-toggleable__label.fitted {\n",
       "  color: var(--sklearn-color-text);\n",
       "  background-color: var(--sklearn-color-fitted-level-2);\n",
       "}\n",
       "\n",
       "/* Estimator label */\n",
       "\n",
       "#sk-container-id-2 div.sk-label label {\n",
       "  font-family: monospace;\n",
       "  font-weight: bold;\n",
       "  display: inline-block;\n",
       "  line-height: 1.2em;\n",
       "}\n",
       "\n",
       "#sk-container-id-2 div.sk-label-container {\n",
       "  text-align: center;\n",
       "}\n",
       "\n",
       "/* Estimator-specific */\n",
       "#sk-container-id-2 div.sk-estimator {\n",
       "  font-family: monospace;\n",
       "  border: 1px dotted var(--sklearn-color-border-box);\n",
       "  border-radius: 0.25em;\n",
       "  box-sizing: border-box;\n",
       "  margin-bottom: 0.5em;\n",
       "  /* unfitted */\n",
       "  background-color: var(--sklearn-color-unfitted-level-0);\n",
       "}\n",
       "\n",
       "#sk-container-id-2 div.sk-estimator.fitted {\n",
       "  /* fitted */\n",
       "  background-color: var(--sklearn-color-fitted-level-0);\n",
       "}\n",
       "\n",
       "/* on hover */\n",
       "#sk-container-id-2 div.sk-estimator:hover {\n",
       "  /* unfitted */\n",
       "  background-color: var(--sklearn-color-unfitted-level-2);\n",
       "}\n",
       "\n",
       "#sk-container-id-2 div.sk-estimator.fitted:hover {\n",
       "  /* fitted */\n",
       "  background-color: var(--sklearn-color-fitted-level-2);\n",
       "}\n",
       "\n",
       "/* Specification for estimator info (e.g. \"i\" and \"?\") */\n",
       "\n",
       "/* Common style for \"i\" and \"?\" */\n",
       "\n",
       ".sk-estimator-doc-link,\n",
       "a:link.sk-estimator-doc-link,\n",
       "a:visited.sk-estimator-doc-link {\n",
       "  float: right;\n",
       "  font-size: smaller;\n",
       "  line-height: 1em;\n",
       "  font-family: monospace;\n",
       "  background-color: var(--sklearn-color-background);\n",
       "  border-radius: 1em;\n",
       "  height: 1em;\n",
       "  width: 1em;\n",
       "  text-decoration: none !important;\n",
       "  margin-left: 1ex;\n",
       "  /* unfitted */\n",
       "  border: var(--sklearn-color-unfitted-level-1) 1pt solid;\n",
       "  color: var(--sklearn-color-unfitted-level-1);\n",
       "}\n",
       "\n",
       ".sk-estimator-doc-link.fitted,\n",
       "a:link.sk-estimator-doc-link.fitted,\n",
       "a:visited.sk-estimator-doc-link.fitted {\n",
       "  /* fitted */\n",
       "  border: var(--sklearn-color-fitted-level-1) 1pt solid;\n",
       "  color: var(--sklearn-color-fitted-level-1);\n",
       "}\n",
       "\n",
       "/* On hover */\n",
       "div.sk-estimator:hover .sk-estimator-doc-link:hover,\n",
       ".sk-estimator-doc-link:hover,\n",
       "div.sk-label-container:hover .sk-estimator-doc-link:hover,\n",
       ".sk-estimator-doc-link:hover {\n",
       "  /* unfitted */\n",
       "  background-color: var(--sklearn-color-unfitted-level-3);\n",
       "  color: var(--sklearn-color-background);\n",
       "  text-decoration: none;\n",
       "}\n",
       "\n",
       "div.sk-estimator.fitted:hover .sk-estimator-doc-link.fitted:hover,\n",
       ".sk-estimator-doc-link.fitted:hover,\n",
       "div.sk-label-container:hover .sk-estimator-doc-link.fitted:hover,\n",
       ".sk-estimator-doc-link.fitted:hover {\n",
       "  /* fitted */\n",
       "  background-color: var(--sklearn-color-fitted-level-3);\n",
       "  color: var(--sklearn-color-background);\n",
       "  text-decoration: none;\n",
       "}\n",
       "\n",
       "/* Span, style for the box shown on hovering the info icon */\n",
       ".sk-estimator-doc-link span {\n",
       "  display: none;\n",
       "  z-index: 9999;\n",
       "  position: relative;\n",
       "  font-weight: normal;\n",
       "  right: .2ex;\n",
       "  padding: .5ex;\n",
       "  margin: .5ex;\n",
       "  width: min-content;\n",
       "  min-width: 20ex;\n",
       "  max-width: 50ex;\n",
       "  color: var(--sklearn-color-text);\n",
       "  box-shadow: 2pt 2pt 4pt #999;\n",
       "  /* unfitted */\n",
       "  background: var(--sklearn-color-unfitted-level-0);\n",
       "  border: .5pt solid var(--sklearn-color-unfitted-level-3);\n",
       "}\n",
       "\n",
       ".sk-estimator-doc-link.fitted span {\n",
       "  /* fitted */\n",
       "  background: var(--sklearn-color-fitted-level-0);\n",
       "  border: var(--sklearn-color-fitted-level-3);\n",
       "}\n",
       "\n",
       ".sk-estimator-doc-link:hover span {\n",
       "  display: block;\n",
       "}\n",
       "\n",
       "/* \"?\"-specific style due to the `<a>` HTML tag */\n",
       "\n",
       "#sk-container-id-2 a.estimator_doc_link {\n",
       "  float: right;\n",
       "  font-size: 1rem;\n",
       "  line-height: 1em;\n",
       "  font-family: monospace;\n",
       "  background-color: var(--sklearn-color-background);\n",
       "  border-radius: 1rem;\n",
       "  height: 1rem;\n",
       "  width: 1rem;\n",
       "  text-decoration: none;\n",
       "  /* unfitted */\n",
       "  color: var(--sklearn-color-unfitted-level-1);\n",
       "  border: var(--sklearn-color-unfitted-level-1) 1pt solid;\n",
       "}\n",
       "\n",
       "#sk-container-id-2 a.estimator_doc_link.fitted {\n",
       "  /* fitted */\n",
       "  border: var(--sklearn-color-fitted-level-1) 1pt solid;\n",
       "  color: var(--sklearn-color-fitted-level-1);\n",
       "}\n",
       "\n",
       "/* On hover */\n",
       "#sk-container-id-2 a.estimator_doc_link:hover {\n",
       "  /* unfitted */\n",
       "  background-color: var(--sklearn-color-unfitted-level-3);\n",
       "  color: var(--sklearn-color-background);\n",
       "  text-decoration: none;\n",
       "}\n",
       "\n",
       "#sk-container-id-2 a.estimator_doc_link.fitted:hover {\n",
       "  /* fitted */\n",
       "  background-color: var(--sklearn-color-fitted-level-3);\n",
       "}\n",
       "</style><div id=\"sk-container-id-2\" class=\"sk-top-container\"><div class=\"sk-text-repr-fallback\"><pre>KMeans(init=&#x27;random&#x27;, max_iter=500, n_clusters=50, random_state=42)</pre><b>In a Jupyter environment, please rerun this cell to show the HTML representation or trust the notebook. <br />On GitHub, the HTML representation is unable to render, please try loading this page with nbviewer.org.</b></div><div class=\"sk-container\" hidden><div class=\"sk-item\"><div class=\"sk-estimator fitted sk-toggleable\"><input class=\"sk-toggleable__control sk-hidden--visually\" id=\"sk-estimator-id-2\" type=\"checkbox\" checked><label for=\"sk-estimator-id-2\" class=\"sk-toggleable__label fitted sk-toggleable__label-arrow fitted\">&nbsp;&nbsp;KMeans<a class=\"sk-estimator-doc-link fitted\" rel=\"noreferrer\" target=\"_blank\" href=\"https://scikit-learn.org/1.5/modules/generated/sklearn.cluster.KMeans.html\">?<span>Documentation for KMeans</span></a><span class=\"sk-estimator-doc-link fitted\">i<span>Fitted</span></span></label><div class=\"sk-toggleable__content fitted\"><pre>KMeans(init=&#x27;random&#x27;, max_iter=500, n_clusters=50, random_state=42)</pre></div> </div></div></div></div>"
      ],
      "text/plain": [
       "KMeans(init='random', max_iter=500, n_clusters=50, random_state=42)"
      ]
     },
     "execution_count": 21,
     "metadata": {},
     "output_type": "execute_result"
    }
   ],
   "source": [
    "kmeans.fit(scores)"
   ]
  },
  {
   "cell_type": "code",
   "execution_count": 22,
   "id": "149ae354-27d2-4fed-8262-10deb247ca6c",
   "metadata": {
    "execution": {
     "iopub.execute_input": "2024-06-13T18:37:24.960640Z",
     "iopub.status.busy": "2024-06-13T18:37:24.960349Z",
     "iopub.status.idle": "2024-06-13T18:37:24.963624Z",
     "shell.execute_reply": "2024-06-13T18:37:24.963300Z"
    },
    "papermill": {
     "duration": 0.919331,
     "end_time": "2024-06-13T18:37:24.964626",
     "exception": false,
     "start_time": "2024-06-13T18:37:24.045295",
     "status": "completed"
    },
    "tags": []
   },
   "outputs": [],
   "source": [
    "from collections import Counter\n",
    "\n",
    "\n",
    "count = Counter(kmeans.labels_)"
   ]
  },
  {
   "cell_type": "code",
   "execution_count": 23,
   "id": "05de42c9-f432-465d-8d2b-ec27e53a0abf",
   "metadata": {
    "execution": {
     "iopub.execute_input": "2024-06-13T18:37:25.097603Z",
     "iopub.status.busy": "2024-06-13T18:37:25.097378Z",
     "iopub.status.idle": "2024-06-13T18:37:25.100998Z",
     "shell.execute_reply": "2024-06-13T18:37:25.100680Z"
    },
    "papermill": {
     "duration": 0.05049,
     "end_time": "2024-06-13T18:37:25.101689",
     "exception": false,
     "start_time": "2024-06-13T18:37:25.051199",
     "status": "completed"
    },
    "tags": []
   },
   "outputs": [
    {
     "data": {
      "text/plain": [
       "array([[4.45205479e-02, 3.80136986e-01, 1.71232877e-02, 9.75684932e+00,\n",
       "        5.60171233e+01],\n",
       "       [9.75609756e-02, 6.17073171e+00, 9.26829268e-01, 6.87804878e+00,\n",
       "        1.61560976e+02],\n",
       "       [2.40963855e-02, 7.28915663e-01, 1.62650602e-01, 6.62650602e-01,\n",
       "        4.27289157e+01],\n",
       "       [1.24096386e-01, 2.10843373e-01, 2.08433735e-01, 3.92771084e-01,\n",
       "        1.21566265e+00],\n",
       "       [6.85920578e-02, 5.48736462e-01, 8.14801444e+00, 5.09025271e+00,\n",
       "        2.49097473e+00]])"
      ]
     },
     "execution_count": 23,
     "metadata": {},
     "output_type": "execute_result"
    }
   ],
   "source": [
    "kmeans.cluster_centers_[:5]"
   ]
  },
  {
   "cell_type": "code",
   "execution_count": 24,
   "id": "007d2c8c-4245-4b88-84f9-6534c662cd5a",
   "metadata": {
    "execution": {
     "iopub.execute_input": "2024-06-13T18:37:25.202933Z",
     "iopub.status.busy": "2024-06-13T18:37:25.202595Z",
     "iopub.status.idle": "2024-06-13T18:37:25.208227Z",
     "shell.execute_reply": "2024-06-13T18:37:25.207861Z"
    },
    "papermill": {
     "duration": 0.104374,
     "end_time": "2024-06-13T18:37:25.209121",
     "exception": false,
     "start_time": "2024-06-13T18:37:25.104747",
     "status": "completed"
    },
    "tags": []
   },
   "outputs": [],
   "source": [
    "from collections import Counter\n",
    "\n",
    "\n",
    "sums = {i: sum(c) for i, c in enumerate(kmeans.cluster_centers_)}\n",
    "\n",
    "count = Counter(kmeans.labels_)\n",
    "widths = np.array([count[p] for p in range(kmeans.n_clusters)])\n",
    "sorted_keys = list({k: v for k, v in sorted(sums.items(), key=lambda item: item[1])}.keys())\n",
    "sorted_widths = [widths[k] for k in reversed(sorted_keys)]\n",
    "sorted_clusters_cnt = np.array([kmeans.cluster_centers_[k] for k in reversed(sorted_keys)])"
   ]
  },
  {
   "cell_type": "code",
   "execution_count": 25,
   "id": "de5d034b-69f0-4460-90df-5b231c47b50a",
   "metadata": {
    "execution": {
     "iopub.execute_input": "2024-06-13T18:37:25.217496Z",
     "iopub.status.busy": "2024-06-13T18:37:25.217007Z",
     "iopub.status.idle": "2024-06-13T18:37:26.022182Z",
     "shell.execute_reply": "2024-06-13T18:37:26.021722Z"
    },
    "papermill": {
     "duration": 0.861989,
     "end_time": "2024-06-13T18:37:26.074292",
     "exception": false,
     "start_time": "2024-06-13T18:37:25.212303",
     "status": "completed"
    },
    "tags": []
   },
   "outputs": [
    {
     "data": {
      "application/vnd.plotly.v1+json": {
       "config": {
        "plotlyServerURL": "https://plot.ly"
       },
       "data": [
        {
         "name": "Таблица",
         "offset": 0,
         "type": "bar",
         "width": [
          1,
          2,
          10,
          20,
          41,
          71,
          12,
          22,
          108,
          146,
          3,
          90,
          135,
          34,
          106,
          179,
          38,
          155,
          8,
          311,
          55,
          142,
          292,
          8,
          140,
          300,
          36,
          157,
          174,
          42,
          187,
          166,
          162,
          144,
          152,
          107,
          161,
          241,
          44,
          85,
          239,
          279,
          214,
          144,
          277,
          96,
          297,
          426,
          411,
          830
         ],
         "x": [
          0,
          1,
          3,
          13,
          33,
          74,
          145,
          157,
          179,
          287,
          433,
          436,
          526,
          661,
          695,
          801,
          980,
          1018,
          1173,
          1181,
          1492,
          1547,
          1689,
          1981,
          1989,
          2129,
          2429,
          2465,
          2622,
          2796,
          2838,
          3025,
          3191,
          3353,
          3497,
          3649,
          3756,
          3917,
          4158,
          4202,
          4287,
          4526,
          4805,
          5019,
          5163,
          5440,
          5536,
          5833,
          6259,
          6670
         ],
         "y": [
          0,
          0,
          0.8,
          0.15000000000000002,
          0.09756097560975611,
          0.09859154929577466,
          0,
          0,
          0.17592592592592593,
          0.12328767123287661,
          0,
          0.0888888888888889,
          0.36296296296296293,
          0,
          0.07547169811320754,
          0.1005586592178771,
          0.02631578947368421,
          0.0903225806451613,
          0,
          0.0932475884244373,
          0.1272727272727273,
          0.26056338028169,
          0.04452054794520548,
          0,
          0.3428571428571429,
          0.25999999999999995,
          0.08333333333333336,
          0.12738853503184713,
          0.14942528735632182,
          2.7755575615628914e-17,
          0.04278074866310161,
          0.02409638554216867,
          0.06790123456790126,
          0.1805555555555556,
          0.407894736842105,
          0.037383177570093476,
          0.1677018633540372,
          0.23651452282157676,
          3.3181818181818175,
          0.03529411764705881,
          0.13807531380753138,
          0.18637992831541217,
          0.19626168224299065,
          0.03472222222222224,
          0.06859205776173284,
          0.31249999999999994,
          0.11447811447811448,
          0.11267605633802805,
          0.19221411192214094,
          0.12409638554216829
         ]
        },
        {
         "name": "Ненум. список",
         "offset": 0,
         "type": "bar",
         "width": [
          1,
          2,
          10,
          20,
          41,
          71,
          12,
          22,
          108,
          146,
          3,
          90,
          135,
          34,
          106,
          179,
          38,
          155,
          8,
          311,
          55,
          142,
          292,
          8,
          140,
          300,
          36,
          157,
          174,
          42,
          187,
          166,
          162,
          144,
          152,
          107,
          161,
          241,
          44,
          85,
          239,
          279,
          214,
          144,
          277,
          96,
          297,
          426,
          411,
          830
         ],
         "x": [
          0,
          1,
          3,
          13,
          33,
          74,
          145,
          157,
          179,
          287,
          433,
          436,
          526,
          661,
          695,
          801,
          980,
          1018,
          1173,
          1181,
          1492,
          1547,
          1689,
          1981,
          1989,
          2129,
          2429,
          2465,
          2622,
          2796,
          2838,
          3025,
          3191,
          3353,
          3497,
          3649,
          3756,
          3917,
          4158,
          4202,
          4287,
          4526,
          4805,
          5019,
          5163,
          5440,
          5536,
          5833,
          6259,
          6670
         ],
         "y": [
          1,
          1.5,
          1,
          0.8999999999999999,
          6.170731707317074,
          2.112676056338028,
          11.749999999999998,
          0.7727272727272727,
          0.6759259259259262,
          0.31506849315068486,
          29.999999999999996,
          1.5444444444444445,
          1.1703703703703705,
          1.235294117647059,
          1.3301886792452833,
          0.8268156424581005,
          9.421052631578947,
          1.4451612903225808,
          0.125,
          0.9292604501607717,
          0.8363636363636364,
          1.0985915492957747,
          0.3801369863013693,
          44.62500000000001,
          1.028571428571429,
          0.326666666666666,
          11.027777777777777,
          0.9299363057324843,
          0.6091954022988505,
          1.9285714285714288,
          1.0053475935828877,
          0.7289156626506026,
          2.592592592592592,
          0.9097222222222224,
          1.1644736842105265,
          1.1121495327102806,
          1.6832298136645962,
          0.9004149377593361,
          7.818181818181818,
          0.7764705882352942,
          0.5899581589958158,
          0.7634408602150534,
          0.6401869158878506,
          8.812500000000004,
          0.5487364620938624,
          1.1145833333333335,
          0.6161616161616157,
          0.5399061032863846,
          0.6204379562043789,
          0.2108433734939782
         ]
        },
        {
         "name": "Нум. список",
         "offset": 0,
         "type": "bar",
         "width": [
          1,
          2,
          10,
          20,
          41,
          71,
          12,
          22,
          108,
          146,
          3,
          90,
          135,
          34,
          106,
          179,
          38,
          155,
          8,
          311,
          55,
          142,
          292,
          8,
          140,
          300,
          36,
          157,
          174,
          42,
          187,
          166,
          162,
          144,
          152,
          107,
          161,
          241,
          44,
          85,
          239,
          279,
          214,
          144,
          277,
          96,
          297,
          426,
          411,
          830
         ],
         "x": [
          0,
          1,
          3,
          13,
          33,
          74,
          145,
          157,
          179,
          287,
          433,
          436,
          526,
          661,
          695,
          801,
          980,
          1018,
          1173,
          1181,
          1492,
          1547,
          1689,
          1981,
          1989,
          2129,
          2429,
          2465,
          2622,
          2796,
          2838,
          3025,
          3191,
          3353,
          3497,
          3649,
          3756,
          3917,
          4158,
          4202,
          4287,
          4526,
          4805,
          5019,
          5163,
          5440,
          5536,
          5833,
          6259,
          6670
         ],
         "y": [
          0,
          0,
          1.7000000000000006,
          1.9500000000000002,
          0.9268292682926831,
          0.830985915492958,
          0,
          14.90909090909091,
          0.3888888888888893,
          0.006849315068493289,
          2.666666666666667,
          0.48888888888888904,
          0.13333333333333364,
          10.147058823529413,
          0.009433962264151385,
          0.027932960893854886,
          0.6578947368421054,
          0.06451612903225834,
          0.7500000000000001,
          0.006430868167201731,
          10.381818181818184,
          1.71830985915493,
          0.01712328767123228,
          0,
          0.007142857142857562,
          0.1699999999999996,
          0.41666666666666685,
          0.318471337579618,
          0.5574712643678164,
          9.071428571428571,
          0.3529411764705884,
          0.1626506024096389,
          0.2160493827160498,
          0.10416666666666696,
          0.10526315789473717,
          0.2242990654205611,
          0.15527950310559036,
          0.48962655601659777,
          1.75,
          17.48235294117647,
          0.31799163179916345,
          0.15770609318996376,
          0.1822429906542058,
          0.840277777777778,
          8.14801444043321,
          0.44791666666666685,
          0.9292929292929295,
          0.09154929577464666,
          0.26034063260340556,
          0.2084337349397597
         ]
        },
        {
         "name": "Заголовок",
         "offset": 0,
         "type": "bar",
         "width": [
          1,
          2,
          10,
          20,
          41,
          71,
          12,
          22,
          108,
          146,
          3,
          90,
          135,
          34,
          106,
          179,
          38,
          155,
          8,
          311,
          55,
          142,
          292,
          8,
          140,
          300,
          36,
          157,
          174,
          42,
          187,
          166,
          162,
          144,
          152,
          107,
          161,
          241,
          44,
          85,
          239,
          279,
          214,
          144,
          277,
          96,
          297,
          426,
          411,
          830
         ],
         "x": [
          0,
          1,
          3,
          13,
          33,
          74,
          145,
          157,
          179,
          287,
          433,
          436,
          526,
          661,
          695,
          801,
          980,
          1018,
          1173,
          1181,
          1492,
          1547,
          1689,
          1981,
          1989,
          2129,
          2429,
          2465,
          2622,
          2796,
          2838,
          3025,
          3191,
          3353,
          3497,
          3649,
          3756,
          3917,
          4158,
          4202,
          4287,
          4526,
          4805,
          5019,
          5163,
          5440,
          5536,
          5833,
          6259,
          6670
         ],
         "y": [
          2,
          0.5,
          4.300000000000001,
          4.300000000000001,
          6.878048780487806,
          4.056338028169015,
          13.249999999999998,
          0.7727272727272729,
          1.7129629629629637,
          14.808219178082187,
          2.3333333333333335,
          0.9555555555555566,
          1.8222222222222226,
          1.0294117647058827,
          11.584905660377355,
          0.7597765363128488,
          18.52631578947368,
          10.187096774193545,
          64.625,
          0.6945337620578753,
          1.0727272727272732,
          0.7112676056338025,
          9.75684931506849,
          4.5,
          0.7785714285714298,
          0.9466666666666641,
          2.916666666666667,
          9.292993630573246,
          0.6551724137931032,
          0.9523809523809534,
          8.893048128342244,
          0.6626506024096384,
          9.09259259259259,
          0.5902777777777781,
          0.763157894736842,
          13.943925233644856,
          7.248447204968943,
          0.9585062240663884,
          1.181818181818182,
          2.0117647058823533,
          0.5648535564853541,
          8.204301075268813,
          1.126168224299065,
          2.0416666666666674,
          5.090252707581227,
          11.343749999999996,
          0.7272727272727253,
          0.8403755868544569,
          0.9197080291970772,
          0.39277108433734487
         ]
        },
        {
         "name": "Параграф",
         "offset": 0,
         "type": "bar",
         "width": [
          1,
          2,
          10,
          20,
          41,
          71,
          12,
          22,
          108,
          146,
          3,
          90,
          135,
          34,
          106,
          179,
          38,
          155,
          8,
          311,
          55,
          142,
          292,
          8,
          140,
          300,
          36,
          157,
          174,
          42,
          187,
          166,
          162,
          144,
          152,
          107,
          161,
          241,
          44,
          85,
          239,
          279,
          214,
          144,
          277,
          96,
          297,
          426,
          411,
          830
         ],
         "x": [
          0,
          1,
          3,
          13,
          33,
          74,
          145,
          157,
          179,
          287,
          433,
          436,
          526,
          661,
          695,
          801,
          980,
          1018,
          1173,
          1181,
          1492,
          1547,
          1689,
          1981,
          1989,
          2129,
          2429,
          2465,
          2622,
          2796,
          2838,
          3025,
          3191,
          3353,
          3497,
          3649,
          3756,
          3917,
          4158,
          4202,
          4287,
          4526,
          4805,
          5019,
          5163,
          5440,
          5536,
          5833,
          6259,
          6670
         ],
         "y": [
          288,
          282.5,
          251.4,
          202.65,
          161.5609756097561,
          132.29577464788733,
          93.75,
          102.0909090909091,
          114.15740740740742,
          98.89041095890411,
          75,
          99.37777777777778,
          89.43703703703704,
          78.82352941176471,
          76.84905660377359,
          81.17877094972069,
          51.368421052631575,
          65.25161290322582,
          10.625,
          73.80707395498393,
          58.25454545454545,
          66.39436619718312,
          56.01712328767124,
          15.5,
          60.307142857142864,
          55.81333333333335,
          43,
          44.42038216560509,
          48.833333333333336,
          36.04761904761905,
          35.336898395721924,
          42.7289156626506,
          28.01234567901234,
          36.90972222222222,
          32.00657894736842,
          18.570093457943926,
          20.434782608695656,
          26.680497925311208,
          12.863636363636363,
          4.0705882352941245,
          20.790794979079507,
          11.569892473118294,
          16.345794392523377,
          4.819444444444461,
          2.4909747292418913,
          1.9166666666666785,
          12.202020202020218,
          8.492957746478886,
          4.433090024330916,
          1.2156626506023542
         ]
        }
       ],
       "layout": {
        "barmode": "stack",
        "colorway": [
         "rgba(244, 67, 54, 1.0)",
         "rgba(232, 30, 99, 1.0)",
         "rgba(156, 39, 176, 1.0)",
         "rgba(103, 58, 183, 1.0)",
         "rgba(63, 81, 181, 1.0)",
         "rgba(33, 150, 243, 1.0)",
         "rgba(3, 169, 244, 1.0)",
         "rgba(0, 188, 212, 1.0)",
         "rgba(0, 150, 136, 1.0)",
         "rgba(76, 175, 80, 1.0)",
         "rgba(139, 195, 74, 1.0)",
         "rgba(205, 220, 57, 1.0)",
         "rgba(255, 235, 59, 1.0)",
         "rgba(255, 193, 7, 1.0)",
         "rgba(255, 152, 0, 1.0)",
         "rgba(255, 87, 34, 1.0)"
        ],
        "font": {
         "color": "black",
         "family": "Times New Roman",
         "size": 20
        },
        "height": 900,
        "margin": {
         "pad": 10
        },
        "plot_bgcolor": "rgba(0, 0, 0, 0)",
        "template": {
         "data": {
          "bar": [
           {
            "error_x": {
             "color": "#2a3f5f"
            },
            "error_y": {
             "color": "#2a3f5f"
            },
            "marker": {
             "line": {
              "color": "#E5ECF6",
              "width": 0.5
             },
             "pattern": {
              "fillmode": "overlay",
              "size": 10,
              "solidity": 0.2
             }
            },
            "type": "bar"
           }
          ],
          "barpolar": [
           {
            "marker": {
             "line": {
              "color": "#E5ECF6",
              "width": 0.5
             },
             "pattern": {
              "fillmode": "overlay",
              "size": 10,
              "solidity": 0.2
             }
            },
            "type": "barpolar"
           }
          ],
          "carpet": [
           {
            "aaxis": {
             "endlinecolor": "#2a3f5f",
             "gridcolor": "white",
             "linecolor": "white",
             "minorgridcolor": "white",
             "startlinecolor": "#2a3f5f"
            },
            "baxis": {
             "endlinecolor": "#2a3f5f",
             "gridcolor": "white",
             "linecolor": "white",
             "minorgridcolor": "white",
             "startlinecolor": "#2a3f5f"
            },
            "type": "carpet"
           }
          ],
          "choropleth": [
           {
            "colorbar": {
             "outlinewidth": 0,
             "ticks": ""
            },
            "type": "choropleth"
           }
          ],
          "contour": [
           {
            "colorbar": {
             "outlinewidth": 0,
             "ticks": ""
            },
            "colorscale": [
             [
              0,
              "#0d0887"
             ],
             [
              0.1111111111111111,
              "#46039f"
             ],
             [
              0.2222222222222222,
              "#7201a8"
             ],
             [
              0.3333333333333333,
              "#9c179e"
             ],
             [
              0.4444444444444444,
              "#bd3786"
             ],
             [
              0.5555555555555556,
              "#d8576b"
             ],
             [
              0.6666666666666666,
              "#ed7953"
             ],
             [
              0.7777777777777778,
              "#fb9f3a"
             ],
             [
              0.8888888888888888,
              "#fdca26"
             ],
             [
              1,
              "#f0f921"
             ]
            ],
            "type": "contour"
           }
          ],
          "contourcarpet": [
           {
            "colorbar": {
             "outlinewidth": 0,
             "ticks": ""
            },
            "type": "contourcarpet"
           }
          ],
          "heatmap": [
           {
            "colorbar": {
             "outlinewidth": 0,
             "ticks": ""
            },
            "colorscale": [
             [
              0,
              "#0d0887"
             ],
             [
              0.1111111111111111,
              "#46039f"
             ],
             [
              0.2222222222222222,
              "#7201a8"
             ],
             [
              0.3333333333333333,
              "#9c179e"
             ],
             [
              0.4444444444444444,
              "#bd3786"
             ],
             [
              0.5555555555555556,
              "#d8576b"
             ],
             [
              0.6666666666666666,
              "#ed7953"
             ],
             [
              0.7777777777777778,
              "#fb9f3a"
             ],
             [
              0.8888888888888888,
              "#fdca26"
             ],
             [
              1,
              "#f0f921"
             ]
            ],
            "type": "heatmap"
           }
          ],
          "heatmapgl": [
           {
            "colorbar": {
             "outlinewidth": 0,
             "ticks": ""
            },
            "colorscale": [
             [
              0,
              "#0d0887"
             ],
             [
              0.1111111111111111,
              "#46039f"
             ],
             [
              0.2222222222222222,
              "#7201a8"
             ],
             [
              0.3333333333333333,
              "#9c179e"
             ],
             [
              0.4444444444444444,
              "#bd3786"
             ],
             [
              0.5555555555555556,
              "#d8576b"
             ],
             [
              0.6666666666666666,
              "#ed7953"
             ],
             [
              0.7777777777777778,
              "#fb9f3a"
             ],
             [
              0.8888888888888888,
              "#fdca26"
             ],
             [
              1,
              "#f0f921"
             ]
            ],
            "type": "heatmapgl"
           }
          ],
          "histogram": [
           {
            "marker": {
             "pattern": {
              "fillmode": "overlay",
              "size": 10,
              "solidity": 0.2
             }
            },
            "type": "histogram"
           }
          ],
          "histogram2d": [
           {
            "colorbar": {
             "outlinewidth": 0,
             "ticks": ""
            },
            "colorscale": [
             [
              0,
              "#0d0887"
             ],
             [
              0.1111111111111111,
              "#46039f"
             ],
             [
              0.2222222222222222,
              "#7201a8"
             ],
             [
              0.3333333333333333,
              "#9c179e"
             ],
             [
              0.4444444444444444,
              "#bd3786"
             ],
             [
              0.5555555555555556,
              "#d8576b"
             ],
             [
              0.6666666666666666,
              "#ed7953"
             ],
             [
              0.7777777777777778,
              "#fb9f3a"
             ],
             [
              0.8888888888888888,
              "#fdca26"
             ],
             [
              1,
              "#f0f921"
             ]
            ],
            "type": "histogram2d"
           }
          ],
          "histogram2dcontour": [
           {
            "colorbar": {
             "outlinewidth": 0,
             "ticks": ""
            },
            "colorscale": [
             [
              0,
              "#0d0887"
             ],
             [
              0.1111111111111111,
              "#46039f"
             ],
             [
              0.2222222222222222,
              "#7201a8"
             ],
             [
              0.3333333333333333,
              "#9c179e"
             ],
             [
              0.4444444444444444,
              "#bd3786"
             ],
             [
              0.5555555555555556,
              "#d8576b"
             ],
             [
              0.6666666666666666,
              "#ed7953"
             ],
             [
              0.7777777777777778,
              "#fb9f3a"
             ],
             [
              0.8888888888888888,
              "#fdca26"
             ],
             [
              1,
              "#f0f921"
             ]
            ],
            "type": "histogram2dcontour"
           }
          ],
          "mesh3d": [
           {
            "colorbar": {
             "outlinewidth": 0,
             "ticks": ""
            },
            "type": "mesh3d"
           }
          ],
          "parcoords": [
           {
            "line": {
             "colorbar": {
              "outlinewidth": 0,
              "ticks": ""
             }
            },
            "type": "parcoords"
           }
          ],
          "pie": [
           {
            "automargin": true,
            "type": "pie"
           }
          ],
          "scatter": [
           {
            "fillpattern": {
             "fillmode": "overlay",
             "size": 10,
             "solidity": 0.2
            },
            "type": "scatter"
           }
          ],
          "scatter3d": [
           {
            "line": {
             "colorbar": {
              "outlinewidth": 0,
              "ticks": ""
             }
            },
            "marker": {
             "colorbar": {
              "outlinewidth": 0,
              "ticks": ""
             }
            },
            "type": "scatter3d"
           }
          ],
          "scattercarpet": [
           {
            "marker": {
             "colorbar": {
              "outlinewidth": 0,
              "ticks": ""
             }
            },
            "type": "scattercarpet"
           }
          ],
          "scattergeo": [
           {
            "marker": {
             "colorbar": {
              "outlinewidth": 0,
              "ticks": ""
             }
            },
            "type": "scattergeo"
           }
          ],
          "scattergl": [
           {
            "marker": {
             "colorbar": {
              "outlinewidth": 0,
              "ticks": ""
             }
            },
            "type": "scattergl"
           }
          ],
          "scattermapbox": [
           {
            "marker": {
             "colorbar": {
              "outlinewidth": 0,
              "ticks": ""
             }
            },
            "type": "scattermapbox"
           }
          ],
          "scatterpolar": [
           {
            "marker": {
             "colorbar": {
              "outlinewidth": 0,
              "ticks": ""
             }
            },
            "type": "scatterpolar"
           }
          ],
          "scatterpolargl": [
           {
            "marker": {
             "colorbar": {
              "outlinewidth": 0,
              "ticks": ""
             }
            },
            "type": "scatterpolargl"
           }
          ],
          "scatterternary": [
           {
            "marker": {
             "colorbar": {
              "outlinewidth": 0,
              "ticks": ""
             }
            },
            "type": "scatterternary"
           }
          ],
          "surface": [
           {
            "colorbar": {
             "outlinewidth": 0,
             "ticks": ""
            },
            "colorscale": [
             [
              0,
              "#0d0887"
             ],
             [
              0.1111111111111111,
              "#46039f"
             ],
             [
              0.2222222222222222,
              "#7201a8"
             ],
             [
              0.3333333333333333,
              "#9c179e"
             ],
             [
              0.4444444444444444,
              "#bd3786"
             ],
             [
              0.5555555555555556,
              "#d8576b"
             ],
             [
              0.6666666666666666,
              "#ed7953"
             ],
             [
              0.7777777777777778,
              "#fb9f3a"
             ],
             [
              0.8888888888888888,
              "#fdca26"
             ],
             [
              1,
              "#f0f921"
             ]
            ],
            "type": "surface"
           }
          ],
          "table": [
           {
            "cells": {
             "fill": {
              "color": "#EBF0F8"
             },
             "line": {
              "color": "white"
             }
            },
            "header": {
             "fill": {
              "color": "#C8D4E3"
             },
             "line": {
              "color": "white"
             }
            },
            "type": "table"
           }
          ]
         },
         "layout": {
          "annotationdefaults": {
           "arrowcolor": "#2a3f5f",
           "arrowhead": 0,
           "arrowwidth": 1
          },
          "autotypenumbers": "strict",
          "coloraxis": {
           "colorbar": {
            "outlinewidth": 0,
            "ticks": ""
           }
          },
          "colorscale": {
           "diverging": [
            [
             0,
             "#8e0152"
            ],
            [
             0.1,
             "#c51b7d"
            ],
            [
             0.2,
             "#de77ae"
            ],
            [
             0.3,
             "#f1b6da"
            ],
            [
             0.4,
             "#fde0ef"
            ],
            [
             0.5,
             "#f7f7f7"
            ],
            [
             0.6,
             "#e6f5d0"
            ],
            [
             0.7,
             "#b8e186"
            ],
            [
             0.8,
             "#7fbc41"
            ],
            [
             0.9,
             "#4d9221"
            ],
            [
             1,
             "#276419"
            ]
           ],
           "sequential": [
            [
             0,
             "#0d0887"
            ],
            [
             0.1111111111111111,
             "#46039f"
            ],
            [
             0.2222222222222222,
             "#7201a8"
            ],
            [
             0.3333333333333333,
             "#9c179e"
            ],
            [
             0.4444444444444444,
             "#bd3786"
            ],
            [
             0.5555555555555556,
             "#d8576b"
            ],
            [
             0.6666666666666666,
             "#ed7953"
            ],
            [
             0.7777777777777778,
             "#fb9f3a"
            ],
            [
             0.8888888888888888,
             "#fdca26"
            ],
            [
             1,
             "#f0f921"
            ]
           ],
           "sequentialminus": [
            [
             0,
             "#0d0887"
            ],
            [
             0.1111111111111111,
             "#46039f"
            ],
            [
             0.2222222222222222,
             "#7201a8"
            ],
            [
             0.3333333333333333,
             "#9c179e"
            ],
            [
             0.4444444444444444,
             "#bd3786"
            ],
            [
             0.5555555555555556,
             "#d8576b"
            ],
            [
             0.6666666666666666,
             "#ed7953"
            ],
            [
             0.7777777777777778,
             "#fb9f3a"
            ],
            [
             0.8888888888888888,
             "#fdca26"
            ],
            [
             1,
             "#f0f921"
            ]
           ]
          },
          "colorway": [
           "#636efa",
           "#EF553B",
           "#00cc96",
           "#ab63fa",
           "#FFA15A",
           "#19d3f3",
           "#FF6692",
           "#B6E880",
           "#FF97FF",
           "#FECB52"
          ],
          "font": {
           "color": "#2a3f5f"
          },
          "geo": {
           "bgcolor": "white",
           "lakecolor": "white",
           "landcolor": "#E5ECF6",
           "showlakes": true,
           "showland": true,
           "subunitcolor": "white"
          },
          "hoverlabel": {
           "align": "left"
          },
          "hovermode": "closest",
          "mapbox": {
           "style": "light"
          },
          "paper_bgcolor": "white",
          "plot_bgcolor": "#E5ECF6",
          "polar": {
           "angularaxis": {
            "gridcolor": "white",
            "linecolor": "white",
            "ticks": ""
           },
           "bgcolor": "#E5ECF6",
           "radialaxis": {
            "gridcolor": "white",
            "linecolor": "white",
            "ticks": ""
           }
          },
          "scene": {
           "xaxis": {
            "backgroundcolor": "#E5ECF6",
            "gridcolor": "white",
            "gridwidth": 2,
            "linecolor": "white",
            "showbackground": true,
            "ticks": "",
            "zerolinecolor": "white"
           },
           "yaxis": {
            "backgroundcolor": "#E5ECF6",
            "gridcolor": "white",
            "gridwidth": 2,
            "linecolor": "white",
            "showbackground": true,
            "ticks": "",
            "zerolinecolor": "white"
           },
           "zaxis": {
            "backgroundcolor": "#E5ECF6",
            "gridcolor": "white",
            "gridwidth": 2,
            "linecolor": "white",
            "showbackground": true,
            "ticks": "",
            "zerolinecolor": "white"
           }
          },
          "shapedefaults": {
           "line": {
            "color": "#2a3f5f"
           }
          },
          "ternary": {
           "aaxis": {
            "gridcolor": "white",
            "linecolor": "white",
            "ticks": ""
           },
           "baxis": {
            "gridcolor": "white",
            "linecolor": "white",
            "ticks": ""
           },
           "bgcolor": "#E5ECF6",
           "caxis": {
            "gridcolor": "white",
            "linecolor": "white",
            "ticks": ""
           }
          },
          "title": {
           "x": 0.05
          },
          "xaxis": {
           "automargin": true,
           "gridcolor": "white",
           "linecolor": "white",
           "ticks": "",
           "title": {
            "standoff": 15
           },
           "zerolinecolor": "white",
           "zerolinewidth": 2
          },
          "yaxis": {
           "automargin": true,
           "gridcolor": "white",
           "linecolor": "white",
           "ticks": "",
           "title": {
            "standoff": 15
           },
           "zerolinecolor": "white",
           "zerolinewidth": 2
          }
         }
        },
        "width": 1600,
        "xaxis": {
         "gridcolor": "lightgrey",
         "showgrid": true,
         "tickangle": 45,
         "tickformat": "000",
         "ticklen": 10,
         "title": {
          "font": {
           "color": "black",
           "family": "Times New Roman",
           "size": 25
          },
          "text": "Кластеры структуры документов"
         },
         "zerolinecolor": "lightgrey"
        },
        "yaxis": {
         "gridcolor": "lightgrey",
         "range": [
          0,
          291
         ],
         "showgrid": true,
         "tickangle": 45,
         "tickformat": "000",
         "ticklen": 10,
         "title": {
          "font": {
           "color": "black",
           "family": "Times New Roman",
           "size": 25
          },
          "text": "Количество структурных элементов"
         },
         "zerolinecolor": "lightgrey"
        }
       }
      }
     },
     "metadata": {},
     "output_type": "display_data"
    }
   ],
   "source": [
    "import plotly.graph_objects as go\n",
    "\n",
    "from config import COLORS_D\n",
    "\n",
    "\n",
    "fig = go.Figure()\n",
    "\n",
    "for i, r in enumerate(sorted_clusters_cnt.transpose()):\n",
    "    fig.add_trace(\n",
    "        go.Bar(\n",
    "            x=np.cumsum(sorted_widths)-sorted_widths, y=r,\n",
    "            name=KEYS[i].capitalize(),\n",
    "            width=sorted_widths,\n",
    "            offset=0))\n",
    "\n",
    "fig.update_layout(\n",
    "    font=dict(family='Times New Roman', size=20, color='black'),\n",
    "    plot_bgcolor='rgba(0, 0, 0, 0)',\n",
    "    margin=dict(pad=10),\n",
    "    colorway=COLORS_D,\n",
    "    barmode='stack',\n",
    "    width=1600,\n",
    "    height=900)\n",
    "\n",
    "fig.update_xaxes(\n",
    "    title=dict(\n",
    "        font=dict(family='Times New Roman', size=25, color='black'),\n",
    "        text='Кластеры структуры документов'),\n",
    "    zerolinecolor='lightgrey',\n",
    "    gridcolor='lightgrey',\n",
    "    tickformat='000', \n",
    "    showgrid=True, \n",
    "    tickangle=45, \n",
    "    ticklen=10)\n",
    "\n",
    "fig.update_yaxes(\n",
    "    title=dict(\n",
    "        font=dict(family='Times New Roman', size=25, color='black'),\n",
    "        text='Количество структурных элементов'),\n",
    "    range=[0, max([sum(s) for s in scores])],\n",
    "    zerolinecolor='lightgrey',\n",
    "    gridcolor='lightgrey',\n",
    "    tickformat='000',\n",
    "    showgrid=True, \n",
    "    tickangle=45, \n",
    "    ticklen=10)\n",
    "\n",
    "fig"
   ]
  },
  {
   "cell_type": "code",
   "execution_count": 26,
   "id": "526bb2d6-b1af-423f-a75a-c298d13b3b9e",
   "metadata": {
    "execution": {
     "iopub.execute_input": "2024-06-13T18:37:26.242288Z",
     "iopub.status.busy": "2024-06-13T18:37:26.241968Z",
     "iopub.status.idle": "2024-06-13T18:37:26.855126Z",
     "shell.execute_reply": "2024-06-13T18:37:26.854702Z"
    },
    "papermill": {
     "duration": 0.732748,
     "end_time": "2024-06-13T18:37:26.856431",
     "exception": false,
     "start_time": "2024-06-13T18:37:26.123683",
     "status": "completed"
    },
    "tags": []
   },
   "outputs": [],
   "source": [
    "fig.write_image(f'{PICTURES}/structure_by_1_kmeans.png')"
   ]
  }
 ],
 "metadata": {
  "kernelspec": {
   "display_name": "Python 3 (ipykernel)",
   "language": "python",
   "name": "python3"
  },
  "language_info": {
   "codemirror_mode": {
    "name": "ipython",
    "version": 3
   },
   "file_extension": ".py",
   "mimetype": "text/x-python",
   "name": "python",
   "nbconvert_exporter": "python",
   "pygments_lexer": "ipython3",
   "version": "3.12.3"
  },
  "papermill": {
   "duration": 25.740876,
   "end_time": "2024-06-13T18:37:29.886449",
   "exception": null,
   "input_path": "/tmp/tmp4j4whez3.ipynb",
   "output_path": "notebooks/structure_by_1_kmeans.ipynb",
   "parameters": {
    "product": "notebooks/structure_by_1_kmeans.ipynb"
   },
   "start_time": "2024-06-13T18:37:04.145573"
  }
 },
 "nbformat": 4,
 "nbformat_minor": 5
}
