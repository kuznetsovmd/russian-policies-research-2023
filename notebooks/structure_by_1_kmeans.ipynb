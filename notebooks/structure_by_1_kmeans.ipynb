{
 "cells": [
  {
   "cell_type": "code",
   "execution_count": 24,
   "id": "2b6905b1",
   "metadata": {
    "execution": {
     "iopub.execute_input": "2024-05-11T14:21:17.411458Z",
     "iopub.status.busy": "2024-05-11T14:21:17.411149Z",
     "iopub.status.idle": "2024-05-11T14:21:17.413906Z",
     "shell.execute_reply": "2024-05-11T14:21:17.413487Z"
    },
    "papermill": {
     "duration": 0.006712,
     "end_time": "2024-05-11T14:21:17.414921",
     "exception": false,
     "start_time": "2024-05-11T14:21:17.408209",
     "status": "completed"
    },
    "tags": [
     "injected-parameters"
    ]
   },
   "outputs": [],
   "source": [
    "# Parameters\n",
    "product = \"notebooks/structure_by_1_kmeans.ipynb\"\n"
   ]
  },
  {
   "cell_type": "code",
   "execution_count": 25,
   "id": "4e681f6d",
   "metadata": {
    "execution": {
     "iopub.execute_input": "2024-05-11T14:21:17.509833Z",
     "iopub.status.busy": "2024-05-11T14:21:17.509595Z",
     "iopub.status.idle": "2024-05-11T14:21:17.517266Z",
     "shell.execute_reply": "2024-05-11T14:21:17.516447Z"
    },
    "papermill": {
     "duration": 0.057266,
     "end_time": "2024-05-11T14:21:17.518882",
     "exception": false,
     "start_time": "2024-05-11T14:21:17.461616",
     "status": "completed"
    },
    "tags": []
   },
   "outputs": [],
   "source": [
    "import __path__"
   ]
  },
  {
   "cell_type": "code",
   "execution_count": 26,
   "id": "ea6ebc72",
   "metadata": {
    "execution": {
     "iopub.execute_input": "2024-05-11T14:21:17.540083Z",
     "iopub.status.busy": "2024-05-11T14:21:17.539885Z",
     "iopub.status.idle": "2024-05-11T14:21:18.355252Z",
     "shell.execute_reply": "2024-05-11T14:21:18.354803Z"
    },
    "papermill": {
     "duration": 0.819712,
     "end_time": "2024-05-11T14:21:18.356952",
     "exception": false,
     "start_time": "2024-05-11T14:21:17.537240",
     "status": "completed"
    },
    "tags": []
   },
   "outputs": [],
   "source": [
    "from config import MAIN_EXPERIMENT\n",
    "\n",
    "\n",
    "MAX_SCORE = MAIN_EXPERIMENT.nb_args[product]\n",
    "KMEANS_HYPERPARAMS = MAIN_EXPERIMENT.kmeans_hyperparams\n",
    "DESCRIPTOR = MAIN_EXPERIMENT.dataset.descriptor\n",
    "PICTURES = MAIN_EXPERIMENT.pictures"
   ]
  },
  {
   "cell_type": "code",
   "execution_count": 27,
   "id": "85c6c0ef",
   "metadata": {
    "execution": {
     "iopub.execute_input": "2024-05-11T14:21:18.641001Z",
     "iopub.status.busy": "2024-05-11T14:21:18.640664Z",
     "iopub.status.idle": "2024-05-11T14:21:19.157713Z",
     "shell.execute_reply": "2024-05-11T14:21:19.156627Z"
    },
    "papermill": {
     "duration": 0.750288,
     "end_time": "2024-05-11T14:21:19.159149",
     "exception": false,
     "start_time": "2024-05-11T14:21:18.408861",
     "status": "completed"
    },
    "tags": []
   },
   "outputs": [
    {
     "data": {
      "text/plain": [
       "[{'length': 8472,\n",
       "  'tables': 0,\n",
       "  'ordered lists': 0,\n",
       "  'unordered lists': 6,\n",
       "  'headings': 0,\n",
       "  'paragraphs': 10},\n",
       " {'length': 2510,\n",
       "  'tables': 0,\n",
       "  'ordered lists': 0,\n",
       "  'unordered lists': 0,\n",
       "  'headings': 0,\n",
       "  'paragraphs': 2}]"
      ]
     },
     "execution_count": 27,
     "metadata": {},
     "output_type": "execute_result"
    }
   ],
   "source": [
    "import json\n",
    "\n",
    "from src.utils import resolve_stats\n",
    "\n",
    "\n",
    "KEYS = ['Таблица', 'Ненум. список', 'Нум. список', 'Заголовок', 'Параграф']\n",
    "ALLOWED = ['tables', 'unordered lists', 'ordered lists', 'headings', 'paragraphs']\n",
    "\n",
    "\n",
    "with open(DESCRIPTOR, 'r', encoding='utf-8') as f:\n",
    "    stats = json.load(f)\n",
    "\n",
    "hashes = []\n",
    "unique_stats = []\n",
    "for s in stats:\n",
    "    if s['policy_hash'] not in hashes and s['statistics'] is not None:\n",
    "        hashes.append(s['policy_hash'])\n",
    "        unique_stats.append(resolve_stats(s['statistics']))\n",
    "        \n",
    "unique_stats[:2]"
   ]
  },
  {
   "cell_type": "code",
   "execution_count": 28,
   "id": "a907f391-75bd-40cc-9d3b-2437214fe806",
   "metadata": {
    "execution": {
     "iopub.execute_input": "2024-05-11T14:21:19.180118Z",
     "iopub.status.busy": "2024-05-11T14:21:19.179764Z",
     "iopub.status.idle": "2024-05-11T14:21:19.236087Z",
     "shell.execute_reply": "2024-05-11T14:21:19.235629Z"
    },
    "papermill": {
     "duration": 0.075261,
     "end_time": "2024-05-11T14:21:19.237604",
     "exception": false,
     "start_time": "2024-05-11T14:21:19.162343",
     "status": "completed"
    },
    "tags": []
   },
   "outputs": [],
   "source": [
    "import numpy as np\n",
    "\n",
    "\n",
    "scores = np.zeros((len(unique_stats), 5), dtype='int')\n",
    "\n",
    "for id, us in enumerate(unique_stats):\n",
    "    for i, k in enumerate(ALLOWED):\n",
    "        scores[id, i] = us[k]\n",
    "\n",
    "scores = np.array([s for s in scores if sum(s) < MAX_SCORE])"
   ]
  },
  {
   "cell_type": "code",
   "execution_count": 29,
   "id": "ad8c8527-5dc7-431d-bc3a-880deb8198d2",
   "metadata": {
    "execution": {
     "iopub.execute_input": "2024-05-11T14:21:19.245835Z",
     "iopub.status.busy": "2024-05-11T14:21:19.244694Z",
     "iopub.status.idle": "2024-05-11T14:21:19.439452Z",
     "shell.execute_reply": "2024-05-11T14:21:19.438203Z"
    },
    "papermill": {
     "duration": 0.201638,
     "end_time": "2024-05-11T14:21:19.442080",
     "exception": false,
     "start_time": "2024-05-11T14:21:19.240442",
     "status": "completed"
    },
    "tags": []
   },
   "outputs": [],
   "source": [
    "from sklearn.cluster import KMeans\n",
    "\n",
    "\n",
    "kmeans = KMeans(**KMEANS_HYPERPARAMS)"
   ]
  },
  {
   "cell_type": "code",
   "execution_count": 30,
   "id": "03b37724-0b4b-4fe9-8094-12b58103d829",
   "metadata": {
    "execution": {
     "iopub.execute_input": "2024-05-11T14:21:19.536576Z",
     "iopub.status.busy": "2024-05-11T14:21:19.536159Z",
     "iopub.status.idle": "2024-05-11T14:21:21.172057Z",
     "shell.execute_reply": "2024-05-11T14:21:21.171493Z"
    },
    "papermill": {
     "duration": 1.688607,
     "end_time": "2024-05-11T14:21:21.173051",
     "exception": false,
     "start_time": "2024-05-11T14:21:19.484444",
     "status": "completed"
    },
    "tags": []
   },
   "outputs": [
    {
     "data": {
      "text/html": [
       "<style>#sk-container-id-3 {\n",
       "  /* Definition of color scheme common for light and dark mode */\n",
       "  --sklearn-color-text: black;\n",
       "  --sklearn-color-line: gray;\n",
       "  /* Definition of color scheme for unfitted estimators */\n",
       "  --sklearn-color-unfitted-level-0: #fff5e6;\n",
       "  --sklearn-color-unfitted-level-1: #f6e4d2;\n",
       "  --sklearn-color-unfitted-level-2: #ffe0b3;\n",
       "  --sklearn-color-unfitted-level-3: chocolate;\n",
       "  /* Definition of color scheme for fitted estimators */\n",
       "  --sklearn-color-fitted-level-0: #f0f8ff;\n",
       "  --sklearn-color-fitted-level-1: #d4ebff;\n",
       "  --sklearn-color-fitted-level-2: #b3dbfd;\n",
       "  --sklearn-color-fitted-level-3: cornflowerblue;\n",
       "\n",
       "  /* Specific color for light theme */\n",
       "  --sklearn-color-text-on-default-background: var(--sg-text-color, var(--theme-code-foreground, var(--jp-content-font-color1, black)));\n",
       "  --sklearn-color-background: var(--sg-background-color, var(--theme-background, var(--jp-layout-color0, white)));\n",
       "  --sklearn-color-border-box: var(--sg-text-color, var(--theme-code-foreground, var(--jp-content-font-color1, black)));\n",
       "  --sklearn-color-icon: #696969;\n",
       "\n",
       "  @media (prefers-color-scheme: dark) {\n",
       "    /* Redefinition of color scheme for dark theme */\n",
       "    --sklearn-color-text-on-default-background: var(--sg-text-color, var(--theme-code-foreground, var(--jp-content-font-color1, white)));\n",
       "    --sklearn-color-background: var(--sg-background-color, var(--theme-background, var(--jp-layout-color0, #111)));\n",
       "    --sklearn-color-border-box: var(--sg-text-color, var(--theme-code-foreground, var(--jp-content-font-color1, white)));\n",
       "    --sklearn-color-icon: #878787;\n",
       "  }\n",
       "}\n",
       "\n",
       "#sk-container-id-3 {\n",
       "  color: var(--sklearn-color-text);\n",
       "}\n",
       "\n",
       "#sk-container-id-3 pre {\n",
       "  padding: 0;\n",
       "}\n",
       "\n",
       "#sk-container-id-3 input.sk-hidden--visually {\n",
       "  border: 0;\n",
       "  clip: rect(1px 1px 1px 1px);\n",
       "  clip: rect(1px, 1px, 1px, 1px);\n",
       "  height: 1px;\n",
       "  margin: -1px;\n",
       "  overflow: hidden;\n",
       "  padding: 0;\n",
       "  position: absolute;\n",
       "  width: 1px;\n",
       "}\n",
       "\n",
       "#sk-container-id-3 div.sk-dashed-wrapped {\n",
       "  border: 1px dashed var(--sklearn-color-line);\n",
       "  margin: 0 0.4em 0.5em 0.4em;\n",
       "  box-sizing: border-box;\n",
       "  padding-bottom: 0.4em;\n",
       "  background-color: var(--sklearn-color-background);\n",
       "}\n",
       "\n",
       "#sk-container-id-3 div.sk-container {\n",
       "  /* jupyter's `normalize.less` sets `[hidden] { display: none; }`\n",
       "     but bootstrap.min.css set `[hidden] { display: none !important; }`\n",
       "     so we also need the `!important` here to be able to override the\n",
       "     default hidden behavior on the sphinx rendered scikit-learn.org.\n",
       "     See: https://github.com/scikit-learn/scikit-learn/issues/21755 */\n",
       "  display: inline-block !important;\n",
       "  position: relative;\n",
       "}\n",
       "\n",
       "#sk-container-id-3 div.sk-text-repr-fallback {\n",
       "  display: none;\n",
       "}\n",
       "\n",
       "div.sk-parallel-item,\n",
       "div.sk-serial,\n",
       "div.sk-item {\n",
       "  /* draw centered vertical line to link estimators */\n",
       "  background-image: linear-gradient(var(--sklearn-color-text-on-default-background), var(--sklearn-color-text-on-default-background));\n",
       "  background-size: 2px 100%;\n",
       "  background-repeat: no-repeat;\n",
       "  background-position: center center;\n",
       "}\n",
       "\n",
       "/* Parallel-specific style estimator block */\n",
       "\n",
       "#sk-container-id-3 div.sk-parallel-item::after {\n",
       "  content: \"\";\n",
       "  width: 100%;\n",
       "  border-bottom: 2px solid var(--sklearn-color-text-on-default-background);\n",
       "  flex-grow: 1;\n",
       "}\n",
       "\n",
       "#sk-container-id-3 div.sk-parallel {\n",
       "  display: flex;\n",
       "  align-items: stretch;\n",
       "  justify-content: center;\n",
       "  background-color: var(--sklearn-color-background);\n",
       "  position: relative;\n",
       "}\n",
       "\n",
       "#sk-container-id-3 div.sk-parallel-item {\n",
       "  display: flex;\n",
       "  flex-direction: column;\n",
       "}\n",
       "\n",
       "#sk-container-id-3 div.sk-parallel-item:first-child::after {\n",
       "  align-self: flex-end;\n",
       "  width: 50%;\n",
       "}\n",
       "\n",
       "#sk-container-id-3 div.sk-parallel-item:last-child::after {\n",
       "  align-self: flex-start;\n",
       "  width: 50%;\n",
       "}\n",
       "\n",
       "#sk-container-id-3 div.sk-parallel-item:only-child::after {\n",
       "  width: 0;\n",
       "}\n",
       "\n",
       "/* Serial-specific style estimator block */\n",
       "\n",
       "#sk-container-id-3 div.sk-serial {\n",
       "  display: flex;\n",
       "  flex-direction: column;\n",
       "  align-items: center;\n",
       "  background-color: var(--sklearn-color-background);\n",
       "  padding-right: 1em;\n",
       "  padding-left: 1em;\n",
       "}\n",
       "\n",
       "\n",
       "/* Toggleable style: style used for estimator/Pipeline/ColumnTransformer box that is\n",
       "clickable and can be expanded/collapsed.\n",
       "- Pipeline and ColumnTransformer use this feature and define the default style\n",
       "- Estimators will overwrite some part of the style using the `sk-estimator` class\n",
       "*/\n",
       "\n",
       "/* Pipeline and ColumnTransformer style (default) */\n",
       "\n",
       "#sk-container-id-3 div.sk-toggleable {\n",
       "  /* Default theme specific background. It is overwritten whether we have a\n",
       "  specific estimator or a Pipeline/ColumnTransformer */\n",
       "  background-color: var(--sklearn-color-background);\n",
       "}\n",
       "\n",
       "/* Toggleable label */\n",
       "#sk-container-id-3 label.sk-toggleable__label {\n",
       "  cursor: pointer;\n",
       "  display: block;\n",
       "  width: 100%;\n",
       "  margin-bottom: 0;\n",
       "  padding: 0.5em;\n",
       "  box-sizing: border-box;\n",
       "  text-align: center;\n",
       "}\n",
       "\n",
       "#sk-container-id-3 label.sk-toggleable__label-arrow:before {\n",
       "  /* Arrow on the left of the label */\n",
       "  content: \"▸\";\n",
       "  float: left;\n",
       "  margin-right: 0.25em;\n",
       "  color: var(--sklearn-color-icon);\n",
       "}\n",
       "\n",
       "#sk-container-id-3 label.sk-toggleable__label-arrow:hover:before {\n",
       "  color: var(--sklearn-color-text);\n",
       "}\n",
       "\n",
       "/* Toggleable content - dropdown */\n",
       "\n",
       "#sk-container-id-3 div.sk-toggleable__content {\n",
       "  max-height: 0;\n",
       "  max-width: 0;\n",
       "  overflow: hidden;\n",
       "  text-align: left;\n",
       "  /* unfitted */\n",
       "  background-color: var(--sklearn-color-unfitted-level-0);\n",
       "}\n",
       "\n",
       "#sk-container-id-3 div.sk-toggleable__content.fitted {\n",
       "  /* fitted */\n",
       "  background-color: var(--sklearn-color-fitted-level-0);\n",
       "}\n",
       "\n",
       "#sk-container-id-3 div.sk-toggleable__content pre {\n",
       "  margin: 0.2em;\n",
       "  border-radius: 0.25em;\n",
       "  color: var(--sklearn-color-text);\n",
       "  /* unfitted */\n",
       "  background-color: var(--sklearn-color-unfitted-level-0);\n",
       "}\n",
       "\n",
       "#sk-container-id-3 div.sk-toggleable__content.fitted pre {\n",
       "  /* unfitted */\n",
       "  background-color: var(--sklearn-color-fitted-level-0);\n",
       "}\n",
       "\n",
       "#sk-container-id-3 input.sk-toggleable__control:checked~div.sk-toggleable__content {\n",
       "  /* Expand drop-down */\n",
       "  max-height: 200px;\n",
       "  max-width: 100%;\n",
       "  overflow: auto;\n",
       "}\n",
       "\n",
       "#sk-container-id-3 input.sk-toggleable__control:checked~label.sk-toggleable__label-arrow:before {\n",
       "  content: \"▾\";\n",
       "}\n",
       "\n",
       "/* Pipeline/ColumnTransformer-specific style */\n",
       "\n",
       "#sk-container-id-3 div.sk-label input.sk-toggleable__control:checked~label.sk-toggleable__label {\n",
       "  color: var(--sklearn-color-text);\n",
       "  background-color: var(--sklearn-color-unfitted-level-2);\n",
       "}\n",
       "\n",
       "#sk-container-id-3 div.sk-label.fitted input.sk-toggleable__control:checked~label.sk-toggleable__label {\n",
       "  background-color: var(--sklearn-color-fitted-level-2);\n",
       "}\n",
       "\n",
       "/* Estimator-specific style */\n",
       "\n",
       "/* Colorize estimator box */\n",
       "#sk-container-id-3 div.sk-estimator input.sk-toggleable__control:checked~label.sk-toggleable__label {\n",
       "  /* unfitted */\n",
       "  background-color: var(--sklearn-color-unfitted-level-2);\n",
       "}\n",
       "\n",
       "#sk-container-id-3 div.sk-estimator.fitted input.sk-toggleable__control:checked~label.sk-toggleable__label {\n",
       "  /* fitted */\n",
       "  background-color: var(--sklearn-color-fitted-level-2);\n",
       "}\n",
       "\n",
       "#sk-container-id-3 div.sk-label label.sk-toggleable__label,\n",
       "#sk-container-id-3 div.sk-label label {\n",
       "  /* The background is the default theme color */\n",
       "  color: var(--sklearn-color-text-on-default-background);\n",
       "}\n",
       "\n",
       "/* On hover, darken the color of the background */\n",
       "#sk-container-id-3 div.sk-label:hover label.sk-toggleable__label {\n",
       "  color: var(--sklearn-color-text);\n",
       "  background-color: var(--sklearn-color-unfitted-level-2);\n",
       "}\n",
       "\n",
       "/* Label box, darken color on hover, fitted */\n",
       "#sk-container-id-3 div.sk-label.fitted:hover label.sk-toggleable__label.fitted {\n",
       "  color: var(--sklearn-color-text);\n",
       "  background-color: var(--sklearn-color-fitted-level-2);\n",
       "}\n",
       "\n",
       "/* Estimator label */\n",
       "\n",
       "#sk-container-id-3 div.sk-label label {\n",
       "  font-family: monospace;\n",
       "  font-weight: bold;\n",
       "  display: inline-block;\n",
       "  line-height: 1.2em;\n",
       "}\n",
       "\n",
       "#sk-container-id-3 div.sk-label-container {\n",
       "  text-align: center;\n",
       "}\n",
       "\n",
       "/* Estimator-specific */\n",
       "#sk-container-id-3 div.sk-estimator {\n",
       "  font-family: monospace;\n",
       "  border: 1px dotted var(--sklearn-color-border-box);\n",
       "  border-radius: 0.25em;\n",
       "  box-sizing: border-box;\n",
       "  margin-bottom: 0.5em;\n",
       "  /* unfitted */\n",
       "  background-color: var(--sklearn-color-unfitted-level-0);\n",
       "}\n",
       "\n",
       "#sk-container-id-3 div.sk-estimator.fitted {\n",
       "  /* fitted */\n",
       "  background-color: var(--sklearn-color-fitted-level-0);\n",
       "}\n",
       "\n",
       "/* on hover */\n",
       "#sk-container-id-3 div.sk-estimator:hover {\n",
       "  /* unfitted */\n",
       "  background-color: var(--sklearn-color-unfitted-level-2);\n",
       "}\n",
       "\n",
       "#sk-container-id-3 div.sk-estimator.fitted:hover {\n",
       "  /* fitted */\n",
       "  background-color: var(--sklearn-color-fitted-level-2);\n",
       "}\n",
       "\n",
       "/* Specification for estimator info (e.g. \"i\" and \"?\") */\n",
       "\n",
       "/* Common style for \"i\" and \"?\" */\n",
       "\n",
       ".sk-estimator-doc-link,\n",
       "a:link.sk-estimator-doc-link,\n",
       "a:visited.sk-estimator-doc-link {\n",
       "  float: right;\n",
       "  font-size: smaller;\n",
       "  line-height: 1em;\n",
       "  font-family: monospace;\n",
       "  background-color: var(--sklearn-color-background);\n",
       "  border-radius: 1em;\n",
       "  height: 1em;\n",
       "  width: 1em;\n",
       "  text-decoration: none !important;\n",
       "  margin-left: 1ex;\n",
       "  /* unfitted */\n",
       "  border: var(--sklearn-color-unfitted-level-1) 1pt solid;\n",
       "  color: var(--sklearn-color-unfitted-level-1);\n",
       "}\n",
       "\n",
       ".sk-estimator-doc-link.fitted,\n",
       "a:link.sk-estimator-doc-link.fitted,\n",
       "a:visited.sk-estimator-doc-link.fitted {\n",
       "  /* fitted */\n",
       "  border: var(--sklearn-color-fitted-level-1) 1pt solid;\n",
       "  color: var(--sklearn-color-fitted-level-1);\n",
       "}\n",
       "\n",
       "/* On hover */\n",
       "div.sk-estimator:hover .sk-estimator-doc-link:hover,\n",
       ".sk-estimator-doc-link:hover,\n",
       "div.sk-label-container:hover .sk-estimator-doc-link:hover,\n",
       ".sk-estimator-doc-link:hover {\n",
       "  /* unfitted */\n",
       "  background-color: var(--sklearn-color-unfitted-level-3);\n",
       "  color: var(--sklearn-color-background);\n",
       "  text-decoration: none;\n",
       "}\n",
       "\n",
       "div.sk-estimator.fitted:hover .sk-estimator-doc-link.fitted:hover,\n",
       ".sk-estimator-doc-link.fitted:hover,\n",
       "div.sk-label-container:hover .sk-estimator-doc-link.fitted:hover,\n",
       ".sk-estimator-doc-link.fitted:hover {\n",
       "  /* fitted */\n",
       "  background-color: var(--sklearn-color-fitted-level-3);\n",
       "  color: var(--sklearn-color-background);\n",
       "  text-decoration: none;\n",
       "}\n",
       "\n",
       "/* Span, style for the box shown on hovering the info icon */\n",
       ".sk-estimator-doc-link span {\n",
       "  display: none;\n",
       "  z-index: 9999;\n",
       "  position: relative;\n",
       "  font-weight: normal;\n",
       "  right: .2ex;\n",
       "  padding: .5ex;\n",
       "  margin: .5ex;\n",
       "  width: min-content;\n",
       "  min-width: 20ex;\n",
       "  max-width: 50ex;\n",
       "  color: var(--sklearn-color-text);\n",
       "  box-shadow: 2pt 2pt 4pt #999;\n",
       "  /* unfitted */\n",
       "  background: var(--sklearn-color-unfitted-level-0);\n",
       "  border: .5pt solid var(--sklearn-color-unfitted-level-3);\n",
       "}\n",
       "\n",
       ".sk-estimator-doc-link.fitted span {\n",
       "  /* fitted */\n",
       "  background: var(--sklearn-color-fitted-level-0);\n",
       "  border: var(--sklearn-color-fitted-level-3);\n",
       "}\n",
       "\n",
       ".sk-estimator-doc-link:hover span {\n",
       "  display: block;\n",
       "}\n",
       "\n",
       "/* \"?\"-specific style due to the `<a>` HTML tag */\n",
       "\n",
       "#sk-container-id-3 a.estimator_doc_link {\n",
       "  float: right;\n",
       "  font-size: 1rem;\n",
       "  line-height: 1em;\n",
       "  font-family: monospace;\n",
       "  background-color: var(--sklearn-color-background);\n",
       "  border-radius: 1rem;\n",
       "  height: 1rem;\n",
       "  width: 1rem;\n",
       "  text-decoration: none;\n",
       "  /* unfitted */\n",
       "  color: var(--sklearn-color-unfitted-level-1);\n",
       "  border: var(--sklearn-color-unfitted-level-1) 1pt solid;\n",
       "}\n",
       "\n",
       "#sk-container-id-3 a.estimator_doc_link.fitted {\n",
       "  /* fitted */\n",
       "  border: var(--sklearn-color-fitted-level-1) 1pt solid;\n",
       "  color: var(--sklearn-color-fitted-level-1);\n",
       "}\n",
       "\n",
       "/* On hover */\n",
       "#sk-container-id-3 a.estimator_doc_link:hover {\n",
       "  /* unfitted */\n",
       "  background-color: var(--sklearn-color-unfitted-level-3);\n",
       "  color: var(--sklearn-color-background);\n",
       "  text-decoration: none;\n",
       "}\n",
       "\n",
       "#sk-container-id-3 a.estimator_doc_link.fitted:hover {\n",
       "  /* fitted */\n",
       "  background-color: var(--sklearn-color-fitted-level-3);\n",
       "}\n",
       "</style><div id=\"sk-container-id-3\" class=\"sk-top-container\"><div class=\"sk-text-repr-fallback\"><pre>KMeans(init=&#x27;random&#x27;, max_iter=500, n_clusters=50, random_state=42)</pre><b>In a Jupyter environment, please rerun this cell to show the HTML representation or trust the notebook. <br />On GitHub, the HTML representation is unable to render, please try loading this page with nbviewer.org.</b></div><div class=\"sk-container\" hidden><div class=\"sk-item\"><div class=\"sk-estimator fitted sk-toggleable\"><input class=\"sk-toggleable__control sk-hidden--visually\" id=\"sk-estimator-id-3\" type=\"checkbox\" checked><label for=\"sk-estimator-id-3\" class=\"sk-toggleable__label fitted sk-toggleable__label-arrow fitted\">&nbsp;&nbsp;KMeans<a class=\"sk-estimator-doc-link fitted\" rel=\"noreferrer\" target=\"_blank\" href=\"https://scikit-learn.org/1.4/modules/generated/sklearn.cluster.KMeans.html\">?<span>Documentation for KMeans</span></a><span class=\"sk-estimator-doc-link fitted\">i<span>Fitted</span></span></label><div class=\"sk-toggleable__content fitted\"><pre>KMeans(init=&#x27;random&#x27;, max_iter=500, n_clusters=50, random_state=42)</pre></div> </div></div></div></div>"
      ],
      "text/plain": [
       "KMeans(init='random', max_iter=500, n_clusters=50, random_state=42)"
      ]
     },
     "execution_count": 30,
     "metadata": {},
     "output_type": "execute_result"
    }
   ],
   "source": [
    "kmeans.fit(scores)"
   ]
  },
  {
   "cell_type": "code",
   "execution_count": 31,
   "id": "149ae354-27d2-4fed-8262-10deb247ca6c",
   "metadata": {
    "execution": {
     "iopub.execute_input": "2024-05-11T14:21:21.178555Z",
     "iopub.status.busy": "2024-05-11T14:21:21.178326Z",
     "iopub.status.idle": "2024-05-11T14:21:21.181735Z",
     "shell.execute_reply": "2024-05-11T14:21:21.181374Z"
    },
    "papermill": {
     "duration": 0.007338,
     "end_time": "2024-05-11T14:21:21.182714",
     "exception": false,
     "start_time": "2024-05-11T14:21:21.175376",
     "status": "completed"
    },
    "tags": []
   },
   "outputs": [],
   "source": [
    "from collections import Counter\n",
    "\n",
    "\n",
    "count = Counter(kmeans.labels_)"
   ]
  },
  {
   "cell_type": "code",
   "execution_count": 32,
   "id": "05de42c9-f432-465d-8d2b-ec27e53a0abf",
   "metadata": {
    "execution": {
     "iopub.execute_input": "2024-05-11T14:21:21.188958Z",
     "iopub.status.busy": "2024-05-11T14:21:21.188659Z",
     "iopub.status.idle": "2024-05-11T14:21:21.192112Z",
     "shell.execute_reply": "2024-05-11T14:21:21.191764Z"
    },
    "papermill": {
     "duration": 0.008071,
     "end_time": "2024-05-11T14:21:21.192859",
     "exception": false,
     "start_time": "2024-05-11T14:21:21.184788",
     "status": "completed"
    },
    "tags": []
   },
   "outputs": [
    {
     "data": {
      "text/plain": [
       "array([[3.84328358e-01, 1.20522388e+00, 3.91791045e-01, 6.00746269e-01,\n",
       "        4.16753731e+01],\n",
       "       [1.66666667e-01, 1.03333333e+00, 1.10606061e+00, 6.60606061e-01,\n",
       "        7.01212121e+01],\n",
       "       [1.15853659e-01, 4.75609756e-01, 8.84146341e+00, 9.15243902e+00,\n",
       "        3.15853659e+00],\n",
       "       [0.00000000e+00, 1.25000000e-01, 7.50000000e-01, 6.46250000e+01,\n",
       "        1.06250000e+01],\n",
       "       [1.25000000e-01, 6.60000000e+00, 8.25000000e-01, 6.90000000e+00,\n",
       "        1.55875000e+02]])"
      ]
     },
     "execution_count": 32,
     "metadata": {},
     "output_type": "execute_result"
    }
   ],
   "source": [
    "kmeans.cluster_centers_[:5]"
   ]
  },
  {
   "cell_type": "code",
   "execution_count": 33,
   "id": "007d2c8c-4245-4b88-84f9-6534c662cd5a",
   "metadata": {
    "execution": {
     "iopub.execute_input": "2024-05-11T14:21:21.197324Z",
     "iopub.status.busy": "2024-05-11T14:21:21.197141Z",
     "iopub.status.idle": "2024-05-11T14:21:21.201418Z",
     "shell.execute_reply": "2024-05-11T14:21:21.201090Z"
    },
    "papermill": {
     "duration": 0.007271,
     "end_time": "2024-05-11T14:21:21.202156",
     "exception": false,
     "start_time": "2024-05-11T14:21:21.194885",
     "status": "completed"
    },
    "tags": []
   },
   "outputs": [],
   "source": [
    "from collections import Counter\n",
    "\n",
    "\n",
    "sums = {i: sum(c) for i, c in enumerate(kmeans.cluster_centers_)}\n",
    "\n",
    "count = Counter(kmeans.labels_)\n",
    "widths = np.array([count[p] for p in range(kmeans.n_clusters)])\n",
    "sorted_keys = list({k: v for k, v in sorted(sums.items(), key=lambda item: item[1])}.keys())\n",
    "sorted_widths = [widths[k] for k in reversed(sorted_keys)]\n",
    "sorted_clusters_cnt = np.array([kmeans.cluster_centers_[k] for k in reversed(sorted_keys)])"
   ]
  },
  {
   "cell_type": "code",
   "execution_count": 34,
   "id": "de5d034b-69f0-4460-90df-5b231c47b50a",
   "metadata": {
    "execution": {
     "iopub.execute_input": "2024-05-11T14:21:21.206591Z",
     "iopub.status.busy": "2024-05-11T14:21:21.206297Z",
     "iopub.status.idle": "2024-05-11T14:21:24.049711Z",
     "shell.execute_reply": "2024-05-11T14:21:24.049331Z"
    },
    "papermill": {
     "duration": 2.87847,
     "end_time": "2024-05-11T14:21:24.082470",
     "exception": false,
     "start_time": "2024-05-11T14:21:21.204000",
     "status": "completed"
    },
    "tags": []
   },
   "outputs": [
    {
     "data": {
      "application/vnd.plotly.v1+json": {
       "config": {
        "plotlyServerURL": "https://plot.ly"
       },
       "data": [
        {
         "name": "Таблица",
         "offset": 0,
         "type": "bar",
         "width": [
          1,
          1,
          2,
          9,
          10,
          24,
          40,
          69,
          114,
          156,
          113,
          111,
          165,
          299,
          41,
          162,
          8,
          330,
          310,
          8,
          464,
          161,
          241,
          228,
          268,
          180,
          268,
          120,
          107,
          187,
          263,
          72,
          32,
          427,
          193,
          164,
          213,
          283,
          266,
          129,
          299,
          175,
          58,
          96,
          162,
          450,
          358,
          470,
          252,
          471
         ],
         "x": [
          0,
          1,
          2,
          4,
          13,
          23,
          47,
          87,
          156,
          270,
          426,
          539,
          650,
          815,
          1114,
          1155,
          1317,
          1325,
          1655,
          1965,
          1973,
          2437,
          2598,
          2839,
          3067,
          3335,
          3515,
          3783,
          3903,
          4010,
          4197,
          4460,
          4532,
          4564,
          4991,
          5184,
          5348,
          5561,
          5844,
          6110,
          6239,
          6538,
          6713,
          6771,
          6867,
          7029,
          7479,
          7837,
          8307,
          8559
         ],
         "y": [
          0,
          0,
          0,
          0.8888888888888887,
          0.5,
          0.2916666666666666,
          0.125,
          0.057971014492753645,
          0.23684210526315785,
          0.06410256410256414,
          0.16814159292035397,
          0.0810810810810811,
          0.34545454545454546,
          0.31438127090301016,
          2.7755575615628914e-17,
          0.0740740740740741,
          0,
          0.16666666666666652,
          0.048387096774193394,
          0,
          0.474137931034483,
          0.14285714285714288,
          0.14107883817427377,
          0.06986899563318774,
          0.3843283582089555,
          0.1388888888888889,
          0.5373134328358214,
          0.05000000000000007,
          0.009345794392523421,
          0.30107526881720453,
          0.13307984790874522,
          0.027777777777777818,
          2.7755575615628914e-17,
          0.07025761124121765,
          0.7512953367875651,
          0.11585365853658534,
          0.0704225352112676,
          0.27561837455830407,
          0.048872180451127734,
          0.04651162790697677,
          0.27759197324414703,
          0.017142857142857126,
          0.08620689655172417,
          0.10416666666666669,
          0.2160493827160494,
          0.1044444444444443,
          0.22067039106145236,
          0.11914893617021263,
          0.07142857142857144,
          0.006369426751592189
         ]
        },
        {
         "name": "Ненум. список",
         "offset": 0,
         "type": "bar",
         "width": [
          1,
          1,
          2,
          9,
          10,
          24,
          40,
          69,
          114,
          156,
          113,
          111,
          165,
          299,
          41,
          162,
          8,
          330,
          310,
          8,
          464,
          161,
          241,
          228,
          268,
          180,
          268,
          120,
          107,
          187,
          263,
          72,
          32,
          427,
          193,
          164,
          213,
          283,
          266,
          129,
          299,
          175,
          58,
          96,
          162,
          450,
          358,
          470,
          252,
          471
         ],
         "x": [
          0,
          1,
          2,
          4,
          13,
          23,
          47,
          87,
          156,
          270,
          426,
          539,
          650,
          815,
          1114,
          1155,
          1317,
          1325,
          1655,
          1965,
          1973,
          2437,
          2598,
          2839,
          3067,
          3335,
          3515,
          3783,
          3903,
          4010,
          4197,
          4460,
          4532,
          4564,
          4991,
          5184,
          5348,
          5561,
          5844,
          6110,
          6239,
          6538,
          6713,
          6771,
          6867,
          7029,
          7479,
          7837,
          8307,
          8559
         ],
         "y": [
          0,
          1,
          1.5,
          1.1111111111111112,
          0.3999999999999999,
          2.166666666666666,
          6.6000000000000005,
          1.6231884057971013,
          0.7105263157894736,
          0.8141025641025641,
          1.7256637168141595,
          2.09009009009009,
          1.2181818181818183,
          0.8428093645484952,
          11.682926829268293,
          1.4814814814814814,
          0.1250000000000001,
          1.0333333333333332,
          0.3806451612903231,
          44.62499999999999,
          0.6250000000000004,
          1.1055900621118013,
          0.7966804979253113,
          1.2838427947598254,
          1.205223880597015,
          2.3500000000000005,
          1.376865671641791,
          1.0583333333333331,
          0.28037383177570097,
          1.446236559139785,
          0.8783269961977186,
          1.3888888888888888,
          12.031249999999998,
          0.4566744730679162,
          0.8134715025906736,
          0.47560975609756106,
          0.36619718309859184,
          0.6219081272084808,
          0.7518796992481204,
          7.139534883720927,
          0.9063545150501672,
          0.4971428571428571,
          8.706896551724137,
          0.375,
          0.462962962962963,
          0.3133333333333339,
          0.7011173184357543,
          0.1808510638297871,
          0.33730158730158777,
          0.16348195329087067
         ]
        },
        {
         "name": "Нум. список",
         "offset": 0,
         "type": "bar",
         "width": [
          1,
          1,
          2,
          9,
          10,
          24,
          40,
          69,
          114,
          156,
          113,
          111,
          165,
          299,
          41,
          162,
          8,
          330,
          310,
          8,
          464,
          161,
          241,
          228,
          268,
          180,
          268,
          120,
          107,
          187,
          263,
          72,
          32,
          427,
          193,
          164,
          213,
          283,
          266,
          129,
          299,
          175,
          58,
          96,
          162,
          450,
          358,
          470,
          252,
          471
         ],
         "x": [
          0,
          1,
          2,
          4,
          13,
          23,
          47,
          87,
          156,
          270,
          426,
          539,
          650,
          815,
          1114,
          1155,
          1317,
          1325,
          1655,
          1965,
          1973,
          2437,
          2598,
          2839,
          3067,
          3335,
          3515,
          3783,
          3903,
          4010,
          4197,
          4460,
          4532,
          4564,
          4991,
          5184,
          5348,
          5561,
          5844,
          6110,
          6239,
          6538,
          6713,
          6771,
          6867,
          7029,
          7479,
          7837,
          8307,
          8559
         ],
         "y": [
          0,
          0,
          0,
          1.8888888888888888,
          2.4000000000000004,
          1.1666666666666665,
          0.825,
          0.855072463768116,
          0.9210526315789473,
          0.012820512820512886,
          2.7168141592920354,
          0.25225225225225234,
          0.6666666666666666,
          0.5518394648829432,
          1.048780487804878,
          0.46913580246913583,
          0.75,
          1.106060606060606,
          0.016129032258064613,
          0,
          0.6939655172413793,
          0.2919254658385093,
          1.3195020746887967,
          0.4148471615720525,
          0.3917910447761194,
          0.19444444444444442,
          1.007462686567164,
          0.08333333333333337,
          0.22429906542056088,
          0.19892473118279574,
          0.49429657794676807,
          11.08333333333333,
          0.53125,
          0.07728337236533955,
          0.20725388601036265,
          8.841463414634141,
          0.10328638497652576,
          0.06713780918727918,
          0.09774436090225569,
          0.16279069767441856,
          0.12374581939799334,
          11.559999999999995,
          2.362068965517241,
          0.01041666666666674,
          0.33333333333333337,
          0.10444444444444434,
          0.17877094972067042,
          0.2638297872340425,
          0.4166666666666667,
          0.1316348195329088
         ]
        },
        {
         "name": "Заголовок",
         "offset": 0,
         "type": "bar",
         "width": [
          1,
          1,
          2,
          9,
          10,
          24,
          40,
          69,
          114,
          156,
          113,
          111,
          165,
          299,
          41,
          162,
          8,
          330,
          310,
          8,
          464,
          161,
          241,
          228,
          268,
          180,
          268,
          120,
          107,
          187,
          263,
          72,
          32,
          427,
          193,
          164,
          213,
          283,
          266,
          129,
          299,
          175,
          58,
          96,
          162,
          450,
          358,
          470,
          252,
          471
         ],
         "x": [
          0,
          1,
          2,
          4,
          13,
          23,
          47,
          87,
          156,
          270,
          426,
          539,
          650,
          815,
          1114,
          1155,
          1317,
          1325,
          1655,
          1965,
          1973,
          2437,
          2598,
          2839,
          3067,
          3335,
          3515,
          3783,
          3903,
          4010,
          4197,
          4460,
          4532,
          4564,
          4991,
          5184,
          5348,
          5561,
          5844,
          6110,
          6239,
          6538,
          6713,
          6771,
          6867,
          7029,
          7479,
          7837,
          8307,
          8559
         ],
         "y": [
          0,
          2,
          0.5,
          0.7777777777777781,
          16.3,
          4.666666666666667,
          6.9,
          4.086956521739131,
          1.6491228070175437,
          14.756410256410257,
          0.9646017699115039,
          11.882882882882884,
          1.4060606060606053,
          0.6588628762541786,
          16.29268292682927,
          10.234567901234566,
          64.625,
          0.6606060606060593,
          9.854838709677423,
          4.5,
          0.7413793103448265,
          9.161490683229813,
          0.817427385892115,
          9.117903930131002,
          0.6007462686567151,
          8.566666666666665,
          0.7388059701492522,
          13.633333333333331,
          18.869158878504674,
          7.209677419354837,
          0.8212927756653983,
          0.916666666666667,
          9.906249999999998,
          9.393442622950827,
          0.6891191709844549,
          9.152439024390242,
          0.6760563380281672,
          1.2685512367491145,
          7.052631578947366,
          1.0155038759689914,
          0.986622073578594,
          0.4171428571428559,
          0.827586206896552,
          11.156249999999998,
          4.518518518518518,
          0.7177777777777767,
          0.5279329608938528,
          0.46170212765957386,
          1.5992063492063484,
          2.220446049250313e-15
         ]
        },
        {
         "name": "Параграф",
         "offset": 0,
         "type": "bar",
         "width": [
          1,
          1,
          2,
          9,
          10,
          24,
          40,
          69,
          114,
          156,
          113,
          111,
          165,
          299,
          41,
          162,
          8,
          330,
          310,
          8,
          464,
          161,
          241,
          228,
          268,
          180,
          268,
          120,
          107,
          187,
          263,
          72,
          32,
          427,
          193,
          164,
          213,
          283,
          266,
          129,
          299,
          175,
          58,
          96,
          162,
          450,
          358,
          470,
          252,
          471
         ],
         "x": [
          0,
          1,
          2,
          4,
          13,
          23,
          47,
          87,
          156,
          270,
          426,
          539,
          650,
          815,
          1114,
          1155,
          1317,
          1325,
          1655,
          1965,
          1973,
          2437,
          2598,
          2839,
          3067,
          3335,
          3515,
          3783,
          3903,
          4010,
          4197,
          4460,
          4532,
          4564,
          4991,
          5184,
          5348,
          5561,
          5844,
          6110,
          6239,
          6538,
          6713,
          6771,
          6867,
          7029,
          7479,
          7837,
          8307,
          8559
         ],
         "y": [
          292,
          288,
          282.5,
          253.2222222222222,
          221.70000000000002,
          187.24999999999997,
          155.875,
          131.56521739130434,
          114.02631578947367,
          98.74999999999997,
          99.68141592920352,
          77.98198198198196,
          88.58787878787878,
          78.49498327759198,
          51.34146341463415,
          65.88888888888887,
          10.625000000000004,
          70.12121212121212,
          56.23548387096773,
          15.5,
          58.02155172413792,
          44.88198757763975,
          49.66804979253111,
          35.58951965065502,
          41.67537313432835,
          28.00555555555556,
          34.048507462686565,
          20.633333333333336,
          14.542056074766354,
          21.09139784946236,
          27.31939163498099,
          12.750000000000004,
          3.3750000000000036,
          14.683840749414504,
          22.17616580310881,
          3.158536585365841,
          19.14553990610328,
          15.94699646643108,
          9.785714285714274,
          8.426356589147279,
          12.765886287625403,
          1.857142857142847,
          1.672413793103452,
          1.8020833333333286,
          5.432098765432087,
          9.204444444444434,
          6.036312849161991,
          2.7170212765957586,
          1.1309523809523654,
          0.9426751592356979
         ]
        }
       ],
       "layout": {
        "barmode": "stack",
        "colorway": [
         "rgba(244, 67, 54, 1.0)",
         "rgba(232, 30, 99, 1.0)",
         "rgba(156, 39, 176, 1.0)",
         "rgba(103, 58, 183, 1.0)",
         "rgba(63, 81, 181, 1.0)",
         "rgba(33, 150, 243, 1.0)",
         "rgba(3, 169, 244, 1.0)",
         "rgba(0, 188, 212, 1.0)",
         "rgba(0, 150, 136, 1.0)",
         "rgba(76, 175, 80, 1.0)",
         "rgba(139, 195, 74, 1.0)",
         "rgba(205, 220, 57, 1.0)",
         "rgba(255, 235, 59, 1.0)",
         "rgba(255, 193, 7, 1.0)",
         "rgba(255, 152, 0, 1.0)",
         "rgba(255, 87, 34, 1.0)"
        ],
        "font": {
         "color": "black",
         "family": "Times New Roman",
         "size": 20
        },
        "height": 900,
        "margin": {
         "pad": 10
        },
        "plot_bgcolor": "rgba(0, 0, 0, 0)",
        "template": {
         "data": {
          "bar": [
           {
            "error_x": {
             "color": "#2a3f5f"
            },
            "error_y": {
             "color": "#2a3f5f"
            },
            "marker": {
             "line": {
              "color": "#E5ECF6",
              "width": 0.5
             },
             "pattern": {
              "fillmode": "overlay",
              "size": 10,
              "solidity": 0.2
             }
            },
            "type": "bar"
           }
          ],
          "barpolar": [
           {
            "marker": {
             "line": {
              "color": "#E5ECF6",
              "width": 0.5
             },
             "pattern": {
              "fillmode": "overlay",
              "size": 10,
              "solidity": 0.2
             }
            },
            "type": "barpolar"
           }
          ],
          "carpet": [
           {
            "aaxis": {
             "endlinecolor": "#2a3f5f",
             "gridcolor": "white",
             "linecolor": "white",
             "minorgridcolor": "white",
             "startlinecolor": "#2a3f5f"
            },
            "baxis": {
             "endlinecolor": "#2a3f5f",
             "gridcolor": "white",
             "linecolor": "white",
             "minorgridcolor": "white",
             "startlinecolor": "#2a3f5f"
            },
            "type": "carpet"
           }
          ],
          "choropleth": [
           {
            "colorbar": {
             "outlinewidth": 0,
             "ticks": ""
            },
            "type": "choropleth"
           }
          ],
          "contour": [
           {
            "colorbar": {
             "outlinewidth": 0,
             "ticks": ""
            },
            "colorscale": [
             [
              0,
              "#0d0887"
             ],
             [
              0.1111111111111111,
              "#46039f"
             ],
             [
              0.2222222222222222,
              "#7201a8"
             ],
             [
              0.3333333333333333,
              "#9c179e"
             ],
             [
              0.4444444444444444,
              "#bd3786"
             ],
             [
              0.5555555555555556,
              "#d8576b"
             ],
             [
              0.6666666666666666,
              "#ed7953"
             ],
             [
              0.7777777777777778,
              "#fb9f3a"
             ],
             [
              0.8888888888888888,
              "#fdca26"
             ],
             [
              1,
              "#f0f921"
             ]
            ],
            "type": "contour"
           }
          ],
          "contourcarpet": [
           {
            "colorbar": {
             "outlinewidth": 0,
             "ticks": ""
            },
            "type": "contourcarpet"
           }
          ],
          "heatmap": [
           {
            "colorbar": {
             "outlinewidth": 0,
             "ticks": ""
            },
            "colorscale": [
             [
              0,
              "#0d0887"
             ],
             [
              0.1111111111111111,
              "#46039f"
             ],
             [
              0.2222222222222222,
              "#7201a8"
             ],
             [
              0.3333333333333333,
              "#9c179e"
             ],
             [
              0.4444444444444444,
              "#bd3786"
             ],
             [
              0.5555555555555556,
              "#d8576b"
             ],
             [
              0.6666666666666666,
              "#ed7953"
             ],
             [
              0.7777777777777778,
              "#fb9f3a"
             ],
             [
              0.8888888888888888,
              "#fdca26"
             ],
             [
              1,
              "#f0f921"
             ]
            ],
            "type": "heatmap"
           }
          ],
          "heatmapgl": [
           {
            "colorbar": {
             "outlinewidth": 0,
             "ticks": ""
            },
            "colorscale": [
             [
              0,
              "#0d0887"
             ],
             [
              0.1111111111111111,
              "#46039f"
             ],
             [
              0.2222222222222222,
              "#7201a8"
             ],
             [
              0.3333333333333333,
              "#9c179e"
             ],
             [
              0.4444444444444444,
              "#bd3786"
             ],
             [
              0.5555555555555556,
              "#d8576b"
             ],
             [
              0.6666666666666666,
              "#ed7953"
             ],
             [
              0.7777777777777778,
              "#fb9f3a"
             ],
             [
              0.8888888888888888,
              "#fdca26"
             ],
             [
              1,
              "#f0f921"
             ]
            ],
            "type": "heatmapgl"
           }
          ],
          "histogram": [
           {
            "marker": {
             "pattern": {
              "fillmode": "overlay",
              "size": 10,
              "solidity": 0.2
             }
            },
            "type": "histogram"
           }
          ],
          "histogram2d": [
           {
            "colorbar": {
             "outlinewidth": 0,
             "ticks": ""
            },
            "colorscale": [
             [
              0,
              "#0d0887"
             ],
             [
              0.1111111111111111,
              "#46039f"
             ],
             [
              0.2222222222222222,
              "#7201a8"
             ],
             [
              0.3333333333333333,
              "#9c179e"
             ],
             [
              0.4444444444444444,
              "#bd3786"
             ],
             [
              0.5555555555555556,
              "#d8576b"
             ],
             [
              0.6666666666666666,
              "#ed7953"
             ],
             [
              0.7777777777777778,
              "#fb9f3a"
             ],
             [
              0.8888888888888888,
              "#fdca26"
             ],
             [
              1,
              "#f0f921"
             ]
            ],
            "type": "histogram2d"
           }
          ],
          "histogram2dcontour": [
           {
            "colorbar": {
             "outlinewidth": 0,
             "ticks": ""
            },
            "colorscale": [
             [
              0,
              "#0d0887"
             ],
             [
              0.1111111111111111,
              "#46039f"
             ],
             [
              0.2222222222222222,
              "#7201a8"
             ],
             [
              0.3333333333333333,
              "#9c179e"
             ],
             [
              0.4444444444444444,
              "#bd3786"
             ],
             [
              0.5555555555555556,
              "#d8576b"
             ],
             [
              0.6666666666666666,
              "#ed7953"
             ],
             [
              0.7777777777777778,
              "#fb9f3a"
             ],
             [
              0.8888888888888888,
              "#fdca26"
             ],
             [
              1,
              "#f0f921"
             ]
            ],
            "type": "histogram2dcontour"
           }
          ],
          "mesh3d": [
           {
            "colorbar": {
             "outlinewidth": 0,
             "ticks": ""
            },
            "type": "mesh3d"
           }
          ],
          "parcoords": [
           {
            "line": {
             "colorbar": {
              "outlinewidth": 0,
              "ticks": ""
             }
            },
            "type": "parcoords"
           }
          ],
          "pie": [
           {
            "automargin": true,
            "type": "pie"
           }
          ],
          "scatter": [
           {
            "fillpattern": {
             "fillmode": "overlay",
             "size": 10,
             "solidity": 0.2
            },
            "type": "scatter"
           }
          ],
          "scatter3d": [
           {
            "line": {
             "colorbar": {
              "outlinewidth": 0,
              "ticks": ""
             }
            },
            "marker": {
             "colorbar": {
              "outlinewidth": 0,
              "ticks": ""
             }
            },
            "type": "scatter3d"
           }
          ],
          "scattercarpet": [
           {
            "marker": {
             "colorbar": {
              "outlinewidth": 0,
              "ticks": ""
             }
            },
            "type": "scattercarpet"
           }
          ],
          "scattergeo": [
           {
            "marker": {
             "colorbar": {
              "outlinewidth": 0,
              "ticks": ""
             }
            },
            "type": "scattergeo"
           }
          ],
          "scattergl": [
           {
            "marker": {
             "colorbar": {
              "outlinewidth": 0,
              "ticks": ""
             }
            },
            "type": "scattergl"
           }
          ],
          "scattermapbox": [
           {
            "marker": {
             "colorbar": {
              "outlinewidth": 0,
              "ticks": ""
             }
            },
            "type": "scattermapbox"
           }
          ],
          "scatterpolar": [
           {
            "marker": {
             "colorbar": {
              "outlinewidth": 0,
              "ticks": ""
             }
            },
            "type": "scatterpolar"
           }
          ],
          "scatterpolargl": [
           {
            "marker": {
             "colorbar": {
              "outlinewidth": 0,
              "ticks": ""
             }
            },
            "type": "scatterpolargl"
           }
          ],
          "scatterternary": [
           {
            "marker": {
             "colorbar": {
              "outlinewidth": 0,
              "ticks": ""
             }
            },
            "type": "scatterternary"
           }
          ],
          "surface": [
           {
            "colorbar": {
             "outlinewidth": 0,
             "ticks": ""
            },
            "colorscale": [
             [
              0,
              "#0d0887"
             ],
             [
              0.1111111111111111,
              "#46039f"
             ],
             [
              0.2222222222222222,
              "#7201a8"
             ],
             [
              0.3333333333333333,
              "#9c179e"
             ],
             [
              0.4444444444444444,
              "#bd3786"
             ],
             [
              0.5555555555555556,
              "#d8576b"
             ],
             [
              0.6666666666666666,
              "#ed7953"
             ],
             [
              0.7777777777777778,
              "#fb9f3a"
             ],
             [
              0.8888888888888888,
              "#fdca26"
             ],
             [
              1,
              "#f0f921"
             ]
            ],
            "type": "surface"
           }
          ],
          "table": [
           {
            "cells": {
             "fill": {
              "color": "#EBF0F8"
             },
             "line": {
              "color": "white"
             }
            },
            "header": {
             "fill": {
              "color": "#C8D4E3"
             },
             "line": {
              "color": "white"
             }
            },
            "type": "table"
           }
          ]
         },
         "layout": {
          "annotationdefaults": {
           "arrowcolor": "#2a3f5f",
           "arrowhead": 0,
           "arrowwidth": 1
          },
          "autotypenumbers": "strict",
          "coloraxis": {
           "colorbar": {
            "outlinewidth": 0,
            "ticks": ""
           }
          },
          "colorscale": {
           "diverging": [
            [
             0,
             "#8e0152"
            ],
            [
             0.1,
             "#c51b7d"
            ],
            [
             0.2,
             "#de77ae"
            ],
            [
             0.3,
             "#f1b6da"
            ],
            [
             0.4,
             "#fde0ef"
            ],
            [
             0.5,
             "#f7f7f7"
            ],
            [
             0.6,
             "#e6f5d0"
            ],
            [
             0.7,
             "#b8e186"
            ],
            [
             0.8,
             "#7fbc41"
            ],
            [
             0.9,
             "#4d9221"
            ],
            [
             1,
             "#276419"
            ]
           ],
           "sequential": [
            [
             0,
             "#0d0887"
            ],
            [
             0.1111111111111111,
             "#46039f"
            ],
            [
             0.2222222222222222,
             "#7201a8"
            ],
            [
             0.3333333333333333,
             "#9c179e"
            ],
            [
             0.4444444444444444,
             "#bd3786"
            ],
            [
             0.5555555555555556,
             "#d8576b"
            ],
            [
             0.6666666666666666,
             "#ed7953"
            ],
            [
             0.7777777777777778,
             "#fb9f3a"
            ],
            [
             0.8888888888888888,
             "#fdca26"
            ],
            [
             1,
             "#f0f921"
            ]
           ],
           "sequentialminus": [
            [
             0,
             "#0d0887"
            ],
            [
             0.1111111111111111,
             "#46039f"
            ],
            [
             0.2222222222222222,
             "#7201a8"
            ],
            [
             0.3333333333333333,
             "#9c179e"
            ],
            [
             0.4444444444444444,
             "#bd3786"
            ],
            [
             0.5555555555555556,
             "#d8576b"
            ],
            [
             0.6666666666666666,
             "#ed7953"
            ],
            [
             0.7777777777777778,
             "#fb9f3a"
            ],
            [
             0.8888888888888888,
             "#fdca26"
            ],
            [
             1,
             "#f0f921"
            ]
           ]
          },
          "colorway": [
           "#636efa",
           "#EF553B",
           "#00cc96",
           "#ab63fa",
           "#FFA15A",
           "#19d3f3",
           "#FF6692",
           "#B6E880",
           "#FF97FF",
           "#FECB52"
          ],
          "font": {
           "color": "#2a3f5f"
          },
          "geo": {
           "bgcolor": "white",
           "lakecolor": "white",
           "landcolor": "#E5ECF6",
           "showlakes": true,
           "showland": true,
           "subunitcolor": "white"
          },
          "hoverlabel": {
           "align": "left"
          },
          "hovermode": "closest",
          "mapbox": {
           "style": "light"
          },
          "paper_bgcolor": "white",
          "plot_bgcolor": "#E5ECF6",
          "polar": {
           "angularaxis": {
            "gridcolor": "white",
            "linecolor": "white",
            "ticks": ""
           },
           "bgcolor": "#E5ECF6",
           "radialaxis": {
            "gridcolor": "white",
            "linecolor": "white",
            "ticks": ""
           }
          },
          "scene": {
           "xaxis": {
            "backgroundcolor": "#E5ECF6",
            "gridcolor": "white",
            "gridwidth": 2,
            "linecolor": "white",
            "showbackground": true,
            "ticks": "",
            "zerolinecolor": "white"
           },
           "yaxis": {
            "backgroundcolor": "#E5ECF6",
            "gridcolor": "white",
            "gridwidth": 2,
            "linecolor": "white",
            "showbackground": true,
            "ticks": "",
            "zerolinecolor": "white"
           },
           "zaxis": {
            "backgroundcolor": "#E5ECF6",
            "gridcolor": "white",
            "gridwidth": 2,
            "linecolor": "white",
            "showbackground": true,
            "ticks": "",
            "zerolinecolor": "white"
           }
          },
          "shapedefaults": {
           "line": {
            "color": "#2a3f5f"
           }
          },
          "ternary": {
           "aaxis": {
            "gridcolor": "white",
            "linecolor": "white",
            "ticks": ""
           },
           "baxis": {
            "gridcolor": "white",
            "linecolor": "white",
            "ticks": ""
           },
           "bgcolor": "#E5ECF6",
           "caxis": {
            "gridcolor": "white",
            "linecolor": "white",
            "ticks": ""
           }
          },
          "title": {
           "x": 0.05
          },
          "xaxis": {
           "automargin": true,
           "gridcolor": "white",
           "linecolor": "white",
           "ticks": "",
           "title": {
            "standoff": 15
           },
           "zerolinecolor": "white",
           "zerolinewidth": 2
          },
          "yaxis": {
           "automargin": true,
           "gridcolor": "white",
           "linecolor": "white",
           "ticks": "",
           "title": {
            "standoff": 15
           },
           "zerolinecolor": "white",
           "zerolinewidth": 2
          }
         }
        },
        "width": 1600,
        "xaxis": {
         "gridcolor": "lightgrey",
         "showgrid": true,
         "tickangle": 0,
         "tickformat": "000",
         "ticklen": 10,
         "title": {
          "font": {
           "color": "black",
           "family": "Times New Roman",
           "size": 25
          },
          "text": "Кластеры политик безопасности"
         },
         "zerolinecolor": "lightgrey"
        },
        "yaxis": {
         "gridcolor": "lightgrey",
         "range": [
          0,
          292
         ],
         "showgrid": true,
         "tickangle": 0,
         "tickformat": "000",
         "ticklen": 10,
         "title": {
          "font": {
           "color": "black",
           "family": "Times New Roman",
           "size": 25
          },
          "text": "Количество структурных элементов"
         },
         "zerolinecolor": "lightgrey"
        }
       }
      },
      "text/html": [
       "<div>                            <div id=\"125267c9-6f2b-4000-8945-b1adeee98e9e\" class=\"plotly-graph-div\" style=\"height:900px; width:1600px;\"></div>            <script type=\"text/javascript\">                require([\"plotly\"], function(Plotly) {                    window.PLOTLYENV=window.PLOTLYENV || {};                                    if (document.getElementById(\"125267c9-6f2b-4000-8945-b1adeee98e9e\")) {                    Plotly.newPlot(                        \"125267c9-6f2b-4000-8945-b1adeee98e9e\",                        [{\"name\":\"\\u0422\\u0430\\u0431\\u043b\\u0438\\u0446\\u0430\",\"offset\":0,\"width\":[1,1,2,9,10,24,40,69,114,156,113,111,165,299,41,162,8,330,310,8,464,161,241,228,268,180,268,120,107,187,263,72,32,427,193,164,213,283,266,129,299,175,58,96,162,450,358,470,252,471],\"x\":[0,1,2,4,13,23,47,87,156,270,426,539,650,815,1114,1155,1317,1325,1655,1965,1973,2437,2598,2839,3067,3335,3515,3783,3903,4010,4197,4460,4532,4564,4991,5184,5348,5561,5844,6110,6239,6538,6713,6771,6867,7029,7479,7837,8307,8559],\"y\":[0.0,0.0,0.0,0.8888888888888887,0.5,0.2916666666666666,0.125,0.057971014492753645,0.23684210526315785,0.06410256410256414,0.16814159292035397,0.0810810810810811,0.34545454545454546,0.31438127090301016,2.7755575615628914e-17,0.0740740740740741,0.0,0.16666666666666652,0.048387096774193394,0.0,0.474137931034483,0.14285714285714288,0.14107883817427377,0.06986899563318774,0.3843283582089555,0.1388888888888889,0.5373134328358214,0.05000000000000007,0.009345794392523421,0.30107526881720453,0.13307984790874522,0.027777777777777818,2.7755575615628914e-17,0.07025761124121765,0.7512953367875651,0.11585365853658534,0.0704225352112676,0.27561837455830407,0.048872180451127734,0.04651162790697677,0.27759197324414703,0.017142857142857126,0.08620689655172417,0.10416666666666669,0.2160493827160494,0.1044444444444443,0.22067039106145236,0.11914893617021263,0.07142857142857144,0.006369426751592189],\"type\":\"bar\"},{\"name\":\"\\u041d\\u0435\\u043d\\u0443\\u043c. \\u0441\\u043f\\u0438\\u0441\\u043e\\u043a\",\"offset\":0,\"width\":[1,1,2,9,10,24,40,69,114,156,113,111,165,299,41,162,8,330,310,8,464,161,241,228,268,180,268,120,107,187,263,72,32,427,193,164,213,283,266,129,299,175,58,96,162,450,358,470,252,471],\"x\":[0,1,2,4,13,23,47,87,156,270,426,539,650,815,1114,1155,1317,1325,1655,1965,1973,2437,2598,2839,3067,3335,3515,3783,3903,4010,4197,4460,4532,4564,4991,5184,5348,5561,5844,6110,6239,6538,6713,6771,6867,7029,7479,7837,8307,8559],\"y\":[0.0,1.0,1.5,1.1111111111111112,0.3999999999999999,2.166666666666666,6.6000000000000005,1.6231884057971013,0.7105263157894736,0.8141025641025641,1.7256637168141595,2.09009009009009,1.2181818181818183,0.8428093645484952,11.682926829268293,1.4814814814814814,0.1250000000000001,1.0333333333333332,0.3806451612903231,44.62499999999999,0.6250000000000004,1.1055900621118013,0.7966804979253113,1.2838427947598254,1.205223880597015,2.3500000000000005,1.376865671641791,1.0583333333333331,0.28037383177570097,1.446236559139785,0.8783269961977186,1.3888888888888888,12.031249999999998,0.4566744730679162,0.8134715025906736,0.47560975609756106,0.36619718309859184,0.6219081272084808,0.7518796992481204,7.139534883720927,0.9063545150501672,0.4971428571428571,8.706896551724137,0.375,0.462962962962963,0.3133333333333339,0.7011173184357543,0.1808510638297871,0.33730158730158777,0.16348195329087067],\"type\":\"bar\"},{\"name\":\"\\u041d\\u0443\\u043c. \\u0441\\u043f\\u0438\\u0441\\u043e\\u043a\",\"offset\":0,\"width\":[1,1,2,9,10,24,40,69,114,156,113,111,165,299,41,162,8,330,310,8,464,161,241,228,268,180,268,120,107,187,263,72,32,427,193,164,213,283,266,129,299,175,58,96,162,450,358,470,252,471],\"x\":[0,1,2,4,13,23,47,87,156,270,426,539,650,815,1114,1155,1317,1325,1655,1965,1973,2437,2598,2839,3067,3335,3515,3783,3903,4010,4197,4460,4532,4564,4991,5184,5348,5561,5844,6110,6239,6538,6713,6771,6867,7029,7479,7837,8307,8559],\"y\":[0.0,0.0,0.0,1.8888888888888888,2.4000000000000004,1.1666666666666665,0.825,0.855072463768116,0.9210526315789473,0.012820512820512886,2.7168141592920354,0.25225225225225234,0.6666666666666666,0.5518394648829432,1.048780487804878,0.46913580246913583,0.75,1.106060606060606,0.016129032258064613,0.0,0.6939655172413793,0.2919254658385093,1.3195020746887967,0.4148471615720525,0.3917910447761194,0.19444444444444442,1.007462686567164,0.08333333333333337,0.22429906542056088,0.19892473118279574,0.49429657794676807,11.08333333333333,0.53125,0.07728337236533955,0.20725388601036265,8.841463414634141,0.10328638497652576,0.06713780918727918,0.09774436090225569,0.16279069767441856,0.12374581939799334,11.559999999999995,2.362068965517241,0.01041666666666674,0.33333333333333337,0.10444444444444434,0.17877094972067042,0.2638297872340425,0.4166666666666667,0.1316348195329088],\"type\":\"bar\"},{\"name\":\"\\u0417\\u0430\\u0433\\u043e\\u043b\\u043e\\u0432\\u043e\\u043a\",\"offset\":0,\"width\":[1,1,2,9,10,24,40,69,114,156,113,111,165,299,41,162,8,330,310,8,464,161,241,228,268,180,268,120,107,187,263,72,32,427,193,164,213,283,266,129,299,175,58,96,162,450,358,470,252,471],\"x\":[0,1,2,4,13,23,47,87,156,270,426,539,650,815,1114,1155,1317,1325,1655,1965,1973,2437,2598,2839,3067,3335,3515,3783,3903,4010,4197,4460,4532,4564,4991,5184,5348,5561,5844,6110,6239,6538,6713,6771,6867,7029,7479,7837,8307,8559],\"y\":[0.0,2.0,0.5,0.7777777777777781,16.3,4.666666666666667,6.9,4.086956521739131,1.6491228070175437,14.756410256410257,0.9646017699115039,11.882882882882884,1.4060606060606053,0.6588628762541786,16.29268292682927,10.234567901234566,64.625,0.6606060606060593,9.854838709677423,4.5,0.7413793103448265,9.161490683229813,0.817427385892115,9.117903930131002,0.6007462686567151,8.566666666666665,0.7388059701492522,13.633333333333331,18.869158878504674,7.209677419354837,0.8212927756653983,0.916666666666667,9.906249999999998,9.393442622950827,0.6891191709844549,9.152439024390242,0.6760563380281672,1.2685512367491145,7.052631578947366,1.0155038759689914,0.986622073578594,0.4171428571428559,0.827586206896552,11.156249999999998,4.518518518518518,0.7177777777777767,0.5279329608938528,0.46170212765957386,1.5992063492063484,2.220446049250313e-15],\"type\":\"bar\"},{\"name\":\"\\u041f\\u0430\\u0440\\u0430\\u0433\\u0440\\u0430\\u0444\",\"offset\":0,\"width\":[1,1,2,9,10,24,40,69,114,156,113,111,165,299,41,162,8,330,310,8,464,161,241,228,268,180,268,120,107,187,263,72,32,427,193,164,213,283,266,129,299,175,58,96,162,450,358,470,252,471],\"x\":[0,1,2,4,13,23,47,87,156,270,426,539,650,815,1114,1155,1317,1325,1655,1965,1973,2437,2598,2839,3067,3335,3515,3783,3903,4010,4197,4460,4532,4564,4991,5184,5348,5561,5844,6110,6239,6538,6713,6771,6867,7029,7479,7837,8307,8559],\"y\":[292.0,288.0,282.5,253.2222222222222,221.70000000000002,187.24999999999997,155.875,131.56521739130434,114.02631578947367,98.74999999999997,99.68141592920352,77.98198198198196,88.58787878787878,78.49498327759198,51.34146341463415,65.88888888888887,10.625000000000004,70.12121212121212,56.23548387096773,15.5,58.02155172413792,44.88198757763975,49.66804979253111,35.58951965065502,41.67537313432835,28.00555555555556,34.048507462686565,20.633333333333336,14.542056074766354,21.09139784946236,27.31939163498099,12.750000000000004,3.3750000000000036,14.683840749414504,22.17616580310881,3.158536585365841,19.14553990610328,15.94699646643108,9.785714285714274,8.426356589147279,12.765886287625403,1.857142857142847,1.672413793103452,1.8020833333333286,5.432098765432087,9.204444444444434,6.036312849161991,2.7170212765957586,1.1309523809523654,0.9426751592356979],\"type\":\"bar\"}],                        {\"template\":{\"data\":{\"histogram2dcontour\":[{\"type\":\"histogram2dcontour\",\"colorbar\":{\"outlinewidth\":0,\"ticks\":\"\"},\"colorscale\":[[0.0,\"#0d0887\"],[0.1111111111111111,\"#46039f\"],[0.2222222222222222,\"#7201a8\"],[0.3333333333333333,\"#9c179e\"],[0.4444444444444444,\"#bd3786\"],[0.5555555555555556,\"#d8576b\"],[0.6666666666666666,\"#ed7953\"],[0.7777777777777778,\"#fb9f3a\"],[0.8888888888888888,\"#fdca26\"],[1.0,\"#f0f921\"]]}],\"choropleth\":[{\"type\":\"choropleth\",\"colorbar\":{\"outlinewidth\":0,\"ticks\":\"\"}}],\"histogram2d\":[{\"type\":\"histogram2d\",\"colorbar\":{\"outlinewidth\":0,\"ticks\":\"\"},\"colorscale\":[[0.0,\"#0d0887\"],[0.1111111111111111,\"#46039f\"],[0.2222222222222222,\"#7201a8\"],[0.3333333333333333,\"#9c179e\"],[0.4444444444444444,\"#bd3786\"],[0.5555555555555556,\"#d8576b\"],[0.6666666666666666,\"#ed7953\"],[0.7777777777777778,\"#fb9f3a\"],[0.8888888888888888,\"#fdca26\"],[1.0,\"#f0f921\"]]}],\"heatmap\":[{\"type\":\"heatmap\",\"colorbar\":{\"outlinewidth\":0,\"ticks\":\"\"},\"colorscale\":[[0.0,\"#0d0887\"],[0.1111111111111111,\"#46039f\"],[0.2222222222222222,\"#7201a8\"],[0.3333333333333333,\"#9c179e\"],[0.4444444444444444,\"#bd3786\"],[0.5555555555555556,\"#d8576b\"],[0.6666666666666666,\"#ed7953\"],[0.7777777777777778,\"#fb9f3a\"],[0.8888888888888888,\"#fdca26\"],[1.0,\"#f0f921\"]]}],\"heatmapgl\":[{\"type\":\"heatmapgl\",\"colorbar\":{\"outlinewidth\":0,\"ticks\":\"\"},\"colorscale\":[[0.0,\"#0d0887\"],[0.1111111111111111,\"#46039f\"],[0.2222222222222222,\"#7201a8\"],[0.3333333333333333,\"#9c179e\"],[0.4444444444444444,\"#bd3786\"],[0.5555555555555556,\"#d8576b\"],[0.6666666666666666,\"#ed7953\"],[0.7777777777777778,\"#fb9f3a\"],[0.8888888888888888,\"#fdca26\"],[1.0,\"#f0f921\"]]}],\"contourcarpet\":[{\"type\":\"contourcarpet\",\"colorbar\":{\"outlinewidth\":0,\"ticks\":\"\"}}],\"contour\":[{\"type\":\"contour\",\"colorbar\":{\"outlinewidth\":0,\"ticks\":\"\"},\"colorscale\":[[0.0,\"#0d0887\"],[0.1111111111111111,\"#46039f\"],[0.2222222222222222,\"#7201a8\"],[0.3333333333333333,\"#9c179e\"],[0.4444444444444444,\"#bd3786\"],[0.5555555555555556,\"#d8576b\"],[0.6666666666666666,\"#ed7953\"],[0.7777777777777778,\"#fb9f3a\"],[0.8888888888888888,\"#fdca26\"],[1.0,\"#f0f921\"]]}],\"surface\":[{\"type\":\"surface\",\"colorbar\":{\"outlinewidth\":0,\"ticks\":\"\"},\"colorscale\":[[0.0,\"#0d0887\"],[0.1111111111111111,\"#46039f\"],[0.2222222222222222,\"#7201a8\"],[0.3333333333333333,\"#9c179e\"],[0.4444444444444444,\"#bd3786\"],[0.5555555555555556,\"#d8576b\"],[0.6666666666666666,\"#ed7953\"],[0.7777777777777778,\"#fb9f3a\"],[0.8888888888888888,\"#fdca26\"],[1.0,\"#f0f921\"]]}],\"mesh3d\":[{\"type\":\"mesh3d\",\"colorbar\":{\"outlinewidth\":0,\"ticks\":\"\"}}],\"scatter\":[{\"fillpattern\":{\"fillmode\":\"overlay\",\"size\":10,\"solidity\":0.2},\"type\":\"scatter\"}],\"parcoords\":[{\"type\":\"parcoords\",\"line\":{\"colorbar\":{\"outlinewidth\":0,\"ticks\":\"\"}}}],\"scatterpolargl\":[{\"type\":\"scatterpolargl\",\"marker\":{\"colorbar\":{\"outlinewidth\":0,\"ticks\":\"\"}}}],\"bar\":[{\"error_x\":{\"color\":\"#2a3f5f\"},\"error_y\":{\"color\":\"#2a3f5f\"},\"marker\":{\"line\":{\"color\":\"#E5ECF6\",\"width\":0.5},\"pattern\":{\"fillmode\":\"overlay\",\"size\":10,\"solidity\":0.2}},\"type\":\"bar\"}],\"scattergeo\":[{\"type\":\"scattergeo\",\"marker\":{\"colorbar\":{\"outlinewidth\":0,\"ticks\":\"\"}}}],\"scatterpolar\":[{\"type\":\"scatterpolar\",\"marker\":{\"colorbar\":{\"outlinewidth\":0,\"ticks\":\"\"}}}],\"histogram\":[{\"marker\":{\"pattern\":{\"fillmode\":\"overlay\",\"size\":10,\"solidity\":0.2}},\"type\":\"histogram\"}],\"scattergl\":[{\"type\":\"scattergl\",\"marker\":{\"colorbar\":{\"outlinewidth\":0,\"ticks\":\"\"}}}],\"scatter3d\":[{\"type\":\"scatter3d\",\"line\":{\"colorbar\":{\"outlinewidth\":0,\"ticks\":\"\"}},\"marker\":{\"colorbar\":{\"outlinewidth\":0,\"ticks\":\"\"}}}],\"scattermapbox\":[{\"type\":\"scattermapbox\",\"marker\":{\"colorbar\":{\"outlinewidth\":0,\"ticks\":\"\"}}}],\"scatterternary\":[{\"type\":\"scatterternary\",\"marker\":{\"colorbar\":{\"outlinewidth\":0,\"ticks\":\"\"}}}],\"scattercarpet\":[{\"type\":\"scattercarpet\",\"marker\":{\"colorbar\":{\"outlinewidth\":0,\"ticks\":\"\"}}}],\"carpet\":[{\"aaxis\":{\"endlinecolor\":\"#2a3f5f\",\"gridcolor\":\"white\",\"linecolor\":\"white\",\"minorgridcolor\":\"white\",\"startlinecolor\":\"#2a3f5f\"},\"baxis\":{\"endlinecolor\":\"#2a3f5f\",\"gridcolor\":\"white\",\"linecolor\":\"white\",\"minorgridcolor\":\"white\",\"startlinecolor\":\"#2a3f5f\"},\"type\":\"carpet\"}],\"table\":[{\"cells\":{\"fill\":{\"color\":\"#EBF0F8\"},\"line\":{\"color\":\"white\"}},\"header\":{\"fill\":{\"color\":\"#C8D4E3\"},\"line\":{\"color\":\"white\"}},\"type\":\"table\"}],\"barpolar\":[{\"marker\":{\"line\":{\"color\":\"#E5ECF6\",\"width\":0.5},\"pattern\":{\"fillmode\":\"overlay\",\"size\":10,\"solidity\":0.2}},\"type\":\"barpolar\"}],\"pie\":[{\"automargin\":true,\"type\":\"pie\"}]},\"layout\":{\"autotypenumbers\":\"strict\",\"colorway\":[\"#636efa\",\"#EF553B\",\"#00cc96\",\"#ab63fa\",\"#FFA15A\",\"#19d3f3\",\"#FF6692\",\"#B6E880\",\"#FF97FF\",\"#FECB52\"],\"font\":{\"color\":\"#2a3f5f\"},\"hovermode\":\"closest\",\"hoverlabel\":{\"align\":\"left\"},\"paper_bgcolor\":\"white\",\"plot_bgcolor\":\"#E5ECF6\",\"polar\":{\"bgcolor\":\"#E5ECF6\",\"angularaxis\":{\"gridcolor\":\"white\",\"linecolor\":\"white\",\"ticks\":\"\"},\"radialaxis\":{\"gridcolor\":\"white\",\"linecolor\":\"white\",\"ticks\":\"\"}},\"ternary\":{\"bgcolor\":\"#E5ECF6\",\"aaxis\":{\"gridcolor\":\"white\",\"linecolor\":\"white\",\"ticks\":\"\"},\"baxis\":{\"gridcolor\":\"white\",\"linecolor\":\"white\",\"ticks\":\"\"},\"caxis\":{\"gridcolor\":\"white\",\"linecolor\":\"white\",\"ticks\":\"\"}},\"coloraxis\":{\"colorbar\":{\"outlinewidth\":0,\"ticks\":\"\"}},\"colorscale\":{\"sequential\":[[0.0,\"#0d0887\"],[0.1111111111111111,\"#46039f\"],[0.2222222222222222,\"#7201a8\"],[0.3333333333333333,\"#9c179e\"],[0.4444444444444444,\"#bd3786\"],[0.5555555555555556,\"#d8576b\"],[0.6666666666666666,\"#ed7953\"],[0.7777777777777778,\"#fb9f3a\"],[0.8888888888888888,\"#fdca26\"],[1.0,\"#f0f921\"]],\"sequentialminus\":[[0.0,\"#0d0887\"],[0.1111111111111111,\"#46039f\"],[0.2222222222222222,\"#7201a8\"],[0.3333333333333333,\"#9c179e\"],[0.4444444444444444,\"#bd3786\"],[0.5555555555555556,\"#d8576b\"],[0.6666666666666666,\"#ed7953\"],[0.7777777777777778,\"#fb9f3a\"],[0.8888888888888888,\"#fdca26\"],[1.0,\"#f0f921\"]],\"diverging\":[[0,\"#8e0152\"],[0.1,\"#c51b7d\"],[0.2,\"#de77ae\"],[0.3,\"#f1b6da\"],[0.4,\"#fde0ef\"],[0.5,\"#f7f7f7\"],[0.6,\"#e6f5d0\"],[0.7,\"#b8e186\"],[0.8,\"#7fbc41\"],[0.9,\"#4d9221\"],[1,\"#276419\"]]},\"xaxis\":{\"gridcolor\":\"white\",\"linecolor\":\"white\",\"ticks\":\"\",\"title\":{\"standoff\":15},\"zerolinecolor\":\"white\",\"automargin\":true,\"zerolinewidth\":2},\"yaxis\":{\"gridcolor\":\"white\",\"linecolor\":\"white\",\"ticks\":\"\",\"title\":{\"standoff\":15},\"zerolinecolor\":\"white\",\"automargin\":true,\"zerolinewidth\":2},\"scene\":{\"xaxis\":{\"backgroundcolor\":\"#E5ECF6\",\"gridcolor\":\"white\",\"linecolor\":\"white\",\"showbackground\":true,\"ticks\":\"\",\"zerolinecolor\":\"white\",\"gridwidth\":2},\"yaxis\":{\"backgroundcolor\":\"#E5ECF6\",\"gridcolor\":\"white\",\"linecolor\":\"white\",\"showbackground\":true,\"ticks\":\"\",\"zerolinecolor\":\"white\",\"gridwidth\":2},\"zaxis\":{\"backgroundcolor\":\"#E5ECF6\",\"gridcolor\":\"white\",\"linecolor\":\"white\",\"showbackground\":true,\"ticks\":\"\",\"zerolinecolor\":\"white\",\"gridwidth\":2}},\"shapedefaults\":{\"line\":{\"color\":\"#2a3f5f\"}},\"annotationdefaults\":{\"arrowcolor\":\"#2a3f5f\",\"arrowhead\":0,\"arrowwidth\":1},\"geo\":{\"bgcolor\":\"white\",\"landcolor\":\"#E5ECF6\",\"subunitcolor\":\"white\",\"showland\":true,\"showlakes\":true,\"lakecolor\":\"white\"},\"title\":{\"x\":0.05},\"mapbox\":{\"style\":\"light\"}}},\"font\":{\"family\":\"Times New Roman\",\"size\":20,\"color\":\"black\"},\"margin\":{\"pad\":10},\"plot_bgcolor\":\"rgba(0, 0, 0, 0)\",\"colorway\":[\"rgba(244, 67, 54, 1.0)\",\"rgba(232, 30, 99, 1.0)\",\"rgba(156, 39, 176, 1.0)\",\"rgba(103, 58, 183, 1.0)\",\"rgba(63, 81, 181, 1.0)\",\"rgba(33, 150, 243, 1.0)\",\"rgba(3, 169, 244, 1.0)\",\"rgba(0, 188, 212, 1.0)\",\"rgba(0, 150, 136, 1.0)\",\"rgba(76, 175, 80, 1.0)\",\"rgba(139, 195, 74, 1.0)\",\"rgba(205, 220, 57, 1.0)\",\"rgba(255, 235, 59, 1.0)\",\"rgba(255, 193, 7, 1.0)\",\"rgba(255, 152, 0, 1.0)\",\"rgba(255, 87, 34, 1.0)\"],\"barmode\":\"stack\",\"width\":1600,\"height\":900,\"xaxis\":{\"title\":{\"font\":{\"family\":\"Times New Roman\",\"size\":25,\"color\":\"black\"},\"text\":\"\\u041a\\u043b\\u0430\\u0441\\u0442\\u0435\\u0440\\u044b \\u043f\\u043e\\u043b\\u0438\\u0442\\u0438\\u043a \\u0431\\u0435\\u0437\\u043e\\u043f\\u0430\\u0441\\u043d\\u043e\\u0441\\u0442\\u0438\"},\"zerolinecolor\":\"lightgrey\",\"gridcolor\":\"lightgrey\",\"tickformat\":\"000\",\"showgrid\":true,\"tickangle\":0,\"ticklen\":10},\"yaxis\":{\"title\":{\"font\":{\"family\":\"Times New Roman\",\"size\":25,\"color\":\"black\"},\"text\":\"\\u041a\\u043e\\u043b\\u0438\\u0447\\u0435\\u0441\\u0442\\u0432\\u043e \\u0441\\u0442\\u0440\\u0443\\u043a\\u0442\\u0443\\u0440\\u043d\\u044b\\u0445 \\u044d\\u043b\\u0435\\u043c\\u0435\\u043d\\u0442\\u043e\\u0432\"},\"range\":[0,292],\"zerolinecolor\":\"lightgrey\",\"gridcolor\":\"lightgrey\",\"tickformat\":\"000\",\"showgrid\":true,\"tickangle\":0,\"ticklen\":10}},                        {\"responsive\": true}                    ).then(function(){\n",
       "                            \n",
       "var gd = document.getElementById('125267c9-6f2b-4000-8945-b1adeee98e9e');\n",
       "var x = new MutationObserver(function (mutations, observer) {{\n",
       "        var display = window.getComputedStyle(gd).display;\n",
       "        if (!display || display === 'none') {{\n",
       "            console.log([gd, 'removed!']);\n",
       "            Plotly.purge(gd);\n",
       "            observer.disconnect();\n",
       "        }}\n",
       "}});\n",
       "\n",
       "// Listen for the removal of the full notebook cells\n",
       "var notebookContainer = gd.closest('#notebook-container');\n",
       "if (notebookContainer) {{\n",
       "    x.observe(notebookContainer, {childList: true});\n",
       "}}\n",
       "\n",
       "// Listen for the clearing of the current output cell\n",
       "var outputEl = gd.closest('.output');\n",
       "if (outputEl) {{\n",
       "    x.observe(outputEl, {childList: true});\n",
       "}}\n",
       "\n",
       "                        })                };                });            </script>        </div>"
      ]
     },
     "metadata": {},
     "output_type": "display_data"
    }
   ],
   "source": [
    "import plotly.graph_objects as go\n",
    "\n",
    "from config import COLORS_D\n",
    "\n",
    "\n",
    "fig = go.Figure()\n",
    "\n",
    "for i, r in enumerate(sorted_clusters_cnt.transpose()):\n",
    "    fig.add_trace(\n",
    "        go.Bar(\n",
    "            x=np.cumsum(sorted_widths)-sorted_widths, y=r,\n",
    "            name=KEYS[i].capitalize(),\n",
    "            width=sorted_widths,\n",
    "            offset=0))\n",
    "\n",
    "fig.update_layout(\n",
    "    font=dict(family='Times New Roman', size=20, color='black'),\n",
    "    plot_bgcolor='rgba(0, 0, 0, 0)',\n",
    "    margin=dict(pad=10),\n",
    "    colorway=COLORS_D,\n",
    "    barmode='stack',\n",
    "    width=1600,\n",
    "    height=900)\n",
    "\n",
    "fig.update_xaxes(\n",
    "    title=dict(\n",
    "        font=dict(family='Times New Roman', size=25, color='black'),\n",
    "        text='Кластеры политик безопасности'),\n",
    "    zerolinecolor='lightgrey',\n",
    "    gridcolor='lightgrey',\n",
    "    tickformat='000', \n",
    "    showgrid=True, \n",
    "    tickangle=0,\n",
    "    ticklen=10)\n",
    "\n",
    "fig.update_yaxes(\n",
    "    title=dict(\n",
    "        font=dict(family='Times New Roman', size=25, color='black'),\n",
    "        text='Количество структурных элементов'),\n",
    "    range=[0, max([sum(s) for s in scores])],\n",
    "    zerolinecolor='lightgrey',\n",
    "    gridcolor='lightgrey',\n",
    "    tickformat='000',\n",
    "    showgrid=True, \n",
    "    tickangle=0, \n",
    "    ticklen=10)\n",
    "\n",
    "fig"
   ]
  },
  {
   "cell_type": "code",
   "execution_count": 35,
   "id": "526bb2d6-b1af-423f-a75a-c298d13b3b9e",
   "metadata": {
    "execution": {
     "iopub.execute_input": "2024-05-11T14:21:24.290876Z",
     "iopub.status.busy": "2024-05-11T14:21:24.290574Z",
     "iopub.status.idle": "2024-05-11T14:21:26.469355Z",
     "shell.execute_reply": "2024-05-11T14:21:26.468906Z"
    },
    "papermill": {
     "duration": 2.248613,
     "end_time": "2024-05-11T14:21:26.470351",
     "exception": false,
     "start_time": "2024-05-11T14:21:24.221738",
     "status": "completed"
    },
    "tags": []
   },
   "outputs": [],
   "source": [
    "fig.write_image(f'{PICTURES}/structure_by_1_kmeans.png')"
   ]
  }
 ],
 "metadata": {
  "kernelspec": {
   "display_name": "Python 3 (ipykernel)",
   "language": "python",
   "name": "python3"
  },
  "language_info": {
   "codemirror_mode": {
    "name": "ipython",
    "version": 3
   },
   "file_extension": ".py",
   "mimetype": "text/x-python",
   "name": "python",
   "nbconvert_exporter": "python",
   "pygments_lexer": "ipython3",
   "version": "3.12.3"
  },
  "papermill": {
   "duration": 12.387264,
   "end_time": "2024-05-11T14:21:29.117783",
   "exception": null,
   "input_path": "/tmp/tmpeyzi5ns4.ipynb",
   "output_path": "notebooks/structure_by_1_kmeans.ipynb",
   "parameters": {
    "product": "notebooks/structure_by_1_kmeans.ipynb"
   },
   "start_time": "2024-05-11T14:21:16.730519"
  }
 },
 "nbformat": 4,
 "nbformat_minor": 5
}
