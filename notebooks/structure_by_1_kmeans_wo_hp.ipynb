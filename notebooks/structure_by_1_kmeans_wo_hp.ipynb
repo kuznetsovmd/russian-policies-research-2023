{
 "cells": [
  {
   "cell_type": "code",
   "execution_count": 1,
   "id": "eb646f1e",
   "metadata": {
    "papermill": {
     "duration": null,
     "end_time": null,
     "exception": null,
     "start_time": null,
     "status": "completed"
    },
    "tags": [
     "injected-parameters"
    ]
   },
   "outputs": [],
   "source": [
    "# Parameters\n",
    "product = \"notebooks/structure_by_1_kmeans_wo_hp.ipynb\"\n"
   ]
  },
  {
   "cell_type": "code",
   "execution_count": 2,
   "id": "43ee2df7",
   "metadata": {
    "execution": {
     "iopub.execute_input": "2024-06-13T18:37:04.328220Z",
     "iopub.status.busy": "2024-06-13T18:37:04.327748Z",
     "iopub.status.idle": "2024-06-13T18:37:04.334082Z",
     "shell.execute_reply": "2024-06-13T18:37:04.332914Z"
    },
    "papermill": {
     "duration": null,
     "end_time": null,
     "exception": null,
     "start_time": null,
     "status": "completed"
    },
    "tags": []
   },
   "outputs": [],
   "source": [
    "import __path__"
   ]
  },
  {
   "cell_type": "code",
   "execution_count": 3,
   "id": "53c3ec90",
   "metadata": {
    "execution": {
     "iopub.execute_input": "2024-06-13T18:37:04.342928Z",
     "iopub.status.busy": "2024-06-13T18:37:04.342686Z",
     "iopub.status.idle": "2024-06-13T18:37:05.178281Z",
     "shell.execute_reply": "2024-06-13T18:37:05.177803Z"
    },
    "papermill": {
     "duration": null,
     "end_time": null,
     "exception": null,
     "start_time": null,
     "status": "completed"
    },
    "tags": []
   },
   "outputs": [],
   "source": [
    "from config import MAIN_EXPERIMENT\n",
    "\n",
    "\n",
    "MAX_SCORE = MAIN_EXPERIMENT.nb_args[product]\n",
    "KMEANS_HYPERPARAMS = MAIN_EXPERIMENT.kmeans_hyperparams\n",
    "DESCRIPTOR = MAIN_EXPERIMENT.dataset.descriptor\n",
    "PICTURES = MAIN_EXPERIMENT.pictures"
   ]
  },
  {
   "cell_type": "code",
   "execution_count": 4,
   "id": "85c6c0ef",
   "metadata": {
    "execution": {
     "iopub.execute_input": "2024-06-13T18:37:05.189618Z",
     "iopub.status.busy": "2024-06-13T18:37:05.189288Z",
     "iopub.status.idle": "2024-06-13T18:37:05.654023Z",
     "shell.execute_reply": "2024-06-13T18:37:05.653638Z"
    },
    "papermill": {
     "duration": null,
     "end_time": null,
     "exception": null,
     "start_time": null,
     "status": "completed"
    },
    "tags": []
   },
   "outputs": [
    {
     "name": "stdout",
     "output_type": "stream",
     "text": [
      "/mnt/Source/kuznetsovmd/ppr-sanitization/resources/finalized/output.json\n"
     ]
    },
    {
     "data": {
      "text/plain": [
       "[{'length': 8472,\n",
       "  'tables': 0,\n",
       "  'ordered lists': 0,\n",
       "  'unordered lists': 6,\n",
       "  'headings': 0,\n",
       "  'paragraphs': 10},\n",
       " {'length': 8493,\n",
       "  'tables': 0,\n",
       "  'ordered lists': 0,\n",
       "  'unordered lists': 0,\n",
       "  'headings': 9,\n",
       "  'paragraphs': 34},\n",
       " {'length': 12282,\n",
       "  'tables': 0,\n",
       "  'ordered lists': 2,\n",
       "  'unordered lists': 12,\n",
       "  'headings': 10,\n",
       "  'paragraphs': 4},\n",
       " {'length': 12597,\n",
       "  'tables': 0,\n",
       "  'ordered lists': 0,\n",
       "  'unordered lists': 1,\n",
       "  'headings': 10,\n",
       "  'paragraphs': 67},\n",
       " {'length': 10087,\n",
       "  'tables': 0,\n",
       "  'ordered lists': 0,\n",
       "  'unordered lists': 11,\n",
       "  'headings': 6,\n",
       "  'paragraphs': 8}]"
      ]
     },
     "execution_count": 4,
     "metadata": {},
     "output_type": "execute_result"
    }
   ],
   "source": [
    "import json\n",
    "\n",
    "from src.utils import resolve_stats\n",
    "\n",
    "\n",
    "KEYS = ['Таблица', 'Ненум. список', 'Нум. список', 'Заголовок']\n",
    "ALLOWED = ['tables', 'unordered lists', 'ordered lists', 'headings']\n",
    "\n",
    "with open(DESCRIPTOR, 'r', encoding='utf-8') as f:\n",
    "    stats = json.load(f)\n",
    "\n",
    "hashes = []\n",
    "unique_stats = []\n",
    "for s in stats:\n",
    "    if s['policy_hash'] not in hashes and s['statistics'] is not None:\n",
    "        hashes.append(s['policy_hash'])\n",
    "        unique_stats.append(resolve_stats(s['statistics']))\n",
    "\n",
    "print(DESCRIPTOR) \n",
    "unique_stats[:5]"
   ]
  },
  {
   "cell_type": "code",
   "execution_count": 5,
   "id": "a907f391-75bd-40cc-9d3b-2437214fe806",
   "metadata": {
    "execution": {
     "iopub.execute_input": "2024-06-13T18:37:05.987584Z",
     "iopub.status.busy": "2024-06-13T18:37:05.987175Z",
     "iopub.status.idle": "2024-06-13T18:37:06.014243Z",
     "shell.execute_reply": "2024-06-13T18:37:06.013843Z"
    },
    "papermill": {
     "duration": null,
     "end_time": null,
     "exception": null,
     "start_time": null,
     "status": "completed"
    },
    "tags": []
   },
   "outputs": [],
   "source": [
    "import numpy as np\n",
    "\n",
    "\n",
    "scores = np.zeros((len(unique_stats), 4), dtype='int')\n",
    "\n",
    "for id, us in enumerate(unique_stats):\n",
    "    for i, k in enumerate(ALLOWED):\n",
    "        scores[id, i] = us[k]\n",
    "\n",
    "scores = np.array([s for s in scores if sum(s) < MAX_SCORE])"
   ]
  },
  {
   "cell_type": "code",
   "execution_count": 6,
   "id": "ad8c8527-5dc7-431d-bc3a-880deb8198d2",
   "metadata": {
    "execution": {
     "iopub.execute_input": "2024-06-13T18:37:06.561855Z",
     "iopub.status.busy": "2024-06-13T18:37:06.561498Z",
     "iopub.status.idle": "2024-06-13T18:37:13.290148Z",
     "shell.execute_reply": "2024-06-13T18:37:13.289595Z"
    },
    "papermill": {
     "duration": null,
     "end_time": null,
     "exception": null,
     "start_time": null,
     "status": "completed"
    },
    "tags": []
   },
   "outputs": [],
   "source": [
    "from sklearn.cluster import KMeans\n",
    "\n",
    "\n",
    "kmeans = KMeans(**KMEANS_HYPERPARAMS)"
   ]
  },
  {
   "cell_type": "code",
   "execution_count": 7,
   "id": "03b37724-0b4b-4fe9-8094-12b58103d829",
   "metadata": {
    "execution": {
     "iopub.execute_input": "2024-06-13T18:37:13.561991Z",
     "iopub.status.busy": "2024-06-13T18:37:13.561679Z",
     "iopub.status.idle": "2024-06-13T18:37:13.880820Z",
     "shell.execute_reply": "2024-06-13T18:37:13.880529Z"
    },
    "papermill": {
     "duration": null,
     "end_time": null,
     "exception": null,
     "start_time": null,
     "status": "completed"
    },
    "tags": []
   },
   "outputs": [
    {
     "data": {
      "text/html": [
       "<style>#sk-container-id-1 {\n",
       "  /* Definition of color scheme common for light and dark mode */\n",
       "  --sklearn-color-text: black;\n",
       "  --sklearn-color-line: gray;\n",
       "  /* Definition of color scheme for unfitted estimators */\n",
       "  --sklearn-color-unfitted-level-0: #fff5e6;\n",
       "  --sklearn-color-unfitted-level-1: #f6e4d2;\n",
       "  --sklearn-color-unfitted-level-2: #ffe0b3;\n",
       "  --sklearn-color-unfitted-level-3: chocolate;\n",
       "  /* Definition of color scheme for fitted estimators */\n",
       "  --sklearn-color-fitted-level-0: #f0f8ff;\n",
       "  --sklearn-color-fitted-level-1: #d4ebff;\n",
       "  --sklearn-color-fitted-level-2: #b3dbfd;\n",
       "  --sklearn-color-fitted-level-3: cornflowerblue;\n",
       "\n",
       "  /* Specific color for light theme */\n",
       "  --sklearn-color-text-on-default-background: var(--sg-text-color, var(--theme-code-foreground, var(--jp-content-font-color1, black)));\n",
       "  --sklearn-color-background: var(--sg-background-color, var(--theme-background, var(--jp-layout-color0, white)));\n",
       "  --sklearn-color-border-box: var(--sg-text-color, var(--theme-code-foreground, var(--jp-content-font-color1, black)));\n",
       "  --sklearn-color-icon: #696969;\n",
       "\n",
       "  @media (prefers-color-scheme: dark) {\n",
       "    /* Redefinition of color scheme for dark theme */\n",
       "    --sklearn-color-text-on-default-background: var(--sg-text-color, var(--theme-code-foreground, var(--jp-content-font-color1, white)));\n",
       "    --sklearn-color-background: var(--sg-background-color, var(--theme-background, var(--jp-layout-color0, #111)));\n",
       "    --sklearn-color-border-box: var(--sg-text-color, var(--theme-code-foreground, var(--jp-content-font-color1, white)));\n",
       "    --sklearn-color-icon: #878787;\n",
       "  }\n",
       "}\n",
       "\n",
       "#sk-container-id-1 {\n",
       "  color: var(--sklearn-color-text);\n",
       "}\n",
       "\n",
       "#sk-container-id-1 pre {\n",
       "  padding: 0;\n",
       "}\n",
       "\n",
       "#sk-container-id-1 input.sk-hidden--visually {\n",
       "  border: 0;\n",
       "  clip: rect(1px 1px 1px 1px);\n",
       "  clip: rect(1px, 1px, 1px, 1px);\n",
       "  height: 1px;\n",
       "  margin: -1px;\n",
       "  overflow: hidden;\n",
       "  padding: 0;\n",
       "  position: absolute;\n",
       "  width: 1px;\n",
       "}\n",
       "\n",
       "#sk-container-id-1 div.sk-dashed-wrapped {\n",
       "  border: 1px dashed var(--sklearn-color-line);\n",
       "  margin: 0 0.4em 0.5em 0.4em;\n",
       "  box-sizing: border-box;\n",
       "  padding-bottom: 0.4em;\n",
       "  background-color: var(--sklearn-color-background);\n",
       "}\n",
       "\n",
       "#sk-container-id-1 div.sk-container {\n",
       "  /* jupyter's `normalize.less` sets `[hidden] { display: none; }`\n",
       "     but bootstrap.min.css set `[hidden] { display: none !important; }`\n",
       "     so we also need the `!important` here to be able to override the\n",
       "     default hidden behavior on the sphinx rendered scikit-learn.org.\n",
       "     See: https://github.com/scikit-learn/scikit-learn/issues/21755 */\n",
       "  display: inline-block !important;\n",
       "  position: relative;\n",
       "}\n",
       "\n",
       "#sk-container-id-1 div.sk-text-repr-fallback {\n",
       "  display: none;\n",
       "}\n",
       "\n",
       "div.sk-parallel-item,\n",
       "div.sk-serial,\n",
       "div.sk-item {\n",
       "  /* draw centered vertical line to link estimators */\n",
       "  background-image: linear-gradient(var(--sklearn-color-text-on-default-background), var(--sklearn-color-text-on-default-background));\n",
       "  background-size: 2px 100%;\n",
       "  background-repeat: no-repeat;\n",
       "  background-position: center center;\n",
       "}\n",
       "\n",
       "/* Parallel-specific style estimator block */\n",
       "\n",
       "#sk-container-id-1 div.sk-parallel-item::after {\n",
       "  content: \"\";\n",
       "  width: 100%;\n",
       "  border-bottom: 2px solid var(--sklearn-color-text-on-default-background);\n",
       "  flex-grow: 1;\n",
       "}\n",
       "\n",
       "#sk-container-id-1 div.sk-parallel {\n",
       "  display: flex;\n",
       "  align-items: stretch;\n",
       "  justify-content: center;\n",
       "  background-color: var(--sklearn-color-background);\n",
       "  position: relative;\n",
       "}\n",
       "\n",
       "#sk-container-id-1 div.sk-parallel-item {\n",
       "  display: flex;\n",
       "  flex-direction: column;\n",
       "}\n",
       "\n",
       "#sk-container-id-1 div.sk-parallel-item:first-child::after {\n",
       "  align-self: flex-end;\n",
       "  width: 50%;\n",
       "}\n",
       "\n",
       "#sk-container-id-1 div.sk-parallel-item:last-child::after {\n",
       "  align-self: flex-start;\n",
       "  width: 50%;\n",
       "}\n",
       "\n",
       "#sk-container-id-1 div.sk-parallel-item:only-child::after {\n",
       "  width: 0;\n",
       "}\n",
       "\n",
       "/* Serial-specific style estimator block */\n",
       "\n",
       "#sk-container-id-1 div.sk-serial {\n",
       "  display: flex;\n",
       "  flex-direction: column;\n",
       "  align-items: center;\n",
       "  background-color: var(--sklearn-color-background);\n",
       "  padding-right: 1em;\n",
       "  padding-left: 1em;\n",
       "}\n",
       "\n",
       "\n",
       "/* Toggleable style: style used for estimator/Pipeline/ColumnTransformer box that is\n",
       "clickable and can be expanded/collapsed.\n",
       "- Pipeline and ColumnTransformer use this feature and define the default style\n",
       "- Estimators will overwrite some part of the style using the `sk-estimator` class\n",
       "*/\n",
       "\n",
       "/* Pipeline and ColumnTransformer style (default) */\n",
       "\n",
       "#sk-container-id-1 div.sk-toggleable {\n",
       "  /* Default theme specific background. It is overwritten whether we have a\n",
       "  specific estimator or a Pipeline/ColumnTransformer */\n",
       "  background-color: var(--sklearn-color-background);\n",
       "}\n",
       "\n",
       "/* Toggleable label */\n",
       "#sk-container-id-1 label.sk-toggleable__label {\n",
       "  cursor: pointer;\n",
       "  display: block;\n",
       "  width: 100%;\n",
       "  margin-bottom: 0;\n",
       "  padding: 0.5em;\n",
       "  box-sizing: border-box;\n",
       "  text-align: center;\n",
       "}\n",
       "\n",
       "#sk-container-id-1 label.sk-toggleable__label-arrow:before {\n",
       "  /* Arrow on the left of the label */\n",
       "  content: \"▸\";\n",
       "  float: left;\n",
       "  margin-right: 0.25em;\n",
       "  color: var(--sklearn-color-icon);\n",
       "}\n",
       "\n",
       "#sk-container-id-1 label.sk-toggleable__label-arrow:hover:before {\n",
       "  color: var(--sklearn-color-text);\n",
       "}\n",
       "\n",
       "/* Toggleable content - dropdown */\n",
       "\n",
       "#sk-container-id-1 div.sk-toggleable__content {\n",
       "  max-height: 0;\n",
       "  max-width: 0;\n",
       "  overflow: hidden;\n",
       "  text-align: left;\n",
       "  /* unfitted */\n",
       "  background-color: var(--sklearn-color-unfitted-level-0);\n",
       "}\n",
       "\n",
       "#sk-container-id-1 div.sk-toggleable__content.fitted {\n",
       "  /* fitted */\n",
       "  background-color: var(--sklearn-color-fitted-level-0);\n",
       "}\n",
       "\n",
       "#sk-container-id-1 div.sk-toggleable__content pre {\n",
       "  margin: 0.2em;\n",
       "  border-radius: 0.25em;\n",
       "  color: var(--sklearn-color-text);\n",
       "  /* unfitted */\n",
       "  background-color: var(--sklearn-color-unfitted-level-0);\n",
       "}\n",
       "\n",
       "#sk-container-id-1 div.sk-toggleable__content.fitted pre {\n",
       "  /* unfitted */\n",
       "  background-color: var(--sklearn-color-fitted-level-0);\n",
       "}\n",
       "\n",
       "#sk-container-id-1 input.sk-toggleable__control:checked~div.sk-toggleable__content {\n",
       "  /* Expand drop-down */\n",
       "  max-height: 200px;\n",
       "  max-width: 100%;\n",
       "  overflow: auto;\n",
       "}\n",
       "\n",
       "#sk-container-id-1 input.sk-toggleable__control:checked~label.sk-toggleable__label-arrow:before {\n",
       "  content: \"▾\";\n",
       "}\n",
       "\n",
       "/* Pipeline/ColumnTransformer-specific style */\n",
       "\n",
       "#sk-container-id-1 div.sk-label input.sk-toggleable__control:checked~label.sk-toggleable__label {\n",
       "  color: var(--sklearn-color-text);\n",
       "  background-color: var(--sklearn-color-unfitted-level-2);\n",
       "}\n",
       "\n",
       "#sk-container-id-1 div.sk-label.fitted input.sk-toggleable__control:checked~label.sk-toggleable__label {\n",
       "  background-color: var(--sklearn-color-fitted-level-2);\n",
       "}\n",
       "\n",
       "/* Estimator-specific style */\n",
       "\n",
       "/* Colorize estimator box */\n",
       "#sk-container-id-1 div.sk-estimator input.sk-toggleable__control:checked~label.sk-toggleable__label {\n",
       "  /* unfitted */\n",
       "  background-color: var(--sklearn-color-unfitted-level-2);\n",
       "}\n",
       "\n",
       "#sk-container-id-1 div.sk-estimator.fitted input.sk-toggleable__control:checked~label.sk-toggleable__label {\n",
       "  /* fitted */\n",
       "  background-color: var(--sklearn-color-fitted-level-2);\n",
       "}\n",
       "\n",
       "#sk-container-id-1 div.sk-label label.sk-toggleable__label,\n",
       "#sk-container-id-1 div.sk-label label {\n",
       "  /* The background is the default theme color */\n",
       "  color: var(--sklearn-color-text-on-default-background);\n",
       "}\n",
       "\n",
       "/* On hover, darken the color of the background */\n",
       "#sk-container-id-1 div.sk-label:hover label.sk-toggleable__label {\n",
       "  color: var(--sklearn-color-text);\n",
       "  background-color: var(--sklearn-color-unfitted-level-2);\n",
       "}\n",
       "\n",
       "/* Label box, darken color on hover, fitted */\n",
       "#sk-container-id-1 div.sk-label.fitted:hover label.sk-toggleable__label.fitted {\n",
       "  color: var(--sklearn-color-text);\n",
       "  background-color: var(--sklearn-color-fitted-level-2);\n",
       "}\n",
       "\n",
       "/* Estimator label */\n",
       "\n",
       "#sk-container-id-1 div.sk-label label {\n",
       "  font-family: monospace;\n",
       "  font-weight: bold;\n",
       "  display: inline-block;\n",
       "  line-height: 1.2em;\n",
       "}\n",
       "\n",
       "#sk-container-id-1 div.sk-label-container {\n",
       "  text-align: center;\n",
       "}\n",
       "\n",
       "/* Estimator-specific */\n",
       "#sk-container-id-1 div.sk-estimator {\n",
       "  font-family: monospace;\n",
       "  border: 1px dotted var(--sklearn-color-border-box);\n",
       "  border-radius: 0.25em;\n",
       "  box-sizing: border-box;\n",
       "  margin-bottom: 0.5em;\n",
       "  /* unfitted */\n",
       "  background-color: var(--sklearn-color-unfitted-level-0);\n",
       "}\n",
       "\n",
       "#sk-container-id-1 div.sk-estimator.fitted {\n",
       "  /* fitted */\n",
       "  background-color: var(--sklearn-color-fitted-level-0);\n",
       "}\n",
       "\n",
       "/* on hover */\n",
       "#sk-container-id-1 div.sk-estimator:hover {\n",
       "  /* unfitted */\n",
       "  background-color: var(--sklearn-color-unfitted-level-2);\n",
       "}\n",
       "\n",
       "#sk-container-id-1 div.sk-estimator.fitted:hover {\n",
       "  /* fitted */\n",
       "  background-color: var(--sklearn-color-fitted-level-2);\n",
       "}\n",
       "\n",
       "/* Specification for estimator info (e.g. \"i\" and \"?\") */\n",
       "\n",
       "/* Common style for \"i\" and \"?\" */\n",
       "\n",
       ".sk-estimator-doc-link,\n",
       "a:link.sk-estimator-doc-link,\n",
       "a:visited.sk-estimator-doc-link {\n",
       "  float: right;\n",
       "  font-size: smaller;\n",
       "  line-height: 1em;\n",
       "  font-family: monospace;\n",
       "  background-color: var(--sklearn-color-background);\n",
       "  border-radius: 1em;\n",
       "  height: 1em;\n",
       "  width: 1em;\n",
       "  text-decoration: none !important;\n",
       "  margin-left: 1ex;\n",
       "  /* unfitted */\n",
       "  border: var(--sklearn-color-unfitted-level-1) 1pt solid;\n",
       "  color: var(--sklearn-color-unfitted-level-1);\n",
       "}\n",
       "\n",
       ".sk-estimator-doc-link.fitted,\n",
       "a:link.sk-estimator-doc-link.fitted,\n",
       "a:visited.sk-estimator-doc-link.fitted {\n",
       "  /* fitted */\n",
       "  border: var(--sklearn-color-fitted-level-1) 1pt solid;\n",
       "  color: var(--sklearn-color-fitted-level-1);\n",
       "}\n",
       "\n",
       "/* On hover */\n",
       "div.sk-estimator:hover .sk-estimator-doc-link:hover,\n",
       ".sk-estimator-doc-link:hover,\n",
       "div.sk-label-container:hover .sk-estimator-doc-link:hover,\n",
       ".sk-estimator-doc-link:hover {\n",
       "  /* unfitted */\n",
       "  background-color: var(--sklearn-color-unfitted-level-3);\n",
       "  color: var(--sklearn-color-background);\n",
       "  text-decoration: none;\n",
       "}\n",
       "\n",
       "div.sk-estimator.fitted:hover .sk-estimator-doc-link.fitted:hover,\n",
       ".sk-estimator-doc-link.fitted:hover,\n",
       "div.sk-label-container:hover .sk-estimator-doc-link.fitted:hover,\n",
       ".sk-estimator-doc-link.fitted:hover {\n",
       "  /* fitted */\n",
       "  background-color: var(--sklearn-color-fitted-level-3);\n",
       "  color: var(--sklearn-color-background);\n",
       "  text-decoration: none;\n",
       "}\n",
       "\n",
       "/* Span, style for the box shown on hovering the info icon */\n",
       ".sk-estimator-doc-link span {\n",
       "  display: none;\n",
       "  z-index: 9999;\n",
       "  position: relative;\n",
       "  font-weight: normal;\n",
       "  right: .2ex;\n",
       "  padding: .5ex;\n",
       "  margin: .5ex;\n",
       "  width: min-content;\n",
       "  min-width: 20ex;\n",
       "  max-width: 50ex;\n",
       "  color: var(--sklearn-color-text);\n",
       "  box-shadow: 2pt 2pt 4pt #999;\n",
       "  /* unfitted */\n",
       "  background: var(--sklearn-color-unfitted-level-0);\n",
       "  border: .5pt solid var(--sklearn-color-unfitted-level-3);\n",
       "}\n",
       "\n",
       ".sk-estimator-doc-link.fitted span {\n",
       "  /* fitted */\n",
       "  background: var(--sklearn-color-fitted-level-0);\n",
       "  border: var(--sklearn-color-fitted-level-3);\n",
       "}\n",
       "\n",
       ".sk-estimator-doc-link:hover span {\n",
       "  display: block;\n",
       "}\n",
       "\n",
       "/* \"?\"-specific style due to the `<a>` HTML tag */\n",
       "\n",
       "#sk-container-id-1 a.estimator_doc_link {\n",
       "  float: right;\n",
       "  font-size: 1rem;\n",
       "  line-height: 1em;\n",
       "  font-family: monospace;\n",
       "  background-color: var(--sklearn-color-background);\n",
       "  border-radius: 1rem;\n",
       "  height: 1rem;\n",
       "  width: 1rem;\n",
       "  text-decoration: none;\n",
       "  /* unfitted */\n",
       "  color: var(--sklearn-color-unfitted-level-1);\n",
       "  border: var(--sklearn-color-unfitted-level-1) 1pt solid;\n",
       "}\n",
       "\n",
       "#sk-container-id-1 a.estimator_doc_link.fitted {\n",
       "  /* fitted */\n",
       "  border: var(--sklearn-color-fitted-level-1) 1pt solid;\n",
       "  color: var(--sklearn-color-fitted-level-1);\n",
       "}\n",
       "\n",
       "/* On hover */\n",
       "#sk-container-id-1 a.estimator_doc_link:hover {\n",
       "  /* unfitted */\n",
       "  background-color: var(--sklearn-color-unfitted-level-3);\n",
       "  color: var(--sklearn-color-background);\n",
       "  text-decoration: none;\n",
       "}\n",
       "\n",
       "#sk-container-id-1 a.estimator_doc_link.fitted:hover {\n",
       "  /* fitted */\n",
       "  background-color: var(--sklearn-color-fitted-level-3);\n",
       "}\n",
       "</style><div id=\"sk-container-id-1\" class=\"sk-top-container\"><div class=\"sk-text-repr-fallback\"><pre>KMeans(init=&#x27;random&#x27;, max_iter=500, n_clusters=50, random_state=42)</pre><b>In a Jupyter environment, please rerun this cell to show the HTML representation or trust the notebook. <br />On GitHub, the HTML representation is unable to render, please try loading this page with nbviewer.org.</b></div><div class=\"sk-container\" hidden><div class=\"sk-item\"><div class=\"sk-estimator fitted sk-toggleable\"><input class=\"sk-toggleable__control sk-hidden--visually\" id=\"sk-estimator-id-1\" type=\"checkbox\" checked><label for=\"sk-estimator-id-1\" class=\"sk-toggleable__label fitted sk-toggleable__label-arrow fitted\">&nbsp;&nbsp;KMeans<a class=\"sk-estimator-doc-link fitted\" rel=\"noreferrer\" target=\"_blank\" href=\"https://scikit-learn.org/1.5/modules/generated/sklearn.cluster.KMeans.html\">?<span>Documentation for KMeans</span></a><span class=\"sk-estimator-doc-link fitted\">i<span>Fitted</span></span></label><div class=\"sk-toggleable__content fitted\"><pre>KMeans(init=&#x27;random&#x27;, max_iter=500, n_clusters=50, random_state=42)</pre></div> </div></div></div></div>"
      ],
      "text/plain": [
       "KMeans(init='random', max_iter=500, n_clusters=50, random_state=42)"
      ]
     },
     "execution_count": 7,
     "metadata": {},
     "output_type": "execute_result"
    }
   ],
   "source": [
    "kmeans.fit(scores)"
   ]
  },
  {
   "cell_type": "code",
   "execution_count": 8,
   "id": "149ae354-27d2-4fed-8262-10deb247ca6c",
   "metadata": {
    "execution": {
     "iopub.execute_input": "2024-06-13T18:37:13.932043Z",
     "iopub.status.busy": "2024-06-13T18:37:13.931756Z",
     "iopub.status.idle": "2024-06-13T18:37:13.934900Z",
     "shell.execute_reply": "2024-06-13T18:37:13.934564Z"
    },
    "papermill": {
     "duration": null,
     "end_time": null,
     "exception": null,
     "start_time": null,
     "status": "completed"
    },
    "tags": []
   },
   "outputs": [],
   "source": [
    "from collections import Counter\n",
    "\n",
    "\n",
    "count = Counter(kmeans.labels_)"
   ]
  },
  {
   "cell_type": "code",
   "execution_count": 9,
   "id": "05de42c9-f432-465d-8d2b-ec27e53a0abf",
   "metadata": {
    "execution": {
     "iopub.execute_input": "2024-06-13T18:37:13.948057Z",
     "iopub.status.busy": "2024-06-13T18:37:13.947820Z",
     "iopub.status.idle": "2024-06-13T18:37:13.950719Z",
     "shell.execute_reply": "2024-06-13T18:37:13.950393Z"
    },
    "papermill": {
     "duration": null,
     "end_time": null,
     "exception": null,
     "start_time": null,
     "status": "completed"
    },
    "tags": []
   },
   "outputs": [
    {
     "data": {
      "text/plain": [
       "array([[ 7.35294118e-02,  1.82352941e+00,  7.35294118e-02,\n",
       "         2.19117647e+00],\n",
       "       [ 3.54191263e-02,  2.88657986e-15,  6.08028335e-02,\n",
       "        -1.42108547e-14],\n",
       "       [ 6.25000000e-02,  9.90625000e+00,  2.34375000e-01,\n",
       "         8.29687500e+00],\n",
       "       [ 5.43478261e-02,  6.84782609e-01,  4.69565217e+00,\n",
       "         6.84782609e-01],\n",
       "       [ 1.08108108e-01,  4.45945946e+00,  1.95945946e-01,\n",
       "         8.47297297e+00]])"
      ]
     },
     "execution_count": 9,
     "metadata": {},
     "output_type": "execute_result"
    }
   ],
   "source": [
    "kmeans.cluster_centers_[:5]"
   ]
  },
  {
   "cell_type": "code",
   "execution_count": 10,
   "id": "007d2c8c-4245-4b88-84f9-6534c662cd5a",
   "metadata": {
    "execution": {
     "iopub.execute_input": "2024-06-13T18:37:14.256451Z",
     "iopub.status.busy": "2024-06-13T18:37:14.256141Z",
     "iopub.status.idle": "2024-06-13T18:37:14.261583Z",
     "shell.execute_reply": "2024-06-13T18:37:14.260844Z"
    },
    "papermill": {
     "duration": null,
     "end_time": null,
     "exception": null,
     "start_time": null,
     "status": "completed"
    },
    "tags": []
   },
   "outputs": [],
   "source": [
    "from collections import Counter\n",
    "\n",
    "\n",
    "sums = {i: sum(c) for i, c in enumerate(kmeans.cluster_centers_)}\n",
    "\n",
    "count = Counter(kmeans.labels_)\n",
    "widths = np.array([count[p] for p in range(kmeans.n_clusters)])\n",
    "sorted_keys = list({k: v for k, v in sorted(sums.items(), key=lambda item: item[1])}.keys())\n",
    "sorted_widths = [widths[k] for k in reversed(sorted_keys)]\n",
    "sorted_clusters = np.array([kmeans.cluster_centers_[k] for k in reversed(sorted_keys)])"
   ]
  },
  {
   "cell_type": "code",
   "execution_count": 11,
   "id": "de5d034b-69f0-4460-90df-5b231c47b50a",
   "metadata": {
    "execution": {
     "iopub.execute_input": "2024-06-13T18:37:14.299864Z",
     "iopub.status.busy": "2024-06-13T18:37:14.299573Z",
     "iopub.status.idle": "2024-06-13T18:37:15.709213Z",
     "shell.execute_reply": "2024-06-13T18:37:15.708782Z"
    },
    "papermill": {
     "duration": null,
     "end_time": null,
     "exception": null,
     "start_time": null,
     "status": "completed"
    },
    "tags": []
   },
   "outputs": [
    {
     "data": {
      "application/vnd.plotly.v1+json": {
       "config": {
        "plotlyServerURL": "https://plot.ly"
       },
       "data": [
        {
         "name": "Таблица",
         "offset": 0,
         "type": "bar",
         "width": [
          1,
          1,
          1,
          1,
          1,
          1,
          1,
          1,
          1,
          1,
          2,
          1,
          3,
          11,
          1,
          1,
          32,
          9,
          19,
          1,
          22,
          15,
          4,
          64,
          52,
          64,
          172,
          90,
          21,
          52,
          263,
          44,
          148,
          471,
          275,
          557,
          78,
          190,
          186,
          45,
          92,
          151,
          207,
          68,
          128,
          274,
          270,
          1472,
          251,
          1694
         ],
         "x": [
          0,
          1,
          2,
          3,
          4,
          5,
          6,
          7,
          8,
          9,
          10,
          12,
          13,
          16,
          27,
          28,
          29,
          61,
          70,
          89,
          90,
          112,
          127,
          131,
          195,
          247,
          311,
          483,
          573,
          594,
          646,
          909,
          953,
          1101,
          1572,
          1847,
          2404,
          2482,
          2672,
          2858,
          2903,
          2995,
          3146,
          3353,
          3421,
          3549,
          3823,
          4093,
          5565,
          5816
         ],
         "y": [
          0,
          0,
          0,
          0,
          0,
          0,
          0,
          54,
          0,
          0,
          0,
          0,
          0,
          0,
          38,
          32,
          0.03125,
          1.3333333333333333,
          0,
          32,
          0.045454545454545484,
          0,
          23.75,
          0.12500000000000003,
          0.05769230769230771,
          0.06250000000000003,
          0.1162790697674419,
          0.033333333333333354,
          12.095238095238097,
          0.13461538461538464,
          0.049429657794676854,
          0.06818181818181819,
          0.10810810810810809,
          0.08704883227176229,
          0.029090909090909167,
          0.0359066427289047,
          0.051282051282051294,
          0.1368421052631579,
          0.1935483870967742,
          6.022222222222223,
          0.054347826086956555,
          0.06622516556291388,
          0.07246376811594206,
          0.07352941176470591,
          0.015625,
          0.04379562043795625,
          0.07777777777777777,
          0.06929347826086926,
          0.0278884462151395,
          0.03541912632821728
         ]
        },
        {
         "name": "Ненум. список",
         "offset": 0,
         "type": "bar",
         "width": [
          1,
          1,
          1,
          1,
          1,
          1,
          1,
          1,
          1,
          1,
          2,
          1,
          3,
          11,
          1,
          1,
          32,
          9,
          19,
          1,
          22,
          15,
          4,
          64,
          52,
          64,
          172,
          90,
          21,
          52,
          263,
          44,
          148,
          471,
          275,
          557,
          78,
          190,
          186,
          45,
          92,
          151,
          207,
          68,
          128,
          274,
          270,
          1472,
          251,
          1694
         ],
         "x": [
          0,
          1,
          2,
          3,
          4,
          5,
          6,
          7,
          8,
          9,
          10,
          12,
          13,
          16,
          27,
          28,
          29,
          61,
          70,
          89,
          90,
          112,
          127,
          131,
          195,
          247,
          311,
          483,
          573,
          594,
          646,
          909,
          953,
          1101,
          1572,
          1847,
          2404,
          2482,
          2672,
          2858,
          2903,
          2995,
          3146,
          3353,
          3421,
          3549,
          3823,
          4093,
          5565,
          5816
         ],
         "y": [
          74,
          0,
          72,
          0,
          0,
          0,
          0,
          6,
          1,
          3,
          15.5,
          0,
          0.6666666666666667,
          38.09090909090909,
          0,
          1,
          17.59375,
          1.4444444444444444,
          2.7368421052631575,
          0,
          1.4090909090909092,
          13.666666666666664,
          1,
          6.6875,
          1.4615384615384617,
          9.90625,
          0.5058139534883717,
          0.6666666666666666,
          0.7619047619047619,
          13.615384615384613,
          0.3384030418250944,
          6.1818181818181825,
          4.45945945945946,
          0.39702760084925637,
          0.4545454545454539,
          0.24236983842010895,
          3.3461538461538454,
          7.43157894736842,
          0.801075268817204,
          0.7555555555555554,
          0.6847826086956521,
          0.19205298013244976,
          3.8019323671497594,
          1.8235294117647058,
          0.19531249999999956,
          2.310218978102189,
          0.06666666666666576,
          0.16440217391304213,
          1,
          2.886579864025407e-15
         ]
        },
        {
         "name": "Нум. список",
         "offset": 0,
         "type": "bar",
         "width": [
          1,
          1,
          1,
          1,
          1,
          1,
          1,
          1,
          1,
          1,
          2,
          1,
          3,
          11,
          1,
          1,
          32,
          9,
          19,
          1,
          22,
          15,
          4,
          64,
          52,
          64,
          172,
          90,
          21,
          52,
          263,
          44,
          148,
          471,
          275,
          557,
          78,
          190,
          186,
          45,
          92,
          151,
          207,
          68,
          128,
          274,
          270,
          1472,
          251,
          1694
         ],
         "x": [
          0,
          1,
          2,
          3,
          4,
          5,
          6,
          7,
          8,
          9,
          10,
          12,
          13,
          16,
          27,
          28,
          29,
          61,
          70,
          89,
          90,
          112,
          127,
          131,
          195,
          247,
          311,
          483,
          573,
          594,
          646,
          909,
          953,
          1101,
          1572,
          1847,
          2404,
          2482,
          2672,
          2858,
          2903,
          2995,
          3146,
          3353,
          3421,
          3549,
          3823,
          4093,
          5565,
          5816
         ],
         "y": [
          0,
          0,
          0,
          0,
          0,
          0,
          0,
          0,
          6,
          52,
          0,
          0,
          2.3333333333333335,
          0.7272727272727273,
          0,
          0,
          0.12499999999999989,
          0.11111111111111116,
          16.789473684210527,
          0,
          25.045454545454547,
          11.133333333333333,
          0,
          0.421875,
          0.3076923076923076,
          0.2343749999999999,
          8.017441860465112,
          15.133333333333331,
          0,
          0.5192307692307693,
          0.015209125475285634,
          6.5227272727272725,
          0.19594594594594594,
          0.03397027600849223,
          8.450909090909093,
          0.02872531418312263,
          0.20512820512820507,
          0.11578947368421078,
          0.22043010752688186,
          0.022222222222222032,
          4.695652173913044,
          0.152317880794702,
          0.09178743961352698,
          0.07352941176470584,
          0.2109374999999999,
          0.06204379562043838,
          0.5185185185185185,
          -3.552713678800501e-15,
          0.04382470119521964,
          0.060802833530103295
         ]
        },
        {
         "name": "Заголовок",
         "offset": 0,
         "type": "bar",
         "width": [
          1,
          1,
          1,
          1,
          1,
          1,
          1,
          1,
          1,
          1,
          2,
          1,
          3,
          11,
          1,
          1,
          32,
          9,
          19,
          1,
          22,
          15,
          4,
          64,
          52,
          64,
          172,
          90,
          21,
          52,
          263,
          44,
          148,
          471,
          275,
          557,
          78,
          190,
          186,
          45,
          92,
          151,
          207,
          68,
          128,
          274,
          270,
          1472,
          251,
          1694
         ],
         "x": [
          0,
          1,
          2,
          3,
          4,
          5,
          6,
          7,
          8,
          9,
          10,
          12,
          13,
          16,
          27,
          28,
          29,
          61,
          70,
          89,
          90,
          112,
          127,
          131,
          195,
          247,
          311,
          483,
          573,
          594,
          646,
          909,
          953,
          1101,
          1572,
          1847,
          2404,
          2482,
          2672,
          2858,
          2903,
          2995,
          3146,
          3353,
          3421,
          3549,
          3823,
          4093,
          5565,
          5816
         ],
         "y": [
          20,
          85,
          11,
          82,
          74,
          70,
          62,
          0,
          52,
          1,
          34.5,
          48,
          43.33333333333333,
          3,
          0,
          4,
          17.562500000000004,
          30.444444444444443,
          12.736842105263158,
          0,
          1.0454545454545454,
          1.0666666666666664,
          0.5,
          14.671875000000004,
          19.57692307692308,
          8.296875,
          8.802325581395348,
          0.7111111111111112,
          2.3333333333333335,
          0.8653846153846154,
          14.528517110266154,
          0.727272727272728,
          8.472972972972972,
          10.53290870488322,
          0.41090909090908934,
          8.696588868940747,
          4.807692307692308,
          0.5368421052631569,
          6.854838709677418,
          0.8666666666666671,
          0.6847826086956528,
          5.463576158940398,
          0.34782608695651973,
          2.1911764705882355,
          3.453125,
          0.6496350364963481,
          1.7185185185185177,
          0.9999999999999893,
          -1.3322676295501878e-15,
          -1.4210854715202004e-14
         ]
        }
       ],
       "layout": {
        "barmode": "stack",
        "colorway": [
         "rgba(244, 67, 54, 1.0)",
         "rgba(232, 30, 99, 1.0)",
         "rgba(156, 39, 176, 1.0)",
         "rgba(103, 58, 183, 1.0)",
         "rgba(63, 81, 181, 1.0)",
         "rgba(33, 150, 243, 1.0)",
         "rgba(3, 169, 244, 1.0)",
         "rgba(0, 188, 212, 1.0)",
         "rgba(0, 150, 136, 1.0)",
         "rgba(76, 175, 80, 1.0)",
         "rgba(139, 195, 74, 1.0)",
         "rgba(205, 220, 57, 1.0)",
         "rgba(255, 235, 59, 1.0)",
         "rgba(255, 193, 7, 1.0)",
         "rgba(255, 152, 0, 1.0)",
         "rgba(255, 87, 34, 1.0)"
        ],
        "font": {
         "color": "black",
         "family": "Times New Roman",
         "size": 20
        },
        "height": 900,
        "margin": {
         "pad": 10
        },
        "plot_bgcolor": "rgba(0, 0, 0, 0)",
        "template": {
         "data": {
          "bar": [
           {
            "error_x": {
             "color": "#2a3f5f"
            },
            "error_y": {
             "color": "#2a3f5f"
            },
            "marker": {
             "line": {
              "color": "#E5ECF6",
              "width": 0.5
             },
             "pattern": {
              "fillmode": "overlay",
              "size": 10,
              "solidity": 0.2
             }
            },
            "type": "bar"
           }
          ],
          "barpolar": [
           {
            "marker": {
             "line": {
              "color": "#E5ECF6",
              "width": 0.5
             },
             "pattern": {
              "fillmode": "overlay",
              "size": 10,
              "solidity": 0.2
             }
            },
            "type": "barpolar"
           }
          ],
          "carpet": [
           {
            "aaxis": {
             "endlinecolor": "#2a3f5f",
             "gridcolor": "white",
             "linecolor": "white",
             "minorgridcolor": "white",
             "startlinecolor": "#2a3f5f"
            },
            "baxis": {
             "endlinecolor": "#2a3f5f",
             "gridcolor": "white",
             "linecolor": "white",
             "minorgridcolor": "white",
             "startlinecolor": "#2a3f5f"
            },
            "type": "carpet"
           }
          ],
          "choropleth": [
           {
            "colorbar": {
             "outlinewidth": 0,
             "ticks": ""
            },
            "type": "choropleth"
           }
          ],
          "contour": [
           {
            "colorbar": {
             "outlinewidth": 0,
             "ticks": ""
            },
            "colorscale": [
             [
              0,
              "#0d0887"
             ],
             [
              0.1111111111111111,
              "#46039f"
             ],
             [
              0.2222222222222222,
              "#7201a8"
             ],
             [
              0.3333333333333333,
              "#9c179e"
             ],
             [
              0.4444444444444444,
              "#bd3786"
             ],
             [
              0.5555555555555556,
              "#d8576b"
             ],
             [
              0.6666666666666666,
              "#ed7953"
             ],
             [
              0.7777777777777778,
              "#fb9f3a"
             ],
             [
              0.8888888888888888,
              "#fdca26"
             ],
             [
              1,
              "#f0f921"
             ]
            ],
            "type": "contour"
           }
          ],
          "contourcarpet": [
           {
            "colorbar": {
             "outlinewidth": 0,
             "ticks": ""
            },
            "type": "contourcarpet"
           }
          ],
          "heatmap": [
           {
            "colorbar": {
             "outlinewidth": 0,
             "ticks": ""
            },
            "colorscale": [
             [
              0,
              "#0d0887"
             ],
             [
              0.1111111111111111,
              "#46039f"
             ],
             [
              0.2222222222222222,
              "#7201a8"
             ],
             [
              0.3333333333333333,
              "#9c179e"
             ],
             [
              0.4444444444444444,
              "#bd3786"
             ],
             [
              0.5555555555555556,
              "#d8576b"
             ],
             [
              0.6666666666666666,
              "#ed7953"
             ],
             [
              0.7777777777777778,
              "#fb9f3a"
             ],
             [
              0.8888888888888888,
              "#fdca26"
             ],
             [
              1,
              "#f0f921"
             ]
            ],
            "type": "heatmap"
           }
          ],
          "heatmapgl": [
           {
            "colorbar": {
             "outlinewidth": 0,
             "ticks": ""
            },
            "colorscale": [
             [
              0,
              "#0d0887"
             ],
             [
              0.1111111111111111,
              "#46039f"
             ],
             [
              0.2222222222222222,
              "#7201a8"
             ],
             [
              0.3333333333333333,
              "#9c179e"
             ],
             [
              0.4444444444444444,
              "#bd3786"
             ],
             [
              0.5555555555555556,
              "#d8576b"
             ],
             [
              0.6666666666666666,
              "#ed7953"
             ],
             [
              0.7777777777777778,
              "#fb9f3a"
             ],
             [
              0.8888888888888888,
              "#fdca26"
             ],
             [
              1,
              "#f0f921"
             ]
            ],
            "type": "heatmapgl"
           }
          ],
          "histogram": [
           {
            "marker": {
             "pattern": {
              "fillmode": "overlay",
              "size": 10,
              "solidity": 0.2
             }
            },
            "type": "histogram"
           }
          ],
          "histogram2d": [
           {
            "colorbar": {
             "outlinewidth": 0,
             "ticks": ""
            },
            "colorscale": [
             [
              0,
              "#0d0887"
             ],
             [
              0.1111111111111111,
              "#46039f"
             ],
             [
              0.2222222222222222,
              "#7201a8"
             ],
             [
              0.3333333333333333,
              "#9c179e"
             ],
             [
              0.4444444444444444,
              "#bd3786"
             ],
             [
              0.5555555555555556,
              "#d8576b"
             ],
             [
              0.6666666666666666,
              "#ed7953"
             ],
             [
              0.7777777777777778,
              "#fb9f3a"
             ],
             [
              0.8888888888888888,
              "#fdca26"
             ],
             [
              1,
              "#f0f921"
             ]
            ],
            "type": "histogram2d"
           }
          ],
          "histogram2dcontour": [
           {
            "colorbar": {
             "outlinewidth": 0,
             "ticks": ""
            },
            "colorscale": [
             [
              0,
              "#0d0887"
             ],
             [
              0.1111111111111111,
              "#46039f"
             ],
             [
              0.2222222222222222,
              "#7201a8"
             ],
             [
              0.3333333333333333,
              "#9c179e"
             ],
             [
              0.4444444444444444,
              "#bd3786"
             ],
             [
              0.5555555555555556,
              "#d8576b"
             ],
             [
              0.6666666666666666,
              "#ed7953"
             ],
             [
              0.7777777777777778,
              "#fb9f3a"
             ],
             [
              0.8888888888888888,
              "#fdca26"
             ],
             [
              1,
              "#f0f921"
             ]
            ],
            "type": "histogram2dcontour"
           }
          ],
          "mesh3d": [
           {
            "colorbar": {
             "outlinewidth": 0,
             "ticks": ""
            },
            "type": "mesh3d"
           }
          ],
          "parcoords": [
           {
            "line": {
             "colorbar": {
              "outlinewidth": 0,
              "ticks": ""
             }
            },
            "type": "parcoords"
           }
          ],
          "pie": [
           {
            "automargin": true,
            "type": "pie"
           }
          ],
          "scatter": [
           {
            "fillpattern": {
             "fillmode": "overlay",
             "size": 10,
             "solidity": 0.2
            },
            "type": "scatter"
           }
          ],
          "scatter3d": [
           {
            "line": {
             "colorbar": {
              "outlinewidth": 0,
              "ticks": ""
             }
            },
            "marker": {
             "colorbar": {
              "outlinewidth": 0,
              "ticks": ""
             }
            },
            "type": "scatter3d"
           }
          ],
          "scattercarpet": [
           {
            "marker": {
             "colorbar": {
              "outlinewidth": 0,
              "ticks": ""
             }
            },
            "type": "scattercarpet"
           }
          ],
          "scattergeo": [
           {
            "marker": {
             "colorbar": {
              "outlinewidth": 0,
              "ticks": ""
             }
            },
            "type": "scattergeo"
           }
          ],
          "scattergl": [
           {
            "marker": {
             "colorbar": {
              "outlinewidth": 0,
              "ticks": ""
             }
            },
            "type": "scattergl"
           }
          ],
          "scattermapbox": [
           {
            "marker": {
             "colorbar": {
              "outlinewidth": 0,
              "ticks": ""
             }
            },
            "type": "scattermapbox"
           }
          ],
          "scatterpolar": [
           {
            "marker": {
             "colorbar": {
              "outlinewidth": 0,
              "ticks": ""
             }
            },
            "type": "scatterpolar"
           }
          ],
          "scatterpolargl": [
           {
            "marker": {
             "colorbar": {
              "outlinewidth": 0,
              "ticks": ""
             }
            },
            "type": "scatterpolargl"
           }
          ],
          "scatterternary": [
           {
            "marker": {
             "colorbar": {
              "outlinewidth": 0,
              "ticks": ""
             }
            },
            "type": "scatterternary"
           }
          ],
          "surface": [
           {
            "colorbar": {
             "outlinewidth": 0,
             "ticks": ""
            },
            "colorscale": [
             [
              0,
              "#0d0887"
             ],
             [
              0.1111111111111111,
              "#46039f"
             ],
             [
              0.2222222222222222,
              "#7201a8"
             ],
             [
              0.3333333333333333,
              "#9c179e"
             ],
             [
              0.4444444444444444,
              "#bd3786"
             ],
             [
              0.5555555555555556,
              "#d8576b"
             ],
             [
              0.6666666666666666,
              "#ed7953"
             ],
             [
              0.7777777777777778,
              "#fb9f3a"
             ],
             [
              0.8888888888888888,
              "#fdca26"
             ],
             [
              1,
              "#f0f921"
             ]
            ],
            "type": "surface"
           }
          ],
          "table": [
           {
            "cells": {
             "fill": {
              "color": "#EBF0F8"
             },
             "line": {
              "color": "white"
             }
            },
            "header": {
             "fill": {
              "color": "#C8D4E3"
             },
             "line": {
              "color": "white"
             }
            },
            "type": "table"
           }
          ]
         },
         "layout": {
          "annotationdefaults": {
           "arrowcolor": "#2a3f5f",
           "arrowhead": 0,
           "arrowwidth": 1
          },
          "autotypenumbers": "strict",
          "coloraxis": {
           "colorbar": {
            "outlinewidth": 0,
            "ticks": ""
           }
          },
          "colorscale": {
           "diverging": [
            [
             0,
             "#8e0152"
            ],
            [
             0.1,
             "#c51b7d"
            ],
            [
             0.2,
             "#de77ae"
            ],
            [
             0.3,
             "#f1b6da"
            ],
            [
             0.4,
             "#fde0ef"
            ],
            [
             0.5,
             "#f7f7f7"
            ],
            [
             0.6,
             "#e6f5d0"
            ],
            [
             0.7,
             "#b8e186"
            ],
            [
             0.8,
             "#7fbc41"
            ],
            [
             0.9,
             "#4d9221"
            ],
            [
             1,
             "#276419"
            ]
           ],
           "sequential": [
            [
             0,
             "#0d0887"
            ],
            [
             0.1111111111111111,
             "#46039f"
            ],
            [
             0.2222222222222222,
             "#7201a8"
            ],
            [
             0.3333333333333333,
             "#9c179e"
            ],
            [
             0.4444444444444444,
             "#bd3786"
            ],
            [
             0.5555555555555556,
             "#d8576b"
            ],
            [
             0.6666666666666666,
             "#ed7953"
            ],
            [
             0.7777777777777778,
             "#fb9f3a"
            ],
            [
             0.8888888888888888,
             "#fdca26"
            ],
            [
             1,
             "#f0f921"
            ]
           ],
           "sequentialminus": [
            [
             0,
             "#0d0887"
            ],
            [
             0.1111111111111111,
             "#46039f"
            ],
            [
             0.2222222222222222,
             "#7201a8"
            ],
            [
             0.3333333333333333,
             "#9c179e"
            ],
            [
             0.4444444444444444,
             "#bd3786"
            ],
            [
             0.5555555555555556,
             "#d8576b"
            ],
            [
             0.6666666666666666,
             "#ed7953"
            ],
            [
             0.7777777777777778,
             "#fb9f3a"
            ],
            [
             0.8888888888888888,
             "#fdca26"
            ],
            [
             1,
             "#f0f921"
            ]
           ]
          },
          "colorway": [
           "#636efa",
           "#EF553B",
           "#00cc96",
           "#ab63fa",
           "#FFA15A",
           "#19d3f3",
           "#FF6692",
           "#B6E880",
           "#FF97FF",
           "#FECB52"
          ],
          "font": {
           "color": "#2a3f5f"
          },
          "geo": {
           "bgcolor": "white",
           "lakecolor": "white",
           "landcolor": "#E5ECF6",
           "showlakes": true,
           "showland": true,
           "subunitcolor": "white"
          },
          "hoverlabel": {
           "align": "left"
          },
          "hovermode": "closest",
          "mapbox": {
           "style": "light"
          },
          "paper_bgcolor": "white",
          "plot_bgcolor": "#E5ECF6",
          "polar": {
           "angularaxis": {
            "gridcolor": "white",
            "linecolor": "white",
            "ticks": ""
           },
           "bgcolor": "#E5ECF6",
           "radialaxis": {
            "gridcolor": "white",
            "linecolor": "white",
            "ticks": ""
           }
          },
          "scene": {
           "xaxis": {
            "backgroundcolor": "#E5ECF6",
            "gridcolor": "white",
            "gridwidth": 2,
            "linecolor": "white",
            "showbackground": true,
            "ticks": "",
            "zerolinecolor": "white"
           },
           "yaxis": {
            "backgroundcolor": "#E5ECF6",
            "gridcolor": "white",
            "gridwidth": 2,
            "linecolor": "white",
            "showbackground": true,
            "ticks": "",
            "zerolinecolor": "white"
           },
           "zaxis": {
            "backgroundcolor": "#E5ECF6",
            "gridcolor": "white",
            "gridwidth": 2,
            "linecolor": "white",
            "showbackground": true,
            "ticks": "",
            "zerolinecolor": "white"
           }
          },
          "shapedefaults": {
           "line": {
            "color": "#2a3f5f"
           }
          },
          "ternary": {
           "aaxis": {
            "gridcolor": "white",
            "linecolor": "white",
            "ticks": ""
           },
           "baxis": {
            "gridcolor": "white",
            "linecolor": "white",
            "ticks": ""
           },
           "bgcolor": "#E5ECF6",
           "caxis": {
            "gridcolor": "white",
            "linecolor": "white",
            "ticks": ""
           }
          },
          "title": {
           "x": 0.05
          },
          "xaxis": {
           "automargin": true,
           "gridcolor": "white",
           "linecolor": "white",
           "ticks": "",
           "title": {
            "standoff": 15
           },
           "zerolinecolor": "white",
           "zerolinewidth": 2
          },
          "yaxis": {
           "automargin": true,
           "gridcolor": "white",
           "linecolor": "white",
           "ticks": "",
           "title": {
            "standoff": 15
           },
           "zerolinecolor": "white",
           "zerolinewidth": 2
          }
         }
        },
        "width": 1600,
        "xaxis": {
         "gridcolor": "lightgrey",
         "showgrid": true,
         "tickangle": 0,
         "tickformat": "000",
         "ticklen": 10,
         "title": {
          "font": {
           "color": "black",
           "family": "Times New Roman",
           "size": 25
          },
          "text": "Кластеры структуры документов"
         },
         "zerolinecolor": "lightgrey"
        },
        "yaxis": {
         "gridcolor": "lightgrey",
         "range": [
          0,
          94
         ],
         "showgrid": true,
         "tickangle": 45,
         "tickformat": "000",
         "ticklen": 10,
         "title": {
          "font": {
           "color": "black",
           "family": "Times New Roman",
           "size": 25
          },
          "text": "Количество структурных элементов"
         },
         "zerolinecolor": "lightgrey"
        }
       }
      }
     },
     "metadata": {},
     "output_type": "display_data"
    }
   ],
   "source": [
    "import plotly.graph_objects as go\n",
    "\n",
    "from config import COLORS_D\n",
    "\n",
    "\n",
    "fig = go.Figure()\n",
    "\n",
    "for i, r in enumerate(sorted_clusters.transpose()):\n",
    "    fig.add_trace(\n",
    "        go.Bar(\n",
    "            x=np.cumsum(sorted_widths)-sorted_widths, y=r,\n",
    "            name=KEYS[i].capitalize(),\n",
    "            width=sorted_widths,\n",
    "            offset=0))\n",
    "\n",
    "fig.update_layout(\n",
    "    font=dict(family='Times New Roman', size=20, color='black'),\n",
    "    plot_bgcolor='rgba(0, 0, 0, 0)',\n",
    "    margin=dict(pad=10),\n",
    "    colorway=COLORS_D,\n",
    "    barmode='stack',\n",
    "    width=1600,\n",
    "    height=900)\n",
    "\n",
    "fig.update_xaxes(\n",
    "    title=dict(\n",
    "        font=dict(family='Times New Roman', size=25, color='black'),\n",
    "        text='Кластеры структуры документов'),\n",
    "    zerolinecolor='lightgrey',\n",
    "    gridcolor='lightgrey',\n",
    "    tickformat='000', \n",
    "    showgrid=True, \n",
    "    tickangle=45, \n",
    "    ticklen=10)\n",
    "\n",
    "fig.update_yaxes(\n",
    "    title=dict(\n",
    "        font=dict(family='Times New Roman', size=25, color='black'),\n",
    "        text='Количество структурных элементов'),\n",
    "    range=[0, max([sum(s) for s in scores])],\n",
    "    zerolinecolor='lightgrey',\n",
    "    gridcolor='lightgrey',\n",
    "    tickformat='000',\n",
    "    showgrid=True, \n",
    "    tickangle=45, \n",
    "    ticklen=10)\n",
    "\n",
    "fig"
   ]
  },
  {
   "cell_type": "code",
   "execution_count": 12,
   "id": "526bb2d6-b1af-423f-a75a-c298d13b3b9e",
   "metadata": {
    "execution": {
     "iopub.execute_input": "2024-06-13T18:37:16.563492Z",
     "iopub.status.busy": "2024-06-13T18:37:16.561890Z",
     "iopub.status.idle": "2024-06-13T18:37:18.186043Z",
     "shell.execute_reply": "2024-06-13T18:37:18.185710Z"
    },
    "papermill": {
     "duration": null,
     "end_time": null,
     "exception": null,
     "start_time": null,
     "status": "completed"
    },
    "tags": []
   },
   "outputs": [],
   "source": [
    "fig.write_image(f'{PICTURES}/structure_by_1_kmeans_wo_hp.png')"
   ]
  }
 ],
 "metadata": {
  "kernelspec": {
   "display_name": "Python 3 (ipykernel)",
   "language": "python",
   "name": "python3"
  },
  "language_info": {
   "codemirror_mode": {
    "name": "ipython",
    "version": 3
   },
   "file_extension": ".py",
   "mimetype": "text/x-python",
   "name": "python",
   "nbconvert_exporter": "python",
   "pygments_lexer": "ipython3",
   "version": "3.12.3"
  },
  "papermill": {
   "duration": 0.443086,
   "end_time": "2024-06-13T18:45:51.398352",
   "exception": null,
   "input_path": "/tmp/tmp42kj02_z.ipynb",
   "output_path": "notebooks/structure_by_1_kmeans_wo_hp.ipynb",
   "parameters": {
    "product": "notebooks/structure_by_1_kmeans_wo_hp.ipynb"
   },
   "start_time": "2024-06-13T18:45:50.955266"
  }
 },
 "nbformat": 4,
 "nbformat_minor": 5
}
