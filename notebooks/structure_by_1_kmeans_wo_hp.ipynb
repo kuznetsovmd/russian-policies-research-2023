{
 "cells": [
  {
   "cell_type": "code",
   "execution_count": 25,
   "id": "7ffd6b73",
   "metadata": {
    "execution": {
     "iopub.execute_input": "2024-05-11T14:21:16.780258Z",
     "iopub.status.busy": "2024-05-11T14:21:16.779842Z",
     "iopub.status.idle": "2024-05-11T14:21:16.783348Z",
     "shell.execute_reply": "2024-05-11T14:21:16.782791Z"
    },
    "papermill": {
     "duration": 0.008573,
     "end_time": "2024-05-11T14:21:16.784851",
     "exception": false,
     "start_time": "2024-05-11T14:21:16.776278",
     "status": "completed"
    },
    "tags": [
     "injected-parameters"
    ]
   },
   "outputs": [],
   "source": [
    "# Parameters\n",
    "product = \"notebooks/structure_by_1_kmeans_wo_hp.ipynb\"\n"
   ]
  },
  {
   "cell_type": "code",
   "execution_count": 26,
   "id": "43ee2df7",
   "metadata": {
    "execution": {
     "iopub.execute_input": "2024-05-11T14:21:16.791268Z",
     "iopub.status.busy": "2024-05-11T14:21:16.790775Z",
     "iopub.status.idle": "2024-05-11T14:21:16.793947Z",
     "shell.execute_reply": "2024-05-11T14:21:16.793492Z"
    },
    "papermill": {
     "duration": 0.007578,
     "end_time": "2024-05-11T14:21:16.795210",
     "exception": false,
     "start_time": "2024-05-11T14:21:16.787632",
     "status": "completed"
    },
    "tags": []
   },
   "outputs": [],
   "source": [
    "import __path__"
   ]
  },
  {
   "cell_type": "code",
   "execution_count": 27,
   "id": "53c3ec90",
   "metadata": {
    "execution": {
     "iopub.execute_input": "2024-05-11T14:21:16.801779Z",
     "iopub.status.busy": "2024-05-11T14:21:16.801341Z",
     "iopub.status.idle": "2024-05-11T14:21:17.545888Z",
     "shell.execute_reply": "2024-05-11T14:21:17.545446Z"
    },
    "papermill": {
     "duration": 0.749112,
     "end_time": "2024-05-11T14:21:17.547158",
     "exception": false,
     "start_time": "2024-05-11T14:21:16.798046",
     "status": "completed"
    },
    "tags": []
   },
   "outputs": [],
   "source": [
    "from config import MAIN_EXPERIMENT\n",
    "\n",
    "\n",
    "MAX_SCORE = MAIN_EXPERIMENT.nb_args[product]\n",
    "KMEANS_HYPERPARAMS = MAIN_EXPERIMENT.kmeans_hyperparams\n",
    "DESCRIPTOR = MAIN_EXPERIMENT.dataset.descriptor\n",
    "PICTURES = MAIN_EXPERIMENT.pictures"
   ]
  },
  {
   "cell_type": "code",
   "execution_count": 28,
   "id": "85c6c0ef",
   "metadata": {
    "execution": {
     "iopub.execute_input": "2024-05-11T14:21:17.557244Z",
     "iopub.status.busy": "2024-05-11T14:21:17.556189Z",
     "iopub.status.idle": "2024-05-11T14:21:18.129668Z",
     "shell.execute_reply": "2024-05-11T14:21:18.128427Z"
    },
    "papermill": {
     "duration": 0.578891,
     "end_time": "2024-05-11T14:21:18.131038",
     "exception": false,
     "start_time": "2024-05-11T14:21:17.552147",
     "status": "completed"
    },
    "tags": []
   },
   "outputs": [
    {
     "name": "stdout",
     "output_type": "stream",
     "text": [
      "/mnt/Source/kuznetsovmd/ppr-sanitization/resources/finalized/output.json\n"
     ]
    },
    {
     "data": {
      "text/plain": [
       "[{'length': 8472,\n",
       "  'tables': 0,\n",
       "  'ordered lists': 0,\n",
       "  'unordered lists': 6,\n",
       "  'headings': 0,\n",
       "  'paragraphs': 10},\n",
       " {'length': 2510,\n",
       "  'tables': 0,\n",
       "  'ordered lists': 0,\n",
       "  'unordered lists': 0,\n",
       "  'headings': 0,\n",
       "  'paragraphs': 2},\n",
       " {'length': 8493,\n",
       "  'tables': 0,\n",
       "  'ordered lists': 0,\n",
       "  'unordered lists': 0,\n",
       "  'headings': 9,\n",
       "  'paragraphs': 34},\n",
       " {'length': 12282,\n",
       "  'tables': 0,\n",
       "  'ordered lists': 2,\n",
       "  'unordered lists': 12,\n",
       "  'headings': 10,\n",
       "  'paragraphs': 4},\n",
       " {'length': 12597,\n",
       "  'tables': 0,\n",
       "  'ordered lists': 0,\n",
       "  'unordered lists': 1,\n",
       "  'headings': 10,\n",
       "  'paragraphs': 67}]"
      ]
     },
     "execution_count": 28,
     "metadata": {},
     "output_type": "execute_result"
    }
   ],
   "source": [
    "import json\n",
    "\n",
    "from src.utils import resolve_stats\n",
    "\n",
    "\n",
    "KEYS = ['Таблица', 'Ненум. список', 'Нум. список', 'Заголовок']\n",
    "ALLOWED = ['tables', 'unordered lists', 'ordered lists', 'headings']\n",
    "\n",
    "with open(DESCRIPTOR, 'r', encoding='utf-8') as f:\n",
    "    stats = json.load(f)\n",
    "\n",
    "hashes = []\n",
    "unique_stats = []\n",
    "for s in stats:\n",
    "    if s['policy_hash'] not in hashes and s['statistics'] is not None:\n",
    "        hashes.append(s['policy_hash'])\n",
    "        unique_stats.append(resolve_stats(s['statistics']))\n",
    "\n",
    "print(DESCRIPTOR) \n",
    "unique_stats[:5]"
   ]
  },
  {
   "cell_type": "code",
   "execution_count": 29,
   "id": "a907f391-75bd-40cc-9d3b-2437214fe806",
   "metadata": {
    "execution": {
     "iopub.execute_input": "2024-05-11T14:21:18.138951Z",
     "iopub.status.busy": "2024-05-11T14:21:18.138705Z",
     "iopub.status.idle": "2024-05-11T14:21:18.189359Z",
     "shell.execute_reply": "2024-05-11T14:21:18.188858Z"
    },
    "papermill": {
     "duration": 0.056794,
     "end_time": "2024-05-11T14:21:18.190818",
     "exception": false,
     "start_time": "2024-05-11T14:21:18.134024",
     "status": "completed"
    },
    "tags": []
   },
   "outputs": [],
   "source": [
    "import numpy as np\n",
    "\n",
    "\n",
    "scores = np.zeros((len(unique_stats), 4), dtype='int')\n",
    "\n",
    "for id, us in enumerate(unique_stats):\n",
    "    for i, k in enumerate(ALLOWED):\n",
    "        scores[id, i] = us[k]\n",
    "\n",
    "scores = np.array([s for s in scores if sum(s) < MAX_SCORE])"
   ]
  },
  {
   "cell_type": "code",
   "execution_count": 30,
   "id": "ad8c8527-5dc7-431d-bc3a-880deb8198d2",
   "metadata": {
    "execution": {
     "iopub.execute_input": "2024-05-11T14:21:18.227205Z",
     "iopub.status.busy": "2024-05-11T14:21:18.226753Z",
     "iopub.status.idle": "2024-05-11T14:21:18.821403Z",
     "shell.execute_reply": "2024-05-11T14:21:18.820107Z"
    },
    "papermill": {
     "duration": 0.62947,
     "end_time": "2024-05-11T14:21:18.823117",
     "exception": false,
     "start_time": "2024-05-11T14:21:18.193647",
     "status": "completed"
    },
    "tags": []
   },
   "outputs": [],
   "source": [
    "from sklearn.cluster import KMeans\n",
    "\n",
    "\n",
    "kmeans = KMeans(**KMEANS_HYPERPARAMS)"
   ]
  },
  {
   "cell_type": "code",
   "execution_count": 31,
   "id": "03b37724-0b4b-4fe9-8094-12b58103d829",
   "metadata": {
    "execution": {
     "iopub.execute_input": "2024-05-11T14:21:18.887590Z",
     "iopub.status.busy": "2024-05-11T14:21:18.887148Z",
     "iopub.status.idle": "2024-05-11T14:21:21.049977Z",
     "shell.execute_reply": "2024-05-11T14:21:21.049492Z"
    },
    "papermill": {
     "duration": 2.181449,
     "end_time": "2024-05-11T14:21:21.051130",
     "exception": false,
     "start_time": "2024-05-11T14:21:18.869681",
     "status": "completed"
    },
    "tags": []
   },
   "outputs": [
    {
     "data": {
      "text/html": [
       "<style>#sk-container-id-2 {\n",
       "  /* Definition of color scheme common for light and dark mode */\n",
       "  --sklearn-color-text: black;\n",
       "  --sklearn-color-line: gray;\n",
       "  /* Definition of color scheme for unfitted estimators */\n",
       "  --sklearn-color-unfitted-level-0: #fff5e6;\n",
       "  --sklearn-color-unfitted-level-1: #f6e4d2;\n",
       "  --sklearn-color-unfitted-level-2: #ffe0b3;\n",
       "  --sklearn-color-unfitted-level-3: chocolate;\n",
       "  /* Definition of color scheme for fitted estimators */\n",
       "  --sklearn-color-fitted-level-0: #f0f8ff;\n",
       "  --sklearn-color-fitted-level-1: #d4ebff;\n",
       "  --sklearn-color-fitted-level-2: #b3dbfd;\n",
       "  --sklearn-color-fitted-level-3: cornflowerblue;\n",
       "\n",
       "  /* Specific color for light theme */\n",
       "  --sklearn-color-text-on-default-background: var(--sg-text-color, var(--theme-code-foreground, var(--jp-content-font-color1, black)));\n",
       "  --sklearn-color-background: var(--sg-background-color, var(--theme-background, var(--jp-layout-color0, white)));\n",
       "  --sklearn-color-border-box: var(--sg-text-color, var(--theme-code-foreground, var(--jp-content-font-color1, black)));\n",
       "  --sklearn-color-icon: #696969;\n",
       "\n",
       "  @media (prefers-color-scheme: dark) {\n",
       "    /* Redefinition of color scheme for dark theme */\n",
       "    --sklearn-color-text-on-default-background: var(--sg-text-color, var(--theme-code-foreground, var(--jp-content-font-color1, white)));\n",
       "    --sklearn-color-background: var(--sg-background-color, var(--theme-background, var(--jp-layout-color0, #111)));\n",
       "    --sklearn-color-border-box: var(--sg-text-color, var(--theme-code-foreground, var(--jp-content-font-color1, white)));\n",
       "    --sklearn-color-icon: #878787;\n",
       "  }\n",
       "}\n",
       "\n",
       "#sk-container-id-2 {\n",
       "  color: var(--sklearn-color-text);\n",
       "}\n",
       "\n",
       "#sk-container-id-2 pre {\n",
       "  padding: 0;\n",
       "}\n",
       "\n",
       "#sk-container-id-2 input.sk-hidden--visually {\n",
       "  border: 0;\n",
       "  clip: rect(1px 1px 1px 1px);\n",
       "  clip: rect(1px, 1px, 1px, 1px);\n",
       "  height: 1px;\n",
       "  margin: -1px;\n",
       "  overflow: hidden;\n",
       "  padding: 0;\n",
       "  position: absolute;\n",
       "  width: 1px;\n",
       "}\n",
       "\n",
       "#sk-container-id-2 div.sk-dashed-wrapped {\n",
       "  border: 1px dashed var(--sklearn-color-line);\n",
       "  margin: 0 0.4em 0.5em 0.4em;\n",
       "  box-sizing: border-box;\n",
       "  padding-bottom: 0.4em;\n",
       "  background-color: var(--sklearn-color-background);\n",
       "}\n",
       "\n",
       "#sk-container-id-2 div.sk-container {\n",
       "  /* jupyter's `normalize.less` sets `[hidden] { display: none; }`\n",
       "     but bootstrap.min.css set `[hidden] { display: none !important; }`\n",
       "     so we also need the `!important` here to be able to override the\n",
       "     default hidden behavior on the sphinx rendered scikit-learn.org.\n",
       "     See: https://github.com/scikit-learn/scikit-learn/issues/21755 */\n",
       "  display: inline-block !important;\n",
       "  position: relative;\n",
       "}\n",
       "\n",
       "#sk-container-id-2 div.sk-text-repr-fallback {\n",
       "  display: none;\n",
       "}\n",
       "\n",
       "div.sk-parallel-item,\n",
       "div.sk-serial,\n",
       "div.sk-item {\n",
       "  /* draw centered vertical line to link estimators */\n",
       "  background-image: linear-gradient(var(--sklearn-color-text-on-default-background), var(--sklearn-color-text-on-default-background));\n",
       "  background-size: 2px 100%;\n",
       "  background-repeat: no-repeat;\n",
       "  background-position: center center;\n",
       "}\n",
       "\n",
       "/* Parallel-specific style estimator block */\n",
       "\n",
       "#sk-container-id-2 div.sk-parallel-item::after {\n",
       "  content: \"\";\n",
       "  width: 100%;\n",
       "  border-bottom: 2px solid var(--sklearn-color-text-on-default-background);\n",
       "  flex-grow: 1;\n",
       "}\n",
       "\n",
       "#sk-container-id-2 div.sk-parallel {\n",
       "  display: flex;\n",
       "  align-items: stretch;\n",
       "  justify-content: center;\n",
       "  background-color: var(--sklearn-color-background);\n",
       "  position: relative;\n",
       "}\n",
       "\n",
       "#sk-container-id-2 div.sk-parallel-item {\n",
       "  display: flex;\n",
       "  flex-direction: column;\n",
       "}\n",
       "\n",
       "#sk-container-id-2 div.sk-parallel-item:first-child::after {\n",
       "  align-self: flex-end;\n",
       "  width: 50%;\n",
       "}\n",
       "\n",
       "#sk-container-id-2 div.sk-parallel-item:last-child::after {\n",
       "  align-self: flex-start;\n",
       "  width: 50%;\n",
       "}\n",
       "\n",
       "#sk-container-id-2 div.sk-parallel-item:only-child::after {\n",
       "  width: 0;\n",
       "}\n",
       "\n",
       "/* Serial-specific style estimator block */\n",
       "\n",
       "#sk-container-id-2 div.sk-serial {\n",
       "  display: flex;\n",
       "  flex-direction: column;\n",
       "  align-items: center;\n",
       "  background-color: var(--sklearn-color-background);\n",
       "  padding-right: 1em;\n",
       "  padding-left: 1em;\n",
       "}\n",
       "\n",
       "\n",
       "/* Toggleable style: style used for estimator/Pipeline/ColumnTransformer box that is\n",
       "clickable and can be expanded/collapsed.\n",
       "- Pipeline and ColumnTransformer use this feature and define the default style\n",
       "- Estimators will overwrite some part of the style using the `sk-estimator` class\n",
       "*/\n",
       "\n",
       "/* Pipeline and ColumnTransformer style (default) */\n",
       "\n",
       "#sk-container-id-2 div.sk-toggleable {\n",
       "  /* Default theme specific background. It is overwritten whether we have a\n",
       "  specific estimator or a Pipeline/ColumnTransformer */\n",
       "  background-color: var(--sklearn-color-background);\n",
       "}\n",
       "\n",
       "/* Toggleable label */\n",
       "#sk-container-id-2 label.sk-toggleable__label {\n",
       "  cursor: pointer;\n",
       "  display: block;\n",
       "  width: 100%;\n",
       "  margin-bottom: 0;\n",
       "  padding: 0.5em;\n",
       "  box-sizing: border-box;\n",
       "  text-align: center;\n",
       "}\n",
       "\n",
       "#sk-container-id-2 label.sk-toggleable__label-arrow:before {\n",
       "  /* Arrow on the left of the label */\n",
       "  content: \"▸\";\n",
       "  float: left;\n",
       "  margin-right: 0.25em;\n",
       "  color: var(--sklearn-color-icon);\n",
       "}\n",
       "\n",
       "#sk-container-id-2 label.sk-toggleable__label-arrow:hover:before {\n",
       "  color: var(--sklearn-color-text);\n",
       "}\n",
       "\n",
       "/* Toggleable content - dropdown */\n",
       "\n",
       "#sk-container-id-2 div.sk-toggleable__content {\n",
       "  max-height: 0;\n",
       "  max-width: 0;\n",
       "  overflow: hidden;\n",
       "  text-align: left;\n",
       "  /* unfitted */\n",
       "  background-color: var(--sklearn-color-unfitted-level-0);\n",
       "}\n",
       "\n",
       "#sk-container-id-2 div.sk-toggleable__content.fitted {\n",
       "  /* fitted */\n",
       "  background-color: var(--sklearn-color-fitted-level-0);\n",
       "}\n",
       "\n",
       "#sk-container-id-2 div.sk-toggleable__content pre {\n",
       "  margin: 0.2em;\n",
       "  border-radius: 0.25em;\n",
       "  color: var(--sklearn-color-text);\n",
       "  /* unfitted */\n",
       "  background-color: var(--sklearn-color-unfitted-level-0);\n",
       "}\n",
       "\n",
       "#sk-container-id-2 div.sk-toggleable__content.fitted pre {\n",
       "  /* unfitted */\n",
       "  background-color: var(--sklearn-color-fitted-level-0);\n",
       "}\n",
       "\n",
       "#sk-container-id-2 input.sk-toggleable__control:checked~div.sk-toggleable__content {\n",
       "  /* Expand drop-down */\n",
       "  max-height: 200px;\n",
       "  max-width: 100%;\n",
       "  overflow: auto;\n",
       "}\n",
       "\n",
       "#sk-container-id-2 input.sk-toggleable__control:checked~label.sk-toggleable__label-arrow:before {\n",
       "  content: \"▾\";\n",
       "}\n",
       "\n",
       "/* Pipeline/ColumnTransformer-specific style */\n",
       "\n",
       "#sk-container-id-2 div.sk-label input.sk-toggleable__control:checked~label.sk-toggleable__label {\n",
       "  color: var(--sklearn-color-text);\n",
       "  background-color: var(--sklearn-color-unfitted-level-2);\n",
       "}\n",
       "\n",
       "#sk-container-id-2 div.sk-label.fitted input.sk-toggleable__control:checked~label.sk-toggleable__label {\n",
       "  background-color: var(--sklearn-color-fitted-level-2);\n",
       "}\n",
       "\n",
       "/* Estimator-specific style */\n",
       "\n",
       "/* Colorize estimator box */\n",
       "#sk-container-id-2 div.sk-estimator input.sk-toggleable__control:checked~label.sk-toggleable__label {\n",
       "  /* unfitted */\n",
       "  background-color: var(--sklearn-color-unfitted-level-2);\n",
       "}\n",
       "\n",
       "#sk-container-id-2 div.sk-estimator.fitted input.sk-toggleable__control:checked~label.sk-toggleable__label {\n",
       "  /* fitted */\n",
       "  background-color: var(--sklearn-color-fitted-level-2);\n",
       "}\n",
       "\n",
       "#sk-container-id-2 div.sk-label label.sk-toggleable__label,\n",
       "#sk-container-id-2 div.sk-label label {\n",
       "  /* The background is the default theme color */\n",
       "  color: var(--sklearn-color-text-on-default-background);\n",
       "}\n",
       "\n",
       "/* On hover, darken the color of the background */\n",
       "#sk-container-id-2 div.sk-label:hover label.sk-toggleable__label {\n",
       "  color: var(--sklearn-color-text);\n",
       "  background-color: var(--sklearn-color-unfitted-level-2);\n",
       "}\n",
       "\n",
       "/* Label box, darken color on hover, fitted */\n",
       "#sk-container-id-2 div.sk-label.fitted:hover label.sk-toggleable__label.fitted {\n",
       "  color: var(--sklearn-color-text);\n",
       "  background-color: var(--sklearn-color-fitted-level-2);\n",
       "}\n",
       "\n",
       "/* Estimator label */\n",
       "\n",
       "#sk-container-id-2 div.sk-label label {\n",
       "  font-family: monospace;\n",
       "  font-weight: bold;\n",
       "  display: inline-block;\n",
       "  line-height: 1.2em;\n",
       "}\n",
       "\n",
       "#sk-container-id-2 div.sk-label-container {\n",
       "  text-align: center;\n",
       "}\n",
       "\n",
       "/* Estimator-specific */\n",
       "#sk-container-id-2 div.sk-estimator {\n",
       "  font-family: monospace;\n",
       "  border: 1px dotted var(--sklearn-color-border-box);\n",
       "  border-radius: 0.25em;\n",
       "  box-sizing: border-box;\n",
       "  margin-bottom: 0.5em;\n",
       "  /* unfitted */\n",
       "  background-color: var(--sklearn-color-unfitted-level-0);\n",
       "}\n",
       "\n",
       "#sk-container-id-2 div.sk-estimator.fitted {\n",
       "  /* fitted */\n",
       "  background-color: var(--sklearn-color-fitted-level-0);\n",
       "}\n",
       "\n",
       "/* on hover */\n",
       "#sk-container-id-2 div.sk-estimator:hover {\n",
       "  /* unfitted */\n",
       "  background-color: var(--sklearn-color-unfitted-level-2);\n",
       "}\n",
       "\n",
       "#sk-container-id-2 div.sk-estimator.fitted:hover {\n",
       "  /* fitted */\n",
       "  background-color: var(--sklearn-color-fitted-level-2);\n",
       "}\n",
       "\n",
       "/* Specification for estimator info (e.g. \"i\" and \"?\") */\n",
       "\n",
       "/* Common style for \"i\" and \"?\" */\n",
       "\n",
       ".sk-estimator-doc-link,\n",
       "a:link.sk-estimator-doc-link,\n",
       "a:visited.sk-estimator-doc-link {\n",
       "  float: right;\n",
       "  font-size: smaller;\n",
       "  line-height: 1em;\n",
       "  font-family: monospace;\n",
       "  background-color: var(--sklearn-color-background);\n",
       "  border-radius: 1em;\n",
       "  height: 1em;\n",
       "  width: 1em;\n",
       "  text-decoration: none !important;\n",
       "  margin-left: 1ex;\n",
       "  /* unfitted */\n",
       "  border: var(--sklearn-color-unfitted-level-1) 1pt solid;\n",
       "  color: var(--sklearn-color-unfitted-level-1);\n",
       "}\n",
       "\n",
       ".sk-estimator-doc-link.fitted,\n",
       "a:link.sk-estimator-doc-link.fitted,\n",
       "a:visited.sk-estimator-doc-link.fitted {\n",
       "  /* fitted */\n",
       "  border: var(--sklearn-color-fitted-level-1) 1pt solid;\n",
       "  color: var(--sklearn-color-fitted-level-1);\n",
       "}\n",
       "\n",
       "/* On hover */\n",
       "div.sk-estimator:hover .sk-estimator-doc-link:hover,\n",
       ".sk-estimator-doc-link:hover,\n",
       "div.sk-label-container:hover .sk-estimator-doc-link:hover,\n",
       ".sk-estimator-doc-link:hover {\n",
       "  /* unfitted */\n",
       "  background-color: var(--sklearn-color-unfitted-level-3);\n",
       "  color: var(--sklearn-color-background);\n",
       "  text-decoration: none;\n",
       "}\n",
       "\n",
       "div.sk-estimator.fitted:hover .sk-estimator-doc-link.fitted:hover,\n",
       ".sk-estimator-doc-link.fitted:hover,\n",
       "div.sk-label-container:hover .sk-estimator-doc-link.fitted:hover,\n",
       ".sk-estimator-doc-link.fitted:hover {\n",
       "  /* fitted */\n",
       "  background-color: var(--sklearn-color-fitted-level-3);\n",
       "  color: var(--sklearn-color-background);\n",
       "  text-decoration: none;\n",
       "}\n",
       "\n",
       "/* Span, style for the box shown on hovering the info icon */\n",
       ".sk-estimator-doc-link span {\n",
       "  display: none;\n",
       "  z-index: 9999;\n",
       "  position: relative;\n",
       "  font-weight: normal;\n",
       "  right: .2ex;\n",
       "  padding: .5ex;\n",
       "  margin: .5ex;\n",
       "  width: min-content;\n",
       "  min-width: 20ex;\n",
       "  max-width: 50ex;\n",
       "  color: var(--sklearn-color-text);\n",
       "  box-shadow: 2pt 2pt 4pt #999;\n",
       "  /* unfitted */\n",
       "  background: var(--sklearn-color-unfitted-level-0);\n",
       "  border: .5pt solid var(--sklearn-color-unfitted-level-3);\n",
       "}\n",
       "\n",
       ".sk-estimator-doc-link.fitted span {\n",
       "  /* fitted */\n",
       "  background: var(--sklearn-color-fitted-level-0);\n",
       "  border: var(--sklearn-color-fitted-level-3);\n",
       "}\n",
       "\n",
       ".sk-estimator-doc-link:hover span {\n",
       "  display: block;\n",
       "}\n",
       "\n",
       "/* \"?\"-specific style due to the `<a>` HTML tag */\n",
       "\n",
       "#sk-container-id-2 a.estimator_doc_link {\n",
       "  float: right;\n",
       "  font-size: 1rem;\n",
       "  line-height: 1em;\n",
       "  font-family: monospace;\n",
       "  background-color: var(--sklearn-color-background);\n",
       "  border-radius: 1rem;\n",
       "  height: 1rem;\n",
       "  width: 1rem;\n",
       "  text-decoration: none;\n",
       "  /* unfitted */\n",
       "  color: var(--sklearn-color-unfitted-level-1);\n",
       "  border: var(--sklearn-color-unfitted-level-1) 1pt solid;\n",
       "}\n",
       "\n",
       "#sk-container-id-2 a.estimator_doc_link.fitted {\n",
       "  /* fitted */\n",
       "  border: var(--sklearn-color-fitted-level-1) 1pt solid;\n",
       "  color: var(--sklearn-color-fitted-level-1);\n",
       "}\n",
       "\n",
       "/* On hover */\n",
       "#sk-container-id-2 a.estimator_doc_link:hover {\n",
       "  /* unfitted */\n",
       "  background-color: var(--sklearn-color-unfitted-level-3);\n",
       "  color: var(--sklearn-color-background);\n",
       "  text-decoration: none;\n",
       "}\n",
       "\n",
       "#sk-container-id-2 a.estimator_doc_link.fitted:hover {\n",
       "  /* fitted */\n",
       "  background-color: var(--sklearn-color-fitted-level-3);\n",
       "}\n",
       "</style><div id=\"sk-container-id-2\" class=\"sk-top-container\"><div class=\"sk-text-repr-fallback\"><pre>KMeans(init=&#x27;random&#x27;, max_iter=500, n_clusters=50, random_state=42)</pre><b>In a Jupyter environment, please rerun this cell to show the HTML representation or trust the notebook. <br />On GitHub, the HTML representation is unable to render, please try loading this page with nbviewer.org.</b></div><div class=\"sk-container\" hidden><div class=\"sk-item\"><div class=\"sk-estimator fitted sk-toggleable\"><input class=\"sk-toggleable__control sk-hidden--visually\" id=\"sk-estimator-id-2\" type=\"checkbox\" checked><label for=\"sk-estimator-id-2\" class=\"sk-toggleable__label fitted sk-toggleable__label-arrow fitted\">&nbsp;&nbsp;KMeans<a class=\"sk-estimator-doc-link fitted\" rel=\"noreferrer\" target=\"_blank\" href=\"https://scikit-learn.org/1.4/modules/generated/sklearn.cluster.KMeans.html\">?<span>Documentation for KMeans</span></a><span class=\"sk-estimator-doc-link fitted\">i<span>Fitted</span></span></label><div class=\"sk-toggleable__content fitted\"><pre>KMeans(init=&#x27;random&#x27;, max_iter=500, n_clusters=50, random_state=42)</pre></div> </div></div></div></div>"
      ],
      "text/plain": [
       "KMeans(init='random', max_iter=500, n_clusters=50, random_state=42)"
      ]
     },
     "execution_count": 31,
     "metadata": {},
     "output_type": "execute_result"
    }
   ],
   "source": [
    "kmeans.fit(scores)"
   ]
  },
  {
   "cell_type": "code",
   "execution_count": 32,
   "id": "149ae354-27d2-4fed-8262-10deb247ca6c",
   "metadata": {
    "execution": {
     "iopub.execute_input": "2024-05-11T14:21:21.063111Z",
     "iopub.status.busy": "2024-05-11T14:21:21.062859Z",
     "iopub.status.idle": "2024-05-11T14:21:21.068108Z",
     "shell.execute_reply": "2024-05-11T14:21:21.067496Z"
    },
    "papermill": {
     "duration": 0.014587,
     "end_time": "2024-05-11T14:21:21.068967",
     "exception": false,
     "start_time": "2024-05-11T14:21:21.054380",
     "status": "completed"
    },
    "tags": []
   },
   "outputs": [],
   "source": [
    "from collections import Counter\n",
    "\n",
    "\n",
    "count = Counter(kmeans.labels_)"
   ]
  },
  {
   "cell_type": "code",
   "execution_count": 33,
   "id": "05de42c9-f432-465d-8d2b-ec27e53a0abf",
   "metadata": {
    "execution": {
     "iopub.execute_input": "2024-05-11T14:21:21.080065Z",
     "iopub.status.busy": "2024-05-11T14:21:21.079890Z",
     "iopub.status.idle": "2024-05-11T14:21:21.084103Z",
     "shell.execute_reply": "2024-05-11T14:21:21.083698Z"
    },
    "papermill": {
     "duration": 0.013237,
     "end_time": "2024-05-11T14:21:21.085099",
     "exception": false,
     "start_time": "2024-05-11T14:21:21.071862",
     "status": "completed"
    },
    "tags": []
   },
   "outputs": [
    {
     "data": {
      "text/plain": [
       "array([[0.05226481, 0.21602787, 0.13937282, 5.48780488],\n",
       "       [0.08536585, 9.17073171, 0.31707317, 8.17073171],\n",
       "       [0.02867384, 0.43010753, 8.45519713, 0.39784946],\n",
       "       [0.08424697, 0.16156953, 0.03981535, 1.        ],\n",
       "       [0.025     , 0.25      , 1.45      , 2.5       ]])"
      ]
     },
     "execution_count": 33,
     "metadata": {},
     "output_type": "execute_result"
    }
   ],
   "source": [
    "kmeans.cluster_centers_[:5]"
   ]
  },
  {
   "cell_type": "code",
   "execution_count": 34,
   "id": "007d2c8c-4245-4b88-84f9-6534c662cd5a",
   "metadata": {
    "execution": {
     "iopub.execute_input": "2024-05-11T14:21:21.091763Z",
     "iopub.status.busy": "2024-05-11T14:21:21.091568Z",
     "iopub.status.idle": "2024-05-11T14:21:21.097700Z",
     "shell.execute_reply": "2024-05-11T14:21:21.096737Z"
    },
    "papermill": {
     "duration": 0.010673,
     "end_time": "2024-05-11T14:21:21.098701",
     "exception": false,
     "start_time": "2024-05-11T14:21:21.088028",
     "status": "completed"
    },
    "tags": []
   },
   "outputs": [],
   "source": [
    "from collections import Counter\n",
    "\n",
    "\n",
    "sums = {i: sum(c) for i, c in enumerate(kmeans.cluster_centers_)}\n",
    "\n",
    "count = Counter(kmeans.labels_)\n",
    "widths = np.array([count[p] for p in range(kmeans.n_clusters)])\n",
    "sorted_keys = list({k: v for k, v in sorted(sums.items(), key=lambda item: item[1])}.keys())\n",
    "sorted_widths = [widths[k] for k in reversed(sorted_keys)]\n",
    "sorted_clusters = np.array([kmeans.cluster_centers_[k] for k in reversed(sorted_keys)])"
   ]
  },
  {
   "cell_type": "code",
   "execution_count": 35,
   "id": "de5d034b-69f0-4460-90df-5b231c47b50a",
   "metadata": {
    "execution": {
     "iopub.execute_input": "2024-05-11T14:21:21.106465Z",
     "iopub.status.busy": "2024-05-11T14:21:21.106209Z",
     "iopub.status.idle": "2024-05-11T14:21:24.049932Z",
     "shell.execute_reply": "2024-05-11T14:21:24.049453Z"
    },
    "papermill": {
     "duration": 2.974375,
     "end_time": "2024-05-11T14:21:24.075693",
     "exception": false,
     "start_time": "2024-05-11T14:21:21.101318",
     "status": "completed"
    },
    "tags": []
   },
   "outputs": [
    {
     "data": {
      "application/vnd.plotly.v1+json": {
       "config": {
        "plotlyServerURL": "https://plot.ly"
       },
       "data": [
        {
         "name": "Таблица",
         "offset": 0,
         "type": "bar",
         "width": [
          1,
          1,
          1,
          1,
          1,
          1,
          1,
          2,
          1,
          1,
          1,
          5,
          2,
          1,
          8,
          33,
          2,
          20,
          24,
          19,
          68,
          19,
          162,
          194,
          13,
          82,
          95,
          50,
          285,
          61,
          152,
          594,
          60,
          279,
          475,
          332,
          141,
          159,
          136,
          106,
          93,
          287,
          139,
          80,
          173,
          320,
          320,
          147,
          1733,
          2170
         ],
         "x": [
          0,
          1,
          2,
          3,
          4,
          5,
          6,
          7,
          9,
          10,
          11,
          12,
          17,
          19,
          20,
          28,
          61,
          63,
          83,
          107,
          126,
          194,
          213,
          375,
          569,
          582,
          664,
          759,
          809,
          1094,
          1155,
          1307,
          1901,
          1961,
          2240,
          2715,
          3047,
          3188,
          3347,
          3483,
          3589,
          3682,
          3969,
          4108,
          4188,
          4361,
          4681,
          5001,
          5148,
          6881
         ],
         "y": [
          0,
          0,
          0,
          0,
          0,
          0,
          0,
          1,
          0,
          54,
          0,
          -2.7755575615628914e-17,
          0,
          38,
          0,
          0.030303030303030304,
          32,
          1,
          0.041666666666666685,
          5.551115123125783e-17,
          0.11764705882352942,
          18.473684210526315,
          0.03703703703703706,
          0.05670103092783496,
          8,
          0.0853658536585366,
          0.052631578947368446,
          0.060000000000000026,
          0.03859649122806999,
          0.1475409836065574,
          0.09210526315789473,
          0.05555555555555536,
          8.149999999999997,
          0.028673835125447883,
          0.02526315789473657,
          0.03915662650602392,
          0.06382978723404255,
          0.15094339622641506,
          0.0661764705882353,
          0.10377358490566041,
          0.06451612903225806,
          0.052264808362369214,
          0.028776978417266175,
          0.024999999999999994,
          0.08092485549132944,
          0.05937499999999987,
          0.11874999999999998,
          0.06802721088435376,
          0.08424697057126375,
          0.04976958525345718
         ]
        },
        {
         "name": "Ненум. список",
         "offset": 0,
         "type": "bar",
         "width": [
          1,
          1,
          1,
          1,
          1,
          1,
          1,
          2,
          1,
          1,
          1,
          5,
          2,
          1,
          8,
          33,
          2,
          20,
          24,
          19,
          68,
          19,
          162,
          194,
          13,
          82,
          95,
          50,
          285,
          61,
          152,
          594,
          60,
          279,
          475,
          332,
          141,
          159,
          136,
          106,
          93,
          287,
          139,
          80,
          173,
          320,
          320,
          147,
          1733,
          2170
         ],
         "x": [
          0,
          1,
          2,
          3,
          4,
          5,
          6,
          7,
          9,
          10,
          11,
          12,
          17,
          19,
          20,
          28,
          61,
          63,
          83,
          107,
          126,
          194,
          213,
          375,
          569,
          582,
          664,
          759,
          809,
          1094,
          1155,
          1307,
          1901,
          1961,
          2240,
          2715,
          3047,
          3188,
          3347,
          3483,
          3589,
          3682,
          3969,
          4108,
          4188,
          4361,
          4681,
          5001,
          5148,
          6881
         ],
         "y": [
          74,
          38,
          0,
          72,
          0,
          0,
          0,
          0,
          53,
          6,
          3,
          0.5999999999999999,
          48,
          0,
          33.75,
          17.575757575757578,
          0.5,
          3.8,
          1.4999999999999998,
          18.473684210526315,
          6.6764705882352935,
          0.42105263157894723,
          0.4876543209876545,
          0.7010309278350517,
          0.5384615384615384,
          9.170731707317076,
          0.6210526315789473,
          7.14,
          0.3578947368421056,
          11.786885245901642,
          4.203947368421053,
          0.3552188552188553,
          0.6166666666666666,
          0.4301075268817206,
          8.881784197001252e-16,
          0.6686746987951813,
          2.9290780141843973,
          7.327044025157234,
          0.1544117647058827,
          5.245283018867924,
          0.8602150537634408,
          0.21602787456446004,
          0.3381294964028777,
          0.24999999999999978,
          3.4335260115606925,
          2.3187499999999996,
          0.14687499999999976,
          0.1496598639455785,
          0.16156953260242723,
          0.12442396313364457
         ]
        },
        {
         "name": "Нум. список",
         "offset": 0,
         "type": "bar",
         "width": [
          1,
          1,
          1,
          1,
          1,
          1,
          1,
          2,
          1,
          1,
          1,
          5,
          2,
          1,
          8,
          33,
          2,
          20,
          24,
          19,
          68,
          19,
          162,
          194,
          13,
          82,
          95,
          50,
          285,
          61,
          152,
          594,
          60,
          279,
          475,
          332,
          141,
          159,
          136,
          106,
          93,
          287,
          139,
          80,
          173,
          320,
          320,
          147,
          1733,
          2170
         ],
         "x": [
          0,
          1,
          2,
          3,
          4,
          5,
          6,
          7,
          9,
          10,
          11,
          12,
          17,
          19,
          20,
          28,
          61,
          63,
          83,
          107,
          126,
          194,
          213,
          375,
          569,
          582,
          664,
          759,
          809,
          1094,
          1155,
          1307,
          1901,
          1961,
          2240,
          2715,
          3047,
          3188,
          3347,
          3483,
          3589,
          3682,
          3969,
          4108,
          4188,
          4361,
          4681,
          5001,
          5148,
          6881
         ],
         "y": [
          0,
          0,
          0,
          0,
          0,
          0,
          0,
          0,
          0,
          0,
          52,
          2.6,
          0,
          0,
          1,
          0.12121212121212122,
          0,
          0.49999999999999994,
          24.999999999999996,
          4.2631578947368425,
          0.44117647058823534,
          2.220446049250313e-16,
          0.1049382716049383,
          8.639175257731958,
          1.3076923076923077,
          0.3170731707317074,
          15.126315789473683,
          7.580000000000002,
          0.021052631578947656,
          0.3770491803278688,
          0.19736842105263175,
          0.03367003367003518,
          0.016666666666666607,
          8.455197132616481,
          0.021052631578948322,
          0.0602409638554221,
          0.13475177304964558,
          0.12578616352201255,
          0.0882352941176473,
          0.07547169811320786,
          5.053763440860217,
          0.13937282229965164,
          0.05035971223021585,
          1.45,
          0.138728323699422,
          0.0750000000000004,
          5.551115123125783e-16,
          1.530612244897959,
          0.03981534910559925,
          -2.9976021664879227e-15
         ]
        },
        {
         "name": "Заголовок",
         "offset": 0,
         "type": "bar",
         "width": [
          1,
          1,
          1,
          1,
          1,
          1,
          1,
          2,
          1,
          1,
          1,
          5,
          2,
          1,
          8,
          33,
          2,
          20,
          24,
          19,
          68,
          19,
          162,
          194,
          13,
          82,
          95,
          50,
          285,
          61,
          152,
          594,
          60,
          279,
          475,
          332,
          141,
          159,
          136,
          106,
          93,
          287,
          139,
          80,
          173,
          320,
          320,
          147,
          1733,
          2170
         ],
         "x": [
          0,
          1,
          2,
          3,
          4,
          5,
          6,
          7,
          9,
          10,
          11,
          12,
          17,
          19,
          20,
          28,
          61,
          63,
          83,
          107,
          126,
          194,
          213,
          375,
          569,
          582,
          664,
          759,
          809,
          1094,
          1155,
          1307,
          1901,
          1961,
          2240,
          2715,
          3047,
          3188,
          3347,
          3483,
          3589,
          3682,
          3969,
          4108,
          4188,
          4361,
          4681,
          5001,
          5148,
          6881
         ],
         "y": [
          20,
          56,
          85,
          11,
          82,
          74,
          70,
          61.5,
          9,
          0,
          1,
          46,
          0.5,
          0,
          2.875,
          17.333333333333336,
          2,
          29.000000000000004,
          2.791666666666667,
          1.2631578947368425,
          14.661764705882351,
          0.736842105263158,
          18.975308641975296,
          9.128865979381441,
          8.538461538461538,
          8.170731707317074,
          0.6736842105263157,
          0.7199999999999998,
          14.294736842105252,
          0.9180327868852456,
          8.506578947368421,
          10.602693602693593,
          0.7833333333333332,
          0.3978494623655884,
          8.999999999999991,
          8.222891566265055,
          4.957446808510639,
          0.4339622641509431,
          7,
          1.4433962264150941,
          0.5913978494623651,
          5.487804878048781,
          3.827338129496403,
          2.5,
          0.18497109826589675,
          0.7718749999999965,
          2.309375,
          0.1496598639455784,
          0.9999999999999889,
          -1.199040866595169e-14
         ]
        }
       ],
       "layout": {
        "barmode": "stack",
        "colorway": [
         "rgba(244, 67, 54, 1.0)",
         "rgba(232, 30, 99, 1.0)",
         "rgba(156, 39, 176, 1.0)",
         "rgba(103, 58, 183, 1.0)",
         "rgba(63, 81, 181, 1.0)",
         "rgba(33, 150, 243, 1.0)",
         "rgba(3, 169, 244, 1.0)",
         "rgba(0, 188, 212, 1.0)",
         "rgba(0, 150, 136, 1.0)",
         "rgba(76, 175, 80, 1.0)",
         "rgba(139, 195, 74, 1.0)",
         "rgba(205, 220, 57, 1.0)",
         "rgba(255, 235, 59, 1.0)",
         "rgba(255, 193, 7, 1.0)",
         "rgba(255, 152, 0, 1.0)",
         "rgba(255, 87, 34, 1.0)"
        ],
        "font": {
         "color": "black",
         "family": "Times New Roman",
         "size": 20
        },
        "height": 900,
        "margin": {
         "pad": 10
        },
        "plot_bgcolor": "rgba(0, 0, 0, 0)",
        "template": {
         "data": {
          "bar": [
           {
            "error_x": {
             "color": "#2a3f5f"
            },
            "error_y": {
             "color": "#2a3f5f"
            },
            "marker": {
             "line": {
              "color": "#E5ECF6",
              "width": 0.5
             },
             "pattern": {
              "fillmode": "overlay",
              "size": 10,
              "solidity": 0.2
             }
            },
            "type": "bar"
           }
          ],
          "barpolar": [
           {
            "marker": {
             "line": {
              "color": "#E5ECF6",
              "width": 0.5
             },
             "pattern": {
              "fillmode": "overlay",
              "size": 10,
              "solidity": 0.2
             }
            },
            "type": "barpolar"
           }
          ],
          "carpet": [
           {
            "aaxis": {
             "endlinecolor": "#2a3f5f",
             "gridcolor": "white",
             "linecolor": "white",
             "minorgridcolor": "white",
             "startlinecolor": "#2a3f5f"
            },
            "baxis": {
             "endlinecolor": "#2a3f5f",
             "gridcolor": "white",
             "linecolor": "white",
             "minorgridcolor": "white",
             "startlinecolor": "#2a3f5f"
            },
            "type": "carpet"
           }
          ],
          "choropleth": [
           {
            "colorbar": {
             "outlinewidth": 0,
             "ticks": ""
            },
            "type": "choropleth"
           }
          ],
          "contour": [
           {
            "colorbar": {
             "outlinewidth": 0,
             "ticks": ""
            },
            "colorscale": [
             [
              0,
              "#0d0887"
             ],
             [
              0.1111111111111111,
              "#46039f"
             ],
             [
              0.2222222222222222,
              "#7201a8"
             ],
             [
              0.3333333333333333,
              "#9c179e"
             ],
             [
              0.4444444444444444,
              "#bd3786"
             ],
             [
              0.5555555555555556,
              "#d8576b"
             ],
             [
              0.6666666666666666,
              "#ed7953"
             ],
             [
              0.7777777777777778,
              "#fb9f3a"
             ],
             [
              0.8888888888888888,
              "#fdca26"
             ],
             [
              1,
              "#f0f921"
             ]
            ],
            "type": "contour"
           }
          ],
          "contourcarpet": [
           {
            "colorbar": {
             "outlinewidth": 0,
             "ticks": ""
            },
            "type": "contourcarpet"
           }
          ],
          "heatmap": [
           {
            "colorbar": {
             "outlinewidth": 0,
             "ticks": ""
            },
            "colorscale": [
             [
              0,
              "#0d0887"
             ],
             [
              0.1111111111111111,
              "#46039f"
             ],
             [
              0.2222222222222222,
              "#7201a8"
             ],
             [
              0.3333333333333333,
              "#9c179e"
             ],
             [
              0.4444444444444444,
              "#bd3786"
             ],
             [
              0.5555555555555556,
              "#d8576b"
             ],
             [
              0.6666666666666666,
              "#ed7953"
             ],
             [
              0.7777777777777778,
              "#fb9f3a"
             ],
             [
              0.8888888888888888,
              "#fdca26"
             ],
             [
              1,
              "#f0f921"
             ]
            ],
            "type": "heatmap"
           }
          ],
          "heatmapgl": [
           {
            "colorbar": {
             "outlinewidth": 0,
             "ticks": ""
            },
            "colorscale": [
             [
              0,
              "#0d0887"
             ],
             [
              0.1111111111111111,
              "#46039f"
             ],
             [
              0.2222222222222222,
              "#7201a8"
             ],
             [
              0.3333333333333333,
              "#9c179e"
             ],
             [
              0.4444444444444444,
              "#bd3786"
             ],
             [
              0.5555555555555556,
              "#d8576b"
             ],
             [
              0.6666666666666666,
              "#ed7953"
             ],
             [
              0.7777777777777778,
              "#fb9f3a"
             ],
             [
              0.8888888888888888,
              "#fdca26"
             ],
             [
              1,
              "#f0f921"
             ]
            ],
            "type": "heatmapgl"
           }
          ],
          "histogram": [
           {
            "marker": {
             "pattern": {
              "fillmode": "overlay",
              "size": 10,
              "solidity": 0.2
             }
            },
            "type": "histogram"
           }
          ],
          "histogram2d": [
           {
            "colorbar": {
             "outlinewidth": 0,
             "ticks": ""
            },
            "colorscale": [
             [
              0,
              "#0d0887"
             ],
             [
              0.1111111111111111,
              "#46039f"
             ],
             [
              0.2222222222222222,
              "#7201a8"
             ],
             [
              0.3333333333333333,
              "#9c179e"
             ],
             [
              0.4444444444444444,
              "#bd3786"
             ],
             [
              0.5555555555555556,
              "#d8576b"
             ],
             [
              0.6666666666666666,
              "#ed7953"
             ],
             [
              0.7777777777777778,
              "#fb9f3a"
             ],
             [
              0.8888888888888888,
              "#fdca26"
             ],
             [
              1,
              "#f0f921"
             ]
            ],
            "type": "histogram2d"
           }
          ],
          "histogram2dcontour": [
           {
            "colorbar": {
             "outlinewidth": 0,
             "ticks": ""
            },
            "colorscale": [
             [
              0,
              "#0d0887"
             ],
             [
              0.1111111111111111,
              "#46039f"
             ],
             [
              0.2222222222222222,
              "#7201a8"
             ],
             [
              0.3333333333333333,
              "#9c179e"
             ],
             [
              0.4444444444444444,
              "#bd3786"
             ],
             [
              0.5555555555555556,
              "#d8576b"
             ],
             [
              0.6666666666666666,
              "#ed7953"
             ],
             [
              0.7777777777777778,
              "#fb9f3a"
             ],
             [
              0.8888888888888888,
              "#fdca26"
             ],
             [
              1,
              "#f0f921"
             ]
            ],
            "type": "histogram2dcontour"
           }
          ],
          "mesh3d": [
           {
            "colorbar": {
             "outlinewidth": 0,
             "ticks": ""
            },
            "type": "mesh3d"
           }
          ],
          "parcoords": [
           {
            "line": {
             "colorbar": {
              "outlinewidth": 0,
              "ticks": ""
             }
            },
            "type": "parcoords"
           }
          ],
          "pie": [
           {
            "automargin": true,
            "type": "pie"
           }
          ],
          "scatter": [
           {
            "fillpattern": {
             "fillmode": "overlay",
             "size": 10,
             "solidity": 0.2
            },
            "type": "scatter"
           }
          ],
          "scatter3d": [
           {
            "line": {
             "colorbar": {
              "outlinewidth": 0,
              "ticks": ""
             }
            },
            "marker": {
             "colorbar": {
              "outlinewidth": 0,
              "ticks": ""
             }
            },
            "type": "scatter3d"
           }
          ],
          "scattercarpet": [
           {
            "marker": {
             "colorbar": {
              "outlinewidth": 0,
              "ticks": ""
             }
            },
            "type": "scattercarpet"
           }
          ],
          "scattergeo": [
           {
            "marker": {
             "colorbar": {
              "outlinewidth": 0,
              "ticks": ""
             }
            },
            "type": "scattergeo"
           }
          ],
          "scattergl": [
           {
            "marker": {
             "colorbar": {
              "outlinewidth": 0,
              "ticks": ""
             }
            },
            "type": "scattergl"
           }
          ],
          "scattermapbox": [
           {
            "marker": {
             "colorbar": {
              "outlinewidth": 0,
              "ticks": ""
             }
            },
            "type": "scattermapbox"
           }
          ],
          "scatterpolar": [
           {
            "marker": {
             "colorbar": {
              "outlinewidth": 0,
              "ticks": ""
             }
            },
            "type": "scatterpolar"
           }
          ],
          "scatterpolargl": [
           {
            "marker": {
             "colorbar": {
              "outlinewidth": 0,
              "ticks": ""
             }
            },
            "type": "scatterpolargl"
           }
          ],
          "scatterternary": [
           {
            "marker": {
             "colorbar": {
              "outlinewidth": 0,
              "ticks": ""
             }
            },
            "type": "scatterternary"
           }
          ],
          "surface": [
           {
            "colorbar": {
             "outlinewidth": 0,
             "ticks": ""
            },
            "colorscale": [
             [
              0,
              "#0d0887"
             ],
             [
              0.1111111111111111,
              "#46039f"
             ],
             [
              0.2222222222222222,
              "#7201a8"
             ],
             [
              0.3333333333333333,
              "#9c179e"
             ],
             [
              0.4444444444444444,
              "#bd3786"
             ],
             [
              0.5555555555555556,
              "#d8576b"
             ],
             [
              0.6666666666666666,
              "#ed7953"
             ],
             [
              0.7777777777777778,
              "#fb9f3a"
             ],
             [
              0.8888888888888888,
              "#fdca26"
             ],
             [
              1,
              "#f0f921"
             ]
            ],
            "type": "surface"
           }
          ],
          "table": [
           {
            "cells": {
             "fill": {
              "color": "#EBF0F8"
             },
             "line": {
              "color": "white"
             }
            },
            "header": {
             "fill": {
              "color": "#C8D4E3"
             },
             "line": {
              "color": "white"
             }
            },
            "type": "table"
           }
          ]
         },
         "layout": {
          "annotationdefaults": {
           "arrowcolor": "#2a3f5f",
           "arrowhead": 0,
           "arrowwidth": 1
          },
          "autotypenumbers": "strict",
          "coloraxis": {
           "colorbar": {
            "outlinewidth": 0,
            "ticks": ""
           }
          },
          "colorscale": {
           "diverging": [
            [
             0,
             "#8e0152"
            ],
            [
             0.1,
             "#c51b7d"
            ],
            [
             0.2,
             "#de77ae"
            ],
            [
             0.3,
             "#f1b6da"
            ],
            [
             0.4,
             "#fde0ef"
            ],
            [
             0.5,
             "#f7f7f7"
            ],
            [
             0.6,
             "#e6f5d0"
            ],
            [
             0.7,
             "#b8e186"
            ],
            [
             0.8,
             "#7fbc41"
            ],
            [
             0.9,
             "#4d9221"
            ],
            [
             1,
             "#276419"
            ]
           ],
           "sequential": [
            [
             0,
             "#0d0887"
            ],
            [
             0.1111111111111111,
             "#46039f"
            ],
            [
             0.2222222222222222,
             "#7201a8"
            ],
            [
             0.3333333333333333,
             "#9c179e"
            ],
            [
             0.4444444444444444,
             "#bd3786"
            ],
            [
             0.5555555555555556,
             "#d8576b"
            ],
            [
             0.6666666666666666,
             "#ed7953"
            ],
            [
             0.7777777777777778,
             "#fb9f3a"
            ],
            [
             0.8888888888888888,
             "#fdca26"
            ],
            [
             1,
             "#f0f921"
            ]
           ],
           "sequentialminus": [
            [
             0,
             "#0d0887"
            ],
            [
             0.1111111111111111,
             "#46039f"
            ],
            [
             0.2222222222222222,
             "#7201a8"
            ],
            [
             0.3333333333333333,
             "#9c179e"
            ],
            [
             0.4444444444444444,
             "#bd3786"
            ],
            [
             0.5555555555555556,
             "#d8576b"
            ],
            [
             0.6666666666666666,
             "#ed7953"
            ],
            [
             0.7777777777777778,
             "#fb9f3a"
            ],
            [
             0.8888888888888888,
             "#fdca26"
            ],
            [
             1,
             "#f0f921"
            ]
           ]
          },
          "colorway": [
           "#636efa",
           "#EF553B",
           "#00cc96",
           "#ab63fa",
           "#FFA15A",
           "#19d3f3",
           "#FF6692",
           "#B6E880",
           "#FF97FF",
           "#FECB52"
          ],
          "font": {
           "color": "#2a3f5f"
          },
          "geo": {
           "bgcolor": "white",
           "lakecolor": "white",
           "landcolor": "#E5ECF6",
           "showlakes": true,
           "showland": true,
           "subunitcolor": "white"
          },
          "hoverlabel": {
           "align": "left"
          },
          "hovermode": "closest",
          "mapbox": {
           "style": "light"
          },
          "paper_bgcolor": "white",
          "plot_bgcolor": "#E5ECF6",
          "polar": {
           "angularaxis": {
            "gridcolor": "white",
            "linecolor": "white",
            "ticks": ""
           },
           "bgcolor": "#E5ECF6",
           "radialaxis": {
            "gridcolor": "white",
            "linecolor": "white",
            "ticks": ""
           }
          },
          "scene": {
           "xaxis": {
            "backgroundcolor": "#E5ECF6",
            "gridcolor": "white",
            "gridwidth": 2,
            "linecolor": "white",
            "showbackground": true,
            "ticks": "",
            "zerolinecolor": "white"
           },
           "yaxis": {
            "backgroundcolor": "#E5ECF6",
            "gridcolor": "white",
            "gridwidth": 2,
            "linecolor": "white",
            "showbackground": true,
            "ticks": "",
            "zerolinecolor": "white"
           },
           "zaxis": {
            "backgroundcolor": "#E5ECF6",
            "gridcolor": "white",
            "gridwidth": 2,
            "linecolor": "white",
            "showbackground": true,
            "ticks": "",
            "zerolinecolor": "white"
           }
          },
          "shapedefaults": {
           "line": {
            "color": "#2a3f5f"
           }
          },
          "ternary": {
           "aaxis": {
            "gridcolor": "white",
            "linecolor": "white",
            "ticks": ""
           },
           "baxis": {
            "gridcolor": "white",
            "linecolor": "white",
            "ticks": ""
           },
           "bgcolor": "#E5ECF6",
           "caxis": {
            "gridcolor": "white",
            "linecolor": "white",
            "ticks": ""
           }
          },
          "title": {
           "x": 0.05
          },
          "xaxis": {
           "automargin": true,
           "gridcolor": "white",
           "linecolor": "white",
           "ticks": "",
           "title": {
            "standoff": 15
           },
           "zerolinecolor": "white",
           "zerolinewidth": 2
          },
          "yaxis": {
           "automargin": true,
           "gridcolor": "white",
           "linecolor": "white",
           "ticks": "",
           "title": {
            "standoff": 15
           },
           "zerolinecolor": "white",
           "zerolinewidth": 2
          }
         }
        },
        "width": 1600,
        "xaxis": {
         "gridcolor": "lightgrey",
         "showgrid": true,
         "tickangle": 0,
         "tickformat": "000",
         "ticklen": 10,
         "title": {
          "font": {
           "color": "black",
           "family": "Times New Roman",
           "size": 25
          },
          "text": "Кластеры политик безопасности"
         },
         "zerolinecolor": "lightgrey"
        },
        "yaxis": {
         "gridcolor": "lightgrey",
         "range": [
          0,
          94
         ],
         "showgrid": true,
         "tickangle": 0,
         "tickformat": "000",
         "ticklen": 10,
         "title": {
          "font": {
           "color": "black",
           "family": "Times New Roman",
           "size": 25
          },
          "text": "Количество структурных элементов"
         },
         "zerolinecolor": "lightgrey"
        }
       }
      },
      "text/html": [
       "<div>                            <div id=\"f5048441-4027-4490-8ed4-8ad04fa32f0b\" class=\"plotly-graph-div\" style=\"height:900px; width:1600px;\"></div>            <script type=\"text/javascript\">                require([\"plotly\"], function(Plotly) {                    window.PLOTLYENV=window.PLOTLYENV || {};                                    if (document.getElementById(\"f5048441-4027-4490-8ed4-8ad04fa32f0b\")) {                    Plotly.newPlot(                        \"f5048441-4027-4490-8ed4-8ad04fa32f0b\",                        [{\"name\":\"\\u0422\\u0430\\u0431\\u043b\\u0438\\u0446\\u0430\",\"offset\":0,\"width\":[1,1,1,1,1,1,1,2,1,1,1,5,2,1,8,33,2,20,24,19,68,19,162,194,13,82,95,50,285,61,152,594,60,279,475,332,141,159,136,106,93,287,139,80,173,320,320,147,1733,2170],\"x\":[0,1,2,3,4,5,6,7,9,10,11,12,17,19,20,28,61,63,83,107,126,194,213,375,569,582,664,759,809,1094,1155,1307,1901,1961,2240,2715,3047,3188,3347,3483,3589,3682,3969,4108,4188,4361,4681,5001,5148,6881],\"y\":[0.0,0.0,0.0,0.0,0.0,0.0,0.0,1.0,0.0,54.0,0.0,-2.7755575615628914e-17,0.0,38.0,0.0,0.030303030303030304,32.0,1.0,0.041666666666666685,5.551115123125783e-17,0.11764705882352942,18.473684210526315,0.03703703703703706,0.05670103092783496,8.0,0.0853658536585366,0.052631578947368446,0.060000000000000026,0.03859649122806999,0.1475409836065574,0.09210526315789473,0.05555555555555536,8.149999999999997,0.028673835125447883,0.02526315789473657,0.03915662650602392,0.06382978723404255,0.15094339622641506,0.0661764705882353,0.10377358490566041,0.06451612903225806,0.052264808362369214,0.028776978417266175,0.024999999999999994,0.08092485549132944,0.05937499999999987,0.11874999999999998,0.06802721088435376,0.08424697057126375,0.04976958525345718],\"type\":\"bar\"},{\"name\":\"\\u041d\\u0435\\u043d\\u0443\\u043c. \\u0441\\u043f\\u0438\\u0441\\u043e\\u043a\",\"offset\":0,\"width\":[1,1,1,1,1,1,1,2,1,1,1,5,2,1,8,33,2,20,24,19,68,19,162,194,13,82,95,50,285,61,152,594,60,279,475,332,141,159,136,106,93,287,139,80,173,320,320,147,1733,2170],\"x\":[0,1,2,3,4,5,6,7,9,10,11,12,17,19,20,28,61,63,83,107,126,194,213,375,569,582,664,759,809,1094,1155,1307,1901,1961,2240,2715,3047,3188,3347,3483,3589,3682,3969,4108,4188,4361,4681,5001,5148,6881],\"y\":[74.0,38.0,0.0,72.0,0.0,0.0,0.0,0.0,53.0,6.0,3.0,0.5999999999999999,48.0,0.0,33.75,17.575757575757578,0.5,3.8,1.4999999999999998,18.473684210526315,6.6764705882352935,0.42105263157894723,0.4876543209876545,0.7010309278350517,0.5384615384615384,9.170731707317076,0.6210526315789473,7.14,0.3578947368421056,11.786885245901642,4.203947368421053,0.3552188552188553,0.6166666666666666,0.4301075268817206,8.881784197001252e-16,0.6686746987951813,2.9290780141843973,7.327044025157234,0.1544117647058827,5.245283018867924,0.8602150537634408,0.21602787456446004,0.3381294964028777,0.24999999999999978,3.4335260115606925,2.3187499999999996,0.14687499999999976,0.1496598639455785,0.16156953260242723,0.12442396313364457],\"type\":\"bar\"},{\"name\":\"\\u041d\\u0443\\u043c. \\u0441\\u043f\\u0438\\u0441\\u043e\\u043a\",\"offset\":0,\"width\":[1,1,1,1,1,1,1,2,1,1,1,5,2,1,8,33,2,20,24,19,68,19,162,194,13,82,95,50,285,61,152,594,60,279,475,332,141,159,136,106,93,287,139,80,173,320,320,147,1733,2170],\"x\":[0,1,2,3,4,5,6,7,9,10,11,12,17,19,20,28,61,63,83,107,126,194,213,375,569,582,664,759,809,1094,1155,1307,1901,1961,2240,2715,3047,3188,3347,3483,3589,3682,3969,4108,4188,4361,4681,5001,5148,6881],\"y\":[0.0,0.0,0.0,0.0,0.0,0.0,0.0,0.0,0.0,0.0,52.0,2.6,0.0,0.0,1.0,0.12121212121212122,0.0,0.49999999999999994,24.999999999999996,4.2631578947368425,0.44117647058823534,2.220446049250313e-16,0.1049382716049383,8.639175257731958,1.3076923076923077,0.3170731707317074,15.126315789473683,7.580000000000002,0.021052631578947656,0.3770491803278688,0.19736842105263175,0.03367003367003518,0.016666666666666607,8.455197132616481,0.021052631578948322,0.0602409638554221,0.13475177304964558,0.12578616352201255,0.0882352941176473,0.07547169811320786,5.053763440860217,0.13937282229965164,0.05035971223021585,1.45,0.138728323699422,0.0750000000000004,5.551115123125783e-16,1.530612244897959,0.03981534910559925,-2.9976021664879227e-15],\"type\":\"bar\"},{\"name\":\"\\u0417\\u0430\\u0433\\u043e\\u043b\\u043e\\u0432\\u043e\\u043a\",\"offset\":0,\"width\":[1,1,1,1,1,1,1,2,1,1,1,5,2,1,8,33,2,20,24,19,68,19,162,194,13,82,95,50,285,61,152,594,60,279,475,332,141,159,136,106,93,287,139,80,173,320,320,147,1733,2170],\"x\":[0,1,2,3,4,5,6,7,9,10,11,12,17,19,20,28,61,63,83,107,126,194,213,375,569,582,664,759,809,1094,1155,1307,1901,1961,2240,2715,3047,3188,3347,3483,3589,3682,3969,4108,4188,4361,4681,5001,5148,6881],\"y\":[20.0,56.0,85.0,11.0,82.0,74.0,70.0,61.5,9.0,0.0,1.0,46.0,0.5,0.0,2.875,17.333333333333336,2.0,29.000000000000004,2.791666666666667,1.2631578947368425,14.661764705882351,0.736842105263158,18.975308641975296,9.128865979381441,8.538461538461538,8.170731707317074,0.6736842105263157,0.7199999999999998,14.294736842105252,0.9180327868852456,8.506578947368421,10.602693602693593,0.7833333333333332,0.3978494623655884,8.999999999999991,8.222891566265055,4.957446808510639,0.4339622641509431,7.0,1.4433962264150941,0.5913978494623651,5.487804878048781,3.827338129496403,2.5,0.18497109826589675,0.7718749999999965,2.309375,0.1496598639455784,0.9999999999999889,-1.199040866595169e-14],\"type\":\"bar\"}],                        {\"template\":{\"data\":{\"histogram2dcontour\":[{\"type\":\"histogram2dcontour\",\"colorbar\":{\"outlinewidth\":0,\"ticks\":\"\"},\"colorscale\":[[0.0,\"#0d0887\"],[0.1111111111111111,\"#46039f\"],[0.2222222222222222,\"#7201a8\"],[0.3333333333333333,\"#9c179e\"],[0.4444444444444444,\"#bd3786\"],[0.5555555555555556,\"#d8576b\"],[0.6666666666666666,\"#ed7953\"],[0.7777777777777778,\"#fb9f3a\"],[0.8888888888888888,\"#fdca26\"],[1.0,\"#f0f921\"]]}],\"choropleth\":[{\"type\":\"choropleth\",\"colorbar\":{\"outlinewidth\":0,\"ticks\":\"\"}}],\"histogram2d\":[{\"type\":\"histogram2d\",\"colorbar\":{\"outlinewidth\":0,\"ticks\":\"\"},\"colorscale\":[[0.0,\"#0d0887\"],[0.1111111111111111,\"#46039f\"],[0.2222222222222222,\"#7201a8\"],[0.3333333333333333,\"#9c179e\"],[0.4444444444444444,\"#bd3786\"],[0.5555555555555556,\"#d8576b\"],[0.6666666666666666,\"#ed7953\"],[0.7777777777777778,\"#fb9f3a\"],[0.8888888888888888,\"#fdca26\"],[1.0,\"#f0f921\"]]}],\"heatmap\":[{\"type\":\"heatmap\",\"colorbar\":{\"outlinewidth\":0,\"ticks\":\"\"},\"colorscale\":[[0.0,\"#0d0887\"],[0.1111111111111111,\"#46039f\"],[0.2222222222222222,\"#7201a8\"],[0.3333333333333333,\"#9c179e\"],[0.4444444444444444,\"#bd3786\"],[0.5555555555555556,\"#d8576b\"],[0.6666666666666666,\"#ed7953\"],[0.7777777777777778,\"#fb9f3a\"],[0.8888888888888888,\"#fdca26\"],[1.0,\"#f0f921\"]]}],\"heatmapgl\":[{\"type\":\"heatmapgl\",\"colorbar\":{\"outlinewidth\":0,\"ticks\":\"\"},\"colorscale\":[[0.0,\"#0d0887\"],[0.1111111111111111,\"#46039f\"],[0.2222222222222222,\"#7201a8\"],[0.3333333333333333,\"#9c179e\"],[0.4444444444444444,\"#bd3786\"],[0.5555555555555556,\"#d8576b\"],[0.6666666666666666,\"#ed7953\"],[0.7777777777777778,\"#fb9f3a\"],[0.8888888888888888,\"#fdca26\"],[1.0,\"#f0f921\"]]}],\"contourcarpet\":[{\"type\":\"contourcarpet\",\"colorbar\":{\"outlinewidth\":0,\"ticks\":\"\"}}],\"contour\":[{\"type\":\"contour\",\"colorbar\":{\"outlinewidth\":0,\"ticks\":\"\"},\"colorscale\":[[0.0,\"#0d0887\"],[0.1111111111111111,\"#46039f\"],[0.2222222222222222,\"#7201a8\"],[0.3333333333333333,\"#9c179e\"],[0.4444444444444444,\"#bd3786\"],[0.5555555555555556,\"#d8576b\"],[0.6666666666666666,\"#ed7953\"],[0.7777777777777778,\"#fb9f3a\"],[0.8888888888888888,\"#fdca26\"],[1.0,\"#f0f921\"]]}],\"surface\":[{\"type\":\"surface\",\"colorbar\":{\"outlinewidth\":0,\"ticks\":\"\"},\"colorscale\":[[0.0,\"#0d0887\"],[0.1111111111111111,\"#46039f\"],[0.2222222222222222,\"#7201a8\"],[0.3333333333333333,\"#9c179e\"],[0.4444444444444444,\"#bd3786\"],[0.5555555555555556,\"#d8576b\"],[0.6666666666666666,\"#ed7953\"],[0.7777777777777778,\"#fb9f3a\"],[0.8888888888888888,\"#fdca26\"],[1.0,\"#f0f921\"]]}],\"mesh3d\":[{\"type\":\"mesh3d\",\"colorbar\":{\"outlinewidth\":0,\"ticks\":\"\"}}],\"scatter\":[{\"fillpattern\":{\"fillmode\":\"overlay\",\"size\":10,\"solidity\":0.2},\"type\":\"scatter\"}],\"parcoords\":[{\"type\":\"parcoords\",\"line\":{\"colorbar\":{\"outlinewidth\":0,\"ticks\":\"\"}}}],\"scatterpolargl\":[{\"type\":\"scatterpolargl\",\"marker\":{\"colorbar\":{\"outlinewidth\":0,\"ticks\":\"\"}}}],\"bar\":[{\"error_x\":{\"color\":\"#2a3f5f\"},\"error_y\":{\"color\":\"#2a3f5f\"},\"marker\":{\"line\":{\"color\":\"#E5ECF6\",\"width\":0.5},\"pattern\":{\"fillmode\":\"overlay\",\"size\":10,\"solidity\":0.2}},\"type\":\"bar\"}],\"scattergeo\":[{\"type\":\"scattergeo\",\"marker\":{\"colorbar\":{\"outlinewidth\":0,\"ticks\":\"\"}}}],\"scatterpolar\":[{\"type\":\"scatterpolar\",\"marker\":{\"colorbar\":{\"outlinewidth\":0,\"ticks\":\"\"}}}],\"histogram\":[{\"marker\":{\"pattern\":{\"fillmode\":\"overlay\",\"size\":10,\"solidity\":0.2}},\"type\":\"histogram\"}],\"scattergl\":[{\"type\":\"scattergl\",\"marker\":{\"colorbar\":{\"outlinewidth\":0,\"ticks\":\"\"}}}],\"scatter3d\":[{\"type\":\"scatter3d\",\"line\":{\"colorbar\":{\"outlinewidth\":0,\"ticks\":\"\"}},\"marker\":{\"colorbar\":{\"outlinewidth\":0,\"ticks\":\"\"}}}],\"scattermapbox\":[{\"type\":\"scattermapbox\",\"marker\":{\"colorbar\":{\"outlinewidth\":0,\"ticks\":\"\"}}}],\"scatterternary\":[{\"type\":\"scatterternary\",\"marker\":{\"colorbar\":{\"outlinewidth\":0,\"ticks\":\"\"}}}],\"scattercarpet\":[{\"type\":\"scattercarpet\",\"marker\":{\"colorbar\":{\"outlinewidth\":0,\"ticks\":\"\"}}}],\"carpet\":[{\"aaxis\":{\"endlinecolor\":\"#2a3f5f\",\"gridcolor\":\"white\",\"linecolor\":\"white\",\"minorgridcolor\":\"white\",\"startlinecolor\":\"#2a3f5f\"},\"baxis\":{\"endlinecolor\":\"#2a3f5f\",\"gridcolor\":\"white\",\"linecolor\":\"white\",\"minorgridcolor\":\"white\",\"startlinecolor\":\"#2a3f5f\"},\"type\":\"carpet\"}],\"table\":[{\"cells\":{\"fill\":{\"color\":\"#EBF0F8\"},\"line\":{\"color\":\"white\"}},\"header\":{\"fill\":{\"color\":\"#C8D4E3\"},\"line\":{\"color\":\"white\"}},\"type\":\"table\"}],\"barpolar\":[{\"marker\":{\"line\":{\"color\":\"#E5ECF6\",\"width\":0.5},\"pattern\":{\"fillmode\":\"overlay\",\"size\":10,\"solidity\":0.2}},\"type\":\"barpolar\"}],\"pie\":[{\"automargin\":true,\"type\":\"pie\"}]},\"layout\":{\"autotypenumbers\":\"strict\",\"colorway\":[\"#636efa\",\"#EF553B\",\"#00cc96\",\"#ab63fa\",\"#FFA15A\",\"#19d3f3\",\"#FF6692\",\"#B6E880\",\"#FF97FF\",\"#FECB52\"],\"font\":{\"color\":\"#2a3f5f\"},\"hovermode\":\"closest\",\"hoverlabel\":{\"align\":\"left\"},\"paper_bgcolor\":\"white\",\"plot_bgcolor\":\"#E5ECF6\",\"polar\":{\"bgcolor\":\"#E5ECF6\",\"angularaxis\":{\"gridcolor\":\"white\",\"linecolor\":\"white\",\"ticks\":\"\"},\"radialaxis\":{\"gridcolor\":\"white\",\"linecolor\":\"white\",\"ticks\":\"\"}},\"ternary\":{\"bgcolor\":\"#E5ECF6\",\"aaxis\":{\"gridcolor\":\"white\",\"linecolor\":\"white\",\"ticks\":\"\"},\"baxis\":{\"gridcolor\":\"white\",\"linecolor\":\"white\",\"ticks\":\"\"},\"caxis\":{\"gridcolor\":\"white\",\"linecolor\":\"white\",\"ticks\":\"\"}},\"coloraxis\":{\"colorbar\":{\"outlinewidth\":0,\"ticks\":\"\"}},\"colorscale\":{\"sequential\":[[0.0,\"#0d0887\"],[0.1111111111111111,\"#46039f\"],[0.2222222222222222,\"#7201a8\"],[0.3333333333333333,\"#9c179e\"],[0.4444444444444444,\"#bd3786\"],[0.5555555555555556,\"#d8576b\"],[0.6666666666666666,\"#ed7953\"],[0.7777777777777778,\"#fb9f3a\"],[0.8888888888888888,\"#fdca26\"],[1.0,\"#f0f921\"]],\"sequentialminus\":[[0.0,\"#0d0887\"],[0.1111111111111111,\"#46039f\"],[0.2222222222222222,\"#7201a8\"],[0.3333333333333333,\"#9c179e\"],[0.4444444444444444,\"#bd3786\"],[0.5555555555555556,\"#d8576b\"],[0.6666666666666666,\"#ed7953\"],[0.7777777777777778,\"#fb9f3a\"],[0.8888888888888888,\"#fdca26\"],[1.0,\"#f0f921\"]],\"diverging\":[[0,\"#8e0152\"],[0.1,\"#c51b7d\"],[0.2,\"#de77ae\"],[0.3,\"#f1b6da\"],[0.4,\"#fde0ef\"],[0.5,\"#f7f7f7\"],[0.6,\"#e6f5d0\"],[0.7,\"#b8e186\"],[0.8,\"#7fbc41\"],[0.9,\"#4d9221\"],[1,\"#276419\"]]},\"xaxis\":{\"gridcolor\":\"white\",\"linecolor\":\"white\",\"ticks\":\"\",\"title\":{\"standoff\":15},\"zerolinecolor\":\"white\",\"automargin\":true,\"zerolinewidth\":2},\"yaxis\":{\"gridcolor\":\"white\",\"linecolor\":\"white\",\"ticks\":\"\",\"title\":{\"standoff\":15},\"zerolinecolor\":\"white\",\"automargin\":true,\"zerolinewidth\":2},\"scene\":{\"xaxis\":{\"backgroundcolor\":\"#E5ECF6\",\"gridcolor\":\"white\",\"linecolor\":\"white\",\"showbackground\":true,\"ticks\":\"\",\"zerolinecolor\":\"white\",\"gridwidth\":2},\"yaxis\":{\"backgroundcolor\":\"#E5ECF6\",\"gridcolor\":\"white\",\"linecolor\":\"white\",\"showbackground\":true,\"ticks\":\"\",\"zerolinecolor\":\"white\",\"gridwidth\":2},\"zaxis\":{\"backgroundcolor\":\"#E5ECF6\",\"gridcolor\":\"white\",\"linecolor\":\"white\",\"showbackground\":true,\"ticks\":\"\",\"zerolinecolor\":\"white\",\"gridwidth\":2}},\"shapedefaults\":{\"line\":{\"color\":\"#2a3f5f\"}},\"annotationdefaults\":{\"arrowcolor\":\"#2a3f5f\",\"arrowhead\":0,\"arrowwidth\":1},\"geo\":{\"bgcolor\":\"white\",\"landcolor\":\"#E5ECF6\",\"subunitcolor\":\"white\",\"showland\":true,\"showlakes\":true,\"lakecolor\":\"white\"},\"title\":{\"x\":0.05},\"mapbox\":{\"style\":\"light\"}}},\"font\":{\"family\":\"Times New Roman\",\"size\":20,\"color\":\"black\"},\"margin\":{\"pad\":10},\"plot_bgcolor\":\"rgba(0, 0, 0, 0)\",\"colorway\":[\"rgba(244, 67, 54, 1.0)\",\"rgba(232, 30, 99, 1.0)\",\"rgba(156, 39, 176, 1.0)\",\"rgba(103, 58, 183, 1.0)\",\"rgba(63, 81, 181, 1.0)\",\"rgba(33, 150, 243, 1.0)\",\"rgba(3, 169, 244, 1.0)\",\"rgba(0, 188, 212, 1.0)\",\"rgba(0, 150, 136, 1.0)\",\"rgba(76, 175, 80, 1.0)\",\"rgba(139, 195, 74, 1.0)\",\"rgba(205, 220, 57, 1.0)\",\"rgba(255, 235, 59, 1.0)\",\"rgba(255, 193, 7, 1.0)\",\"rgba(255, 152, 0, 1.0)\",\"rgba(255, 87, 34, 1.0)\"],\"barmode\":\"stack\",\"width\":1600,\"height\":900,\"xaxis\":{\"title\":{\"font\":{\"family\":\"Times New Roman\",\"size\":25,\"color\":\"black\"},\"text\":\"\\u041a\\u043b\\u0430\\u0441\\u0442\\u0435\\u0440\\u044b \\u043f\\u043e\\u043b\\u0438\\u0442\\u0438\\u043a \\u0431\\u0435\\u0437\\u043e\\u043f\\u0430\\u0441\\u043d\\u043e\\u0441\\u0442\\u0438\"},\"zerolinecolor\":\"lightgrey\",\"gridcolor\":\"lightgrey\",\"tickformat\":\"000\",\"showgrid\":true,\"tickangle\":0,\"ticklen\":10},\"yaxis\":{\"title\":{\"font\":{\"family\":\"Times New Roman\",\"size\":25,\"color\":\"black\"},\"text\":\"\\u041a\\u043e\\u043b\\u0438\\u0447\\u0435\\u0441\\u0442\\u0432\\u043e \\u0441\\u0442\\u0440\\u0443\\u043a\\u0442\\u0443\\u0440\\u043d\\u044b\\u0445 \\u044d\\u043b\\u0435\\u043c\\u0435\\u043d\\u0442\\u043e\\u0432\"},\"range\":[0,94],\"zerolinecolor\":\"lightgrey\",\"gridcolor\":\"lightgrey\",\"tickformat\":\"000\",\"showgrid\":true,\"tickangle\":0,\"ticklen\":10}},                        {\"responsive\": true}                    ).then(function(){\n",
       "                            \n",
       "var gd = document.getElementById('f5048441-4027-4490-8ed4-8ad04fa32f0b');\n",
       "var x = new MutationObserver(function (mutations, observer) {{\n",
       "        var display = window.getComputedStyle(gd).display;\n",
       "        if (!display || display === 'none') {{\n",
       "            console.log([gd, 'removed!']);\n",
       "            Plotly.purge(gd);\n",
       "            observer.disconnect();\n",
       "        }}\n",
       "}});\n",
       "\n",
       "// Listen for the removal of the full notebook cells\n",
       "var notebookContainer = gd.closest('#notebook-container');\n",
       "if (notebookContainer) {{\n",
       "    x.observe(notebookContainer, {childList: true});\n",
       "}}\n",
       "\n",
       "// Listen for the clearing of the current output cell\n",
       "var outputEl = gd.closest('.output');\n",
       "if (outputEl) {{\n",
       "    x.observe(outputEl, {childList: true});\n",
       "}}\n",
       "\n",
       "                        })                };                });            </script>        </div>"
      ]
     },
     "metadata": {},
     "output_type": "display_data"
    }
   ],
   "source": [
    "import plotly.graph_objects as go\n",
    "\n",
    "from config import COLORS_D\n",
    "\n",
    "\n",
    "fig = go.Figure()\n",
    "\n",
    "for i, r in enumerate(sorted_clusters.transpose()):\n",
    "    fig.add_trace(\n",
    "        go.Bar(\n",
    "            x=np.cumsum(sorted_widths)-sorted_widths, y=r,\n",
    "            name=KEYS[i].capitalize(),\n",
    "            width=sorted_widths,\n",
    "            offset=0))\n",
    "\n",
    "fig.update_layout(\n",
    "    font=dict(family='Times New Roman', size=20, color='black'),\n",
    "    plot_bgcolor='rgba(0, 0, 0, 0)',\n",
    "    margin=dict(pad=10),\n",
    "    colorway=COLORS_D,\n",
    "    barmode='stack',\n",
    "    width=1600,\n",
    "    height=900)\n",
    "\n",
    "fig.update_xaxes(\n",
    "    title=dict(\n",
    "        font=dict(family='Times New Roman', size=25, color='black'),\n",
    "        text='Кластеры политик безопасности'),\n",
    "    zerolinecolor='lightgrey',\n",
    "    gridcolor='lightgrey',\n",
    "    tickformat='000', \n",
    "    showgrid=True, \n",
    "    tickangle=0,\n",
    "    ticklen=10)\n",
    "\n",
    "fig.update_yaxes(\n",
    "    title=dict(\n",
    "        font=dict(family='Times New Roman', size=25, color='black'),\n",
    "        text='Количество структурных элементов'),\n",
    "    range=[0, max([sum(s) for s in scores])],\n",
    "    zerolinecolor='lightgrey',\n",
    "    gridcolor='lightgrey',\n",
    "    tickformat='000',\n",
    "    showgrid=True, \n",
    "    tickangle=0, \n",
    "    ticklen=10)\n",
    "\n",
    "fig"
   ]
  },
  {
   "cell_type": "code",
   "execution_count": 36,
   "id": "526bb2d6-b1af-423f-a75a-c298d13b3b9e",
   "metadata": {
    "execution": {
     "iopub.execute_input": "2024-05-11T14:21:24.260241Z",
     "iopub.status.busy": "2024-05-11T14:21:24.260083Z",
     "iopub.status.idle": "2024-05-11T14:21:26.426364Z",
     "shell.execute_reply": "2024-05-11T14:21:26.425918Z"
    },
    "papermill": {
     "duration": 2.269536,
     "end_time": "2024-05-11T14:21:26.427671",
     "exception": false,
     "start_time": "2024-05-11T14:21:24.158135",
     "status": "completed"
    },
    "tags": []
   },
   "outputs": [],
   "source": [
    "fig.write_image(f'{PICTURES}/structure_by_1_kmeans_wo_hp.png')"
   ]
  }
 ],
 "metadata": {
  "kernelspec": {
   "display_name": "Python 3 (ipykernel)",
   "language": "python",
   "name": "python3"
  },
  "language_info": {
   "codemirror_mode": {
    "name": "ipython",
    "version": 3
   },
   "file_extension": ".py",
   "mimetype": "text/x-python",
   "name": "python",
   "nbconvert_exporter": "python",
   "pygments_lexer": "ipython3",
   "version": "3.12.3"
  },
  "papermill": {
   "duration": 13.14373,
   "end_time": "2024-05-11T14:21:29.097779",
   "exception": null,
   "input_path": "/tmp/tmpox8rojj_.ipynb",
   "output_path": "notebooks/structure_by_1_kmeans_wo_hp.ipynb",
   "parameters": {
    "product": "notebooks/structure_by_1_kmeans_wo_hp.ipynb"
   },
   "start_time": "2024-05-11T14:21:15.954049"
  }
 },
 "nbformat": 4,
 "nbformat_minor": 5
}
