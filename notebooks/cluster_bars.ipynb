{
 "cells": [
  {
   "cell_type": "code",
   "execution_count": 2,
   "id": "0ca0a06b",
   "metadata": {
    "execution": {
     "iopub.execute_input": "2024-02-06T19:29:47.134567Z",
     "iopub.status.busy": "2024-02-06T19:29:47.134372Z",
     "iopub.status.idle": "2024-02-06T19:29:47.140774Z",
     "shell.execute_reply": "2024-02-06T19:29:47.140255Z"
    },
    "papermill": {
     "duration": 0.011376,
     "end_time": "2024-02-06T19:29:47.142060",
     "exception": false,
     "start_time": "2024-02-06T19:29:47.130684",
     "status": "completed"
    },
    "tags": [
     "injected-parameters"
    ]
   },
   "outputs": [],
   "source": [
    "# Parameters\n",
    "product = \"notebooks/cluster_bars.ipynb\"\n"
   ]
  },
  {
   "cell_type": "code",
   "execution_count": 3,
   "id": "cce2d20c",
   "metadata": {
    "execution": {
     "iopub.execute_input": "2024-02-06T19:29:47.147281Z",
     "iopub.status.busy": "2024-02-06T19:29:47.146932Z",
     "iopub.status.idle": "2024-02-06T19:29:47.150424Z",
     "shell.execute_reply": "2024-02-06T19:29:47.149669Z"
    },
    "papermill": {
     "duration": 0.007867,
     "end_time": "2024-02-06T19:29:47.152100",
     "exception": false,
     "start_time": "2024-02-06T19:29:47.144233",
     "status": "completed"
    },
    "tags": []
   },
   "outputs": [],
   "source": [
    "import __path__"
   ]
  },
  {
   "cell_type": "code",
   "execution_count": 4,
   "id": "57a1a4a1",
   "metadata": {
    "execution": {
     "iopub.execute_input": "2024-02-06T19:29:47.158466Z",
     "iopub.status.busy": "2024-02-06T19:29:47.158272Z",
     "iopub.status.idle": "2024-02-06T19:29:48.033168Z",
     "shell.execute_reply": "2024-02-06T19:29:48.032791Z"
    },
    "papermill": {
     "duration": 0.88024,
     "end_time": "2024-02-06T19:29:48.034871",
     "exception": false,
     "start_time": "2024-02-06T19:29:47.154631",
     "status": "completed"
    },
    "tags": []
   },
   "outputs": [],
   "source": [
    "from config import MAIN_EXPERIMENT\n",
    "\n",
    "\n",
    "WIDTH = MAIN_EXPERIMENT.nb_args[product]\n",
    "AFFILIATION_TH = MAIN_EXPERIMENT.affiliation_theshold\n",
    "PREPROCESSED_FILE = MAIN_EXPERIMENT.preprocessed_file\n",
    "MAIN_MODEL = MAIN_EXPERIMENT.main_model\n",
    "PICTURES = MAIN_EXPERIMENT.pictures\n",
    "GROUPS = MAIN_EXPERIMENT.groups"
   ]
  },
  {
   "cell_type": "code",
   "execution_count": 5,
   "id": "bdec3ecd",
   "metadata": {
    "execution": {
     "iopub.execute_input": "2024-02-06T19:29:48.041014Z",
     "iopub.status.busy": "2024-02-06T19:29:48.040767Z",
     "iopub.status.idle": "2024-02-06T19:29:48.179595Z",
     "shell.execute_reply": "2024-02-06T19:29:48.178877Z"
    },
    "papermill": {
     "duration": 0.143444,
     "end_time": "2024-02-06T19:29:48.181054",
     "exception": false,
     "start_time": "2024-02-06T19:29:48.037610",
     "status": "completed"
    },
    "tags": []
   },
   "outputs": [],
   "source": [
    "import json\n",
    "\n",
    "\n",
    "with open(PREPROCESSED_FILE, 'r') as f:\n",
    "    preprocessed = json.load(f)"
   ]
  },
  {
   "cell_type": "code",
   "execution_count": 6,
   "id": "e0ebf085",
   "metadata": {
    "execution": {
     "iopub.execute_input": "2024-02-06T19:29:48.211409Z",
     "iopub.status.busy": "2024-02-06T19:29:48.211230Z",
     "iopub.status.idle": "2024-02-06T19:29:48.792016Z",
     "shell.execute_reply": "2024-02-06T19:29:48.791456Z"
    },
    "papermill": {
     "duration": 0.596315,
     "end_time": "2024-02-06T19:29:48.793689",
     "exception": false,
     "start_time": "2024-02-06T19:29:48.197374",
     "status": "completed"
    },
    "tags": []
   },
   "outputs": [],
   "source": [
    "from gensim.models import TfidfModel\n",
    "\n",
    "from src.utils import load\n",
    "\n",
    "\n",
    "lda, dictionary, corpus = load(MAIN_MODEL)\n",
    "tfidf = TfidfModel(corpus, id2word=dictionary)"
   ]
  },
  {
   "cell_type": "code",
   "execution_count": 7,
   "id": "86e41813",
   "metadata": {
    "execution": {
     "iopub.execute_input": "2024-02-06T19:29:48.801321Z",
     "iopub.status.busy": "2024-02-06T19:29:48.800991Z",
     "iopub.status.idle": "2024-02-06T19:29:59.556016Z",
     "shell.execute_reply": "2024-02-06T19:29:59.555689Z"
    },
    "papermill": {
     "duration": 10.760837,
     "end_time": "2024-02-06T19:29:59.557761",
     "exception": false,
     "start_time": "2024-02-06T19:29:48.796924",
     "status": "completed"
    },
    "tags": []
   },
   "outputs": [
    {
     "name": "stdout",
     "output_type": "stream",
     "text": [
      "total=45036\n"
     ]
    },
    {
     "data": {
      "text/plain": [
       "[3372, 3209, 3484, 1532, 17747, 3795, 5198, 1492, 2064, 3143]"
      ]
     },
     "execution_count": 7,
     "metadata": {},
     "output_type": "execute_result"
    }
   ],
   "source": [
    "scores_raw = [0 for _ in range(len(GROUPS))]\n",
    "for policy in preprocessed:\n",
    "    for paragraph in policy:\n",
    "        topics = [t for t, s in lda[tfidf[dictionary.doc2bow(paragraph)]] if s > AFFILIATION_TH]\n",
    "\n",
    "        for g in GROUPS:\n",
    "            for t in topics:\n",
    "                if t in g['topics']:\n",
    "                    scores_raw[g['id']] += 1\n",
    "                    \n",
    "total = sum(scores_raw)\n",
    "print(f'{total=}')\n",
    "scores_raw"
   ]
  },
  {
   "cell_type": "code",
   "execution_count": 8,
   "id": "92d99999",
   "metadata": {
    "execution": {
     "iopub.execute_input": "2024-02-06T19:29:59.563646Z",
     "iopub.status.busy": "2024-02-06T19:29:59.563337Z",
     "iopub.status.idle": "2024-02-06T19:29:59.565733Z",
     "shell.execute_reply": "2024-02-06T19:29:59.565318Z"
    },
    "papermill": {
     "duration": 0.006386,
     "end_time": "2024-02-06T19:29:59.566834",
     "exception": false,
     "start_time": "2024-02-06T19:29:59.560448",
     "status": "completed"
    },
    "tags": []
   },
   "outputs": [],
   "source": [
    "keys = [g['name'] for g in GROUPS]"
   ]
  },
  {
   "cell_type": "code",
   "execution_count": 9,
   "id": "b9b0704f",
   "metadata": {
    "execution": {
     "iopub.execute_input": "2024-02-06T19:29:59.572680Z",
     "iopub.status.busy": "2024-02-06T19:29:59.572409Z",
     "iopub.status.idle": "2024-02-06T19:29:59.575292Z",
     "shell.execute_reply": "2024-02-06T19:29:59.574924Z"
    },
    "papermill": {
     "duration": 0.006745,
     "end_time": "2024-02-06T19:29:59.576290",
     "exception": false,
     "start_time": "2024-02-06T19:29:59.569545",
     "status": "completed"
    },
    "tags": []
   },
   "outputs": [
    {
     "data": {
      "text/plain": [
       "['Вопросы пользователя по политике безопасности',\n",
       " 'Сторонние веб-сайты',\n",
       " 'Особая аудитория',\n",
       " 'Защита персональных данных',\n",
       " 'Сбор персональных данных',\n",
       " 'Сбор трекинговых персональных данных',\n",
       " 'Распространение персональных данных',\n",
       " 'Накопление персональных данных',\n",
       " 'Персонализация и маркетинг',\n",
       " 'Изменение политики безопасности']"
      ]
     },
     "execution_count": 9,
     "metadata": {},
     "output_type": "execute_result"
    }
   ],
   "source": [
    "keys[:]"
   ]
  },
  {
   "cell_type": "code",
   "execution_count": 10,
   "id": "b8d7a52a",
   "metadata": {
    "execution": {
     "iopub.execute_input": "2024-02-06T19:29:59.582412Z",
     "iopub.status.busy": "2024-02-06T19:29:59.582001Z",
     "iopub.status.idle": "2024-02-06T19:29:59.586611Z",
     "shell.execute_reply": "2024-02-06T19:29:59.586233Z"
    },
    "papermill": {
     "duration": 0.008928,
     "end_time": "2024-02-06T19:29:59.587700",
     "exception": false,
     "start_time": "2024-02-06T19:29:59.578772",
     "status": "completed"
    },
    "tags": []
   },
   "outputs": [
    {
     "data": {
      "text/plain": [
       "['Вопросы пользователя по политике<br>безопасности',\n",
       " 'Сторонние веб-сайты',\n",
       " 'Особая аудитория',\n",
       " 'Защита персональных данных',\n",
       " 'Сбор персональных данных',\n",
       " 'Сбор трекинговых персональных<br>данных',\n",
       " 'Распространение персональных данных',\n",
       " 'Накопление персональных данных',\n",
       " 'Персонализация и маркетинг',\n",
       " 'Изменение политики безопасности']"
      ]
     },
     "execution_count": 10,
     "metadata": {},
     "output_type": "execute_result"
    }
   ],
   "source": [
    "from textwrap import wrap\n",
    "\n",
    "from src.utils import resolve_group_name\n",
    "\n",
    "\n",
    "names = [resolve_group_name(i, GROUPS) for i, _ in enumerate(scores_raw)]\n",
    "names = ['<br>'.join(wrap(n, width=WIDTH)) for n in names]\n",
    "\n",
    "\n",
    "scores = [s / total * 100 for s in scores_raw]\n",
    "names"
   ]
  },
  {
   "cell_type": "code",
   "execution_count": 13,
   "id": "16684dfa",
   "metadata": {
    "execution": {
     "iopub.execute_input": "2024-02-06T19:29:59.593377Z",
     "iopub.status.busy": "2024-02-06T19:29:59.593086Z",
     "iopub.status.idle": "2024-02-06T19:29:59.791456Z",
     "shell.execute_reply": "2024-02-06T19:29:59.791074Z"
    },
    "papermill": {
     "duration": 0.266306,
     "end_time": "2024-02-06T19:29:59.856746",
     "exception": false,
     "start_time": "2024-02-06T19:29:59.590440",
     "status": "completed"
    },
    "tags": []
   },
   "outputs": [
    {
     "data": {
      "application/vnd.plotly.v1+json": {
       "config": {
        "plotlyServerURL": "https://plot.ly"
       },
       "data": [
        {
         "marker": {
          "color": [
           "rgba(63, 81, 181, 1.0)",
           "rgba(63, 81, 181, 1.0)",
           "rgba(63, 81, 181, 1.0)",
           "rgba(63, 81, 181, 1.0)",
           "rgba(63, 81, 181, 1.0)",
           "rgba(63, 81, 181, 1.0)",
           "rgba(63, 81, 181, 1.0)",
           "rgba(63, 81, 181, 1.0)",
           "rgba(63, 81, 181, 1.0)",
           "rgba(63, 81, 181, 1.0)",
           "rgba(63, 81, 181, 1.0)",
           "rgba(63, 81, 181, 1.0)",
           "rgba(63, 81, 181, 1.0)",
           "rgba(63, 81, 181, 1.0)",
           "rgba(63, 81, 181, 1.0)",
           "rgba(63, 81, 181, 1.0)"
          ]
         },
         "orientation": "h",
         "type": "bar",
         "x": [
          6.978861355360157,
          4.583000266453504,
          3.312905231370459,
          11.541877609023892,
          8.426592059685586,
          39.406252775557334,
          3.4017230659916513,
          7.736033395505817,
          7.1254107824851225,
          7.48734345856648
         ],
         "y": [
          "Изменение политики безопасности",
          "Персонализация и маркетинг",
          "Накопление персональных данных",
          "Распространение персональных данных",
          "Сбор трекинговых персональных<br>данных",
          "Сбор персональных данных",
          "Защита персональных данных",
          "Особая аудитория",
          "Сторонние веб-сайты",
          "Вопросы пользователя по политике<br>безопасности"
         ]
        }
       ],
       "layout": {
        "font": {
         "color": "black",
         "family": "Times New Roman",
         "size": 20
        },
        "height": 750,
        "margin": {
         "pad": 10
        },
        "plot_bgcolor": "rgba(0, 0, 0, 0)",
        "template": {
         "data": {
          "bar": [
           {
            "error_x": {
             "color": "#2a3f5f"
            },
            "error_y": {
             "color": "#2a3f5f"
            },
            "marker": {
             "line": {
              "color": "#E5ECF6",
              "width": 0.5
             },
             "pattern": {
              "fillmode": "overlay",
              "size": 10,
              "solidity": 0.2
             }
            },
            "type": "bar"
           }
          ],
          "barpolar": [
           {
            "marker": {
             "line": {
              "color": "#E5ECF6",
              "width": 0.5
             },
             "pattern": {
              "fillmode": "overlay",
              "size": 10,
              "solidity": 0.2
             }
            },
            "type": "barpolar"
           }
          ],
          "carpet": [
           {
            "aaxis": {
             "endlinecolor": "#2a3f5f",
             "gridcolor": "white",
             "linecolor": "white",
             "minorgridcolor": "white",
             "startlinecolor": "#2a3f5f"
            },
            "baxis": {
             "endlinecolor": "#2a3f5f",
             "gridcolor": "white",
             "linecolor": "white",
             "minorgridcolor": "white",
             "startlinecolor": "#2a3f5f"
            },
            "type": "carpet"
           }
          ],
          "choropleth": [
           {
            "colorbar": {
             "outlinewidth": 0,
             "ticks": ""
            },
            "type": "choropleth"
           }
          ],
          "contour": [
           {
            "colorbar": {
             "outlinewidth": 0,
             "ticks": ""
            },
            "colorscale": [
             [
              0,
              "#0d0887"
             ],
             [
              0.1111111111111111,
              "#46039f"
             ],
             [
              0.2222222222222222,
              "#7201a8"
             ],
             [
              0.3333333333333333,
              "#9c179e"
             ],
             [
              0.4444444444444444,
              "#bd3786"
             ],
             [
              0.5555555555555556,
              "#d8576b"
             ],
             [
              0.6666666666666666,
              "#ed7953"
             ],
             [
              0.7777777777777778,
              "#fb9f3a"
             ],
             [
              0.8888888888888888,
              "#fdca26"
             ],
             [
              1,
              "#f0f921"
             ]
            ],
            "type": "contour"
           }
          ],
          "contourcarpet": [
           {
            "colorbar": {
             "outlinewidth": 0,
             "ticks": ""
            },
            "type": "contourcarpet"
           }
          ],
          "heatmap": [
           {
            "colorbar": {
             "outlinewidth": 0,
             "ticks": ""
            },
            "colorscale": [
             [
              0,
              "#0d0887"
             ],
             [
              0.1111111111111111,
              "#46039f"
             ],
             [
              0.2222222222222222,
              "#7201a8"
             ],
             [
              0.3333333333333333,
              "#9c179e"
             ],
             [
              0.4444444444444444,
              "#bd3786"
             ],
             [
              0.5555555555555556,
              "#d8576b"
             ],
             [
              0.6666666666666666,
              "#ed7953"
             ],
             [
              0.7777777777777778,
              "#fb9f3a"
             ],
             [
              0.8888888888888888,
              "#fdca26"
             ],
             [
              1,
              "#f0f921"
             ]
            ],
            "type": "heatmap"
           }
          ],
          "heatmapgl": [
           {
            "colorbar": {
             "outlinewidth": 0,
             "ticks": ""
            },
            "colorscale": [
             [
              0,
              "#0d0887"
             ],
             [
              0.1111111111111111,
              "#46039f"
             ],
             [
              0.2222222222222222,
              "#7201a8"
             ],
             [
              0.3333333333333333,
              "#9c179e"
             ],
             [
              0.4444444444444444,
              "#bd3786"
             ],
             [
              0.5555555555555556,
              "#d8576b"
             ],
             [
              0.6666666666666666,
              "#ed7953"
             ],
             [
              0.7777777777777778,
              "#fb9f3a"
             ],
             [
              0.8888888888888888,
              "#fdca26"
             ],
             [
              1,
              "#f0f921"
             ]
            ],
            "type": "heatmapgl"
           }
          ],
          "histogram": [
           {
            "marker": {
             "pattern": {
              "fillmode": "overlay",
              "size": 10,
              "solidity": 0.2
             }
            },
            "type": "histogram"
           }
          ],
          "histogram2d": [
           {
            "colorbar": {
             "outlinewidth": 0,
             "ticks": ""
            },
            "colorscale": [
             [
              0,
              "#0d0887"
             ],
             [
              0.1111111111111111,
              "#46039f"
             ],
             [
              0.2222222222222222,
              "#7201a8"
             ],
             [
              0.3333333333333333,
              "#9c179e"
             ],
             [
              0.4444444444444444,
              "#bd3786"
             ],
             [
              0.5555555555555556,
              "#d8576b"
             ],
             [
              0.6666666666666666,
              "#ed7953"
             ],
             [
              0.7777777777777778,
              "#fb9f3a"
             ],
             [
              0.8888888888888888,
              "#fdca26"
             ],
             [
              1,
              "#f0f921"
             ]
            ],
            "type": "histogram2d"
           }
          ],
          "histogram2dcontour": [
           {
            "colorbar": {
             "outlinewidth": 0,
             "ticks": ""
            },
            "colorscale": [
             [
              0,
              "#0d0887"
             ],
             [
              0.1111111111111111,
              "#46039f"
             ],
             [
              0.2222222222222222,
              "#7201a8"
             ],
             [
              0.3333333333333333,
              "#9c179e"
             ],
             [
              0.4444444444444444,
              "#bd3786"
             ],
             [
              0.5555555555555556,
              "#d8576b"
             ],
             [
              0.6666666666666666,
              "#ed7953"
             ],
             [
              0.7777777777777778,
              "#fb9f3a"
             ],
             [
              0.8888888888888888,
              "#fdca26"
             ],
             [
              1,
              "#f0f921"
             ]
            ],
            "type": "histogram2dcontour"
           }
          ],
          "mesh3d": [
           {
            "colorbar": {
             "outlinewidth": 0,
             "ticks": ""
            },
            "type": "mesh3d"
           }
          ],
          "parcoords": [
           {
            "line": {
             "colorbar": {
              "outlinewidth": 0,
              "ticks": ""
             }
            },
            "type": "parcoords"
           }
          ],
          "pie": [
           {
            "automargin": true,
            "type": "pie"
           }
          ],
          "scatter": [
           {
            "fillpattern": {
             "fillmode": "overlay",
             "size": 10,
             "solidity": 0.2
            },
            "type": "scatter"
           }
          ],
          "scatter3d": [
           {
            "line": {
             "colorbar": {
              "outlinewidth": 0,
              "ticks": ""
             }
            },
            "marker": {
             "colorbar": {
              "outlinewidth": 0,
              "ticks": ""
             }
            },
            "type": "scatter3d"
           }
          ],
          "scattercarpet": [
           {
            "marker": {
             "colorbar": {
              "outlinewidth": 0,
              "ticks": ""
             }
            },
            "type": "scattercarpet"
           }
          ],
          "scattergeo": [
           {
            "marker": {
             "colorbar": {
              "outlinewidth": 0,
              "ticks": ""
             }
            },
            "type": "scattergeo"
           }
          ],
          "scattergl": [
           {
            "marker": {
             "colorbar": {
              "outlinewidth": 0,
              "ticks": ""
             }
            },
            "type": "scattergl"
           }
          ],
          "scattermapbox": [
           {
            "marker": {
             "colorbar": {
              "outlinewidth": 0,
              "ticks": ""
             }
            },
            "type": "scattermapbox"
           }
          ],
          "scatterpolar": [
           {
            "marker": {
             "colorbar": {
              "outlinewidth": 0,
              "ticks": ""
             }
            },
            "type": "scatterpolar"
           }
          ],
          "scatterpolargl": [
           {
            "marker": {
             "colorbar": {
              "outlinewidth": 0,
              "ticks": ""
             }
            },
            "type": "scatterpolargl"
           }
          ],
          "scatterternary": [
           {
            "marker": {
             "colorbar": {
              "outlinewidth": 0,
              "ticks": ""
             }
            },
            "type": "scatterternary"
           }
          ],
          "surface": [
           {
            "colorbar": {
             "outlinewidth": 0,
             "ticks": ""
            },
            "colorscale": [
             [
              0,
              "#0d0887"
             ],
             [
              0.1111111111111111,
              "#46039f"
             ],
             [
              0.2222222222222222,
              "#7201a8"
             ],
             [
              0.3333333333333333,
              "#9c179e"
             ],
             [
              0.4444444444444444,
              "#bd3786"
             ],
             [
              0.5555555555555556,
              "#d8576b"
             ],
             [
              0.6666666666666666,
              "#ed7953"
             ],
             [
              0.7777777777777778,
              "#fb9f3a"
             ],
             [
              0.8888888888888888,
              "#fdca26"
             ],
             [
              1,
              "#f0f921"
             ]
            ],
            "type": "surface"
           }
          ],
          "table": [
           {
            "cells": {
             "fill": {
              "color": "#EBF0F8"
             },
             "line": {
              "color": "white"
             }
            },
            "header": {
             "fill": {
              "color": "#C8D4E3"
             },
             "line": {
              "color": "white"
             }
            },
            "type": "table"
           }
          ]
         },
         "layout": {
          "annotationdefaults": {
           "arrowcolor": "#2a3f5f",
           "arrowhead": 0,
           "arrowwidth": 1
          },
          "autotypenumbers": "strict",
          "coloraxis": {
           "colorbar": {
            "outlinewidth": 0,
            "ticks": ""
           }
          },
          "colorscale": {
           "diverging": [
            [
             0,
             "#8e0152"
            ],
            [
             0.1,
             "#c51b7d"
            ],
            [
             0.2,
             "#de77ae"
            ],
            [
             0.3,
             "#f1b6da"
            ],
            [
             0.4,
             "#fde0ef"
            ],
            [
             0.5,
             "#f7f7f7"
            ],
            [
             0.6,
             "#e6f5d0"
            ],
            [
             0.7,
             "#b8e186"
            ],
            [
             0.8,
             "#7fbc41"
            ],
            [
             0.9,
             "#4d9221"
            ],
            [
             1,
             "#276419"
            ]
           ],
           "sequential": [
            [
             0,
             "#0d0887"
            ],
            [
             0.1111111111111111,
             "#46039f"
            ],
            [
             0.2222222222222222,
             "#7201a8"
            ],
            [
             0.3333333333333333,
             "#9c179e"
            ],
            [
             0.4444444444444444,
             "#bd3786"
            ],
            [
             0.5555555555555556,
             "#d8576b"
            ],
            [
             0.6666666666666666,
             "#ed7953"
            ],
            [
             0.7777777777777778,
             "#fb9f3a"
            ],
            [
             0.8888888888888888,
             "#fdca26"
            ],
            [
             1,
             "#f0f921"
            ]
           ],
           "sequentialminus": [
            [
             0,
             "#0d0887"
            ],
            [
             0.1111111111111111,
             "#46039f"
            ],
            [
             0.2222222222222222,
             "#7201a8"
            ],
            [
             0.3333333333333333,
             "#9c179e"
            ],
            [
             0.4444444444444444,
             "#bd3786"
            ],
            [
             0.5555555555555556,
             "#d8576b"
            ],
            [
             0.6666666666666666,
             "#ed7953"
            ],
            [
             0.7777777777777778,
             "#fb9f3a"
            ],
            [
             0.8888888888888888,
             "#fdca26"
            ],
            [
             1,
             "#f0f921"
            ]
           ]
          },
          "colorway": [
           "#636efa",
           "#EF553B",
           "#00cc96",
           "#ab63fa",
           "#FFA15A",
           "#19d3f3",
           "#FF6692",
           "#B6E880",
           "#FF97FF",
           "#FECB52"
          ],
          "font": {
           "color": "#2a3f5f"
          },
          "geo": {
           "bgcolor": "white",
           "lakecolor": "white",
           "landcolor": "#E5ECF6",
           "showlakes": true,
           "showland": true,
           "subunitcolor": "white"
          },
          "hoverlabel": {
           "align": "left"
          },
          "hovermode": "closest",
          "mapbox": {
           "style": "light"
          },
          "paper_bgcolor": "white",
          "plot_bgcolor": "#E5ECF6",
          "polar": {
           "angularaxis": {
            "gridcolor": "white",
            "linecolor": "white",
            "ticks": ""
           },
           "bgcolor": "#E5ECF6",
           "radialaxis": {
            "gridcolor": "white",
            "linecolor": "white",
            "ticks": ""
           }
          },
          "scene": {
           "xaxis": {
            "backgroundcolor": "#E5ECF6",
            "gridcolor": "white",
            "gridwidth": 2,
            "linecolor": "white",
            "showbackground": true,
            "ticks": "",
            "zerolinecolor": "white"
           },
           "yaxis": {
            "backgroundcolor": "#E5ECF6",
            "gridcolor": "white",
            "gridwidth": 2,
            "linecolor": "white",
            "showbackground": true,
            "ticks": "",
            "zerolinecolor": "white"
           },
           "zaxis": {
            "backgroundcolor": "#E5ECF6",
            "gridcolor": "white",
            "gridwidth": 2,
            "linecolor": "white",
            "showbackground": true,
            "ticks": "",
            "zerolinecolor": "white"
           }
          },
          "shapedefaults": {
           "line": {
            "color": "#2a3f5f"
           }
          },
          "ternary": {
           "aaxis": {
            "gridcolor": "white",
            "linecolor": "white",
            "ticks": ""
           },
           "baxis": {
            "gridcolor": "white",
            "linecolor": "white",
            "ticks": ""
           },
           "bgcolor": "#E5ECF6",
           "caxis": {
            "gridcolor": "white",
            "linecolor": "white",
            "ticks": ""
           }
          },
          "title": {
           "x": 0.05
          },
          "xaxis": {
           "automargin": true,
           "gridcolor": "white",
           "linecolor": "white",
           "ticks": "",
           "title": {
            "standoff": 15
           },
           "zerolinecolor": "white",
           "zerolinewidth": 2
          },
          "yaxis": {
           "automargin": true,
           "gridcolor": "white",
           "linecolor": "white",
           "ticks": "",
           "title": {
            "standoff": 15
           },
           "zerolinecolor": "white",
           "zerolinewidth": 2
          }
         }
        },
        "width": 1000,
        "xaxis": {
         "autorange": "reversed",
         "gridcolor": "lightgrey",
         "showgrid": true,
         "tickangle": 0,
         "ticklen": 10,
         "title": {
          "font": {
           "color": "black",
           "family": "Times New Roman",
           "size": 25
          },
          "text": "Процент присутствия аспектов политик"
         },
         "zerolinecolor": "lightgrey"
        },
        "yaxis": {
         "gridcolor": "lightgrey",
         "showgrid": true,
         "side": "right",
         "tickangle": 0,
         "ticklen": 10,
         "title": {
          "font": {
           "color": "black",
           "family": "Times New Roman",
           "size": 25
          }
         },
         "zerolinecolor": "lightgrey"
        }
       }
      }
     },
     "metadata": {},
     "output_type": "display_data"
    }
   ],
   "source": [
    "import plotly.graph_objects as go\n",
    "\n",
    "from config import COLORS_B, COLORS_D\n",
    "\n",
    "\n",
    "fig = go.Figure()\n",
    "\n",
    "fig.add_trace(\n",
    "    go.Bar(\n",
    "        x=list(reversed(scores)), y=list(reversed(names)),\n",
    "        orientation='h'))\n",
    "\n",
    "fig.update_layout(\n",
    "    font=dict(family='Times New Roman', size=20, color='black'),\n",
    "    plot_bgcolor='rgba(0, 0, 0, 0)',\n",
    "    yaxis={'side': 'right'},\n",
    "    margin=dict(pad=10),\n",
    "    height=75*len(names),\n",
    "    width=1000)\n",
    "\n",
    "fig.update_xaxes(\n",
    "    title=dict(\n",
    "        font=dict(family='Times New Roman', size=25, color='black'),\n",
    "        text='Процент присутствия аспектов политик'), \n",
    "    zerolinecolor='lightgrey',\n",
    "    gridcolor='lightgrey',\n",
    "    autorange=\"reversed\",\n",
    "    showgrid=True, \n",
    "    tickangle=0,\n",
    "    ticklen=10)\n",
    "\n",
    "fig.update_yaxes(\n",
    "    title=dict(\n",
    "        font=dict(family='Times New Roman', size=25, color='black')), \n",
    "    zerolinecolor='lightgrey',\n",
    "    gridcolor='lightgrey',\n",
    "    showgrid=True, \n",
    "    tickangle=0, \n",
    "    ticklen=10)\n",
    "\n",
    "fig.update_traces(marker_color=[COLORS_D[4]]*16)\n",
    "\n",
    "fig"
   ]
  },
  {
   "cell_type": "code",
   "execution_count": 14,
   "id": "c2c77ad4",
   "metadata": {
    "execution": {
     "iopub.execute_input": "2024-02-06T19:29:59.920840Z",
     "iopub.status.busy": "2024-02-06T19:29:59.920461Z",
     "iopub.status.idle": "2024-02-06T19:30:00.399026Z",
     "shell.execute_reply": "2024-02-06T19:30:00.398650Z"
    },
    "papermill": {
     "duration": 0.512002,
     "end_time": "2024-02-06T19:30:00.400166",
     "exception": false,
     "start_time": "2024-02-06T19:29:59.888164",
     "status": "completed"
    },
    "tags": []
   },
   "outputs": [],
   "source": [
    "fig.write_image(f'{PICTURES}/cluster_bars.png')"
   ]
  }
 ],
 "metadata": {
  "kernelspec": {
   "display_name": "Python 3 (ipykernel)",
   "language": "python",
   "name": "python3"
  },
  "language_info": {
   "codemirror_mode": {
    "name": "ipython",
    "version": 3
   },
   "file_extension": ".py",
   "mimetype": "text/x-python",
   "name": "python",
   "nbconvert_exporter": "python",
   "pygments_lexer": "ipython3",
   "version": "3.11.6"
  },
  "papermill": {
   "duration": 17.064105,
   "end_time": "2024-02-06T19:30:03.048686",
   "exception": null,
   "input_path": "/tmp/tmpxzpiwha6.ipynb",
   "output_path": "notebooks/cluster_bars.ipynb",
   "parameters": {
    "product": "notebooks/cluster_bars.ipynb"
   },
   "start_time": "2024-02-06T19:29:45.984581"
  }
 },
 "nbformat": 4,
 "nbformat_minor": 5
}
