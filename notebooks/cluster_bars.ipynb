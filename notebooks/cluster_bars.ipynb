{
 "cells": [
  {
   "cell_type": "code",
   "execution_count": 1,
   "id": "29df1600",
   "metadata": {
    "tags": [
     "parameters"
    ]
   },
   "outputs": [],
   "source": [
    "# add default values for parameters here"
   ]
  },
  {
   "cell_type": "code",
   "execution_count": 2,
   "id": "9265d5a9",
   "metadata": {
    "execution": {
     "iopub.execute_input": "2024-06-13T18:37:09.105290Z",
     "iopub.status.busy": "2024-06-13T18:37:09.104931Z",
     "iopub.status.idle": "2024-06-13T18:37:09.108394Z",
     "shell.execute_reply": "2024-06-13T18:37:09.107901Z"
    },
    "papermill": {
     "duration": 0.009245,
     "end_time": "2024-06-13T18:37:09.109569",
     "exception": false,
     "start_time": "2024-06-13T18:37:09.100324",
     "status": "completed"
    },
    "tags": [
     "injected-parameters"
    ]
   },
   "outputs": [],
   "source": [
    "# Parameters\n",
    "product = \"notebooks/cluster_bars.ipynb\"\n"
   ]
  },
  {
   "cell_type": "code",
   "execution_count": 3,
   "id": "cce2d20c",
   "metadata": {
    "execution": {
     "iopub.execute_input": "2024-06-13T18:37:11.071047Z",
     "iopub.status.busy": "2024-06-13T18:37:11.070737Z",
     "iopub.status.idle": "2024-06-13T18:37:11.073520Z",
     "shell.execute_reply": "2024-06-13T18:37:11.073070Z"
    },
    "papermill": {
     "duration": 0.067136,
     "end_time": "2024-06-13T18:37:11.074554",
     "exception": false,
     "start_time": "2024-06-13T18:37:11.007418",
     "status": "completed"
    },
    "tags": []
   },
   "outputs": [],
   "source": [
    "import __path__"
   ]
  },
  {
   "cell_type": "code",
   "execution_count": 4,
   "id": "57a1a4a1",
   "metadata": {
    "execution": {
     "iopub.execute_input": "2024-06-13T18:37:11.757816Z",
     "iopub.status.busy": "2024-06-13T18:37:11.757476Z",
     "iopub.status.idle": "2024-06-13T18:37:21.225181Z",
     "shell.execute_reply": "2024-06-13T18:37:21.224690Z"
    },
    "papermill": {
     "duration": 9.541417,
     "end_time": "2024-06-13T18:37:21.226456",
     "exception": false,
     "start_time": "2024-06-13T18:37:11.685039",
     "status": "completed"
    },
    "tags": []
   },
   "outputs": [],
   "source": [
    "from config import MAIN_EXPERIMENT\n",
    "\n",
    "\n",
    "WIDTH = MAIN_EXPERIMENT.nb_args[product]\n",
    "AFFILIATION_TH = MAIN_EXPERIMENT.affiliation_theshold\n",
    "PREPROCESSED_FILE = MAIN_EXPERIMENT.preprocessed_file\n",
    "MAIN_MODEL = MAIN_EXPERIMENT.main_model\n",
    "PICTURES = MAIN_EXPERIMENT.pictures\n",
    "GROUPS = MAIN_EXPERIMENT.groups"
   ]
  },
  {
   "cell_type": "code",
   "execution_count": 5,
   "id": "bdec3ecd",
   "metadata": {
    "execution": {
     "iopub.execute_input": "2024-06-13T18:37:21.396401Z",
     "iopub.status.busy": "2024-06-13T18:37:21.395838Z",
     "iopub.status.idle": "2024-06-13T18:37:39.627906Z",
     "shell.execute_reply": "2024-06-13T18:37:39.627453Z"
    },
    "papermill": {
     "duration": 18.333491,
     "end_time": "2024-06-13T18:37:39.629196",
     "exception": false,
     "start_time": "2024-06-13T18:37:21.295705",
     "status": "completed"
    },
    "tags": []
   },
   "outputs": [],
   "source": [
    "import json\n",
    "\n",
    "\n",
    "with open(PREPROCESSED_FILE, 'r') as f:\n",
    "    preprocessed = json.load(f)"
   ]
  },
  {
   "cell_type": "code",
   "execution_count": 6,
   "id": "e0ebf085",
   "metadata": {
    "execution": {
     "iopub.execute_input": "2024-06-13T18:37:39.635063Z",
     "iopub.status.busy": "2024-06-13T18:37:39.634707Z",
     "iopub.status.idle": "2024-06-13T18:37:44.503040Z",
     "shell.execute_reply": "2024-06-13T18:37:44.502692Z"
    },
    "papermill": {
     "duration": 4.872693,
     "end_time": "2024-06-13T18:37:44.504318",
     "exception": false,
     "start_time": "2024-06-13T18:37:39.631625",
     "status": "completed"
    },
    "tags": []
   },
   "outputs": [],
   "source": [
    "from gensim.models import TfidfModel\n",
    "\n",
    "from src.utils import load\n",
    "\n",
    "\n",
    "lda, dictionary, corpus = load(MAIN_MODEL)\n",
    "tfidf = TfidfModel(corpus, id2word=dictionary)"
   ]
  },
  {
   "cell_type": "code",
   "execution_count": 7,
   "id": "86e41813",
   "metadata": {
    "execution": {
     "iopub.execute_input": "2024-06-13T18:37:44.515867Z",
     "iopub.status.busy": "2024-06-13T18:37:44.515720Z",
     "iopub.status.idle": "2024-06-13T18:39:37.086401Z",
     "shell.execute_reply": "2024-06-13T18:39:37.086046Z"
    },
    "papermill": {
     "duration": 112.581848,
     "end_time": "2024-06-13T18:39:37.088672",
     "exception": false,
     "start_time": "2024-06-13T18:37:44.506824",
     "status": "completed"
    },
    "tags": []
   },
   "outputs": [
    {
     "name": "stdout",
     "output_type": "stream",
     "text": [
      "total=45036\n"
     ]
    },
    {
     "data": {
      "text/plain": [
       "[3372, 3209, 3484, 1532, 17747, 3795, 5198, 1492, 2064, 3143]"
      ]
     },
     "execution_count": 7,
     "metadata": {},
     "output_type": "execute_result"
    }
   ],
   "source": [
    "scores_raw = [0 for _ in range(len(GROUPS))]\n",
    "for policy in preprocessed:\n",
    "    for paragraph in policy:\n",
    "        topics = [t for t, s in lda[tfidf[dictionary.doc2bow(paragraph)]] if s > AFFILIATION_TH]\n",
    "\n",
    "        for g in GROUPS:\n",
    "            for t in topics:\n",
    "                if t in g['topics']:\n",
    "                    scores_raw[g['id']] += 1\n",
    "                    \n",
    "total = sum(scores_raw)\n",
    "print(f'{total=}')\n",
    "scores_raw"
   ]
  },
  {
   "cell_type": "code",
   "execution_count": 8,
   "id": "92d99999",
   "metadata": {
    "execution": {
     "iopub.execute_input": "2024-06-13T18:39:37.093282Z",
     "iopub.status.busy": "2024-06-13T18:39:37.092985Z",
     "iopub.status.idle": "2024-06-13T18:39:37.095175Z",
     "shell.execute_reply": "2024-06-13T18:39:37.094819Z"
    },
    "papermill": {
     "duration": 0.005279,
     "end_time": "2024-06-13T18:39:37.095941",
     "exception": false,
     "start_time": "2024-06-13T18:39:37.090662",
     "status": "completed"
    },
    "tags": []
   },
   "outputs": [],
   "source": [
    "keys = [g['name'] for g in GROUPS]"
   ]
  },
  {
   "cell_type": "code",
   "execution_count": 9,
   "id": "b9b0704f",
   "metadata": {
    "execution": {
     "iopub.execute_input": "2024-06-13T18:39:37.100417Z",
     "iopub.status.busy": "2024-06-13T18:39:37.100068Z",
     "iopub.status.idle": "2024-06-13T18:39:37.102909Z",
     "shell.execute_reply": "2024-06-13T18:39:37.102556Z"
    },
    "papermill": {
     "duration": 0.006085,
     "end_time": "2024-06-13T18:39:37.103770",
     "exception": false,
     "start_time": "2024-06-13T18:39:37.097685",
     "status": "completed"
    },
    "tags": []
   },
   "outputs": [
    {
     "data": {
      "text/plain": [
       "['Вопросы пользователя по политике безопасности',\n",
       " 'Сторонние веб-сайты',\n",
       " 'Особая аудитория',\n",
       " 'Защита персональных данных',\n",
       " 'Сбор персональных данных',\n",
       " 'Сбор данных, позволяющих отслеживать поведения пользователя на веб-сайте',\n",
       " 'Передача персональных данных третьим лицам',\n",
       " 'Хранение персональных данных',\n",
       " 'Персонализация и маркетинг',\n",
       " 'Изменение политики безопасности']"
      ]
     },
     "execution_count": 9,
     "metadata": {},
     "output_type": "execute_result"
    }
   ],
   "source": [
    "keys[:]"
   ]
  },
  {
   "cell_type": "code",
   "execution_count": 10,
   "id": "b8d7a52a",
   "metadata": {
    "execution": {
     "iopub.execute_input": "2024-06-13T18:39:37.108287Z",
     "iopub.status.busy": "2024-06-13T18:39:37.107959Z",
     "iopub.status.idle": "2024-06-13T18:39:37.111555Z",
     "shell.execute_reply": "2024-06-13T18:39:37.111207Z"
    },
    "papermill": {
     "duration": 0.006774,
     "end_time": "2024-06-13T18:39:37.112372",
     "exception": false,
     "start_time": "2024-06-13T18:39:37.105598",
     "status": "completed"
    },
    "tags": []
   },
   "outputs": [
    {
     "data": {
      "text/plain": [
       "['Вопросы пользователя по политике<br>безопасности',\n",
       " 'Сторонние веб-сайты',\n",
       " 'Особая аудитория',\n",
       " 'Защита персональных данных',\n",
       " 'Сбор персональных данных',\n",
       " 'Сбор данных, позволяющих<br>отслеживать поведения пользователя<br>на веб-сайте',\n",
       " 'Передача персональных данных<br>третьим лицам',\n",
       " 'Хранение персональных данных',\n",
       " 'Персонализация и маркетинг',\n",
       " 'Изменение политики безопасности']"
      ]
     },
     "execution_count": 10,
     "metadata": {},
     "output_type": "execute_result"
    }
   ],
   "source": [
    "from textwrap import wrap\n",
    "\n",
    "from src.utils import resolve_group_name\n",
    "\n",
    "\n",
    "names = [resolve_group_name(i, GROUPS) for i, _ in enumerate(scores_raw)]\n",
    "names = ['<br>'.join(wrap(n, width=WIDTH)) for n in names]\n",
    "\n",
    "\n",
    "scores = [s / total * 100 for s in scores_raw]\n",
    "names"
   ]
  },
  {
   "cell_type": "code",
   "execution_count": 11,
   "id": "16684dfa",
   "metadata": {
    "execution": {
     "iopub.execute_input": "2024-06-13T18:39:37.117027Z",
     "iopub.status.busy": "2024-06-13T18:39:37.116728Z",
     "iopub.status.idle": "2024-06-13T18:39:37.597663Z",
     "shell.execute_reply": "2024-06-13T18:39:37.597314Z"
    },
    "papermill": {
     "duration": 0.512756,
     "end_time": "2024-06-13T18:39:37.627030",
     "exception": false,
     "start_time": "2024-06-13T18:39:37.114274",
     "status": "completed"
    },
    "tags": []
   },
   "outputs": [
    {
     "data": {
      "application/vnd.plotly.v1+json": {
       "config": {
        "plotlyServerURL": "https://plot.ly"
       },
       "data": [
        {
         "marker": {
          "color": [
           "rgba(63, 81, 181, 1.0)",
           "rgba(63, 81, 181, 1.0)",
           "rgba(63, 81, 181, 1.0)",
           "rgba(63, 81, 181, 1.0)",
           "rgba(63, 81, 181, 1.0)",
           "rgba(63, 81, 181, 1.0)",
           "rgba(63, 81, 181, 1.0)",
           "rgba(63, 81, 181, 1.0)",
           "rgba(63, 81, 181, 1.0)",
           "rgba(63, 81, 181, 1.0)",
           "rgba(63, 81, 181, 1.0)",
           "rgba(63, 81, 181, 1.0)",
           "rgba(63, 81, 181, 1.0)",
           "rgba(63, 81, 181, 1.0)",
           "rgba(63, 81, 181, 1.0)",
           "rgba(63, 81, 181, 1.0)"
          ]
         },
         "orientation": "h",
         "type": "bar",
         "x": [
          6.978861355360157,
          4.583000266453504,
          3.312905231370459,
          11.541877609023892,
          8.426592059685586,
          39.406252775557334,
          3.4017230659916513,
          7.736033395505817,
          7.1254107824851225,
          7.48734345856648
         ],
         "y": [
          "Изменение политики безопасности",
          "Персонализация и маркетинг",
          "Хранение персональных данных",
          "Передача персональных данных<br>третьим лицам",
          "Сбор данных, позволяющих<br>отслеживать поведения пользователя<br>на веб-сайте",
          "Сбор персональных данных",
          "Защита персональных данных",
          "Особая аудитория",
          "Сторонние веб-сайты",
          "Вопросы пользователя по политике<br>безопасности"
         ]
        }
       ],
       "layout": {
        "font": {
         "color": "black",
         "family": "Times New Roman",
         "size": 20
        },
        "height": 750,
        "margin": {
         "pad": 10
        },
        "plot_bgcolor": "rgba(0, 0, 0, 0)",
        "template": {
         "data": {
          "bar": [
           {
            "error_x": {
             "color": "#2a3f5f"
            },
            "error_y": {
             "color": "#2a3f5f"
            },
            "marker": {
             "line": {
              "color": "#E5ECF6",
              "width": 0.5
             },
             "pattern": {
              "fillmode": "overlay",
              "size": 10,
              "solidity": 0.2
             }
            },
            "type": "bar"
           }
          ],
          "barpolar": [
           {
            "marker": {
             "line": {
              "color": "#E5ECF6",
              "width": 0.5
             },
             "pattern": {
              "fillmode": "overlay",
              "size": 10,
              "solidity": 0.2
             }
            },
            "type": "barpolar"
           }
          ],
          "carpet": [
           {
            "aaxis": {
             "endlinecolor": "#2a3f5f",
             "gridcolor": "white",
             "linecolor": "white",
             "minorgridcolor": "white",
             "startlinecolor": "#2a3f5f"
            },
            "baxis": {
             "endlinecolor": "#2a3f5f",
             "gridcolor": "white",
             "linecolor": "white",
             "minorgridcolor": "white",
             "startlinecolor": "#2a3f5f"
            },
            "type": "carpet"
           }
          ],
          "choropleth": [
           {
            "colorbar": {
             "outlinewidth": 0,
             "ticks": ""
            },
            "type": "choropleth"
           }
          ],
          "contour": [
           {
            "colorbar": {
             "outlinewidth": 0,
             "ticks": ""
            },
            "colorscale": [
             [
              0,
              "#0d0887"
             ],
             [
              0.1111111111111111,
              "#46039f"
             ],
             [
              0.2222222222222222,
              "#7201a8"
             ],
             [
              0.3333333333333333,
              "#9c179e"
             ],
             [
              0.4444444444444444,
              "#bd3786"
             ],
             [
              0.5555555555555556,
              "#d8576b"
             ],
             [
              0.6666666666666666,
              "#ed7953"
             ],
             [
              0.7777777777777778,
              "#fb9f3a"
             ],
             [
              0.8888888888888888,
              "#fdca26"
             ],
             [
              1,
              "#f0f921"
             ]
            ],
            "type": "contour"
           }
          ],
          "contourcarpet": [
           {
            "colorbar": {
             "outlinewidth": 0,
             "ticks": ""
            },
            "type": "contourcarpet"
           }
          ],
          "heatmap": [
           {
            "colorbar": {
             "outlinewidth": 0,
             "ticks": ""
            },
            "colorscale": [
             [
              0,
              "#0d0887"
             ],
             [
              0.1111111111111111,
              "#46039f"
             ],
             [
              0.2222222222222222,
              "#7201a8"
             ],
             [
              0.3333333333333333,
              "#9c179e"
             ],
             [
              0.4444444444444444,
              "#bd3786"
             ],
             [
              0.5555555555555556,
              "#d8576b"
             ],
             [
              0.6666666666666666,
              "#ed7953"
             ],
             [
              0.7777777777777778,
              "#fb9f3a"
             ],
             [
              0.8888888888888888,
              "#fdca26"
             ],
             [
              1,
              "#f0f921"
             ]
            ],
            "type": "heatmap"
           }
          ],
          "heatmapgl": [
           {
            "colorbar": {
             "outlinewidth": 0,
             "ticks": ""
            },
            "colorscale": [
             [
              0,
              "#0d0887"
             ],
             [
              0.1111111111111111,
              "#46039f"
             ],
             [
              0.2222222222222222,
              "#7201a8"
             ],
             [
              0.3333333333333333,
              "#9c179e"
             ],
             [
              0.4444444444444444,
              "#bd3786"
             ],
             [
              0.5555555555555556,
              "#d8576b"
             ],
             [
              0.6666666666666666,
              "#ed7953"
             ],
             [
              0.7777777777777778,
              "#fb9f3a"
             ],
             [
              0.8888888888888888,
              "#fdca26"
             ],
             [
              1,
              "#f0f921"
             ]
            ],
            "type": "heatmapgl"
           }
          ],
          "histogram": [
           {
            "marker": {
             "pattern": {
              "fillmode": "overlay",
              "size": 10,
              "solidity": 0.2
             }
            },
            "type": "histogram"
           }
          ],
          "histogram2d": [
           {
            "colorbar": {
             "outlinewidth": 0,
             "ticks": ""
            },
            "colorscale": [
             [
              0,
              "#0d0887"
             ],
             [
              0.1111111111111111,
              "#46039f"
             ],
             [
              0.2222222222222222,
              "#7201a8"
             ],
             [
              0.3333333333333333,
              "#9c179e"
             ],
             [
              0.4444444444444444,
              "#bd3786"
             ],
             [
              0.5555555555555556,
              "#d8576b"
             ],
             [
              0.6666666666666666,
              "#ed7953"
             ],
             [
              0.7777777777777778,
              "#fb9f3a"
             ],
             [
              0.8888888888888888,
              "#fdca26"
             ],
             [
              1,
              "#f0f921"
             ]
            ],
            "type": "histogram2d"
           }
          ],
          "histogram2dcontour": [
           {
            "colorbar": {
             "outlinewidth": 0,
             "ticks": ""
            },
            "colorscale": [
             [
              0,
              "#0d0887"
             ],
             [
              0.1111111111111111,
              "#46039f"
             ],
             [
              0.2222222222222222,
              "#7201a8"
             ],
             [
              0.3333333333333333,
              "#9c179e"
             ],
             [
              0.4444444444444444,
              "#bd3786"
             ],
             [
              0.5555555555555556,
              "#d8576b"
             ],
             [
              0.6666666666666666,
              "#ed7953"
             ],
             [
              0.7777777777777778,
              "#fb9f3a"
             ],
             [
              0.8888888888888888,
              "#fdca26"
             ],
             [
              1,
              "#f0f921"
             ]
            ],
            "type": "histogram2dcontour"
           }
          ],
          "mesh3d": [
           {
            "colorbar": {
             "outlinewidth": 0,
             "ticks": ""
            },
            "type": "mesh3d"
           }
          ],
          "parcoords": [
           {
            "line": {
             "colorbar": {
              "outlinewidth": 0,
              "ticks": ""
             }
            },
            "type": "parcoords"
           }
          ],
          "pie": [
           {
            "automargin": true,
            "type": "pie"
           }
          ],
          "scatter": [
           {
            "fillpattern": {
             "fillmode": "overlay",
             "size": 10,
             "solidity": 0.2
            },
            "type": "scatter"
           }
          ],
          "scatter3d": [
           {
            "line": {
             "colorbar": {
              "outlinewidth": 0,
              "ticks": ""
             }
            },
            "marker": {
             "colorbar": {
              "outlinewidth": 0,
              "ticks": ""
             }
            },
            "type": "scatter3d"
           }
          ],
          "scattercarpet": [
           {
            "marker": {
             "colorbar": {
              "outlinewidth": 0,
              "ticks": ""
             }
            },
            "type": "scattercarpet"
           }
          ],
          "scattergeo": [
           {
            "marker": {
             "colorbar": {
              "outlinewidth": 0,
              "ticks": ""
             }
            },
            "type": "scattergeo"
           }
          ],
          "scattergl": [
           {
            "marker": {
             "colorbar": {
              "outlinewidth": 0,
              "ticks": ""
             }
            },
            "type": "scattergl"
           }
          ],
          "scattermapbox": [
           {
            "marker": {
             "colorbar": {
              "outlinewidth": 0,
              "ticks": ""
             }
            },
            "type": "scattermapbox"
           }
          ],
          "scatterpolar": [
           {
            "marker": {
             "colorbar": {
              "outlinewidth": 0,
              "ticks": ""
             }
            },
            "type": "scatterpolar"
           }
          ],
          "scatterpolargl": [
           {
            "marker": {
             "colorbar": {
              "outlinewidth": 0,
              "ticks": ""
             }
            },
            "type": "scatterpolargl"
           }
          ],
          "scatterternary": [
           {
            "marker": {
             "colorbar": {
              "outlinewidth": 0,
              "ticks": ""
             }
            },
            "type": "scatterternary"
           }
          ],
          "surface": [
           {
            "colorbar": {
             "outlinewidth": 0,
             "ticks": ""
            },
            "colorscale": [
             [
              0,
              "#0d0887"
             ],
             [
              0.1111111111111111,
              "#46039f"
             ],
             [
              0.2222222222222222,
              "#7201a8"
             ],
             [
              0.3333333333333333,
              "#9c179e"
             ],
             [
              0.4444444444444444,
              "#bd3786"
             ],
             [
              0.5555555555555556,
              "#d8576b"
             ],
             [
              0.6666666666666666,
              "#ed7953"
             ],
             [
              0.7777777777777778,
              "#fb9f3a"
             ],
             [
              0.8888888888888888,
              "#fdca26"
             ],
             [
              1,
              "#f0f921"
             ]
            ],
            "type": "surface"
           }
          ],
          "table": [
           {
            "cells": {
             "fill": {
              "color": "#EBF0F8"
             },
             "line": {
              "color": "white"
             }
            },
            "header": {
             "fill": {
              "color": "#C8D4E3"
             },
             "line": {
              "color": "white"
             }
            },
            "type": "table"
           }
          ]
         },
         "layout": {
          "annotationdefaults": {
           "arrowcolor": "#2a3f5f",
           "arrowhead": 0,
           "arrowwidth": 1
          },
          "autotypenumbers": "strict",
          "coloraxis": {
           "colorbar": {
            "outlinewidth": 0,
            "ticks": ""
           }
          },
          "colorscale": {
           "diverging": [
            [
             0,
             "#8e0152"
            ],
            [
             0.1,
             "#c51b7d"
            ],
            [
             0.2,
             "#de77ae"
            ],
            [
             0.3,
             "#f1b6da"
            ],
            [
             0.4,
             "#fde0ef"
            ],
            [
             0.5,
             "#f7f7f7"
            ],
            [
             0.6,
             "#e6f5d0"
            ],
            [
             0.7,
             "#b8e186"
            ],
            [
             0.8,
             "#7fbc41"
            ],
            [
             0.9,
             "#4d9221"
            ],
            [
             1,
             "#276419"
            ]
           ],
           "sequential": [
            [
             0,
             "#0d0887"
            ],
            [
             0.1111111111111111,
             "#46039f"
            ],
            [
             0.2222222222222222,
             "#7201a8"
            ],
            [
             0.3333333333333333,
             "#9c179e"
            ],
            [
             0.4444444444444444,
             "#bd3786"
            ],
            [
             0.5555555555555556,
             "#d8576b"
            ],
            [
             0.6666666666666666,
             "#ed7953"
            ],
            [
             0.7777777777777778,
             "#fb9f3a"
            ],
            [
             0.8888888888888888,
             "#fdca26"
            ],
            [
             1,
             "#f0f921"
            ]
           ],
           "sequentialminus": [
            [
             0,
             "#0d0887"
            ],
            [
             0.1111111111111111,
             "#46039f"
            ],
            [
             0.2222222222222222,
             "#7201a8"
            ],
            [
             0.3333333333333333,
             "#9c179e"
            ],
            [
             0.4444444444444444,
             "#bd3786"
            ],
            [
             0.5555555555555556,
             "#d8576b"
            ],
            [
             0.6666666666666666,
             "#ed7953"
            ],
            [
             0.7777777777777778,
             "#fb9f3a"
            ],
            [
             0.8888888888888888,
             "#fdca26"
            ],
            [
             1,
             "#f0f921"
            ]
           ]
          },
          "colorway": [
           "#636efa",
           "#EF553B",
           "#00cc96",
           "#ab63fa",
           "#FFA15A",
           "#19d3f3",
           "#FF6692",
           "#B6E880",
           "#FF97FF",
           "#FECB52"
          ],
          "font": {
           "color": "#2a3f5f"
          },
          "geo": {
           "bgcolor": "white",
           "lakecolor": "white",
           "landcolor": "#E5ECF6",
           "showlakes": true,
           "showland": true,
           "subunitcolor": "white"
          },
          "hoverlabel": {
           "align": "left"
          },
          "hovermode": "closest",
          "mapbox": {
           "style": "light"
          },
          "paper_bgcolor": "white",
          "plot_bgcolor": "#E5ECF6",
          "polar": {
           "angularaxis": {
            "gridcolor": "white",
            "linecolor": "white",
            "ticks": ""
           },
           "bgcolor": "#E5ECF6",
           "radialaxis": {
            "gridcolor": "white",
            "linecolor": "white",
            "ticks": ""
           }
          },
          "scene": {
           "xaxis": {
            "backgroundcolor": "#E5ECF6",
            "gridcolor": "white",
            "gridwidth": 2,
            "linecolor": "white",
            "showbackground": true,
            "ticks": "",
            "zerolinecolor": "white"
           },
           "yaxis": {
            "backgroundcolor": "#E5ECF6",
            "gridcolor": "white",
            "gridwidth": 2,
            "linecolor": "white",
            "showbackground": true,
            "ticks": "",
            "zerolinecolor": "white"
           },
           "zaxis": {
            "backgroundcolor": "#E5ECF6",
            "gridcolor": "white",
            "gridwidth": 2,
            "linecolor": "white",
            "showbackground": true,
            "ticks": "",
            "zerolinecolor": "white"
           }
          },
          "shapedefaults": {
           "line": {
            "color": "#2a3f5f"
           }
          },
          "ternary": {
           "aaxis": {
            "gridcolor": "white",
            "linecolor": "white",
            "ticks": ""
           },
           "baxis": {
            "gridcolor": "white",
            "linecolor": "white",
            "ticks": ""
           },
           "bgcolor": "#E5ECF6",
           "caxis": {
            "gridcolor": "white",
            "linecolor": "white",
            "ticks": ""
           }
          },
          "title": {
           "x": 0.05
          },
          "xaxis": {
           "automargin": true,
           "gridcolor": "white",
           "linecolor": "white",
           "ticks": "",
           "title": {
            "standoff": 15
           },
           "zerolinecolor": "white",
           "zerolinewidth": 2
          },
          "yaxis": {
           "automargin": true,
           "gridcolor": "white",
           "linecolor": "white",
           "ticks": "",
           "title": {
            "standoff": 15
           },
           "zerolinecolor": "white",
           "zerolinewidth": 2
          }
         }
        },
        "width": 1000,
        "xaxis": {
         "autorange": "reversed",
         "gridcolor": "lightgrey",
         "showgrid": true,
         "tickangle": 0,
         "ticklen": 10,
         "title": {
          "font": {
           "color": "black",
           "family": "Times New Roman",
           "size": 25
          },
          "text": "Процент присутствия аспектов политик"
         },
         "zerolinecolor": "lightgrey"
        },
        "yaxis": {
         "gridcolor": "lightgrey",
         "showgrid": true,
         "side": "right",
         "tickangle": 0,
         "ticklen": 10,
         "title": {
          "font": {
           "color": "black",
           "family": "Times New Roman",
           "size": 25
          }
         },
         "zerolinecolor": "lightgrey"
        }
       }
      }
     },
     "metadata": {},
     "output_type": "display_data"
    }
   ],
   "source": [
    "import plotly.graph_objects as go\n",
    "\n",
    "from config import COLORS_B, COLORS_D\n",
    "\n",
    "\n",
    "fig = go.Figure()\n",
    "\n",
    "fig.add_trace(\n",
    "    go.Bar(\n",
    "        x=list(reversed(scores)), y=list(reversed(names)),\n",
    "        orientation='h'))\n",
    "\n",
    "fig.update_layout(\n",
    "    font=dict(family='Times New Roman', size=20, color='black'),\n",
    "    plot_bgcolor='rgba(0, 0, 0, 0)',\n",
    "    yaxis={'side': 'right'},\n",
    "    margin=dict(pad=10),\n",
    "    height=75*len(names),\n",
    "    width=1000)\n",
    "\n",
    "fig.update_xaxes(\n",
    "    title=dict(\n",
    "        font=dict(family='Times New Roman', size=25, color='black'),\n",
    "        text='Процент присутствия аспектов политик'), \n",
    "    zerolinecolor='lightgrey',\n",
    "    gridcolor='lightgrey',\n",
    "    autorange=\"reversed\",\n",
    "    showgrid=True, \n",
    "    tickangle=0,\n",
    "    ticklen=10)\n",
    "\n",
    "fig.update_yaxes(\n",
    "    title=dict(\n",
    "        font=dict(family='Times New Roman', size=25, color='black')), \n",
    "    zerolinecolor='lightgrey',\n",
    "    gridcolor='lightgrey',\n",
    "    showgrid=True, \n",
    "    tickangle=0, \n",
    "    ticklen=10)\n",
    "\n",
    "fig.update_traces(marker_color=[COLORS_D[4]]*16)\n",
    "\n",
    "fig"
   ]
  },
  {
   "cell_type": "code",
   "execution_count": 12,
   "id": "c2c77ad4",
   "metadata": {
    "execution": {
     "iopub.execute_input": "2024-06-13T18:39:37.697965Z",
     "iopub.status.busy": "2024-06-13T18:39:37.697593Z",
     "iopub.status.idle": "2024-06-13T18:39:38.135560Z",
     "shell.execute_reply": "2024-06-13T18:39:38.135209Z"
    },
    "papermill": {
     "duration": 0.47731,
     "end_time": "2024-06-13T18:39:38.136595",
     "exception": false,
     "start_time": "2024-06-13T18:39:37.659285",
     "status": "completed"
    },
    "tags": []
   },
   "outputs": [],
   "source": [
    "fig.write_image(f'{PICTURES}/cluster_bars.png')"
   ]
  },
  {
   "cell_type": "code",
   "execution_count": 13,
   "id": "6b25da26",
   "metadata": {},
   "outputs": [
    {
     "data": {
      "application/vnd.plotly.v1+json": {
       "config": {
        "plotlyServerURL": "https://plot.ly"
       },
       "data": [
        {
         "alignmentgroup": "True",
         "hovertemplate": "name=Изменение политики безопасности<br>value=%{x}<br>y=%{y}<extra></extra>",
         "legendgroup": "Изменение политики безопасности",
         "marker": {
          "color": "rgba(244, 67, 54, 1.0)",
          "pattern": {
           "shape": ""
          }
         },
         "name": "Изменение политики безопасности",
         "offsetgroup": "Изменение политики безопасности",
         "orientation": "h",
         "showlegend": true,
         "textposition": "auto",
         "texttemplate": "%{x}",
         "type": "bar",
         "width": 0.2,
         "x": [
          7
         ],
         "xaxis": "x",
         "y": [
          0
         ],
         "yaxis": "y"
        },
        {
         "alignmentgroup": "True",
         "hovertemplate": "name=Персонализация и маркетинг<br>value=%{x}<br>y=%{y}<extra></extra>",
         "legendgroup": "Персонализация и маркетинг",
         "marker": {
          "color": "rgba(232, 30, 99, 1.0)",
          "pattern": {
           "shape": ""
          }
         },
         "name": "Персонализация и маркетинг",
         "offsetgroup": "Персонализация и маркетинг",
         "orientation": "h",
         "showlegend": true,
         "textposition": "auto",
         "texttemplate": "%{x}",
         "type": "bar",
         "width": 0.2,
         "x": [
          4.6
         ],
         "xaxis": "x",
         "y": [
          0
         ],
         "yaxis": "y"
        },
        {
         "alignmentgroup": "True",
         "hovertemplate": "name=Хранение персональных данных<br>value=%{x}<br>y=%{y}<extra></extra>",
         "legendgroup": "Хранение персональных данных",
         "marker": {
          "color": "rgba(156, 39, 176, 1.0)",
          "pattern": {
           "shape": ""
          }
         },
         "name": "Хранение персональных данных",
         "offsetgroup": "Хранение персональных данных",
         "orientation": "h",
         "showlegend": true,
         "textposition": "auto",
         "texttemplate": "%{x}",
         "type": "bar",
         "width": 0.2,
         "x": [
          3.3
         ],
         "xaxis": "x",
         "y": [
          0
         ],
         "yaxis": "y"
        },
        {
         "alignmentgroup": "True",
         "hovertemplate": "name=Передача персональных данных<br>третьим лицам<br>value=%{x}<br>y=%{y}<extra></extra>",
         "legendgroup": "Передача персональных данных<br>третьим лицам",
         "marker": {
          "color": "rgba(103, 58, 183, 1.0)",
          "pattern": {
           "shape": ""
          }
         },
         "name": "Передача персональных данных<br>третьим лицам",
         "offsetgroup": "Передача персональных данных<br>третьим лицам",
         "orientation": "h",
         "showlegend": true,
         "textposition": "auto",
         "texttemplate": "%{x}",
         "type": "bar",
         "width": 0.2,
         "x": [
          11.6
         ],
         "xaxis": "x",
         "y": [
          0
         ],
         "yaxis": "y"
        },
        {
         "alignmentgroup": "True",
         "hovertemplate": "name=Сбор данных, позволяющих<br>отслеживать поведения пользователя<br>на веб-сайте<br>value=%{x}<br>y=%{y}<extra></extra>",
         "legendgroup": "Сбор данных, позволяющих<br>отслеживать поведения пользователя<br>на веб-сайте",
         "marker": {
          "color": "rgba(63, 81, 181, 1.0)",
          "pattern": {
           "shape": ""
          }
         },
         "name": "Сбор данных, позволяющих<br>отслеживать поведения пользователя<br>на веб-сайте",
         "offsetgroup": "Сбор данных, позволяющих<br>отслеживать поведения пользователя<br>на веб-сайте",
         "orientation": "h",
         "showlegend": true,
         "textposition": "auto",
         "texttemplate": "%{x}",
         "type": "bar",
         "width": 0.2,
         "x": [
          8.4
         ],
         "xaxis": "x",
         "y": [
          0
         ],
         "yaxis": "y"
        },
        {
         "alignmentgroup": "True",
         "hovertemplate": "name=Сбор персональных данных<br>value=%{x}<br>y=%{y}<extra></extra>",
         "legendgroup": "Сбор персональных данных",
         "marker": {
          "color": "rgba(33, 150, 243, 1.0)",
          "pattern": {
           "shape": ""
          }
         },
         "name": "Сбор персональных данных",
         "offsetgroup": "Сбор персональных данных",
         "orientation": "h",
         "showlegend": true,
         "textposition": "auto",
         "texttemplate": "%{x}",
         "type": "bar",
         "width": 0.2,
         "x": [
          39.4
         ],
         "xaxis": "x",
         "y": [
          0
         ],
         "yaxis": "y"
        },
        {
         "alignmentgroup": "True",
         "hovertemplate": "name=Защита персональных данных<br>value=%{x}<br>y=%{y}<extra></extra>",
         "legendgroup": "Защита персональных данных",
         "marker": {
          "color": "rgba(3, 169, 244, 1.0)",
          "pattern": {
           "shape": ""
          }
         },
         "name": "Защита персональных данных",
         "offsetgroup": "Защита персональных данных",
         "orientation": "h",
         "showlegend": true,
         "textposition": "auto",
         "texttemplate": "%{x}",
         "type": "bar",
         "width": 0.2,
         "x": [
          3.4
         ],
         "xaxis": "x",
         "y": [
          0
         ],
         "yaxis": "y"
        },
        {
         "alignmentgroup": "True",
         "hovertemplate": "name=Особая аудитория<br>value=%{x}<br>y=%{y}<extra></extra>",
         "legendgroup": "Особая аудитория",
         "marker": {
          "color": "rgba(0, 188, 212, 1.0)",
          "pattern": {
           "shape": ""
          }
         },
         "name": "Особая аудитория",
         "offsetgroup": "Особая аудитория",
         "orientation": "h",
         "showlegend": true,
         "textposition": "auto",
         "texttemplate": "%{x}",
         "type": "bar",
         "width": 0.2,
         "x": [
          7.7
         ],
         "xaxis": "x",
         "y": [
          0
         ],
         "yaxis": "y"
        },
        {
         "alignmentgroup": "True",
         "hovertemplate": "name=Сторонние веб-сайты<br>value=%{x}<br>y=%{y}<extra></extra>",
         "legendgroup": "Сторонние веб-сайты",
         "marker": {
          "color": "rgba(0, 150, 136, 1.0)",
          "pattern": {
           "shape": ""
          }
         },
         "name": "Сторонние веб-сайты",
         "offsetgroup": "Сторонние веб-сайты",
         "orientation": "h",
         "showlegend": true,
         "textposition": "auto",
         "texttemplate": "%{x}",
         "type": "bar",
         "width": 0.2,
         "x": [
          7.1
         ],
         "xaxis": "x",
         "y": [
          0
         ],
         "yaxis": "y"
        },
        {
         "alignmentgroup": "True",
         "hovertemplate": "name=Вопросы пользователя по политике<br>безопасности<br>value=%{x}<br>y=%{y}<extra></extra>",
         "legendgroup": "Вопросы пользователя по политике<br>безопасности",
         "marker": {
          "color": "rgba(76, 175, 80, 1.0)",
          "pattern": {
           "shape": ""
          }
         },
         "name": "Вопросы пользователя по политике<br>безопасности",
         "offsetgroup": "Вопросы пользователя по политике<br>безопасности",
         "orientation": "h",
         "showlegend": true,
         "textposition": "auto",
         "texttemplate": "%{x}",
         "type": "bar",
         "width": 0.2,
         "x": [
          7.5
         ],
         "xaxis": "x",
         "y": [
          0
         ],
         "yaxis": "y"
        }
       ],
       "layout": {
        "autosize": false,
        "barmode": "relative",
        "colorway": [
         "rgba(244, 67, 54, 1.0)",
         "rgba(232, 30, 99, 1.0)",
         "rgba(156, 39, 176, 1.0)",
         "rgba(103, 58, 183, 1.0)",
         "rgba(63, 81, 181, 1.0)",
         "rgba(33, 150, 243, 1.0)",
         "rgba(3, 169, 244, 1.0)",
         "rgba(0, 188, 212, 1.0)",
         "rgba(0, 150, 136, 1.0)",
         "rgba(76, 175, 80, 1.0)",
         "rgba(139, 195, 74, 1.0)",
         "rgba(205, 220, 57, 1.0)",
         "rgba(255, 235, 59, 1.0)",
         "rgba(255, 193, 7, 1.0)",
         "rgba(255, 152, 0, 1.0)",
         "rgba(255, 87, 34, 1.0)"
        ],
        "font": {
         "color": "black",
         "family": "Times New Roman",
         "size": 20
        },
        "height": 525,
        "legend": {
         "entrywidth": 0.4,
         "entrywidthmode": "fraction",
         "orientation": "h",
         "title": {},
         "tracegroupgap": 0,
         "x": 0.5,
         "xanchor": "center",
         "y": 50000,
         "yanchor": "top"
        },
        "margin": {
         "b": 10,
         "l": 10,
         "pad": 10,
         "r": 10,
         "t": 10
        },
        "plot_bgcolor": "rgba(0, 0, 0, 0)",
        "template": {
         "data": {
          "bar": [
           {
            "error_x": {
             "color": "#2a3f5f"
            },
            "error_y": {
             "color": "#2a3f5f"
            },
            "marker": {
             "line": {
              "color": "#E5ECF6",
              "width": 0.5
             },
             "pattern": {
              "fillmode": "overlay",
              "size": 10,
              "solidity": 0.2
             }
            },
            "type": "bar"
           }
          ],
          "barpolar": [
           {
            "marker": {
             "line": {
              "color": "#E5ECF6",
              "width": 0.5
             },
             "pattern": {
              "fillmode": "overlay",
              "size": 10,
              "solidity": 0.2
             }
            },
            "type": "barpolar"
           }
          ],
          "carpet": [
           {
            "aaxis": {
             "endlinecolor": "#2a3f5f",
             "gridcolor": "white",
             "linecolor": "white",
             "minorgridcolor": "white",
             "startlinecolor": "#2a3f5f"
            },
            "baxis": {
             "endlinecolor": "#2a3f5f",
             "gridcolor": "white",
             "linecolor": "white",
             "minorgridcolor": "white",
             "startlinecolor": "#2a3f5f"
            },
            "type": "carpet"
           }
          ],
          "choropleth": [
           {
            "colorbar": {
             "outlinewidth": 0,
             "ticks": ""
            },
            "type": "choropleth"
           }
          ],
          "contour": [
           {
            "colorbar": {
             "outlinewidth": 0,
             "ticks": ""
            },
            "colorscale": [
             [
              0,
              "#0d0887"
             ],
             [
              0.1111111111111111,
              "#46039f"
             ],
             [
              0.2222222222222222,
              "#7201a8"
             ],
             [
              0.3333333333333333,
              "#9c179e"
             ],
             [
              0.4444444444444444,
              "#bd3786"
             ],
             [
              0.5555555555555556,
              "#d8576b"
             ],
             [
              0.6666666666666666,
              "#ed7953"
             ],
             [
              0.7777777777777778,
              "#fb9f3a"
             ],
             [
              0.8888888888888888,
              "#fdca26"
             ],
             [
              1,
              "#f0f921"
             ]
            ],
            "type": "contour"
           }
          ],
          "contourcarpet": [
           {
            "colorbar": {
             "outlinewidth": 0,
             "ticks": ""
            },
            "type": "contourcarpet"
           }
          ],
          "heatmap": [
           {
            "colorbar": {
             "outlinewidth": 0,
             "ticks": ""
            },
            "colorscale": [
             [
              0,
              "#0d0887"
             ],
             [
              0.1111111111111111,
              "#46039f"
             ],
             [
              0.2222222222222222,
              "#7201a8"
             ],
             [
              0.3333333333333333,
              "#9c179e"
             ],
             [
              0.4444444444444444,
              "#bd3786"
             ],
             [
              0.5555555555555556,
              "#d8576b"
             ],
             [
              0.6666666666666666,
              "#ed7953"
             ],
             [
              0.7777777777777778,
              "#fb9f3a"
             ],
             [
              0.8888888888888888,
              "#fdca26"
             ],
             [
              1,
              "#f0f921"
             ]
            ],
            "type": "heatmap"
           }
          ],
          "heatmapgl": [
           {
            "colorbar": {
             "outlinewidth": 0,
             "ticks": ""
            },
            "colorscale": [
             [
              0,
              "#0d0887"
             ],
             [
              0.1111111111111111,
              "#46039f"
             ],
             [
              0.2222222222222222,
              "#7201a8"
             ],
             [
              0.3333333333333333,
              "#9c179e"
             ],
             [
              0.4444444444444444,
              "#bd3786"
             ],
             [
              0.5555555555555556,
              "#d8576b"
             ],
             [
              0.6666666666666666,
              "#ed7953"
             ],
             [
              0.7777777777777778,
              "#fb9f3a"
             ],
             [
              0.8888888888888888,
              "#fdca26"
             ],
             [
              1,
              "#f0f921"
             ]
            ],
            "type": "heatmapgl"
           }
          ],
          "histogram": [
           {
            "marker": {
             "pattern": {
              "fillmode": "overlay",
              "size": 10,
              "solidity": 0.2
             }
            },
            "type": "histogram"
           }
          ],
          "histogram2d": [
           {
            "colorbar": {
             "outlinewidth": 0,
             "ticks": ""
            },
            "colorscale": [
             [
              0,
              "#0d0887"
             ],
             [
              0.1111111111111111,
              "#46039f"
             ],
             [
              0.2222222222222222,
              "#7201a8"
             ],
             [
              0.3333333333333333,
              "#9c179e"
             ],
             [
              0.4444444444444444,
              "#bd3786"
             ],
             [
              0.5555555555555556,
              "#d8576b"
             ],
             [
              0.6666666666666666,
              "#ed7953"
             ],
             [
              0.7777777777777778,
              "#fb9f3a"
             ],
             [
              0.8888888888888888,
              "#fdca26"
             ],
             [
              1,
              "#f0f921"
             ]
            ],
            "type": "histogram2d"
           }
          ],
          "histogram2dcontour": [
           {
            "colorbar": {
             "outlinewidth": 0,
             "ticks": ""
            },
            "colorscale": [
             [
              0,
              "#0d0887"
             ],
             [
              0.1111111111111111,
              "#46039f"
             ],
             [
              0.2222222222222222,
              "#7201a8"
             ],
             [
              0.3333333333333333,
              "#9c179e"
             ],
             [
              0.4444444444444444,
              "#bd3786"
             ],
             [
              0.5555555555555556,
              "#d8576b"
             ],
             [
              0.6666666666666666,
              "#ed7953"
             ],
             [
              0.7777777777777778,
              "#fb9f3a"
             ],
             [
              0.8888888888888888,
              "#fdca26"
             ],
             [
              1,
              "#f0f921"
             ]
            ],
            "type": "histogram2dcontour"
           }
          ],
          "mesh3d": [
           {
            "colorbar": {
             "outlinewidth": 0,
             "ticks": ""
            },
            "type": "mesh3d"
           }
          ],
          "parcoords": [
           {
            "line": {
             "colorbar": {
              "outlinewidth": 0,
              "ticks": ""
             }
            },
            "type": "parcoords"
           }
          ],
          "pie": [
           {
            "automargin": true,
            "type": "pie"
           }
          ],
          "scatter": [
           {
            "fillpattern": {
             "fillmode": "overlay",
             "size": 10,
             "solidity": 0.2
            },
            "type": "scatter"
           }
          ],
          "scatter3d": [
           {
            "line": {
             "colorbar": {
              "outlinewidth": 0,
              "ticks": ""
             }
            },
            "marker": {
             "colorbar": {
              "outlinewidth": 0,
              "ticks": ""
             }
            },
            "type": "scatter3d"
           }
          ],
          "scattercarpet": [
           {
            "marker": {
             "colorbar": {
              "outlinewidth": 0,
              "ticks": ""
             }
            },
            "type": "scattercarpet"
           }
          ],
          "scattergeo": [
           {
            "marker": {
             "colorbar": {
              "outlinewidth": 0,
              "ticks": ""
             }
            },
            "type": "scattergeo"
           }
          ],
          "scattergl": [
           {
            "marker": {
             "colorbar": {
              "outlinewidth": 0,
              "ticks": ""
             }
            },
            "type": "scattergl"
           }
          ],
          "scattermapbox": [
           {
            "marker": {
             "colorbar": {
              "outlinewidth": 0,
              "ticks": ""
             }
            },
            "type": "scattermapbox"
           }
          ],
          "scatterpolar": [
           {
            "marker": {
             "colorbar": {
              "outlinewidth": 0,
              "ticks": ""
             }
            },
            "type": "scatterpolar"
           }
          ],
          "scatterpolargl": [
           {
            "marker": {
             "colorbar": {
              "outlinewidth": 0,
              "ticks": ""
             }
            },
            "type": "scatterpolargl"
           }
          ],
          "scatterternary": [
           {
            "marker": {
             "colorbar": {
              "outlinewidth": 0,
              "ticks": ""
             }
            },
            "type": "scatterternary"
           }
          ],
          "surface": [
           {
            "colorbar": {
             "outlinewidth": 0,
             "ticks": ""
            },
            "colorscale": [
             [
              0,
              "#0d0887"
             ],
             [
              0.1111111111111111,
              "#46039f"
             ],
             [
              0.2222222222222222,
              "#7201a8"
             ],
             [
              0.3333333333333333,
              "#9c179e"
             ],
             [
              0.4444444444444444,
              "#bd3786"
             ],
             [
              0.5555555555555556,
              "#d8576b"
             ],
             [
              0.6666666666666666,
              "#ed7953"
             ],
             [
              0.7777777777777778,
              "#fb9f3a"
             ],
             [
              0.8888888888888888,
              "#fdca26"
             ],
             [
              1,
              "#f0f921"
             ]
            ],
            "type": "surface"
           }
          ],
          "table": [
           {
            "cells": {
             "fill": {
              "color": "#EBF0F8"
             },
             "line": {
              "color": "white"
             }
            },
            "header": {
             "fill": {
              "color": "#C8D4E3"
             },
             "line": {
              "color": "white"
             }
            },
            "type": "table"
           }
          ]
         },
         "layout": {
          "annotationdefaults": {
           "arrowcolor": "#2a3f5f",
           "arrowhead": 0,
           "arrowwidth": 1
          },
          "autotypenumbers": "strict",
          "coloraxis": {
           "colorbar": {
            "outlinewidth": 0,
            "ticks": ""
           }
          },
          "colorscale": {
           "diverging": [
            [
             0,
             "#8e0152"
            ],
            [
             0.1,
             "#c51b7d"
            ],
            [
             0.2,
             "#de77ae"
            ],
            [
             0.3,
             "#f1b6da"
            ],
            [
             0.4,
             "#fde0ef"
            ],
            [
             0.5,
             "#f7f7f7"
            ],
            [
             0.6,
             "#e6f5d0"
            ],
            [
             0.7,
             "#b8e186"
            ],
            [
             0.8,
             "#7fbc41"
            ],
            [
             0.9,
             "#4d9221"
            ],
            [
             1,
             "#276419"
            ]
           ],
           "sequential": [
            [
             0,
             "#0d0887"
            ],
            [
             0.1111111111111111,
             "#46039f"
            ],
            [
             0.2222222222222222,
             "#7201a8"
            ],
            [
             0.3333333333333333,
             "#9c179e"
            ],
            [
             0.4444444444444444,
             "#bd3786"
            ],
            [
             0.5555555555555556,
             "#d8576b"
            ],
            [
             0.6666666666666666,
             "#ed7953"
            ],
            [
             0.7777777777777778,
             "#fb9f3a"
            ],
            [
             0.8888888888888888,
             "#fdca26"
            ],
            [
             1,
             "#f0f921"
            ]
           ],
           "sequentialminus": [
            [
             0,
             "#0d0887"
            ],
            [
             0.1111111111111111,
             "#46039f"
            ],
            [
             0.2222222222222222,
             "#7201a8"
            ],
            [
             0.3333333333333333,
             "#9c179e"
            ],
            [
             0.4444444444444444,
             "#bd3786"
            ],
            [
             0.5555555555555556,
             "#d8576b"
            ],
            [
             0.6666666666666666,
             "#ed7953"
            ],
            [
             0.7777777777777778,
             "#fb9f3a"
            ],
            [
             0.8888888888888888,
             "#fdca26"
            ],
            [
             1,
             "#f0f921"
            ]
           ]
          },
          "colorway": [
           "#636efa",
           "#EF553B",
           "#00cc96",
           "#ab63fa",
           "#FFA15A",
           "#19d3f3",
           "#FF6692",
           "#B6E880",
           "#FF97FF",
           "#FECB52"
          ],
          "font": {
           "color": "#2a3f5f"
          },
          "geo": {
           "bgcolor": "white",
           "lakecolor": "white",
           "landcolor": "#E5ECF6",
           "showlakes": true,
           "showland": true,
           "subunitcolor": "white"
          },
          "hoverlabel": {
           "align": "left"
          },
          "hovermode": "closest",
          "mapbox": {
           "style": "light"
          },
          "paper_bgcolor": "white",
          "plot_bgcolor": "#E5ECF6",
          "polar": {
           "angularaxis": {
            "gridcolor": "white",
            "linecolor": "white",
            "ticks": ""
           },
           "bgcolor": "#E5ECF6",
           "radialaxis": {
            "gridcolor": "white",
            "linecolor": "white",
            "ticks": ""
           }
          },
          "scene": {
           "xaxis": {
            "backgroundcolor": "#E5ECF6",
            "gridcolor": "white",
            "gridwidth": 2,
            "linecolor": "white",
            "showbackground": true,
            "ticks": "",
            "zerolinecolor": "white"
           },
           "yaxis": {
            "backgroundcolor": "#E5ECF6",
            "gridcolor": "white",
            "gridwidth": 2,
            "linecolor": "white",
            "showbackground": true,
            "ticks": "",
            "zerolinecolor": "white"
           },
           "zaxis": {
            "backgroundcolor": "#E5ECF6",
            "gridcolor": "white",
            "gridwidth": 2,
            "linecolor": "white",
            "showbackground": true,
            "ticks": "",
            "zerolinecolor": "white"
           }
          },
          "shapedefaults": {
           "line": {
            "color": "#2a3f5f"
           }
          },
          "ternary": {
           "aaxis": {
            "gridcolor": "white",
            "linecolor": "white",
            "ticks": ""
           },
           "baxis": {
            "gridcolor": "white",
            "linecolor": "white",
            "ticks": ""
           },
           "bgcolor": "#E5ECF6",
           "caxis": {
            "gridcolor": "white",
            "linecolor": "white",
            "ticks": ""
           }
          },
          "title": {
           "x": 0.05
          },
          "xaxis": {
           "automargin": true,
           "gridcolor": "white",
           "linecolor": "white",
           "ticks": "",
           "title": {
            "standoff": 15
           },
           "zerolinecolor": "white",
           "zerolinewidth": 2
          },
          "yaxis": {
           "automargin": true,
           "gridcolor": "white",
           "linecolor": "white",
           "ticks": "",
           "title": {
            "standoff": 15
           },
           "zerolinecolor": "white",
           "zerolinewidth": 2
          }
         }
        },
        "width": 1000,
        "xaxis": {
         "anchor": "y",
         "domain": [
          0,
          1
         ],
         "gridcolor": "lightgrey",
         "range": [
          0,
          100.2
         ],
         "showgrid": true,
         "tickangle": 0,
         "ticklen": 10,
         "title": {
          "font": {
           "color": "black",
           "family": "Times New Roman",
           "size": 25
          },
          "text": "Процент присутствия аспектов политик"
         },
         "zerolinecolor": "lightgrey"
        },
        "yaxis": {
         "anchor": "x",
         "domain": [
          0,
          1
         ],
         "showticklabels": false,
         "side": "right",
         "tickangle": 0,
         "ticklen": 10,
         "title": {}
        }
       }
      }
     },
     "metadata": {},
     "output_type": "display_data"
    }
   ],
   "source": [
    "import plotly.graph_objects as go\n",
    "\n",
    "from config import COLORS_D\n",
    "import pandas as pd\n",
    "import plotly.express as px\n",
    "import numpy as np\n",
    "\n",
    "\n",
    "def round_retain_sum(x):\n",
    "    x = np.array(x)*10 # We want 2 decimal precision\n",
    "    N = np.round(np.sum(x)).astype(int)\n",
    "    y = x.astype(int)\n",
    "    M = np.sum(y)\n",
    "    K = N - M \n",
    "    z = y-x \n",
    "    if K!=0:\n",
    "        idx = np.argpartition(z,K)[:K]\n",
    "        y[idx] += 1     \n",
    "    return (y/10.).tolist()\n",
    "\n",
    "\n",
    "df = pd.DataFrame({'y': [0] * len(list(names)), 'name':list(reversed(names)), 'value':list(reversed(round_retain_sum(scores)))})\n",
    "\n",
    "\n",
    "fig = px.bar(df, y='y', x='value', color='name', orientation='h', text_auto=True, color_discrete_sequence=COLORS_D)\n",
    "\n",
    "fig.update_xaxes(\n",
    "    title=dict(\n",
    "        font=dict(family='Times New Roman', size=25, color='black'),\n",
    "        text='Процент присутствия аспектов политик'), \n",
    "    zerolinecolor='lightgrey',\n",
    "    gridcolor='lightgrey',\n",
    "    showgrid=True, \n",
    "    tickangle=0,\n",
    "    ticklen=10)\n",
    "\n",
    "fig.update_yaxes(\n",
    "    title=dict(\n",
    "        font=dict(family='Times New Roman', size=25, color='black')), \n",
    "    tickangle=0,\n",
    "    ticklen=10)\n",
    "\n",
    "fig.update_yaxes(showticklabels=False, title=None)\n",
    "fig.update_xaxes(range=[0, 100.2])\n",
    "fig.update_traces(width=0.2)\n",
    "\n",
    "fig.update_layout(\n",
    "    legend=dict(\n",
    "        title=None,\n",
    "        entrywidth=.4,\n",
    "        entrywidthmode='fraction',\n",
    "        orientation='h',\n",
    "        yanchor=\"top\",\n",
    "        y=50000,\n",
    "        xanchor=\"center\",\n",
    "        x=.5),\n",
    "    autosize=False,\n",
    "    font=dict(family='Times New Roman', size=20, color='black'),\n",
    "    plot_bgcolor='rgba(0, 0, 0, 0)',\n",
    "    yaxis={'side': 'right'},\n",
    "    colorway=COLORS_D,\n",
    "    margin=dict(r=10, l=10, b=10, t=10, pad=10),\n",
    "    height=len(names)*105/2,\n",
    "    width=1000)\n",
    "\n",
    "fig"
   ]
  },
  {
   "cell_type": "code",
   "execution_count": 14,
   "id": "7eea6209",
   "metadata": {},
   "outputs": [],
   "source": [
    "fig.write_image(f'{PICTURES}/cluster_one_bar.png')"
   ]
  }
 ],
 "metadata": {
  "kernelspec": {
   "display_name": "Python 3 (ipykernel)",
   "language": "python",
   "name": "python3"
  },
  "language_info": {
   "codemirror_mode": {
    "name": "ipython",
    "version": 3
   },
   "file_extension": ".py",
   "mimetype": "text/x-python",
   "name": "python",
   "nbconvert_exporter": "python",
   "pygments_lexer": "ipython3",
   "version": "3.11.9"
  },
  "papermill": {
   "duration": 153.177463,
   "end_time": "2024-06-13T18:39:40.781214",
   "exception": null,
   "input_path": "/tmp/tmpiku5fszs.ipynb",
   "output_path": "notebooks/cluster_bars.ipynb",
   "parameters": {
    "product": "notebooks/cluster_bars.ipynb"
   },
   "start_time": "2024-06-13T18:37:07.603751"
  }
 },
 "nbformat": 4,
 "nbformat_minor": 5
}
