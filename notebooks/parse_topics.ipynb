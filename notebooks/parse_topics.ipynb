{
 "cells": [
  {
   "cell_type": "code",
   "execution_count": 1,
   "id": "d94b8f98",
   "metadata": {
    "tags": [
     "parameters"
    ]
   },
   "outputs": [],
   "source": [
    "# add default values for parameters here"
   ]
  },
  {
   "cell_type": "code",
   "execution_count": 2,
   "id": "43e590f7",
   "metadata": {
    "execution": {
     "iopub.execute_input": "2024-06-13T18:37:09.108981Z",
     "iopub.status.busy": "2024-06-13T18:37:09.108755Z",
     "iopub.status.idle": "2024-06-13T18:37:09.112212Z",
     "shell.execute_reply": "2024-06-13T18:37:09.111795Z"
    },
    "papermill": {
     "duration": 0.006723,
     "end_time": "2024-06-13T18:37:09.113079",
     "exception": false,
     "start_time": "2024-06-13T18:37:09.106356",
     "status": "completed"
    },
    "tags": [
     "injected-parameters"
    ]
   },
   "outputs": [],
   "source": [
    "# Parameters\n",
    "product = \"notebooks/parse_topics.ipynb\"\n"
   ]
  },
  {
   "cell_type": "code",
   "execution_count": 3,
   "id": "7242f1f1",
   "metadata": {
    "execution": {
     "iopub.execute_input": "2024-06-13T18:37:11.071148Z",
     "iopub.status.busy": "2024-06-13T18:37:11.070647Z",
     "iopub.status.idle": "2024-06-13T18:37:11.073424Z",
     "shell.execute_reply": "2024-06-13T18:37:11.073048Z"
    },
    "papermill": {
     "duration": 0.06668,
     "end_time": "2024-06-13T18:37:11.074502",
     "exception": false,
     "start_time": "2024-06-13T18:37:11.007822",
     "status": "completed"
    },
    "tags": []
   },
   "outputs": [],
   "source": [
    "import __path__"
   ]
  },
  {
   "cell_type": "code",
   "execution_count": 4,
   "id": "6cf9e671",
   "metadata": {
    "execution": {
     "iopub.execute_input": "2024-06-13T18:37:11.686070Z",
     "iopub.status.busy": "2024-06-13T18:37:11.685857Z",
     "iopub.status.idle": "2024-06-13T18:37:21.225020Z",
     "shell.execute_reply": "2024-06-13T18:37:21.224547Z"
    },
    "papermill": {
     "duration": 10.149907,
     "end_time": "2024-06-13T18:37:21.226257",
     "exception": false,
     "start_time": "2024-06-13T18:37:11.076350",
     "status": "completed"
    },
    "tags": []
   },
   "outputs": [],
   "source": [
    "from config import MAIN_EXPERIMENT\n",
    "\n",
    "\n",
    "ROWS, COLS, VSPACE, HSPACE, HEIGHT, WIDTH = MAIN_EXPERIMENT.nb_args[product]\n",
    "TOPICS_FILE = MAIN_EXPERIMENT.topics_file\n",
    "PICTURES = MAIN_EXPERIMENT.pictures"
   ]
  },
  {
   "cell_type": "code",
   "execution_count": 5,
   "id": "85c6c0ef",
   "metadata": {
    "execution": {
     "iopub.execute_input": "2024-06-13T18:37:21.295359Z",
     "iopub.status.busy": "2024-06-13T18:37:21.294839Z",
     "iopub.status.idle": "2024-06-13T18:37:21.355930Z",
     "shell.execute_reply": "2024-06-13T18:37:21.355534Z"
    },
    "papermill": {
     "duration": 0.08961,
     "end_time": "2024-06-13T18:37:21.356955",
     "exception": false,
     "start_time": "2024-06-13T18:37:21.267345",
     "status": "completed"
    },
    "tags": []
   },
   "outputs": [],
   "source": [
    "import json\n",
    "\n",
    "import numpy as np\n",
    "\n",
    "\n",
    "with open(TOPICS_FILE, 'r') as f:\n",
    "    topics = json.load(f)\n",
    "\n",
    "def parse(topic):\n",
    "    return [(float(v.strip()), str(k).strip().replace('\"', '')) \n",
    "            for w in topic.split('+') \n",
    "            for v, k in np.reshape(w.split('*'), (-1, 2))]\n",
    "\n",
    "topics = [[i, [e[0] for e in t], [e[1] for e in t]] for i, t in [(i, parse(t)) for i, t in topics]]"
   ]
  },
  {
   "cell_type": "code",
   "execution_count": 6,
   "id": "a5a4f3fb",
   "metadata": {
    "execution": {
     "iopub.execute_input": "2024-06-13T18:37:21.938151Z",
     "iopub.status.busy": "2024-06-13T18:37:21.937977Z",
     "iopub.status.idle": "2024-06-13T18:37:23.421100Z",
     "shell.execute_reply": "2024-06-13T18:37:23.420755Z"
    },
    "papermill": {
     "duration": 2.054608,
     "end_time": "2024-06-13T18:37:23.449184",
     "exception": false,
     "start_time": "2024-06-13T18:37:21.394576",
     "status": "completed"
    },
    "tags": []
   },
   "outputs": [
    {
     "data": {
      "application/vnd.plotly.v1+json": {
       "config": {
        "plotlyServerURL": "https://plot.ly"
       },
       "data": [
        {
         "orientation": "h",
         "type": "bar",
         "x": [
          0.004,
          0.004,
          0.004,
          0.004,
          0.004,
          0.005,
          0.005,
          0.005,
          0.005,
          0.006,
          0.008,
          0.009,
          0.01,
          0.011,
          0.016,
          0.017,
          0.022,
          0.034,
          0.045,
          0.045
         ],
         "xaxis": "x",
         "y": [
          "use",
          "consumer",
          "exercise",
          "service",
          "concern",
          "complaint",
          "comment",
          "data",
          "may",
          "opt-out",
          "personal",
          "please",
          "request",
          "information",
          "right",
          "question",
          "u",
          "contact",
          "privacy",
          "policy"
         ],
         "yaxis": "y"
        },
        {
         "orientation": "h",
         "type": "bar",
         "x": [
          0.005,
          0.005,
          0.006,
          0.006,
          0.006,
          0.006,
          0.006,
          0.006,
          0.007,
          0.007,
          0.007,
          0.007,
          0.007,
          0.007,
          0.007,
          0.008,
          0.009,
          0.01,
          0.01,
          0.011
         ],
         "xaxis": "x2",
         "y": [
          "section",
          "third",
          "company",
          "party",
          "website",
          "technology",
          "use",
          "data",
          "age",
          "child",
          "contacting",
          "cooky",
          "personal",
          "u",
          "collected",
          "improve",
          "privacy",
          "policy",
          "information",
          "service"
         ],
         "yaxis": "y2"
        },
        {
         "orientation": "h",
         "type": "bar",
         "x": [
          0.004,
          0.005,
          0.005,
          0.005,
          0.006,
          0.006,
          0.006,
          0.007,
          0.008,
          0.008,
          0.009,
          0.011,
          0.011,
          0.011,
          0.011,
          0.013,
          0.013,
          0.016,
          0.017,
          0.018
         ],
         "xaxis": "x3",
         "y": [
          "content",
          "collect",
          "visit",
          "online",
          "web",
          "data",
          "device",
          "cooky",
          "use",
          "may",
          "information",
          "third-party",
          "policy",
          "service",
          "privacy",
          "third",
          "party",
          "site",
          "website",
          "link"
         ],
         "yaxis": "y3"
        },
        {
         "orientation": "h",
         "type": "bar",
         "x": [
          0.004,
          0.004,
          0.004,
          0.004,
          0.005,
          0.005,
          0.005,
          0.005,
          0.005,
          0.006,
          0.006,
          0.006,
          0.007,
          0.007,
          0.008,
          0.009,
          0.009,
          0.01,
          0.013,
          0.023
         ],
         "xaxis": "x4",
         "y": [
          "consumer",
          "law",
          "change",
          "website",
          "purpose",
          "product",
          "personal",
          "cooky",
          "united",
          "may",
          "use",
          "policy",
          "state",
          "service",
          "information",
          "notice",
          "right",
          "resident",
          "privacy",
          "california"
         ],
         "yaxis": "y4"
        },
        {
         "orientation": "h",
         "type": "bar",
         "x": [
          0.003,
          0.003,
          0.004,
          0.004,
          0.004,
          0.005,
          0.005,
          0.005,
          0.006,
          0.006,
          0.006,
          0.006,
          0.007,
          0.007,
          0.007,
          0.008,
          0.009,
          0.011,
          0.012,
          0.031
         ],
         "xaxis": "x5",
         "y": [
          "product",
          "may",
          "de",
          "notice",
          "technical",
          "policy",
          "described",
          "b",
          "sale",
          "legal",
          "service",
          "condition",
          "right",
          "privacy",
          "personal",
          "use",
          "information",
          "data",
          "term",
          "security"
         ],
         "yaxis": "y5"
        },
        {
         "orientation": "h",
         "type": "bar",
         "x": [
          0.004,
          0.005,
          0.005,
          0.005,
          0.005,
          0.005,
          0.005,
          0.005,
          0.005,
          0.005,
          0.006,
          0.006,
          0.007,
          0.007,
          0.007,
          0.007,
          0.008,
          0.008,
          0.011,
          0.013
         ],
         "xaxis": "x6",
         "y": [
          "order",
          "message",
          "purchase",
          "following",
          "email",
          "provide",
          "product",
          "send",
          "collect",
          "service",
          "u",
          "data",
          "cooky",
          "way",
          "personal",
          "use",
          "access",
          "may",
          "home",
          "information"
         ],
         "yaxis": "y6"
        },
        {
         "orientation": "h",
         "type": "bar",
         "x": [
          0.005,
          0.005,
          0.005,
          0.005,
          0.005,
          0.005,
          0.005,
          0.005,
          0.006,
          0.006,
          0.006,
          0.006,
          0.006,
          0.007,
          0.007,
          0.008,
          0.008,
          0.009,
          0.014,
          0.014
         ],
         "xaxis": "x7",
         "y": [
          "term",
          "e-mail",
          "ip",
          "use",
          "name",
          "collect",
          "u",
          "may",
          "data",
          "age",
          "site",
          "personal",
          "website",
          "policy",
          "service",
          "privacy",
          "childrens",
          "information",
          "child",
          "address"
         ],
         "yaxis": "y7"
        },
        {
         "orientation": "h",
         "type": "bar",
         "x": [
          0.005,
          0.005,
          0.005,
          0.005,
          0.006,
          0.006,
          0.006,
          0.006,
          0.006,
          0.007,
          0.007,
          0.007,
          0.007,
          0.008,
          0.009,
          0.01,
          0.01,
          0.011,
          0.013,
          0.017
         ],
         "xaxis": "x8",
         "y": [
          "collected",
          "website",
          "purpose",
          "e-mail",
          "use",
          "opt",
          "may",
          "obligation",
          "comply",
          "service",
          "back",
          "location",
          "ad",
          "legal",
          "advertising",
          "top",
          "data",
          "information",
          "personal",
          "disclosure"
         ],
         "yaxis": "y8"
        },
        {
         "orientation": "h",
         "type": "bar",
         "x": [
          0.004,
          0.004,
          0.004,
          0.005,
          0.005,
          0.005,
          0.005,
          0.005,
          0.005,
          0.005,
          0.006,
          0.006,
          0.006,
          0.006,
          0.006,
          0.011,
          0.011,
          0.012,
          0.015,
          0.016
         ],
         "xaxis": "x9",
         "y": [
          "access",
          "cooky",
          "delete",
          "legal",
          "service",
          "device",
          "u",
          "technology",
          "law",
          "tracking",
          "may",
          "request",
          "right",
          "use",
          "international",
          "purpose",
          "information",
          "personal",
          "retention",
          "data"
         ],
         "yaxis": "y9"
        },
        {
         "orientation": "h",
         "type": "bar",
         "x": [
          0.004,
          0.005,
          0.005,
          0.005,
          0.005,
          0.005,
          0.005,
          0.005,
          0.006,
          0.007,
          0.008,
          0.009,
          0.01,
          0.01,
          0.01,
          0.013,
          0.014,
          0.016,
          0.016,
          0.017
         ],
         "xaxis": "x10",
         "y": [
          "party",
          "withdraw",
          "policy",
          "contact",
          "privacy",
          "legal",
          "object",
          "may",
          "u",
          "basis",
          "purpose",
          "right",
          "legitimate",
          "interest",
          "information",
          "personal",
          "collected",
          "consent",
          "data",
          "processing"
         ],
         "yaxis": "y10"
        },
        {
         "orientation": "h",
         "type": "bar",
         "x": [
          0.004,
          0.005,
          0.005,
          0.005,
          0.005,
          0.006,
          0.006,
          0.006,
          0.007,
          0.007,
          0.009,
          0.01,
          0.011,
          0.011,
          0.014,
          0.014,
          0.017,
          0.019,
          0.021,
          0.024
         ],
         "xaxis": "x11",
         "y": [
          "website",
          "google",
          "number",
          "request",
          "identifier",
          "site",
          "collect",
          "data",
          "cooky",
          "may",
          "name",
          "product",
          "personal",
          "u",
          "address",
          "service",
          "provide",
          "email",
          "information",
          "use"
         ],
         "yaxis": "y11"
        },
        {
         "orientation": "h",
         "type": "bar",
         "x": [
          0.004,
          0.004,
          0.004,
          0.005,
          0.005,
          0.005,
          0.005,
          0.005,
          0.006,
          0.006,
          0.006,
          0.006,
          0.007,
          0.007,
          0.007,
          0.007,
          0.008,
          0.009,
          0.009,
          0.01
         ],
         "xaxis": "x12",
         "y": [
          "site",
          "request",
          "collect",
          "website",
          "privacy",
          "disclose",
          "u",
          "business",
          "data",
          "service",
          "content",
          "skip",
          "transfer",
          "personal",
          "may",
          "right",
          "third",
          "law",
          "information",
          "party"
         ],
         "yaxis": "y12"
        },
        {
         "orientation": "h",
         "type": "bar",
         "x": [
          0.006,
          0.006,
          0.007,
          0.007,
          0.008,
          0.008,
          0.008,
          0.009,
          0.009,
          0.009,
          0.01,
          0.01,
          0.01,
          0.01,
          0.01,
          0.013,
          0.014,
          0.015,
          0.016,
          0.017
         ],
         "xaxis": "x13",
         "y": [
          "provide",
          "purpose",
          "u",
          "source",
          "product",
          "share",
          "google",
          "analytics",
          "category",
          "use",
          "following",
          "third",
          "collect",
          "may",
          "party",
          "data",
          "provider",
          "personal",
          "service",
          "information"
         ],
         "yaxis": "y13"
        },
        {
         "orientation": "h",
         "type": "bar",
         "x": [
          0.004,
          0.004,
          0.004,
          0.005,
          0.005,
          0.005,
          0.005,
          0.005,
          0.006,
          0.006,
          0.006,
          0.006,
          0.006,
          0.007,
          0.007,
          0.007,
          0.008,
          0.008,
          0.009,
          0.012
         ],
         "xaxis": "x14",
         "y": [
          "officer",
          "provide",
          "product",
          "experience",
          "collected",
          "policy",
          "may",
          "website",
          "collect",
          "site",
          "amazon",
          "use",
          "personalize",
          "data",
          "service",
          "privacy",
          "u",
          "contact",
          "personal",
          "information"
         ],
         "yaxis": "y14"
        },
        {
         "orientation": "h",
         "type": "bar",
         "x": [
          0.004,
          0.005,
          0.005,
          0.005,
          0.005,
          0.005,
          0.005,
          0.006,
          0.007,
          0.007,
          0.007,
          0.007,
          0.008,
          0.008,
          0.009,
          0.01,
          0.011,
          0.011,
          0.02,
          0.023
         ],
         "xaxis": "x15",
         "y": [
          "maintain",
          "processing",
          "provide",
          "process",
          "security",
          "may",
          "website",
          "transaction",
          "place",
          "service",
          "secure",
          "u",
          "order",
          "use",
          "data",
          "payment",
          "protect",
          "personal",
          "collect",
          "information"
         ],
         "yaxis": "y15"
        },
        {
         "orientation": "h",
         "type": "bar",
         "x": [
          0.004,
          0.004,
          0.004,
          0.004,
          0.004,
          0.005,
          0.005,
          0.005,
          0.006,
          0.006,
          0.006,
          0.006,
          0.006,
          0.007,
          0.01,
          0.011,
          0.011,
          0.014,
          0.015,
          0.016
         ],
         "xaxis": "x16",
         "y": [
          "site",
          "policy",
          "minor",
          "collected",
          "privacy",
          "provide",
          "see",
          "may",
          "service",
          "right",
          "u",
          "user",
          "disclose",
          "use",
          "section",
          "personal",
          "data",
          "information",
          "choice",
          "sharing"
         ],
         "yaxis": "y16"
        },
        {
         "orientation": "h",
         "type": "bar",
         "x": [
          0.004,
          0.005,
          0.005,
          0.005,
          0.005,
          0.005,
          0.005,
          0.006,
          0.006,
          0.006,
          0.006,
          0.007,
          0.008,
          0.009,
          0.009,
          0.01,
          0.011,
          0.015,
          0.016,
          0.025
         ],
         "xaxis": "x17",
         "y": [
          "data",
          "share",
          "may",
          "collect",
          "account",
          "u",
          "contact",
          "contest",
          "use",
          "promotion",
          "personal",
          "provide",
          "product",
          "customer",
          "support",
          "service",
          "information",
          "privacy",
          "policy",
          "change"
         ],
         "yaxis": "y17"
        },
        {
         "orientation": "h",
         "type": "bar",
         "x": [
          0.004,
          0.004,
          0.004,
          0.004,
          0.004,
          0.004,
          0.004,
          0.005,
          0.005,
          0.005,
          0.005,
          0.005,
          0.005,
          0.006,
          0.006,
          0.006,
          0.006,
          0.007,
          0.007,
          0.008
         ],
         "xaxis": "x18",
         "y": [
          "website",
          "name",
          "access",
          "transaction",
          "site",
          "u",
          "policy",
          "may",
          "collect",
          "use",
          "performance",
          "privacy",
          "payment",
          "service",
          "order",
          "last",
          "personal",
          "data",
          "contract",
          "information"
         ],
         "yaxis": "y18"
        },
        {
         "orientation": "h",
         "type": "bar",
         "x": [
          0.005,
          0.005,
          0.005,
          0.006,
          0.006,
          0.006,
          0.006,
          0.006,
          0.007,
          0.007,
          0.007,
          0.008,
          0.008,
          0.008,
          0.009,
          0.009,
          0.01,
          0.011,
          0.015,
          0.034
         ],
         "xaxis": "x19",
         "y": [
          "setting",
          "preference",
          "internet",
          "computer",
          "system",
          "cookie",
          "service",
          "web",
          "may",
          "device",
          "website",
          "usage",
          "type",
          "data",
          "track",
          "site",
          "use",
          "information",
          "browser",
          "cooky"
         ],
         "yaxis": "y19"
        },
        {
         "orientation": "h",
         "type": "bar",
         "x": [
          0.004,
          0.004,
          0.004,
          0.004,
          0.004,
          0.005,
          0.005,
          0.005,
          0.005,
          0.006,
          0.007,
          0.007,
          0.007,
          0.007,
          0.007,
          0.009,
          0.012,
          0.013,
          0.014,
          0.02
         ],
         "xaxis": "x20",
         "y": [
          "data",
          "personal",
          "make",
          "review",
          "product",
          "effective",
          "website",
          "may",
          "use",
          "service",
          "date",
          "notice",
          "statement",
          "warranty",
          "information",
          "time",
          "privacy",
          "policy",
          "update",
          "change"
         ],
         "yaxis": "y20"
        },
        {
         "orientation": "h",
         "type": "bar",
         "x": [
          0.004,
          0.004,
          0.004,
          0.004,
          0.004,
          0.004,
          0.004,
          0.004,
          0.005,
          0.005,
          0.005,
          0.006,
          0.006,
          0.006,
          0.006,
          0.007,
          0.007,
          0.007,
          0.007,
          0.01
         ],
         "xaxis": "x21",
         "y": [
          "site",
          "customer",
          "privacy",
          "collect",
          "provide",
          "product",
          "processing",
          "u",
          "use",
          "scope",
          "legal",
          "request",
          "communication",
          "gdpr",
          "service",
          "marketing",
          "communicate",
          "information",
          "personal",
          "data"
         ],
         "yaxis": "y21"
        },
        {
         "orientation": "h",
         "type": "bar",
         "x": [
          0.004,
          0.004,
          0.004,
          0.004,
          0.004,
          0.004,
          0.005,
          0.005,
          0.006,
          0.006,
          0.007,
          0.007,
          0.008,
          0.008,
          0.008,
          0.009,
          0.01,
          0.011,
          0.011,
          0.016
         ],
         "xaxis": "x22",
         "y": [
          "medium",
          "telephone",
          "account",
          "affiliate",
          "address",
          "provide",
          "u",
          "social",
          "product",
          "may",
          "phone",
          "service",
          "number",
          "right",
          "collection",
          "use",
          "data",
          "personal",
          "collect",
          "information"
         ],
         "yaxis": "y22"
        },
        {
         "orientation": "h",
         "type": "bar",
         "x": [
          0.004,
          0.004,
          0.004,
          0.004,
          0.004,
          0.004,
          0.005,
          0.005,
          0.005,
          0.005,
          0.005,
          0.005,
          0.005,
          0.005,
          0.006,
          0.007,
          0.007,
          0.007,
          0.008,
          0.012
         ],
         "xaxis": "x23",
         "y": [
          "device",
          "purpose",
          "credit",
          "collecting",
          "number",
          "feedback",
          "product",
          "use",
          "collect",
          "data",
          "may",
          "u",
          "medium",
          "year",
          "commercial",
          "network",
          "service",
          "personal",
          "social",
          "information"
         ],
         "yaxis": "y23"
        }
       ],
       "layout": {
        "annotations": [
         {
          "font": {
           "size": 25
          },
          "showarrow": false,
          "text": "Тематика 0",
          "x": 0.095,
          "xanchor": "center",
          "xref": "paper",
          "y": 1,
          "yanchor": "bottom",
          "yref": "paper"
         },
         {
          "font": {
           "size": 25
          },
          "showarrow": false,
          "text": "Тематика 1",
          "x": 0.365,
          "xanchor": "center",
          "xref": "paper",
          "y": 1,
          "yanchor": "bottom",
          "yref": "paper"
         },
         {
          "font": {
           "size": 25
          },
          "showarrow": false,
          "text": "Тематика 2",
          "x": 0.635,
          "xanchor": "center",
          "xref": "paper",
          "y": 1,
          "yanchor": "bottom",
          "yref": "paper"
         },
         {
          "font": {
           "size": 25
          },
          "showarrow": false,
          "text": "Тематика 3",
          "x": 0.905,
          "xanchor": "center",
          "xref": "paper",
          "y": 1,
          "yanchor": "bottom",
          "yref": "paper"
         },
         {
          "font": {
           "size": 25
          },
          "showarrow": false,
          "text": "Тематика 4",
          "x": 0.095,
          "xanchor": "center",
          "xref": "paper",
          "y": 0.8283333333333334,
          "yanchor": "bottom",
          "yref": "paper"
         },
         {
          "font": {
           "size": 25
          },
          "showarrow": false,
          "text": "Тематика 5",
          "x": 0.365,
          "xanchor": "center",
          "xref": "paper",
          "y": 0.8283333333333334,
          "yanchor": "bottom",
          "yref": "paper"
         },
         {
          "font": {
           "size": 25
          },
          "showarrow": false,
          "text": "Тематика 6",
          "x": 0.635,
          "xanchor": "center",
          "xref": "paper",
          "y": 0.8283333333333334,
          "yanchor": "bottom",
          "yref": "paper"
         },
         {
          "font": {
           "size": 25
          },
          "showarrow": false,
          "text": "Тематика 7",
          "x": 0.905,
          "xanchor": "center",
          "xref": "paper",
          "y": 0.8283333333333334,
          "yanchor": "bottom",
          "yref": "paper"
         },
         {
          "font": {
           "size": 25
          },
          "showarrow": false,
          "text": "Тематика 8",
          "x": 0.095,
          "xanchor": "center",
          "xref": "paper",
          "y": 0.6566666666666667,
          "yanchor": "bottom",
          "yref": "paper"
         },
         {
          "font": {
           "size": 25
          },
          "showarrow": false,
          "text": "Тематика 9",
          "x": 0.365,
          "xanchor": "center",
          "xref": "paper",
          "y": 0.6566666666666667,
          "yanchor": "bottom",
          "yref": "paper"
         },
         {
          "font": {
           "size": 25
          },
          "showarrow": false,
          "text": "Тематика 10",
          "x": 0.635,
          "xanchor": "center",
          "xref": "paper",
          "y": 0.6566666666666667,
          "yanchor": "bottom",
          "yref": "paper"
         },
         {
          "font": {
           "size": 25
          },
          "showarrow": false,
          "text": "Тематика 11",
          "x": 0.905,
          "xanchor": "center",
          "xref": "paper",
          "y": 0.6566666666666667,
          "yanchor": "bottom",
          "yref": "paper"
         },
         {
          "font": {
           "size": 25
          },
          "showarrow": false,
          "text": "Тематика 12",
          "x": 0.095,
          "xanchor": "center",
          "xref": "paper",
          "y": 0.485,
          "yanchor": "bottom",
          "yref": "paper"
         },
         {
          "font": {
           "size": 25
          },
          "showarrow": false,
          "text": "Тематика 13",
          "x": 0.365,
          "xanchor": "center",
          "xref": "paper",
          "y": 0.485,
          "yanchor": "bottom",
          "yref": "paper"
         },
         {
          "font": {
           "size": 25
          },
          "showarrow": false,
          "text": "Тематика 14",
          "x": 0.635,
          "xanchor": "center",
          "xref": "paper",
          "y": 0.485,
          "yanchor": "bottom",
          "yref": "paper"
         },
         {
          "font": {
           "size": 25
          },
          "showarrow": false,
          "text": "Тематика 15",
          "x": 0.905,
          "xanchor": "center",
          "xref": "paper",
          "y": 0.485,
          "yanchor": "bottom",
          "yref": "paper"
         },
         {
          "font": {
           "size": 25
          },
          "showarrow": false,
          "text": "Тематика 16",
          "x": 0.095,
          "xanchor": "center",
          "xref": "paper",
          "y": 0.31333333333333335,
          "yanchor": "bottom",
          "yref": "paper"
         },
         {
          "font": {
           "size": 25
          },
          "showarrow": false,
          "text": "Тематика 17",
          "x": 0.365,
          "xanchor": "center",
          "xref": "paper",
          "y": 0.31333333333333335,
          "yanchor": "bottom",
          "yref": "paper"
         },
         {
          "font": {
           "size": 25
          },
          "showarrow": false,
          "text": "Тематика 18",
          "x": 0.635,
          "xanchor": "center",
          "xref": "paper",
          "y": 0.31333333333333335,
          "yanchor": "bottom",
          "yref": "paper"
         },
         {
          "font": {
           "size": 25
          },
          "showarrow": false,
          "text": "Тематика 19",
          "x": 0.905,
          "xanchor": "center",
          "xref": "paper",
          "y": 0.31333333333333335,
          "yanchor": "bottom",
          "yref": "paper"
         },
         {
          "font": {
           "size": 25
          },
          "showarrow": false,
          "text": "Тематика 20",
          "x": 0.095,
          "xanchor": "center",
          "xref": "paper",
          "y": 0.14166666666666666,
          "yanchor": "bottom",
          "yref": "paper"
         },
         {
          "font": {
           "size": 25
          },
          "showarrow": false,
          "text": "Тематика 21",
          "x": 0.365,
          "xanchor": "center",
          "xref": "paper",
          "y": 0.14166666666666666,
          "yanchor": "bottom",
          "yref": "paper"
         },
         {
          "font": {
           "size": 25
          },
          "showarrow": false,
          "text": "Тематика 22",
          "x": 0.635,
          "xanchor": "center",
          "xref": "paper",
          "y": 0.14166666666666666,
          "yanchor": "bottom",
          "yref": "paper"
         }
        ],
        "colorway": [
         "rgba(46, 145, 229, 0.75)",
         "rgba(225, 95, 153, 0.75)",
         "rgba(28, 167, 28, 0.75)",
         "rgba(251, 13, 13, 0.75)",
         "rgba(218, 22, 255, 0.75)",
         "rgba(117, 13, 134, 0.75)",
         "rgba(235, 102, 59, 0.75)",
         "rgba(81, 28, 251, 0.75)",
         "rgba(0, 160, 139, 0.75)",
         "rgba(251, 0, 209, 0.75)",
         "rgba(252, 0, 128, 0.75)",
         "rgba(178, 130, 141, 0.75)",
         "rgba(108, 124, 50, 0.75)",
         "rgba(119, 138, 174, 0.75)",
         "rgba(134, 42, 22, 0.75)",
         "rgba(167, 119, 241, 0.75)",
         "rgba(98, 0, 66, 0.75)",
         "rgba(22, 22, 167, 0.75)",
         "rgba(218, 96, 202, 0.75)",
         "rgba(108, 69, 22, 0.75)",
         "rgba(13, 42, 99, 0.75)",
         "rgba(175, 0, 56, 0.75)"
        ],
        "font": {
         "color": "black",
         "family": "Times New Roman",
         "size": 20
        },
        "height": 4800,
        "margin": {
         "pad": 10
        },
        "plot_bgcolor": "rgba(0, 0, 0, 0)",
        "showlegend": false,
        "template": {
         "data": {
          "bar": [
           {
            "error_x": {
             "color": "#2a3f5f"
            },
            "error_y": {
             "color": "#2a3f5f"
            },
            "marker": {
             "line": {
              "color": "#E5ECF6",
              "width": 0.5
             },
             "pattern": {
              "fillmode": "overlay",
              "size": 10,
              "solidity": 0.2
             }
            },
            "type": "bar"
           }
          ],
          "barpolar": [
           {
            "marker": {
             "line": {
              "color": "#E5ECF6",
              "width": 0.5
             },
             "pattern": {
              "fillmode": "overlay",
              "size": 10,
              "solidity": 0.2
             }
            },
            "type": "barpolar"
           }
          ],
          "carpet": [
           {
            "aaxis": {
             "endlinecolor": "#2a3f5f",
             "gridcolor": "white",
             "linecolor": "white",
             "minorgridcolor": "white",
             "startlinecolor": "#2a3f5f"
            },
            "baxis": {
             "endlinecolor": "#2a3f5f",
             "gridcolor": "white",
             "linecolor": "white",
             "minorgridcolor": "white",
             "startlinecolor": "#2a3f5f"
            },
            "type": "carpet"
           }
          ],
          "choropleth": [
           {
            "colorbar": {
             "outlinewidth": 0,
             "ticks": ""
            },
            "type": "choropleth"
           }
          ],
          "contour": [
           {
            "colorbar": {
             "outlinewidth": 0,
             "ticks": ""
            },
            "colorscale": [
             [
              0,
              "#0d0887"
             ],
             [
              0.1111111111111111,
              "#46039f"
             ],
             [
              0.2222222222222222,
              "#7201a8"
             ],
             [
              0.3333333333333333,
              "#9c179e"
             ],
             [
              0.4444444444444444,
              "#bd3786"
             ],
             [
              0.5555555555555556,
              "#d8576b"
             ],
             [
              0.6666666666666666,
              "#ed7953"
             ],
             [
              0.7777777777777778,
              "#fb9f3a"
             ],
             [
              0.8888888888888888,
              "#fdca26"
             ],
             [
              1,
              "#f0f921"
             ]
            ],
            "type": "contour"
           }
          ],
          "contourcarpet": [
           {
            "colorbar": {
             "outlinewidth": 0,
             "ticks": ""
            },
            "type": "contourcarpet"
           }
          ],
          "heatmap": [
           {
            "colorbar": {
             "outlinewidth": 0,
             "ticks": ""
            },
            "colorscale": [
             [
              0,
              "#0d0887"
             ],
             [
              0.1111111111111111,
              "#46039f"
             ],
             [
              0.2222222222222222,
              "#7201a8"
             ],
             [
              0.3333333333333333,
              "#9c179e"
             ],
             [
              0.4444444444444444,
              "#bd3786"
             ],
             [
              0.5555555555555556,
              "#d8576b"
             ],
             [
              0.6666666666666666,
              "#ed7953"
             ],
             [
              0.7777777777777778,
              "#fb9f3a"
             ],
             [
              0.8888888888888888,
              "#fdca26"
             ],
             [
              1,
              "#f0f921"
             ]
            ],
            "type": "heatmap"
           }
          ],
          "heatmapgl": [
           {
            "colorbar": {
             "outlinewidth": 0,
             "ticks": ""
            },
            "colorscale": [
             [
              0,
              "#0d0887"
             ],
             [
              0.1111111111111111,
              "#46039f"
             ],
             [
              0.2222222222222222,
              "#7201a8"
             ],
             [
              0.3333333333333333,
              "#9c179e"
             ],
             [
              0.4444444444444444,
              "#bd3786"
             ],
             [
              0.5555555555555556,
              "#d8576b"
             ],
             [
              0.6666666666666666,
              "#ed7953"
             ],
             [
              0.7777777777777778,
              "#fb9f3a"
             ],
             [
              0.8888888888888888,
              "#fdca26"
             ],
             [
              1,
              "#f0f921"
             ]
            ],
            "type": "heatmapgl"
           }
          ],
          "histogram": [
           {
            "marker": {
             "pattern": {
              "fillmode": "overlay",
              "size": 10,
              "solidity": 0.2
             }
            },
            "type": "histogram"
           }
          ],
          "histogram2d": [
           {
            "colorbar": {
             "outlinewidth": 0,
             "ticks": ""
            },
            "colorscale": [
             [
              0,
              "#0d0887"
             ],
             [
              0.1111111111111111,
              "#46039f"
             ],
             [
              0.2222222222222222,
              "#7201a8"
             ],
             [
              0.3333333333333333,
              "#9c179e"
             ],
             [
              0.4444444444444444,
              "#bd3786"
             ],
             [
              0.5555555555555556,
              "#d8576b"
             ],
             [
              0.6666666666666666,
              "#ed7953"
             ],
             [
              0.7777777777777778,
              "#fb9f3a"
             ],
             [
              0.8888888888888888,
              "#fdca26"
             ],
             [
              1,
              "#f0f921"
             ]
            ],
            "type": "histogram2d"
           }
          ],
          "histogram2dcontour": [
           {
            "colorbar": {
             "outlinewidth": 0,
             "ticks": ""
            },
            "colorscale": [
             [
              0,
              "#0d0887"
             ],
             [
              0.1111111111111111,
              "#46039f"
             ],
             [
              0.2222222222222222,
              "#7201a8"
             ],
             [
              0.3333333333333333,
              "#9c179e"
             ],
             [
              0.4444444444444444,
              "#bd3786"
             ],
             [
              0.5555555555555556,
              "#d8576b"
             ],
             [
              0.6666666666666666,
              "#ed7953"
             ],
             [
              0.7777777777777778,
              "#fb9f3a"
             ],
             [
              0.8888888888888888,
              "#fdca26"
             ],
             [
              1,
              "#f0f921"
             ]
            ],
            "type": "histogram2dcontour"
           }
          ],
          "mesh3d": [
           {
            "colorbar": {
             "outlinewidth": 0,
             "ticks": ""
            },
            "type": "mesh3d"
           }
          ],
          "parcoords": [
           {
            "line": {
             "colorbar": {
              "outlinewidth": 0,
              "ticks": ""
             }
            },
            "type": "parcoords"
           }
          ],
          "pie": [
           {
            "automargin": true,
            "type": "pie"
           }
          ],
          "scatter": [
           {
            "fillpattern": {
             "fillmode": "overlay",
             "size": 10,
             "solidity": 0.2
            },
            "type": "scatter"
           }
          ],
          "scatter3d": [
           {
            "line": {
             "colorbar": {
              "outlinewidth": 0,
              "ticks": ""
             }
            },
            "marker": {
             "colorbar": {
              "outlinewidth": 0,
              "ticks": ""
             }
            },
            "type": "scatter3d"
           }
          ],
          "scattercarpet": [
           {
            "marker": {
             "colorbar": {
              "outlinewidth": 0,
              "ticks": ""
             }
            },
            "type": "scattercarpet"
           }
          ],
          "scattergeo": [
           {
            "marker": {
             "colorbar": {
              "outlinewidth": 0,
              "ticks": ""
             }
            },
            "type": "scattergeo"
           }
          ],
          "scattergl": [
           {
            "marker": {
             "colorbar": {
              "outlinewidth": 0,
              "ticks": ""
             }
            },
            "type": "scattergl"
           }
          ],
          "scattermapbox": [
           {
            "marker": {
             "colorbar": {
              "outlinewidth": 0,
              "ticks": ""
             }
            },
            "type": "scattermapbox"
           }
          ],
          "scatterpolar": [
           {
            "marker": {
             "colorbar": {
              "outlinewidth": 0,
              "ticks": ""
             }
            },
            "type": "scatterpolar"
           }
          ],
          "scatterpolargl": [
           {
            "marker": {
             "colorbar": {
              "outlinewidth": 0,
              "ticks": ""
             }
            },
            "type": "scatterpolargl"
           }
          ],
          "scatterternary": [
           {
            "marker": {
             "colorbar": {
              "outlinewidth": 0,
              "ticks": ""
             }
            },
            "type": "scatterternary"
           }
          ],
          "surface": [
           {
            "colorbar": {
             "outlinewidth": 0,
             "ticks": ""
            },
            "colorscale": [
             [
              0,
              "#0d0887"
             ],
             [
              0.1111111111111111,
              "#46039f"
             ],
             [
              0.2222222222222222,
              "#7201a8"
             ],
             [
              0.3333333333333333,
              "#9c179e"
             ],
             [
              0.4444444444444444,
              "#bd3786"
             ],
             [
              0.5555555555555556,
              "#d8576b"
             ],
             [
              0.6666666666666666,
              "#ed7953"
             ],
             [
              0.7777777777777778,
              "#fb9f3a"
             ],
             [
              0.8888888888888888,
              "#fdca26"
             ],
             [
              1,
              "#f0f921"
             ]
            ],
            "type": "surface"
           }
          ],
          "table": [
           {
            "cells": {
             "fill": {
              "color": "#EBF0F8"
             },
             "line": {
              "color": "white"
             }
            },
            "header": {
             "fill": {
              "color": "#C8D4E3"
             },
             "line": {
              "color": "white"
             }
            },
            "type": "table"
           }
          ]
         },
         "layout": {
          "annotationdefaults": {
           "arrowcolor": "#2a3f5f",
           "arrowhead": 0,
           "arrowwidth": 1
          },
          "autotypenumbers": "strict",
          "coloraxis": {
           "colorbar": {
            "outlinewidth": 0,
            "ticks": ""
           }
          },
          "colorscale": {
           "diverging": [
            [
             0,
             "#8e0152"
            ],
            [
             0.1,
             "#c51b7d"
            ],
            [
             0.2,
             "#de77ae"
            ],
            [
             0.3,
             "#f1b6da"
            ],
            [
             0.4,
             "#fde0ef"
            ],
            [
             0.5,
             "#f7f7f7"
            ],
            [
             0.6,
             "#e6f5d0"
            ],
            [
             0.7,
             "#b8e186"
            ],
            [
             0.8,
             "#7fbc41"
            ],
            [
             0.9,
             "#4d9221"
            ],
            [
             1,
             "#276419"
            ]
           ],
           "sequential": [
            [
             0,
             "#0d0887"
            ],
            [
             0.1111111111111111,
             "#46039f"
            ],
            [
             0.2222222222222222,
             "#7201a8"
            ],
            [
             0.3333333333333333,
             "#9c179e"
            ],
            [
             0.4444444444444444,
             "#bd3786"
            ],
            [
             0.5555555555555556,
             "#d8576b"
            ],
            [
             0.6666666666666666,
             "#ed7953"
            ],
            [
             0.7777777777777778,
             "#fb9f3a"
            ],
            [
             0.8888888888888888,
             "#fdca26"
            ],
            [
             1,
             "#f0f921"
            ]
           ],
           "sequentialminus": [
            [
             0,
             "#0d0887"
            ],
            [
             0.1111111111111111,
             "#46039f"
            ],
            [
             0.2222222222222222,
             "#7201a8"
            ],
            [
             0.3333333333333333,
             "#9c179e"
            ],
            [
             0.4444444444444444,
             "#bd3786"
            ],
            [
             0.5555555555555556,
             "#d8576b"
            ],
            [
             0.6666666666666666,
             "#ed7953"
            ],
            [
             0.7777777777777778,
             "#fb9f3a"
            ],
            [
             0.8888888888888888,
             "#fdca26"
            ],
            [
             1,
             "#f0f921"
            ]
           ]
          },
          "colorway": [
           "#636efa",
           "#EF553B",
           "#00cc96",
           "#ab63fa",
           "#FFA15A",
           "#19d3f3",
           "#FF6692",
           "#B6E880",
           "#FF97FF",
           "#FECB52"
          ],
          "font": {
           "color": "#2a3f5f"
          },
          "geo": {
           "bgcolor": "white",
           "lakecolor": "white",
           "landcolor": "#E5ECF6",
           "showlakes": true,
           "showland": true,
           "subunitcolor": "white"
          },
          "hoverlabel": {
           "align": "left"
          },
          "hovermode": "closest",
          "mapbox": {
           "style": "light"
          },
          "paper_bgcolor": "white",
          "plot_bgcolor": "#E5ECF6",
          "polar": {
           "angularaxis": {
            "gridcolor": "white",
            "linecolor": "white",
            "ticks": ""
           },
           "bgcolor": "#E5ECF6",
           "radialaxis": {
            "gridcolor": "white",
            "linecolor": "white",
            "ticks": ""
           }
          },
          "scene": {
           "xaxis": {
            "backgroundcolor": "#E5ECF6",
            "gridcolor": "white",
            "gridwidth": 2,
            "linecolor": "white",
            "showbackground": true,
            "ticks": "",
            "zerolinecolor": "white"
           },
           "yaxis": {
            "backgroundcolor": "#E5ECF6",
            "gridcolor": "white",
            "gridwidth": 2,
            "linecolor": "white",
            "showbackground": true,
            "ticks": "",
            "zerolinecolor": "white"
           },
           "zaxis": {
            "backgroundcolor": "#E5ECF6",
            "gridcolor": "white",
            "gridwidth": 2,
            "linecolor": "white",
            "showbackground": true,
            "ticks": "",
            "zerolinecolor": "white"
           }
          },
          "shapedefaults": {
           "line": {
            "color": "#2a3f5f"
           }
          },
          "ternary": {
           "aaxis": {
            "gridcolor": "white",
            "linecolor": "white",
            "ticks": ""
           },
           "baxis": {
            "gridcolor": "white",
            "linecolor": "white",
            "ticks": ""
           },
           "bgcolor": "#E5ECF6",
           "caxis": {
            "gridcolor": "white",
            "linecolor": "white",
            "ticks": ""
           }
          },
          "title": {
           "x": 0.05
          },
          "xaxis": {
           "automargin": true,
           "gridcolor": "white",
           "linecolor": "white",
           "ticks": "",
           "title": {
            "standoff": 15
           },
           "zerolinecolor": "white",
           "zerolinewidth": 2
          },
          "yaxis": {
           "automargin": true,
           "gridcolor": "white",
           "linecolor": "white",
           "ticks": "",
           "title": {
            "standoff": 15
           },
           "zerolinecolor": "white",
           "zerolinewidth": 2
          }
         }
        },
        "width": 3000,
        "xaxis": {
         "anchor": "y",
         "domain": [
          0,
          0.19
         ],
         "gridcolor": "lightgrey",
         "showgrid": true,
         "tickangle": 65,
         "tickformat": "000",
         "ticklen": 10,
         "zerolinecolor": "lightgrey"
        },
        "xaxis10": {
         "anchor": "y10",
         "domain": [
          0.27,
          0.46
         ],
         "gridcolor": "lightgrey",
         "showgrid": true,
         "tickangle": 65,
         "tickformat": "000",
         "ticklen": 10,
         "zerolinecolor": "lightgrey"
        },
        "xaxis11": {
         "anchor": "y11",
         "domain": [
          0.54,
          0.73
         ],
         "gridcolor": "lightgrey",
         "showgrid": true,
         "tickangle": 65,
         "tickformat": "000",
         "ticklen": 10,
         "zerolinecolor": "lightgrey"
        },
        "xaxis12": {
         "anchor": "y12",
         "domain": [
          0.81,
          1
         ],
         "gridcolor": "lightgrey",
         "showgrid": true,
         "tickangle": 65,
         "tickformat": "000",
         "ticklen": 10,
         "zerolinecolor": "lightgrey"
        },
        "xaxis13": {
         "anchor": "y13",
         "domain": [
          0,
          0.19
         ],
         "gridcolor": "lightgrey",
         "showgrid": true,
         "tickangle": 65,
         "tickformat": "000",
         "ticklen": 10,
         "zerolinecolor": "lightgrey"
        },
        "xaxis14": {
         "anchor": "y14",
         "domain": [
          0.27,
          0.46
         ],
         "gridcolor": "lightgrey",
         "showgrid": true,
         "tickangle": 65,
         "tickformat": "000",
         "ticklen": 10,
         "zerolinecolor": "lightgrey"
        },
        "xaxis15": {
         "anchor": "y15",
         "domain": [
          0.54,
          0.73
         ],
         "gridcolor": "lightgrey",
         "showgrid": true,
         "tickangle": 65,
         "tickformat": "000",
         "ticklen": 10,
         "zerolinecolor": "lightgrey"
        },
        "xaxis16": {
         "anchor": "y16",
         "domain": [
          0.81,
          1
         ],
         "gridcolor": "lightgrey",
         "showgrid": true,
         "tickangle": 65,
         "tickformat": "000",
         "ticklen": 10,
         "zerolinecolor": "lightgrey"
        },
        "xaxis17": {
         "anchor": "y17",
         "domain": [
          0,
          0.19
         ],
         "gridcolor": "lightgrey",
         "showgrid": true,
         "tickangle": 65,
         "tickformat": "000",
         "ticklen": 10,
         "zerolinecolor": "lightgrey"
        },
        "xaxis18": {
         "anchor": "y18",
         "domain": [
          0.27,
          0.46
         ],
         "gridcolor": "lightgrey",
         "showgrid": true,
         "tickangle": 65,
         "tickformat": "000",
         "ticklen": 10,
         "zerolinecolor": "lightgrey"
        },
        "xaxis19": {
         "anchor": "y19",
         "domain": [
          0.54,
          0.73
         ],
         "gridcolor": "lightgrey",
         "showgrid": true,
         "tickangle": 65,
         "tickformat": "000",
         "ticklen": 10,
         "zerolinecolor": "lightgrey"
        },
        "xaxis2": {
         "anchor": "y2",
         "domain": [
          0.27,
          0.46
         ],
         "gridcolor": "lightgrey",
         "showgrid": true,
         "tickangle": 65,
         "tickformat": "000",
         "ticklen": 10,
         "zerolinecolor": "lightgrey"
        },
        "xaxis20": {
         "anchor": "y20",
         "domain": [
          0.81,
          1
         ],
         "gridcolor": "lightgrey",
         "showgrid": true,
         "tickangle": 65,
         "tickformat": "000",
         "ticklen": 10,
         "zerolinecolor": "lightgrey"
        },
        "xaxis21": {
         "anchor": "y21",
         "domain": [
          0,
          0.19
         ],
         "gridcolor": "lightgrey",
         "showgrid": true,
         "tickangle": 65,
         "tickformat": "000",
         "ticklen": 10,
         "zerolinecolor": "lightgrey"
        },
        "xaxis22": {
         "anchor": "y22",
         "domain": [
          0.27,
          0.46
         ],
         "gridcolor": "lightgrey",
         "showgrid": true,
         "tickangle": 65,
         "tickformat": "000",
         "ticklen": 10,
         "zerolinecolor": "lightgrey"
        },
        "xaxis23": {
         "anchor": "y23",
         "domain": [
          0.54,
          0.73
         ],
         "gridcolor": "lightgrey",
         "showgrid": true,
         "tickangle": 65,
         "tickformat": "000",
         "ticklen": 10,
         "zerolinecolor": "lightgrey"
        },
        "xaxis24": {
         "anchor": "y24",
         "domain": [
          0.81,
          1
         ],
         "gridcolor": "lightgrey",
         "showgrid": true,
         "tickangle": 65,
         "tickformat": "000",
         "ticklen": 10,
         "zerolinecolor": "lightgrey"
        },
        "xaxis3": {
         "anchor": "y3",
         "domain": [
          0.54,
          0.73
         ],
         "gridcolor": "lightgrey",
         "showgrid": true,
         "tickangle": 65,
         "tickformat": "000",
         "ticklen": 10,
         "zerolinecolor": "lightgrey"
        },
        "xaxis4": {
         "anchor": "y4",
         "domain": [
          0.81,
          1
         ],
         "gridcolor": "lightgrey",
         "showgrid": true,
         "tickangle": 65,
         "tickformat": "000",
         "ticklen": 10,
         "zerolinecolor": "lightgrey"
        },
        "xaxis5": {
         "anchor": "y5",
         "domain": [
          0,
          0.19
         ],
         "gridcolor": "lightgrey",
         "showgrid": true,
         "tickangle": 65,
         "tickformat": "000",
         "ticklen": 10,
         "zerolinecolor": "lightgrey"
        },
        "xaxis6": {
         "anchor": "y6",
         "domain": [
          0.27,
          0.46
         ],
         "gridcolor": "lightgrey",
         "showgrid": true,
         "tickangle": 65,
         "tickformat": "000",
         "ticklen": 10,
         "zerolinecolor": "lightgrey"
        },
        "xaxis7": {
         "anchor": "y7",
         "domain": [
          0.54,
          0.73
         ],
         "gridcolor": "lightgrey",
         "showgrid": true,
         "tickangle": 65,
         "tickformat": "000",
         "ticklen": 10,
         "zerolinecolor": "lightgrey"
        },
        "xaxis8": {
         "anchor": "y8",
         "domain": [
          0.81,
          1
         ],
         "gridcolor": "lightgrey",
         "showgrid": true,
         "tickangle": 65,
         "tickformat": "000",
         "ticklen": 10,
         "zerolinecolor": "lightgrey"
        },
        "xaxis9": {
         "anchor": "y9",
         "domain": [
          0,
          0.19
         ],
         "gridcolor": "lightgrey",
         "showgrid": true,
         "tickangle": 65,
         "tickformat": "000",
         "ticklen": 10,
         "zerolinecolor": "lightgrey"
        },
        "yaxis": {
         "anchor": "x",
         "domain": [
          0.8583333333333333,
          1
         ],
         "gridcolor": "lightgrey",
         "showgrid": true,
         "tickangle": 0,
         "tickformat": "000",
         "ticklen": 10,
         "zerolinecolor": "lightgrey"
        },
        "yaxis10": {
         "anchor": "x10",
         "domain": [
          0.515,
          0.6566666666666667
         ],
         "gridcolor": "lightgrey",
         "showgrid": true,
         "tickangle": 0,
         "tickformat": "000",
         "ticklen": 10,
         "zerolinecolor": "lightgrey"
        },
        "yaxis11": {
         "anchor": "x11",
         "domain": [
          0.515,
          0.6566666666666667
         ],
         "gridcolor": "lightgrey",
         "showgrid": true,
         "tickangle": 0,
         "tickformat": "000",
         "ticklen": 10,
         "zerolinecolor": "lightgrey"
        },
        "yaxis12": {
         "anchor": "x12",
         "domain": [
          0.515,
          0.6566666666666667
         ],
         "gridcolor": "lightgrey",
         "showgrid": true,
         "tickangle": 0,
         "tickformat": "000",
         "ticklen": 10,
         "zerolinecolor": "lightgrey"
        },
        "yaxis13": {
         "anchor": "x13",
         "domain": [
          0.3433333333333333,
          0.485
         ],
         "gridcolor": "lightgrey",
         "showgrid": true,
         "tickangle": 0,
         "tickformat": "000",
         "ticklen": 10,
         "zerolinecolor": "lightgrey"
        },
        "yaxis14": {
         "anchor": "x14",
         "domain": [
          0.3433333333333333,
          0.485
         ],
         "gridcolor": "lightgrey",
         "showgrid": true,
         "tickangle": 0,
         "tickformat": "000",
         "ticklen": 10,
         "zerolinecolor": "lightgrey"
        },
        "yaxis15": {
         "anchor": "x15",
         "domain": [
          0.3433333333333333,
          0.485
         ],
         "gridcolor": "lightgrey",
         "showgrid": true,
         "tickangle": 0,
         "tickformat": "000",
         "ticklen": 10,
         "zerolinecolor": "lightgrey"
        },
        "yaxis16": {
         "anchor": "x16",
         "domain": [
          0.3433333333333333,
          0.485
         ],
         "gridcolor": "lightgrey",
         "showgrid": true,
         "tickangle": 0,
         "tickformat": "000",
         "ticklen": 10,
         "zerolinecolor": "lightgrey"
        },
        "yaxis17": {
         "anchor": "x17",
         "domain": [
          0.17166666666666666,
          0.31333333333333335
         ],
         "gridcolor": "lightgrey",
         "showgrid": true,
         "tickangle": 0,
         "tickformat": "000",
         "ticklen": 10,
         "zerolinecolor": "lightgrey"
        },
        "yaxis18": {
         "anchor": "x18",
         "domain": [
          0.17166666666666666,
          0.31333333333333335
         ],
         "gridcolor": "lightgrey",
         "showgrid": true,
         "tickangle": 0,
         "tickformat": "000",
         "ticklen": 10,
         "zerolinecolor": "lightgrey"
        },
        "yaxis19": {
         "anchor": "x19",
         "domain": [
          0.17166666666666666,
          0.31333333333333335
         ],
         "gridcolor": "lightgrey",
         "showgrid": true,
         "tickangle": 0,
         "tickformat": "000",
         "ticklen": 10,
         "zerolinecolor": "lightgrey"
        },
        "yaxis2": {
         "anchor": "x2",
         "domain": [
          0.8583333333333333,
          1
         ],
         "gridcolor": "lightgrey",
         "showgrid": true,
         "tickangle": 0,
         "tickformat": "000",
         "ticklen": 10,
         "zerolinecolor": "lightgrey"
        },
        "yaxis20": {
         "anchor": "x20",
         "domain": [
          0.17166666666666666,
          0.31333333333333335
         ],
         "gridcolor": "lightgrey",
         "showgrid": true,
         "tickangle": 0,
         "tickformat": "000",
         "ticklen": 10,
         "zerolinecolor": "lightgrey"
        },
        "yaxis21": {
         "anchor": "x21",
         "domain": [
          0,
          0.14166666666666666
         ],
         "gridcolor": "lightgrey",
         "showgrid": true,
         "tickangle": 0,
         "tickformat": "000",
         "ticklen": 10,
         "zerolinecolor": "lightgrey"
        },
        "yaxis22": {
         "anchor": "x22",
         "domain": [
          0,
          0.14166666666666666
         ],
         "gridcolor": "lightgrey",
         "showgrid": true,
         "tickangle": 0,
         "tickformat": "000",
         "ticklen": 10,
         "zerolinecolor": "lightgrey"
        },
        "yaxis23": {
         "anchor": "x23",
         "domain": [
          0,
          0.14166666666666666
         ],
         "gridcolor": "lightgrey",
         "showgrid": true,
         "tickangle": 0,
         "tickformat": "000",
         "ticklen": 10,
         "zerolinecolor": "lightgrey"
        },
        "yaxis24": {
         "anchor": "x24",
         "domain": [
          0,
          0.14166666666666666
         ],
         "gridcolor": "lightgrey",
         "showgrid": true,
         "tickangle": 0,
         "tickformat": "000",
         "ticklen": 10,
         "zerolinecolor": "lightgrey"
        },
        "yaxis3": {
         "anchor": "x3",
         "domain": [
          0.8583333333333333,
          1
         ],
         "gridcolor": "lightgrey",
         "showgrid": true,
         "tickangle": 0,
         "tickformat": "000",
         "ticklen": 10,
         "zerolinecolor": "lightgrey"
        },
        "yaxis4": {
         "anchor": "x4",
         "domain": [
          0.8583333333333333,
          1
         ],
         "gridcolor": "lightgrey",
         "showgrid": true,
         "tickangle": 0,
         "tickformat": "000",
         "ticklen": 10,
         "zerolinecolor": "lightgrey"
        },
        "yaxis5": {
         "anchor": "x5",
         "domain": [
          0.6866666666666666,
          0.8283333333333334
         ],
         "gridcolor": "lightgrey",
         "showgrid": true,
         "tickangle": 0,
         "tickformat": "000",
         "ticklen": 10,
         "zerolinecolor": "lightgrey"
        },
        "yaxis6": {
         "anchor": "x6",
         "domain": [
          0.6866666666666666,
          0.8283333333333334
         ],
         "gridcolor": "lightgrey",
         "showgrid": true,
         "tickangle": 0,
         "tickformat": "000",
         "ticklen": 10,
         "zerolinecolor": "lightgrey"
        },
        "yaxis7": {
         "anchor": "x7",
         "domain": [
          0.6866666666666666,
          0.8283333333333334
         ],
         "gridcolor": "lightgrey",
         "showgrid": true,
         "tickangle": 0,
         "tickformat": "000",
         "ticklen": 10,
         "zerolinecolor": "lightgrey"
        },
        "yaxis8": {
         "anchor": "x8",
         "domain": [
          0.6866666666666666,
          0.8283333333333334
         ],
         "gridcolor": "lightgrey",
         "showgrid": true,
         "tickangle": 0,
         "tickformat": "000",
         "ticklen": 10,
         "zerolinecolor": "lightgrey"
        },
        "yaxis9": {
         "anchor": "x9",
         "domain": [
          0.515,
          0.6566666666666667
         ],
         "gridcolor": "lightgrey",
         "showgrid": true,
         "tickangle": 0,
         "tickformat": "000",
         "ticklen": 10,
         "zerolinecolor": "lightgrey"
        }
       }
      }
     },
     "metadata": {},
     "output_type": "display_data"
    }
   ],
   "source": [
    "import plotly.graph_objects as go\n",
    "\n",
    "from plotly.subplots import make_subplots\n",
    "\n",
    "from config import COLORS_B\n",
    "\n",
    "\n",
    "fig = make_subplots(\n",
    "    subplot_titles=[f'Тематика {i}' for i, _, _ in topics],\n",
    "    horizontal_spacing=HSPACE,\n",
    "    vertical_spacing=VSPACE,\n",
    "    rows=ROWS, cols=COLS)\n",
    "\n",
    "for i, v, k in topics:\n",
    "    fig.add_trace(\n",
    "        go.Bar(\n",
    "            x=list(reversed(v)), \n",
    "            y=list(reversed(k)), \n",
    "            orientation='h'),\n",
    "        row=int(i/COLS+1), \n",
    "        col=int(i%COLS+1))\n",
    "\n",
    "fig.update_layout(\n",
    "    font=dict(family='Times New Roman', size=20, color='black'),\n",
    "    plot_bgcolor='rgba(0, 0, 0, 0)',\n",
    "    margin=dict(pad=10),\n",
    "    colorway=COLORS_B,\n",
    "    showlegend=False,\n",
    "    height=HEIGHT,\n",
    "    width=WIDTH)\n",
    "    \n",
    "fig.update_xaxes(\n",
    "    zerolinecolor='lightgrey',\n",
    "    gridcolor='lightgrey',\n",
    "    tickformat='000', \n",
    "    showgrid=True, \n",
    "    tickangle=65,\n",
    "    ticklen=10)\n",
    "    \n",
    "fig.update_yaxes(\n",
    "    zerolinecolor='lightgrey',\n",
    "    gridcolor='lightgrey',\n",
    "    tickformat='000', \n",
    "    showgrid=True, \n",
    "    tickangle=0,\n",
    "    ticklen=10)\n",
    "\n",
    "fig.update_annotations(font_size=25)\n",
    "\n",
    "fig"
   ]
  },
  {
   "cell_type": "code",
   "execution_count": 7,
   "id": "f92edf5c",
   "metadata": {
    "execution": {
     "iopub.execute_input": "2024-06-13T18:37:25.329321Z",
     "iopub.status.busy": "2024-06-13T18:37:25.329107Z",
     "iopub.status.idle": "2024-06-13T18:37:27.835142Z",
     "shell.execute_reply": "2024-06-13T18:37:27.834669Z"
    },
    "papermill": {
     "duration": 2.631003,
     "end_time": "2024-06-13T18:37:27.836606",
     "exception": false,
     "start_time": "2024-06-13T18:37:25.205603",
     "status": "completed"
    },
    "tags": []
   },
   "outputs": [],
   "source": [
    "fig.write_image(f'{PICTURES}/parsed_topics.png')"
   ]
  },
  {
   "cell_type": "code",
   "execution_count": 8,
   "id": "c2382726",
   "metadata": {
    "execution": {
     "iopub.execute_input": "2024-06-13T18:37:30.778580Z",
     "iopub.status.busy": "2024-06-13T18:37:30.778303Z",
     "iopub.status.idle": "2024-06-13T18:37:34.432169Z",
     "shell.execute_reply": "2024-06-13T18:37:34.431778Z"
    },
    "papermill": {
     "duration": 6.307565,
     "end_time": "2024-06-13T18:37:34.433178",
     "exception": false,
     "start_time": "2024-06-13T18:37:28.125613",
     "status": "completed"
    },
    "tags": []
   },
   "outputs": [],
   "source": [
    "\n",
    "from config import COLORS_D\n",
    "\n",
    "\n",
    "for i, v, k in topics:\n",
    "    fig = go.Figure()\n",
    "\n",
    "    fig.add_trace(\n",
    "        go.Bar(\n",
    "            x=list(reversed(v[:15])), \n",
    "            y=list(reversed(k[:15])), \n",
    "            orientation='h'))\n",
    "\n",
    "    fig.update_layout(\n",
    "        title=f'Тема {i}',\n",
    "        font=dict(family='Times New Roman', size=30, color='black'),\n",
    "        plot_bgcolor='rgba(0, 0, 0, 0)',\n",
    "        margin=dict(pad=10),\n",
    "        colorway=[COLORS_D[4]],\n",
    "        showlegend=False,\n",
    "        height=800,\n",
    "        width=500)\n",
    "        \n",
    "    fig.update_xaxes(\n",
    "        tickfont=dict(family='Times New Roman', size=30, color='black'),\n",
    "        zerolinecolor='lightgrey',\n",
    "        gridcolor='lightgrey',\n",
    "        tickformat='000', \n",
    "        showgrid=True, \n",
    "        tickangle=65,\n",
    "        ticklen=10)\n",
    "        \n",
    "    fig.update_yaxes(\n",
    "        tickfont=dict(family='Times New Roman', size=30, color='black'),\n",
    "        zerolinecolor='lightgrey',\n",
    "        gridcolor='lightgrey',\n",
    "        tickformat='000', \n",
    "        showgrid=True, \n",
    "        tickangle=0,\n",
    "        ticklen=10)\n",
    "\n",
    "    fig.update_annotations(font_size=30)\n",
    "\n",
    "    fig.write_image(f'{PICTURES}/parsed_topics{i}.png')"
   ]
  }
 ],
 "metadata": {
  "kernelspec": {
   "display_name": "Python 3 (ipykernel)",
   "language": "python",
   "name": "python3"
  },
  "language_info": {
   "codemirror_mode": {
    "name": "ipython",
    "version": 3
   },
   "file_extension": ".py",
   "mimetype": "text/x-python",
   "name": "python",
   "nbconvert_exporter": "python",
   "pygments_lexer": "ipython3",
   "version": "3.11.9"
  },
  "papermill": {
   "duration": 30.763728,
   "end_time": "2024-06-13T18:37:37.084307",
   "exception": null,
   "input_path": "/tmp/tmpe2i6j01o.ipynb",
   "output_path": "notebooks/parse_topics.ipynb",
   "parameters": {
    "product": "notebooks/parse_topics.ipynb"
   },
   "start_time": "2024-06-13T18:37:06.320579"
  }
 },
 "nbformat": 4,
 "nbformat_minor": 5
}
