{
 "cells": [
  {
   "cell_type": "code",
   "execution_count": 1,
   "id": "aa804b0d",
   "metadata": {
    "execution": {
     "iopub.execute_input": "2024-06-13T18:45:50.936740Z",
     "iopub.status.busy": "2024-06-13T18:45:50.935992Z",
     "iopub.status.idle": "2024-06-13T18:45:50.939411Z",
     "shell.execute_reply": "2024-06-13T18:45:50.938939Z"
    },
    "papermill": {
     "duration": 0.007252,
     "end_time": "2024-06-13T18:45:50.940389",
     "exception": false,
     "start_time": "2024-06-13T18:45:50.933137",
     "status": "completed"
    },
    "tags": [
     "injected-parameters"
    ]
   },
   "outputs": [],
   "source": [
    "# Parameters\n",
    "product = \"notebooks/structure_bars.ipynb\"\n"
   ]
  },
  {
   "cell_type": "code",
   "execution_count": 2,
   "id": "ed4184b7",
   "metadata": {
    "execution": {
     "iopub.execute_input": "2024-06-13T18:45:50.944693Z",
     "iopub.status.busy": "2024-06-13T18:45:50.944206Z",
     "iopub.status.idle": "2024-06-13T18:45:50.947770Z",
     "shell.execute_reply": "2024-06-13T18:45:50.946971Z"
    },
    "papermill": {
     "duration": 0.007147,
     "end_time": "2024-06-13T18:45:50.949192",
     "exception": false,
     "start_time": "2024-06-13T18:45:50.942045",
     "status": "completed"
    },
    "tags": []
   },
   "outputs": [],
   "source": [
    "import __path__"
   ]
  },
  {
   "cell_type": "code",
   "execution_count": 3,
   "id": "64e422b9",
   "metadata": {
    "execution": {
     "iopub.execute_input": "2024-06-13T18:45:50.953521Z",
     "iopub.status.busy": "2024-06-13T18:45:50.953249Z"
    },
    "papermill": {
     "duration": 0.431722,
     "end_time": "2024-06-13T18:45:51.382572",
     "exception": false,
     "start_time": "2024-06-13T18:45:50.950850",
     "status": "completed"
    },
    "tags": []
   },
   "outputs": [],
   "source": [
    "from config import MAIN_EXPERIMENT\n",
    "\n",
    "\n",
    "DESCRIPTOR = MAIN_EXPERIMENT.dataset.descriptor\n",
    "PICTURES = MAIN_EXPERIMENT.pictures"
   ]
  },
  {
   "cell_type": "code",
   "execution_count": null,
   "id": "63c9031b",
   "metadata": {
    "execution": {
     "iopub.execute_input": "2024-06-13T18:37:04.646996Z",
     "iopub.status.busy": "2024-06-13T18:37:04.646613Z",
     "iopub.status.idle": "2024-06-13T18:37:05.066465Z",
     "shell.execute_reply": "2024-06-13T18:37:05.064640Z"
    },
    "papermill": {
     "duration": null,
     "end_time": null,
     "exception": null,
     "start_time": null,
     "status": "pending"
    },
    "tags": []
   },
   "outputs": [],
   "source": [
    "import json\n",
    "\n",
    "from src.utils import resolve_stats\n",
    "\n",
    "\n",
    "NAMES = {\n",
    "    'ordered lists': 'Нум. списки',\n",
    "    'unordered lists': 'Ненум. списки',\n",
    "    'tables': 'Таблицы',\n",
    "    'paragraphs': 'Параграфы',\n",
    "    'headings': 'Заголовки'\n",
    "}\n",
    "\n",
    "\n",
    "with open(DESCRIPTOR, 'r', encoding='utf-8') as f:\n",
    "    stats = json.load(f)\n",
    "\n",
    "hashes = []\n",
    "unique_stats = []\n",
    "for st in stats:\n",
    "    if st['policy_hash'] not in hashes and st['statistics'] is not None:\n",
    "        hashes.append(st['policy_hash'])\n",
    "        unique_stats.append(resolve_stats(st['statistics']))\n",
    "\n",
    "        \n",
    "stats_sum = {\n",
    "    'ordered lists': 0,\n",
    "    'unordered lists': 0,\n",
    "    'tables': 0,\n",
    "    'paragraphs': 0,\n",
    "    'headings': 0\n",
    "}\n",
    "\n",
    "for st in unique_stats:\n",
    "    for k in stats_sum.keys():\n",
    "        stats_sum[k] += st[k]\n",
    "        \n",
    "total = sum(stats_sum.values())"
   ]
  },
  {
   "cell_type": "code",
   "execution_count": null,
   "id": "004e6d70",
   "metadata": {
    "execution": {
     "iopub.execute_input": "2024-06-13T18:37:05.079910Z",
     "iopub.status.busy": "2024-06-13T18:37:05.079671Z",
     "iopub.status.idle": "2024-06-13T18:37:05.313175Z",
     "shell.execute_reply": "2024-06-13T18:37:05.312246Z"
    },
    "papermill": {
     "duration": null,
     "end_time": null,
     "exception": null,
     "start_time": null,
     "status": "pending"
    },
    "tags": []
   },
   "outputs": [],
   "source": [
    "import plotly.graph_objects as go\n",
    "\n",
    "from config import COLORS_D\n",
    "\n",
    "\n",
    "fig = go.Figure()\n",
    "\n",
    "fig.add_bar(\n",
    "    x=[NAMES[k] for k in stats_sum.keys()],\n",
    "    y=[v / total * 100 for v in list(stats_sum.values())])\n",
    "\n",
    "fig.update_layout(\n",
    "    font=dict(family='Times New Roman', size=20, color='black'),\n",
    "    plot_bgcolor='rgba(0, 0, 0, 0)',\n",
    "    margin=dict(pad=10),\n",
    "    colorway=[COLORS_D[4]],\n",
    "    showlegend=False,\n",
    "    height=900,\n",
    "    width=900)\n",
    "\n",
    "fig.update_xaxes(\n",
    "    zerolinecolor='lightgrey',\n",
    "    gridcolor='lightgrey',\n",
    "    tickformat='000',\n",
    "    showgrid=True, \n",
    "    tickangle=0, \n",
    "    ticklen=10)\n",
    "\n",
    "fig.update_yaxes(\n",
    "    title=dict(\n",
    "        font=dict(family='Times New Roman', size=25, color='black'),\n",
    "        text='Процент присутствия'),\n",
    "    zerolinecolor='lightgrey',\n",
    "    gridcolor='lightgrey',\n",
    "    tickformat='000',\n",
    "    showgrid=True, \n",
    "    tickangle=0, \n",
    "    ticklen=10)\n",
    "\n",
    "fig"
   ]
  },
  {
   "cell_type": "code",
   "execution_count": null,
   "id": "e80c59ab",
   "metadata": {
    "execution": {
     "iopub.execute_input": "2024-06-13T18:37:05.523005Z",
     "iopub.status.busy": "2024-06-13T18:37:05.522834Z",
     "iopub.status.idle": "2024-06-13T18:37:18.173881Z",
     "shell.execute_reply": "2024-06-13T18:37:18.173456Z"
    },
    "papermill": {
     "duration": null,
     "end_time": null,
     "exception": null,
     "start_time": null,
     "status": "pending"
    },
    "tags": []
   },
   "outputs": [],
   "source": [
    "fig.write_image(f'{PICTURES}/structure_bars.png')"
   ]
  },
  {
   "cell_type": "code",
   "execution_count": null,
   "id": "fe0b7923-9c81-4df4-9ffa-f7c149ea661c",
   "metadata": {
    "execution": {
     "iopub.execute_input": "2024-06-13T18:37:18.515485Z",
     "iopub.status.busy": "2024-06-13T18:37:18.515220Z",
     "iopub.status.idle": "2024-06-13T18:37:18.572985Z",
     "shell.execute_reply": "2024-06-13T18:37:18.571170Z"
    },
    "papermill": {
     "duration": null,
     "end_time": null,
     "exception": null,
     "start_time": null,
     "status": "pending"
    },
    "tags": []
   },
   "outputs": [],
   "source": [
    "fig.write_image(f'{PICTURES}/structure_bars_avrg.png')"
   ]
  }
 ],
 "metadata": {
  "kernelspec": {
   "display_name": "Python 3 (ipykernel)",
   "language": "python",
   "name": "python3"
  },
  "language_info": {
   "codemirror_mode": {
    "name": "ipython",
    "version": 3
   },
   "file_extension": ".py",
   "mimetype": "text/x-python",
   "name": "python",
   "nbconvert_exporter": "python",
   "pygments_lexer": "ipython3",
   "version": "3.12.3"
  },
  "papermill": {
   "duration": null,
   "end_time": null,
   "exception": null,
   "input_path": "/tmp/tmpt0eadwy4.ipynb",
   "output_path": "notebooks/structure_bars.ipynb",
   "parameters": {
    "product": "notebooks/structure_bars.ipynb"
   },
   "start_time": "2024-06-13T18:45:50.374071"
  }
 },
 "nbformat": 4,
 "nbformat_minor": 5
}