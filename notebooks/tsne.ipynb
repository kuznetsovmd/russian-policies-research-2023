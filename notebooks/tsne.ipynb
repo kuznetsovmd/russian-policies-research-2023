{
 "cells": [
  {
   "cell_type": "code",
   "execution_count": 1,
   "id": "c17ee986",
   "metadata": {
    "execution": {
     "iopub.execute_input": "2024-05-11T14:21:31.338944Z",
     "iopub.status.busy": "2024-05-11T14:21:31.338631Z",
     "iopub.status.idle": "2024-05-11T14:21:31.341485Z",
     "shell.execute_reply": "2024-05-11T14:21:31.341125Z"
    },
    "papermill": {
     "duration": 0.005727,
     "end_time": "2024-05-11T14:21:31.342516",
     "exception": false,
     "start_time": "2024-05-11T14:21:31.336789",
     "status": "completed"
    },
    "tags": [
     "injected-parameters"
    ]
   },
   "outputs": [],
   "source": [
    "# Parameters\n",
    "product = \"notebooks/tsne.ipynb\"\n"
   ]
  },
  {
   "cell_type": "code",
   "execution_count": 2,
   "id": "d27e1792",
   "metadata": {
    "execution": {
     "iopub.execute_input": "2024-05-11T14:21:31.346370Z",
     "iopub.status.busy": "2024-05-11T14:21:31.346161Z",
     "iopub.status.idle": "2024-05-11T14:21:31.349080Z",
     "shell.execute_reply": "2024-05-11T14:21:31.348579Z"
    },
    "papermill": {
     "duration": 0.005891,
     "end_time": "2024-05-11T14:21:31.350258",
     "exception": false,
     "start_time": "2024-05-11T14:21:31.344367",
     "status": "completed"
    },
    "tags": []
   },
   "outputs": [],
   "source": [
    "# Parameters\n",
    "product = \"notebooks/tsne.ipynb\"\n"
   ]
  },
  {
   "cell_type": "code",
   "execution_count": 3,
   "id": "4c34cb3f",
   "metadata": {
    "execution": {
     "iopub.execute_input": "2024-05-11T14:21:31.361273Z",
     "iopub.status.busy": "2024-05-11T14:21:31.360999Z",
     "iopub.status.idle": "2024-05-11T14:21:31.363499Z",
     "shell.execute_reply": "2024-05-11T14:21:31.363133Z"
    },
    "papermill": {
     "duration": 0.012479,
     "end_time": "2024-05-11T14:21:31.364569",
     "exception": false,
     "start_time": "2024-05-11T14:21:31.352090",
     "status": "completed"
    },
    "tags": []
   },
   "outputs": [],
   "source": [
    "import __path__"
   ]
  },
  {
   "cell_type": "code",
   "execution_count": 4,
   "id": "f1d35947",
   "metadata": {
    "execution": {
     "iopub.execute_input": "2024-05-11T14:21:31.368572Z",
     "iopub.status.busy": "2024-05-11T14:21:31.368238Z",
     "iopub.status.idle": "2024-05-11T14:21:33.926556Z",
     "shell.execute_reply": "2024-05-11T14:21:33.926222Z"
    },
    "papermill": {
     "duration": 2.561292,
     "end_time": "2024-05-11T14:21:33.927483",
     "exception": false,
     "start_time": "2024-05-11T14:21:31.366191",
     "status": "completed"
    },
    "tags": []
   },
   "outputs": [],
   "source": [
    "from config import MAIN_EXPERIMENT\n",
    "\n",
    "\n",
    "AFFILIATION_TH = MAIN_EXPERIMENT.affiliation_theshold\n",
    "PREPROCESSED_FILE = MAIN_EXPERIMENT.preprocessed_file\n",
    "MAIN_MODEL = MAIN_EXPERIMENT.main_model\n",
    "PICTURES = MAIN_EXPERIMENT.pictures\n",
    "GROUPS = MAIN_EXPERIMENT.groups"
   ]
  },
  {
   "cell_type": "code",
   "execution_count": 5,
   "id": "a7b19092",
   "metadata": {
    "execution": {
     "iopub.execute_input": "2024-05-11T14:21:33.931847Z",
     "iopub.status.busy": "2024-05-11T14:21:33.931359Z",
     "iopub.status.idle": "2024-05-11T14:21:46.602884Z",
     "shell.execute_reply": "2024-05-11T14:21:46.599591Z"
    },
    "papermill": {
     "duration": 12.678346,
     "end_time": "2024-05-11T14:21:46.607155",
     "exception": false,
     "start_time": "2024-05-11T14:21:33.928809",
     "status": "completed"
    },
    "tags": []
   },
   "outputs": [],
   "source": [
    "import json\n",
    "\n",
    "\n",
    "with open(PREPROCESSED_FILE, 'r') as f:\n",
    "    preprocessed = json.load(f)"
   ]
  },
  {
   "cell_type": "code",
   "execution_count": 6,
   "id": "41f39b86",
   "metadata": {
    "execution": {
     "iopub.execute_input": "2024-05-11T14:21:46.617446Z",
     "iopub.status.busy": "2024-05-11T14:21:46.617190Z",
     "iopub.status.idle": "2024-05-11T14:21:52.364238Z",
     "shell.execute_reply": "2024-05-11T14:21:52.363709Z"
    },
    "papermill": {
     "duration": 5.754361,
     "end_time": "2024-05-11T14:21:52.365335",
     "exception": false,
     "start_time": "2024-05-11T14:21:46.610974",
     "status": "completed"
    },
    "tags": []
   },
   "outputs": [],
   "source": [
    "from gensim.models import TfidfModel\n",
    "\n",
    "from src.utils import load\n",
    "\n",
    "\n",
    "lda_model, dictionary, corpus = load(MAIN_MODEL)\n",
    "tfidf = TfidfModel(corpus, id2word=dictionary)"
   ]
  },
  {
   "cell_type": "code",
   "execution_count": 7,
   "id": "a862f7ed",
   "metadata": {
    "execution": {
     "iopub.execute_input": "2024-05-11T14:21:52.551666Z",
     "iopub.status.busy": "2024-05-11T14:21:52.551454Z",
     "iopub.status.idle": "2024-05-11T14:21:52.553928Z",
     "shell.execute_reply": "2024-05-11T14:21:52.553601Z"
    },
    "papermill": {
     "duration": 0.188043,
     "end_time": "2024-05-11T14:21:52.554913",
     "exception": false,
     "start_time": "2024-05-11T14:21:52.366870",
     "status": "completed"
    },
    "tags": []
   },
   "outputs": [],
   "source": [
    "# # Get topic weights and dominant topics ------------\n",
    "# from sklearn.manifold import TSNE\n",
    "# from bokeh.plotting import figure, show\n",
    "# from bokeh.io import output_notebook\n",
    "# import matplotlib.colors as mcolors\n",
    "# import numpy as np\n",
    "# import pandas as pd\n",
    "\n",
    "# # Get topic weights\n",
    "# topic_weights = []\n",
    "# for i, row_list in enumerate(lda_model[corpus]):\n",
    "#     print(row_list)\n",
    "#     topic_weights.append([w for i, w in row_list[0]])\n",
    "\n",
    "# # Array of topic weights    \n",
    "# arr = pd.DataFrame(topic_weights).fillna(0).values\n",
    "\n",
    "# # Keep the well separated points (optional)\n",
    "# arr = arr[np.amax(arr, axis=1) > 0.35]\n",
    "\n",
    "# # Dominant topic number in each doc\n",
    "# topic_num = np.argmax(arr, axis=1)\n",
    "\n",
    "# # tSNE Dimension Reduction\n",
    "# tsne_model = TSNE(n_components=2, verbose=1, random_state=0, angle=.99, init='pca')\n",
    "# tsne_lda = tsne_model.fit_transform(arr)\n",
    "\n",
    "# # Plot the Topic Clusters using Bokeh\n",
    "# output_notebook()\n",
    "# n_topics = 4\n",
    "# mycolors = np.array([color for name, color in mcolors.TABLEAU_COLORS.items()])\n",
    "# plot = figure(title=\"t-SNE Clustering of {} LDA Topics\".format(n_topics), \n",
    "#               plot_width=900, plot_height=700)\n",
    "# plot.scatter(x=tsne_lda[:,0], y=tsne_lda[:,1], color=mycolors[topic_num])\n",
    "# show(plot)"
   ]
  }
 ],
 "metadata": {
  "kernelspec": {
   "display_name": "Python 3 (ipykernel)",
   "language": "python",
   "name": "python3"
  },
  "language_info": {
   "codemirror_mode": {
    "name": "ipython",
    "version": 3
   },
   "file_extension": ".py",
   "mimetype": "text/x-python",
   "name": "python",
   "nbconvert_exporter": "python",
   "pygments_lexer": "ipython3",
   "version": "3.12.3"
  },
  "papermill": {
   "duration": 32.026967,
   "end_time": "2024-05-11T14:21:55.641160",
   "exception": null,
   "input_path": "/tmp/tmpx6o1wp4a.ipynb",
   "output_path": "notebooks/tsne.ipynb",
   "parameters": {
    "product": "notebooks/tsne.ipynb"
   },
   "start_time": "2024-05-11T14:21:23.614193"
  }
 },
 "nbformat": 4,
 "nbformat_minor": 5
}