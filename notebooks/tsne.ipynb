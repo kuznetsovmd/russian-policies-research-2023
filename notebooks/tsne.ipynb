{
 "cells": [
  {
   "cell_type": "code",
   "execution_count": 1,
   "id": "e70f74c9",
   "metadata": {
    "execution": {
     "iopub.execute_input": "2024-02-06T19:29:47.781428Z",
     "iopub.status.busy": "2024-02-06T19:29:47.781075Z",
     "iopub.status.idle": "2024-02-06T19:29:47.787065Z",
     "shell.execute_reply": "2024-02-06T19:29:47.786651Z"
    },
    "papermill": {
     "duration": 0.009506,
     "end_time": "2024-02-06T19:29:47.788313",
     "exception": false,
     "start_time": "2024-02-06T19:29:47.778807",
     "status": "completed"
    },
    "tags": [
     "injected-parameters"
    ]
   },
   "outputs": [],
   "source": [
    "# Parameters\n",
    "product = \"notebooks/tsne.ipynb\"\n"
   ]
  },
  {
   "cell_type": "code",
   "execution_count": 2,
   "id": "d27e1792",
   "metadata": {
    "execution": {
     "iopub.execute_input": "2024-02-06T19:29:47.791881Z",
     "iopub.status.busy": "2024-02-06T19:29:47.791616Z",
     "iopub.status.idle": "2024-02-06T19:29:47.793671Z",
     "shell.execute_reply": "2024-02-06T19:29:47.793311Z"
    },
    "papermill": {
     "duration": 0.004817,
     "end_time": "2024-02-06T19:29:47.794643",
     "exception": false,
     "start_time": "2024-02-06T19:29:47.789826",
     "status": "completed"
    },
    "tags": []
   },
   "outputs": [],
   "source": [
    "# Parameters\n",
    "product = \"notebooks/tsne.ipynb\"\n"
   ]
  },
  {
   "cell_type": "code",
   "execution_count": 3,
   "id": "4c34cb3f",
   "metadata": {
    "execution": {
     "iopub.execute_input": "2024-02-06T19:29:47.799807Z",
     "iopub.status.busy": "2024-02-06T19:29:47.799622Z",
     "iopub.status.idle": "2024-02-06T19:29:47.805540Z",
     "shell.execute_reply": "2024-02-06T19:29:47.804936Z"
    },
    "papermill": {
     "duration": 0.012895,
     "end_time": "2024-02-06T19:29:47.809055",
     "exception": false,
     "start_time": "2024-02-06T19:29:47.796160",
     "status": "completed"
    },
    "tags": []
   },
   "outputs": [],
   "source": [
    "import __path__"
   ]
  },
  {
   "cell_type": "code",
   "execution_count": 4,
   "id": "f1d35947",
   "metadata": {
    "execution": {
     "iopub.execute_input": "2024-02-06T19:29:47.814472Z",
     "iopub.status.busy": "2024-02-06T19:29:47.813490Z",
     "iopub.status.idle": "2024-02-06T19:29:48.529174Z",
     "shell.execute_reply": "2024-02-06T19:29:48.528773Z"
    },
    "papermill": {
     "duration": 0.71949,
     "end_time": "2024-02-06T19:29:48.530759",
     "exception": false,
     "start_time": "2024-02-06T19:29:47.811269",
     "status": "completed"
    },
    "tags": []
   },
   "outputs": [],
   "source": [
    "from config import MAIN_EXPERIMENT\n",
    "\n",
    "\n",
    "AFFILIATION_TH = MAIN_EXPERIMENT.affiliation_theshold\n",
    "PREPROCESSED_FILE = MAIN_EXPERIMENT.preprocessed_file\n",
    "MAIN_MODEL = MAIN_EXPERIMENT.main_model\n",
    "PICTURES = MAIN_EXPERIMENT.pictures\n",
    "GROUPS = MAIN_EXPERIMENT.groups"
   ]
  },
  {
   "cell_type": "code",
   "execution_count": 5,
   "id": "a7b19092",
   "metadata": {
    "execution": {
     "iopub.execute_input": "2024-02-06T19:29:48.535615Z",
     "iopub.status.busy": "2024-02-06T19:29:48.535352Z",
     "iopub.status.idle": "2024-02-06T19:29:48.667877Z",
     "shell.execute_reply": "2024-02-06T19:29:48.667305Z"
    },
    "papermill": {
     "duration": 0.136518,
     "end_time": "2024-02-06T19:29:48.669334",
     "exception": false,
     "start_time": "2024-02-06T19:29:48.532816",
     "status": "completed"
    },
    "tags": []
   },
   "outputs": [],
   "source": [
    "import json\n",
    "\n",
    "\n",
    "with open(PREPROCESSED_FILE, 'r') as f:\n",
    "    preprocessed = json.load(f)"
   ]
  },
  {
   "cell_type": "code",
   "execution_count": 6,
   "id": "41f39b86",
   "metadata": {
    "execution": {
     "iopub.execute_input": "2024-02-06T19:29:48.674334Z",
     "iopub.status.busy": "2024-02-06T19:29:48.673941Z",
     "iopub.status.idle": "2024-02-06T19:29:49.272493Z",
     "shell.execute_reply": "2024-02-06T19:29:49.272028Z"
    },
    "papermill": {
     "duration": 0.602144,
     "end_time": "2024-02-06T19:29:49.273553",
     "exception": false,
     "start_time": "2024-02-06T19:29:48.671409",
     "status": "completed"
    },
    "tags": []
   },
   "outputs": [],
   "source": [
    "from gensim.models import TfidfModel\n",
    "\n",
    "from src.utils import load\n",
    "\n",
    "\n",
    "lda_model, dictionary, corpus = load(MAIN_MODEL)\n",
    "tfidf = TfidfModel(corpus, id2word=dictionary)"
   ]
  },
  {
   "cell_type": "code",
   "execution_count": 7,
   "id": "a862f7ed",
   "metadata": {
    "execution": {
     "iopub.execute_input": "2024-02-06T19:29:49.278052Z",
     "iopub.status.busy": "2024-02-06T19:29:49.277843Z",
     "iopub.status.idle": "2024-02-06T19:29:49.283147Z",
     "shell.execute_reply": "2024-02-06T19:29:49.282603Z"
    },
    "papermill": {
     "duration": 0.010498,
     "end_time": "2024-02-06T19:29:49.285521",
     "exception": false,
     "start_time": "2024-02-06T19:29:49.275023",
     "status": "completed"
    },
    "tags": []
   },
   "outputs": [],
   "source": [
    "# # Get topic weights and dominant topics ------------\n",
    "# from sklearn.manifold import TSNE\n",
    "# from bokeh.plotting import figure, show\n",
    "# from bokeh.io import output_notebook\n",
    "# import matplotlib.colors as mcolors\n",
    "# import numpy as np\n",
    "# import pandas as pd\n",
    "\n",
    "# # Get topic weights\n",
    "# topic_weights = []\n",
    "# for i, row_list in enumerate(lda_model[corpus]):\n",
    "#     print(row_list)\n",
    "#     topic_weights.append([w for i, w in row_list[0]])\n",
    "\n",
    "# # Array of topic weights    \n",
    "# arr = pd.DataFrame(topic_weights).fillna(0).values\n",
    "\n",
    "# # Keep the well separated points (optional)\n",
    "# arr = arr[np.amax(arr, axis=1) > 0.35]\n",
    "\n",
    "# # Dominant topic number in each doc\n",
    "# topic_num = np.argmax(arr, axis=1)\n",
    "\n",
    "# # tSNE Dimension Reduction\n",
    "# tsne_model = TSNE(n_components=2, verbose=1, random_state=0, angle=.99, init='pca')\n",
    "# tsne_lda = tsne_model.fit_transform(arr)\n",
    "\n",
    "# # Plot the Topic Clusters using Bokeh\n",
    "# output_notebook()\n",
    "# n_topics = 4\n",
    "# mycolors = np.array([color for name, color in mcolors.TABLEAU_COLORS.items()])\n",
    "# plot = figure(title=\"t-SNE Clustering of {} LDA Topics\".format(n_topics), \n",
    "#               plot_width=900, plot_height=700)\n",
    "# plot.scatter(x=tsne_lda[:,0], y=tsne_lda[:,1], color=mycolors[topic_num])\n",
    "# show(plot)"
   ]
  }
 ],
 "metadata": {
  "kernelspec": {
   "display_name": "Python 3 (ipykernel)",
   "language": "python",
   "name": "python3"
  },
  "language_info": {
   "codemirror_mode": {
    "name": "ipython",
    "version": 3
   },
   "file_extension": ".py",
   "mimetype": "text/x-python",
   "name": "python",
   "nbconvert_exporter": "python",
   "pygments_lexer": "ipython3",
   "version": "3.11.6"
  },
  "papermill": {
   "duration": 2.913796,
   "end_time": "2024-02-06T19:29:49.808202",
   "exception": null,
   "input_path": "/tmp/tmp8mb215yo.ipynb",
   "output_path": "notebooks/tsne.ipynb",
   "parameters": {
    "product": "notebooks/tsne.ipynb"
   },
   "start_time": "2024-02-06T19:29:46.894406"
  }
 },
 "nbformat": 4,
 "nbformat_minor": 5
}